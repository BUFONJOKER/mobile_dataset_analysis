{
 "cells": [
  {
   "cell_type": "code",
   "execution_count": 1,
   "id": "8f5d816a",
   "metadata": {},
   "outputs": [],
   "source": [
    "import pandas as pd\n",
    "import matplotlib.pyplot as plt\n",
    "import seaborn as sns"
   ]
  },
  {
   "cell_type": "code",
   "execution_count": 2,
   "id": "ee439919",
   "metadata": {},
   "outputs": [],
   "source": [
    "df = pd.read_csv('dataset/df_cleaned.csv')"
   ]
  },
  {
   "cell_type": "code",
   "execution_count": 4,
   "id": "b26409ae",
   "metadata": {},
   "outputs": [
    {
     "name": "stdout",
     "output_type": "stream",
     "text": [
      "Company Name                      object\n",
      "Model Name                        object\n",
      "Mobile Weight (gram)             float64\n",
      "RAM (GB)                         float64\n",
      "Front Camera (MP)                 object\n",
      "Back Camera (MP)                  object\n",
      "Processor                         object\n",
      "Battery Capacity (mAh)             int64\n",
      "Screen Size (inch)               float64\n",
      "Launched Price (Pakistan USD)    float64\n",
      "Launched Price (India USD)       float64\n",
      "Launched Price (China USD)       float64\n",
      "Launched Price (USA USD)         float64\n",
      "Launched Price (Dubai USD)       float64\n",
      "Launched Year                      int64\n",
      "dtype: object\n"
     ]
    }
   ],
   "source": [
    "print(df.dtypes)"
   ]
  },
  {
   "cell_type": "markdown",
   "id": "4d00ac2d",
   "metadata": {},
   "source": [
    "## Categorical Columns are these Columns\n",
    "- Company Name\n",
    "- Model Name\n",
    "- Front Camera\n",
    "- Back Camera\n",
    "- Processor\n",
    "\n",
    "## Numerical Columns are these Columns\n",
    "- Mobile Weight in grams\n",
    "- RAM in GB\n",
    "- Battery Capacity in mAh\n",
    "- Screen Size in inches\n",
    "- Launched Price (Pakistan USD)\n",
    "- Launched Price (India USD)\n",
    "- Launched Price (China USD)\n",
    "- Launched Price (USA USD)\n",
    "- Launched Price (Dubai USD)"
   ]
  },
  {
   "cell_type": "markdown",
   "id": "e51286f0",
   "metadata": {},
   "source": []
  }
 ],
 "metadata": {
  "kernelspec": {
   "display_name": "mobile-dataset-analysis",
   "language": "python",
   "name": "python3"
  },
  "language_info": {
   "codemirror_mode": {
    "name": "ipython",
    "version": 3
   },
   "file_extension": ".py",
   "mimetype": "text/x-python",
   "name": "python",
   "nbconvert_exporter": "python",
   "pygments_lexer": "ipython3",
   "version": "3.14.0"
  }
 },
 "nbformat": 4,
 "nbformat_minor": 5
}
