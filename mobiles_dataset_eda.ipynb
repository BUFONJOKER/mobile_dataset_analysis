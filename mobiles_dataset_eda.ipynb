{
  "cells": [
    {
      "cell_type": "markdown",
      "metadata": {},
      "source": [
        "<table align=\"center\">\n",
        "  <td>\n",
        "    <a href=\"https://colab.research.google.com/github/BUFONJOKER/mobile_dataset_analysis/blob/master/mobiles_dataset_eda.ipynb\" target=\"_parent\">\n",
        "      <img src=\"https://colab.research.google.com/assets/colab-badge.svg\" alt=\"Open In Colab\"\n",
        "      style=\"height:50px; width:auto;\"/>\n",
        "    </a>\n",
        "  </td>\n",
        "</table>\n"
      ]
    },
    {
      "cell_type": "code",
      "execution_count": 1,
      "metadata": {
        "id": "p9VyPf3cohQV"
      },
      "outputs": [],
      "source": [
        "import pandas as pd\n",
        "import matplotlib.pyplot as plt\n",
        "import seaborn as sns\n",
        "import numpy as np"
      ]
    },
    {
      "cell_type": "code",
      "execution_count": 2,
      "metadata": {
        "id": "MdmDxoCros14"
      },
      "outputs": [],
      "source": [
        "# df = pd.read_csv(\"/content/Mobiles Dataset (2025).csv\", encoding='ISO-8859-1')\n",
        "df_copy = pd.read_csv(\"dataset/Mobiles Dataset (2025).csv\", encoding='ISO-8859-1')\n",
        "df = df_copy.copy()"
      ]
    },
    {
      "cell_type": "code",
      "execution_count": 3,
      "metadata": {
        "colab": {
          "base_uri": "https://localhost:8080/",
          "height": 310
        },
        "id": "TP-it03-o40U",
        "outputId": "0faca2cc-93db-439c-eb41-501a118f07d8"
      },
      "outputs": [
        {
          "data": {
            "application/vnd.microsoft.datawrangler.viewer.v0+json": {
              "columns": [
                {
                  "name": "index",
                  "rawType": "int64",
                  "type": "integer"
                },
                {
                  "name": "Company Name",
                  "rawType": "object",
                  "type": "string"
                },
                {
                  "name": "Model Name",
                  "rawType": "object",
                  "type": "string"
                },
                {
                  "name": "Mobile Weight",
                  "rawType": "object",
                  "type": "string"
                },
                {
                  "name": "RAM",
                  "rawType": "object",
                  "type": "string"
                },
                {
                  "name": "Front Camera",
                  "rawType": "object",
                  "type": "string"
                },
                {
                  "name": "Back Camera",
                  "rawType": "object",
                  "type": "string"
                },
                {
                  "name": "Processor",
                  "rawType": "object",
                  "type": "string"
                },
                {
                  "name": "Battery Capacity",
                  "rawType": "object",
                  "type": "string"
                },
                {
                  "name": "Screen Size",
                  "rawType": "object",
                  "type": "string"
                },
                {
                  "name": "Launched Price (Pakistan)",
                  "rawType": "object",
                  "type": "string"
                },
                {
                  "name": "Launched Price (India)",
                  "rawType": "object",
                  "type": "string"
                },
                {
                  "name": "Launched Price (China)",
                  "rawType": "object",
                  "type": "string"
                },
                {
                  "name": "Launched Price (USA)",
                  "rawType": "object",
                  "type": "string"
                },
                {
                  "name": "Launched Price (Dubai)",
                  "rawType": "object",
                  "type": "string"
                },
                {
                  "name": "Launched Year",
                  "rawType": "int64",
                  "type": "integer"
                }
              ],
              "ref": "5a0bc47d-9fd7-4236-99c3-ca17689a27c1",
              "rows": [
                [
                  "0",
                  "Apple",
                  "iPhone 16 128GB",
                  "174g",
                  "6GB",
                  "12MP",
                  "48MP",
                  "A17 Bionic",
                  "3,600mAh",
                  "6.1 inches",
                  "PKR 224,999",
                  "INR 79,999",
                  "CNY 5,799",
                  "USD 799",
                  "AED 2,799",
                  "2024"
                ],
                [
                  "1",
                  "Apple",
                  "iPhone 16 256GB",
                  "174g",
                  "6GB",
                  "12MP",
                  "48MP",
                  "A17 Bionic",
                  "3,600mAh",
                  "6.1 inches",
                  "PKR 234,999",
                  "INR 84,999",
                  "CNY 6,099",
                  "USD 849",
                  "AED 2,999",
                  "2024"
                ],
                [
                  "2",
                  "Apple",
                  "iPhone 16 512GB",
                  "174g",
                  "6GB",
                  "12MP",
                  "48MP",
                  "A17 Bionic",
                  "3,600mAh",
                  "6.1 inches",
                  "PKR 244,999",
                  "INR 89,999",
                  "CNY 6,499",
                  "USD 899",
                  "AED 3,199",
                  "2024"
                ],
                [
                  "3",
                  "Apple",
                  "iPhone 16 Plus 128GB",
                  "203g",
                  "6GB",
                  "12MP",
                  "48MP",
                  "A17 Bionic",
                  "4,200mAh",
                  "6.7 inches",
                  "PKR 249,999",
                  "INR 89,999",
                  "CNY 6,199",
                  "USD 899",
                  "AED 3,199",
                  "2024"
                ],
                [
                  "4",
                  "Apple",
                  "iPhone 16 Plus 256GB",
                  "203g",
                  "6GB",
                  "12MP",
                  "48MP",
                  "A17 Bionic",
                  "4,200mAh",
                  "6.7 inches",
                  "PKR 259,999",
                  "INR 94,999",
                  "CNY 6,499",
                  "USD 949",
                  "AED 3,399",
                  "2024"
                ]
              ],
              "shape": {
                "columns": 15,
                "rows": 5
              }
            },
            "text/html": [
              "<div>\n",
              "<style scoped>\n",
              "    .dataframe tbody tr th:only-of-type {\n",
              "        vertical-align: middle;\n",
              "    }\n",
              "\n",
              "    .dataframe tbody tr th {\n",
              "        vertical-align: top;\n",
              "    }\n",
              "\n",
              "    .dataframe thead th {\n",
              "        text-align: right;\n",
              "    }\n",
              "</style>\n",
              "<table border=\"1\" class=\"dataframe\">\n",
              "  <thead>\n",
              "    <tr style=\"text-align: right;\">\n",
              "      <th></th>\n",
              "      <th>Company Name</th>\n",
              "      <th>Model Name</th>\n",
              "      <th>Mobile Weight</th>\n",
              "      <th>RAM</th>\n",
              "      <th>Front Camera</th>\n",
              "      <th>Back Camera</th>\n",
              "      <th>Processor</th>\n",
              "      <th>Battery Capacity</th>\n",
              "      <th>Screen Size</th>\n",
              "      <th>Launched Price (Pakistan)</th>\n",
              "      <th>Launched Price (India)</th>\n",
              "      <th>Launched Price (China)</th>\n",
              "      <th>Launched Price (USA)</th>\n",
              "      <th>Launched Price (Dubai)</th>\n",
              "      <th>Launched Year</th>\n",
              "    </tr>\n",
              "  </thead>\n",
              "  <tbody>\n",
              "    <tr>\n",
              "      <th>0</th>\n",
              "      <td>Apple</td>\n",
              "      <td>iPhone 16 128GB</td>\n",
              "      <td>174g</td>\n",
              "      <td>6GB</td>\n",
              "      <td>12MP</td>\n",
              "      <td>48MP</td>\n",
              "      <td>A17 Bionic</td>\n",
              "      <td>3,600mAh</td>\n",
              "      <td>6.1 inches</td>\n",
              "      <td>PKR 224,999</td>\n",
              "      <td>INR 79,999</td>\n",
              "      <td>CNY 5,799</td>\n",
              "      <td>USD 799</td>\n",
              "      <td>AED 2,799</td>\n",
              "      <td>2024</td>\n",
              "    </tr>\n",
              "    <tr>\n",
              "      <th>1</th>\n",
              "      <td>Apple</td>\n",
              "      <td>iPhone 16 256GB</td>\n",
              "      <td>174g</td>\n",
              "      <td>6GB</td>\n",
              "      <td>12MP</td>\n",
              "      <td>48MP</td>\n",
              "      <td>A17 Bionic</td>\n",
              "      <td>3,600mAh</td>\n",
              "      <td>6.1 inches</td>\n",
              "      <td>PKR 234,999</td>\n",
              "      <td>INR 84,999</td>\n",
              "      <td>CNY 6,099</td>\n",
              "      <td>USD 849</td>\n",
              "      <td>AED 2,999</td>\n",
              "      <td>2024</td>\n",
              "    </tr>\n",
              "    <tr>\n",
              "      <th>2</th>\n",
              "      <td>Apple</td>\n",
              "      <td>iPhone 16 512GB</td>\n",
              "      <td>174g</td>\n",
              "      <td>6GB</td>\n",
              "      <td>12MP</td>\n",
              "      <td>48MP</td>\n",
              "      <td>A17 Bionic</td>\n",
              "      <td>3,600mAh</td>\n",
              "      <td>6.1 inches</td>\n",
              "      <td>PKR 244,999</td>\n",
              "      <td>INR 89,999</td>\n",
              "      <td>CNY 6,499</td>\n",
              "      <td>USD 899</td>\n",
              "      <td>AED 3,199</td>\n",
              "      <td>2024</td>\n",
              "    </tr>\n",
              "    <tr>\n",
              "      <th>3</th>\n",
              "      <td>Apple</td>\n",
              "      <td>iPhone 16 Plus 128GB</td>\n",
              "      <td>203g</td>\n",
              "      <td>6GB</td>\n",
              "      <td>12MP</td>\n",
              "      <td>48MP</td>\n",
              "      <td>A17 Bionic</td>\n",
              "      <td>4,200mAh</td>\n",
              "      <td>6.7 inches</td>\n",
              "      <td>PKR 249,999</td>\n",
              "      <td>INR 89,999</td>\n",
              "      <td>CNY 6,199</td>\n",
              "      <td>USD 899</td>\n",
              "      <td>AED 3,199</td>\n",
              "      <td>2024</td>\n",
              "    </tr>\n",
              "    <tr>\n",
              "      <th>4</th>\n",
              "      <td>Apple</td>\n",
              "      <td>iPhone 16 Plus 256GB</td>\n",
              "      <td>203g</td>\n",
              "      <td>6GB</td>\n",
              "      <td>12MP</td>\n",
              "      <td>48MP</td>\n",
              "      <td>A17 Bionic</td>\n",
              "      <td>4,200mAh</td>\n",
              "      <td>6.7 inches</td>\n",
              "      <td>PKR 259,999</td>\n",
              "      <td>INR 94,999</td>\n",
              "      <td>CNY 6,499</td>\n",
              "      <td>USD 949</td>\n",
              "      <td>AED 3,399</td>\n",
              "      <td>2024</td>\n",
              "    </tr>\n",
              "  </tbody>\n",
              "</table>\n",
              "</div>"
            ],
            "text/plain": [
              "  Company Name            Model Name Mobile Weight  RAM Front Camera  \\\n",
              "0        Apple       iPhone 16 128GB          174g  6GB         12MP   \n",
              "1        Apple       iPhone 16 256GB          174g  6GB         12MP   \n",
              "2        Apple       iPhone 16 512GB          174g  6GB         12MP   \n",
              "3        Apple  iPhone 16 Plus 128GB          203g  6GB         12MP   \n",
              "4        Apple  iPhone 16 Plus 256GB          203g  6GB         12MP   \n",
              "\n",
              "  Back Camera   Processor Battery Capacity Screen Size  \\\n",
              "0        48MP  A17 Bionic         3,600mAh  6.1 inches   \n",
              "1        48MP  A17 Bionic         3,600mAh  6.1 inches   \n",
              "2        48MP  A17 Bionic         3,600mAh  6.1 inches   \n",
              "3        48MP  A17 Bionic         4,200mAh  6.7 inches   \n",
              "4        48MP  A17 Bionic         4,200mAh  6.7 inches   \n",
              "\n",
              "  Launched Price (Pakistan) Launched Price (India) Launched Price (China)  \\\n",
              "0               PKR 224,999             INR 79,999              CNY 5,799   \n",
              "1               PKR 234,999             INR 84,999              CNY 6,099   \n",
              "2               PKR 244,999             INR 89,999              CNY 6,499   \n",
              "3               PKR 249,999             INR 89,999              CNY 6,199   \n",
              "4               PKR 259,999             INR 94,999              CNY 6,499   \n",
              "\n",
              "  Launched Price (USA) Launched Price (Dubai)  Launched Year  \n",
              "0              USD 799              AED 2,799           2024  \n",
              "1              USD 849              AED 2,999           2024  \n",
              "2              USD 899              AED 3,199           2024  \n",
              "3              USD 899              AED 3,199           2024  \n",
              "4              USD 949              AED 3,399           2024  "
            ]
          },
          "execution_count": 3,
          "metadata": {},
          "output_type": "execute_result"
        }
      ],
      "source": [
        "df.head()"
      ]
    },
    {
      "cell_type": "code",
      "execution_count": 4,
      "metadata": {
        "colab": {
          "base_uri": "https://localhost:8080/",
          "height": 555
        },
        "id": "90srQPBAszU1",
        "outputId": "d6af9b84-27e2-440b-f6a7-66f4f87694ad"
      },
      "outputs": [
        {
          "data": {
            "application/vnd.microsoft.datawrangler.viewer.v0+json": {
              "columns": [
                {
                  "name": "index",
                  "rawType": "object",
                  "type": "string"
                },
                {
                  "name": "0",
                  "rawType": "object",
                  "type": "unknown"
                }
              ],
              "ref": "87071d0b-7bf9-4fc2-9bd9-da7b6d4dba07",
              "rows": [
                [
                  "Company Name",
                  "object"
                ],
                [
                  "Model Name",
                  "object"
                ],
                [
                  "Mobile Weight",
                  "object"
                ],
                [
                  "RAM",
                  "object"
                ],
                [
                  "Front Camera",
                  "object"
                ],
                [
                  "Back Camera",
                  "object"
                ],
                [
                  "Processor",
                  "object"
                ],
                [
                  "Battery Capacity",
                  "object"
                ],
                [
                  "Screen Size",
                  "object"
                ],
                [
                  "Launched Price (Pakistan)",
                  "object"
                ],
                [
                  "Launched Price (India)",
                  "object"
                ],
                [
                  "Launched Price (China)",
                  "object"
                ],
                [
                  "Launched Price (USA)",
                  "object"
                ],
                [
                  "Launched Price (Dubai)",
                  "object"
                ],
                [
                  "Launched Year",
                  "int64"
                ]
              ],
              "shape": {
                "columns": 1,
                "rows": 15
              }
            },
            "text/plain": [
              "Company Name                 object\n",
              "Model Name                   object\n",
              "Mobile Weight                object\n",
              "RAM                          object\n",
              "Front Camera                 object\n",
              "Back Camera                  object\n",
              "Processor                    object\n",
              "Battery Capacity             object\n",
              "Screen Size                  object\n",
              "Launched Price (Pakistan)    object\n",
              "Launched Price (India)       object\n",
              "Launched Price (China)       object\n",
              "Launched Price (USA)         object\n",
              "Launched Price (Dubai)       object\n",
              "Launched Year                 int64\n",
              "dtype: object"
            ]
          },
          "execution_count": 4,
          "metadata": {},
          "output_type": "execute_result"
        }
      ],
      "source": [
        "df.dtypes"
      ]
    },
    {
      "cell_type": "code",
      "execution_count": 5,
      "metadata": {
        "colab": {
          "base_uri": "https://localhost:8080/"
        },
        "id": "paQ1GQnsrTZ7",
        "outputId": "dfe0984f-926b-4f9f-9883-535bd21e2c79"
      },
      "outputs": [
        {
          "data": {
            "text/plain": [
              "Index(['Company Name', 'Model Name', 'Mobile Weight', 'RAM', 'Front Camera',\n",
              "       'Back Camera', 'Processor', 'Battery Capacity', 'Screen Size',\n",
              "       'Launched Price (Pakistan)', 'Launched Price (India)',\n",
              "       'Launched Price (China)', 'Launched Price (USA)',\n",
              "       'Launched Price (Dubai)', 'Launched Year'],\n",
              "      dtype='object')"
            ]
          },
          "execution_count": 5,
          "metadata": {},
          "output_type": "execute_result"
        }
      ],
      "source": [
        "df.columns"
      ]
    },
    {
      "cell_type": "code",
      "execution_count": 6,
      "metadata": {},
      "outputs": [],
      "source": [
        "df.rename(columns={\n",
        "    'Mobile Weight': 'Mobile Weight (gram)',\n",
        "    'RAM': 'RAM (GB)',\n",
        "    'Front Camera': 'Front Camera (MP)',\n",
        "    'Back Camera': 'Back Camera (MP)',\n",
        "    'Battery Capacity': 'Battery Capacity (mAh)',\n",
        "    'Screen Size': 'Screen Size (inch)',\n",
        "    'Launched Price (Pakistan)': 'Launched Price (Pakistan USD)',\n",
        "    'Launched Price (India)': 'Launched Price (India USD)',\n",
        "    'Launched Price (China)': 'Launched Price (China USD)',\n",
        "    'Launched Price (USA)': 'Launched Price (USA USD)',\n",
        "    'Launched Price (Dubai)': 'Launched Price (Dubai USD)'\n",
        "},inplace=True)"
      ]
    },
    {
      "cell_type": "code",
      "execution_count": 7,
      "metadata": {
        "colab": {
          "base_uri": "https://localhost:8080/",
          "height": 555
        },
        "id": "d0BkQukO0PdT",
        "outputId": "fbd3e17f-ca00-4958-8fe4-914b4812e682"
      },
      "outputs": [
        {
          "data": {
            "application/vnd.microsoft.datawrangler.viewer.v0+json": {
              "columns": [
                {
                  "name": "index",
                  "rawType": "object",
                  "type": "string"
                },
                {
                  "name": "0",
                  "rawType": "int64",
                  "type": "integer"
                }
              ],
              "ref": "d82faf13-a059-46e4-a99a-b005e36eb032",
              "rows": [
                [
                  "Company Name",
                  "0"
                ],
                [
                  "Model Name",
                  "0"
                ],
                [
                  "Mobile Weight (gram)",
                  "0"
                ],
                [
                  "RAM (GB)",
                  "0"
                ],
                [
                  "Front Camera (MP)",
                  "0"
                ],
                [
                  "Back Camera (MP)",
                  "0"
                ],
                [
                  "Processor",
                  "0"
                ],
                [
                  "Battery Capacity (mAh)",
                  "0"
                ],
                [
                  "Screen Size (inch)",
                  "0"
                ],
                [
                  "Launched Price (Pakistan USD)",
                  "0"
                ],
                [
                  "Launched Price (India USD)",
                  "0"
                ],
                [
                  "Launched Price (China USD)",
                  "0"
                ],
                [
                  "Launched Price (USA USD)",
                  "0"
                ],
                [
                  "Launched Price (Dubai USD)",
                  "0"
                ],
                [
                  "Launched Year",
                  "0"
                ]
              ],
              "shape": {
                "columns": 1,
                "rows": 15
              }
            },
            "text/plain": [
              "Company Name                     0\n",
              "Model Name                       0\n",
              "Mobile Weight (gram)             0\n",
              "RAM (GB)                         0\n",
              "Front Camera (MP)                0\n",
              "Back Camera (MP)                 0\n",
              "Processor                        0\n",
              "Battery Capacity (mAh)           0\n",
              "Screen Size (inch)               0\n",
              "Launched Price (Pakistan USD)    0\n",
              "Launched Price (India USD)       0\n",
              "Launched Price (China USD)       0\n",
              "Launched Price (USA USD)         0\n",
              "Launched Price (Dubai USD)       0\n",
              "Launched Year                    0\n",
              "dtype: int64"
            ]
          },
          "execution_count": 7,
          "metadata": {},
          "output_type": "execute_result"
        }
      ],
      "source": [
        "df.isnull().sum()"
      ]
    },
    {
      "cell_type": "code",
      "execution_count": 8,
      "metadata": {
        "colab": {
          "base_uri": "https://localhost:8080/"
        },
        "id": "Wujq0PUo0TXi",
        "outputId": "4ff98223-1857-4a3c-da45-f94238c1af15"
      },
      "outputs": [
        {
          "data": {
            "application/vnd.microsoft.datawrangler.viewer.v0+json": {
              "columns": [
                {
                  "name": "index",
                  "rawType": "int64",
                  "type": "integer"
                },
                {
                  "name": "Company Name",
                  "rawType": "object",
                  "type": "string"
                },
                {
                  "name": "Model Name",
                  "rawType": "object",
                  "type": "string"
                },
                {
                  "name": "Mobile Weight (gram)",
                  "rawType": "object",
                  "type": "string"
                },
                {
                  "name": "RAM (GB)",
                  "rawType": "object",
                  "type": "string"
                },
                {
                  "name": "Front Camera (MP)",
                  "rawType": "object",
                  "type": "string"
                },
                {
                  "name": "Back Camera (MP)",
                  "rawType": "object",
                  "type": "string"
                },
                {
                  "name": "Processor",
                  "rawType": "object",
                  "type": "string"
                },
                {
                  "name": "Battery Capacity (mAh)",
                  "rawType": "object",
                  "type": "string"
                },
                {
                  "name": "Screen Size (inch)",
                  "rawType": "object",
                  "type": "string"
                },
                {
                  "name": "Launched Price (Pakistan USD)",
                  "rawType": "object",
                  "type": "string"
                },
                {
                  "name": "Launched Price (India USD)",
                  "rawType": "object",
                  "type": "string"
                },
                {
                  "name": "Launched Price (China USD)",
                  "rawType": "object",
                  "type": "string"
                },
                {
                  "name": "Launched Price (USA USD)",
                  "rawType": "object",
                  "type": "string"
                },
                {
                  "name": "Launched Price (Dubai USD)",
                  "rawType": "object",
                  "type": "string"
                },
                {
                  "name": "Launched Year",
                  "rawType": "int64",
                  "type": "integer"
                }
              ],
              "ref": "6a05c610-f11c-43df-a0a6-464fae49465b",
              "rows": [
                [
                  "347",
                  "Oppo",
                  "A3 128GB",
                  "186g",
                  "4GB",
                  "5MP",
                  "50MP",
                  "Snapdragon 6s 4G Gen 1",
                  "5000mAh",
                  "6.7 inches",
                  "PKR 59,999",
                  "INR 34,999",
                  "CNY 2,999",
                  "USD 399",
                  "AED 1,499",
                  "2024"
                ],
                [
                  "437",
                  "Oppo",
                  "K11x 128GB",
                  "195g",
                  "8GB",
                  "16MP",
                  "108MP + 2MP",
                  "Qualcomm Snapdragon 695",
                  "5,000mAh",
                  "6.72 inches",
                  "PKR 59,999",
                  "INR 18,000",
                  "CNY 1,499",
                  "USD 199",
                  "AED 1,000",
                  "2023"
                ],
                [
                  "438",
                  "Oppo",
                  "K11x 256GB",
                  "195g",
                  "12GB",
                  "16MP",
                  "108MP + 2MP",
                  "Qualcomm Snapdragon 695",
                  "5,000mAh",
                  "6.72 inches",
                  "PKR 64,999",
                  "INR 20,000",
                  "CNY 1,699",
                  "USD 229",
                  "AED 1,200",
                  "2023"
                ],
                [
                  "441",
                  "Oppo",
                  "K10x 128GB",
                  "195g",
                  "6GB",
                  "16MP",
                  "64MP + 2MP + 2MP",
                  "Qualcomm Snapdragon 695",
                  "5,000mAh",
                  "6.59 inches",
                  "PKR 54,999",
                  "INR 16,990",
                  "CNY 1,499",
                  "USD 199",
                  "AED 1,000",
                  "2022"
                ],
                [
                  "442",
                  "Oppo",
                  "K10x 256GB",
                  "195g",
                  "8GB",
                  "16MP",
                  "64MP + 2MP + 2MP",
                  "Qualcomm Snapdragon 695",
                  "5,000mAh",
                  "6.59 inches",
                  "PKR 59,999",
                  "INR 18,990",
                  "CNY 1,699",
                  "USD 229",
                  "AED 1,200",
                  "2022"
                ],
                [
                  "443",
                  "Oppo",
                  "K10 5G 128GB",
                  "205g",
                  "8GB",
                  "16MP",
                  "64MP + 8MP + 2MP",
                  "MediaTek Dimensity 8000-Max",
                  "5,000mAh",
                  "6.59 inches",
                  "PKR 64,999",
                  "INR 19,999",
                  "CNY 1,799",
                  "USD 249",
                  "AED 1,300",
                  "2022"
                ],
                [
                  "445",
                  "Oppo",
                  "K9x 128GB",
                  "194g",
                  "6GB",
                  "16MP",
                  "64MP + 2MP + 2MP",
                  "MediaTek Dimensity 810",
                  "5,000mAh",
                  "6.5 inches",
                  "PKR 49,999",
                  "INR 15,999",
                  "CNY 1,499",
                  "USD 199",
                  "AED 1,000",
                  "2021"
                ],
                [
                  "446",
                  "Oppo",
                  "K9x 256GB",
                  "194g",
                  "8GB",
                  "16MP",
                  "64MP + 2MP + 2MP",
                  "MediaTek Dimensity 810",
                  "5,000mAh",
                  "6.5 inches",
                  "PKR 54,999",
                  "INR 17,999",
                  "CNY 1,699",
                  "USD 229",
                  "AED 1,200",
                  "2021"
                ],
                [
                  "447",
                  "Oppo",
                  "K9 Pro 5G 128GB",
                  "180g",
                  "8GB",
                  "16MP",
                  "64MP + 8MP + 2MP",
                  "MediaTek Dimensity 1200",
                  "4,500mAh",
                  "6.43 inches",
                  "PKR 69,999",
                  "INR 24,999",
                  "CNY 2,199",
                  "USD 299",
                  "AED 1,500",
                  "2021"
                ],
                [
                  "448",
                  "Oppo",
                  "K9 Pro 5G 256GB",
                  "180g",
                  "12GB",
                  "16MP",
                  "64MP + 8MP + 2MP",
                  "MediaTek Dimensity 1200",
                  "4,500mAh",
                  "6.43 inches",
                  "PKR 74,999",
                  "INR 27,999",
                  "CNY 2,499",
                  "USD 329",
                  "AED 1,700",
                  "2021"
                ],
                [
                  "449",
                  "Oppo",
                  "K9 5G 128GB",
                  "172g",
                  "8GB",
                  "32MP",
                  "64MP + 8MP + 2MP",
                  "Qualcomm Snapdragon 768G",
                  "4,300mAh",
                  "6.43 inches",
                  "PKR 59,999",
                  "INR 22,999",
                  "CNY 1,999",
                  "USD 279",
                  "AED 1,400",
                  "2021"
                ],
                [
                  "450",
                  "Oppo",
                  "K9 5G 256GB",
                  "172g",
                  "8GB",
                  "32MP",
                  "64MP + 8MP + 2MP",
                  "Qualcomm Snapdragon 768G",
                  "4,300mAh",
                  "6.43 inches",
                  "PKR 64,999",
                  "INR 24,999",
                  "CNY 2,199",
                  "USD 299",
                  "AED 1,500",
                  "2021"
                ],
                [
                  "451",
                  "Oppo",
                  "K7x 128GB",
                  "194g",
                  "6GB",
                  "16MP",
                  "48MP + 8MP + 2MP + 2MP",
                  "MediaTek Dimensity 720",
                  "5,000mAh",
                  "6.5 inches",
                  "PKR 44,999",
                  "INR 14,999",
                  "CNY 1,499",
                  "USD 199",
                  "AED 1,000",
                  "2020"
                ],
                [
                  "452",
                  "Oppo",
                  "K7 5G 128GB",
                  "180g",
                  "8GB",
                  "32MP",
                  "48MP + 8MP + 2MP + 2MP",
                  "Qualcomm Snapdragon 765G",
                  "4,025mAh",
                  "6.4 inches",
                  "PKR 49,999",
                  "INR 19,999",
                  "CNY 1,999",
                  "USD 279",
                  "AED 1,400",
                  "2020"
                ],
                [
                  "798",
                  "Infinix",
                  "Hot 10 Lite 64GB",
                  "195g",
                  "3GB",
                  "8MP",
                  "13MP",
                  "MediaTek Helio A25",
                  "5,000mAh",
                  "6.6 inches",
                  "PKR 19,999",
                  "INR 7,999",
                  "CNY 699",
                  "USD 109",
                  "AED 399",
                  "2020"
                ]
              ],
              "shape": {
                "columns": 15,
                "rows": 15
              }
            },
            "text/html": [
              "<div>\n",
              "<style scoped>\n",
              "    .dataframe tbody tr th:only-of-type {\n",
              "        vertical-align: middle;\n",
              "    }\n",
              "\n",
              "    .dataframe tbody tr th {\n",
              "        vertical-align: top;\n",
              "    }\n",
              "\n",
              "    .dataframe thead th {\n",
              "        text-align: right;\n",
              "    }\n",
              "</style>\n",
              "<table border=\"1\" class=\"dataframe\">\n",
              "  <thead>\n",
              "    <tr style=\"text-align: right;\">\n",
              "      <th></th>\n",
              "      <th>Company Name</th>\n",
              "      <th>Model Name</th>\n",
              "      <th>Mobile Weight (gram)</th>\n",
              "      <th>RAM (GB)</th>\n",
              "      <th>Front Camera (MP)</th>\n",
              "      <th>Back Camera (MP)</th>\n",
              "      <th>Processor</th>\n",
              "      <th>Battery Capacity (mAh)</th>\n",
              "      <th>Screen Size (inch)</th>\n",
              "      <th>Launched Price (Pakistan USD)</th>\n",
              "      <th>Launched Price (India USD)</th>\n",
              "      <th>Launched Price (China USD)</th>\n",
              "      <th>Launched Price (USA USD)</th>\n",
              "      <th>Launched Price (Dubai USD)</th>\n",
              "      <th>Launched Year</th>\n",
              "    </tr>\n",
              "  </thead>\n",
              "  <tbody>\n",
              "    <tr>\n",
              "      <th>347</th>\n",
              "      <td>Oppo</td>\n",
              "      <td>A3 128GB</td>\n",
              "      <td>186g</td>\n",
              "      <td>4GB</td>\n",
              "      <td>5MP</td>\n",
              "      <td>50MP</td>\n",
              "      <td>Snapdragon 6s 4G Gen 1</td>\n",
              "      <td>5000mAh</td>\n",
              "      <td>6.7 inches</td>\n",
              "      <td>PKR 59,999</td>\n",
              "      <td>INR 34,999</td>\n",
              "      <td>CNY 2,999</td>\n",
              "      <td>USD 399</td>\n",
              "      <td>AED 1,499</td>\n",
              "      <td>2024</td>\n",
              "    </tr>\n",
              "    <tr>\n",
              "      <th>437</th>\n",
              "      <td>Oppo</td>\n",
              "      <td>K11x 128GB</td>\n",
              "      <td>195g</td>\n",
              "      <td>8GB</td>\n",
              "      <td>16MP</td>\n",
              "      <td>108MP + 2MP</td>\n",
              "      <td>Qualcomm Snapdragon 695</td>\n",
              "      <td>5,000mAh</td>\n",
              "      <td>6.72 inches</td>\n",
              "      <td>PKR 59,999</td>\n",
              "      <td>INR 18,000</td>\n",
              "      <td>CNY 1,499</td>\n",
              "      <td>USD 199</td>\n",
              "      <td>AED 1,000</td>\n",
              "      <td>2023</td>\n",
              "    </tr>\n",
              "    <tr>\n",
              "      <th>438</th>\n",
              "      <td>Oppo</td>\n",
              "      <td>K11x 256GB</td>\n",
              "      <td>195g</td>\n",
              "      <td>12GB</td>\n",
              "      <td>16MP</td>\n",
              "      <td>108MP + 2MP</td>\n",
              "      <td>Qualcomm Snapdragon 695</td>\n",
              "      <td>5,000mAh</td>\n",
              "      <td>6.72 inches</td>\n",
              "      <td>PKR 64,999</td>\n",
              "      <td>INR 20,000</td>\n",
              "      <td>CNY 1,699</td>\n",
              "      <td>USD 229</td>\n",
              "      <td>AED 1,200</td>\n",
              "      <td>2023</td>\n",
              "    </tr>\n",
              "    <tr>\n",
              "      <th>441</th>\n",
              "      <td>Oppo</td>\n",
              "      <td>K10x 128GB</td>\n",
              "      <td>195g</td>\n",
              "      <td>6GB</td>\n",
              "      <td>16MP</td>\n",
              "      <td>64MP + 2MP + 2MP</td>\n",
              "      <td>Qualcomm Snapdragon 695</td>\n",
              "      <td>5,000mAh</td>\n",
              "      <td>6.59 inches</td>\n",
              "      <td>PKR 54,999</td>\n",
              "      <td>INR 16,990</td>\n",
              "      <td>CNY 1,499</td>\n",
              "      <td>USD 199</td>\n",
              "      <td>AED 1,000</td>\n",
              "      <td>2022</td>\n",
              "    </tr>\n",
              "    <tr>\n",
              "      <th>442</th>\n",
              "      <td>Oppo</td>\n",
              "      <td>K10x 256GB</td>\n",
              "      <td>195g</td>\n",
              "      <td>8GB</td>\n",
              "      <td>16MP</td>\n",
              "      <td>64MP + 2MP + 2MP</td>\n",
              "      <td>Qualcomm Snapdragon 695</td>\n",
              "      <td>5,000mAh</td>\n",
              "      <td>6.59 inches</td>\n",
              "      <td>PKR 59,999</td>\n",
              "      <td>INR 18,990</td>\n",
              "      <td>CNY 1,699</td>\n",
              "      <td>USD 229</td>\n",
              "      <td>AED 1,200</td>\n",
              "      <td>2022</td>\n",
              "    </tr>\n",
              "    <tr>\n",
              "      <th>443</th>\n",
              "      <td>Oppo</td>\n",
              "      <td>K10 5G 128GB</td>\n",
              "      <td>205g</td>\n",
              "      <td>8GB</td>\n",
              "      <td>16MP</td>\n",
              "      <td>64MP + 8MP + 2MP</td>\n",
              "      <td>MediaTek Dimensity 8000-Max</td>\n",
              "      <td>5,000mAh</td>\n",
              "      <td>6.59 inches</td>\n",
              "      <td>PKR 64,999</td>\n",
              "      <td>INR 19,999</td>\n",
              "      <td>CNY 1,799</td>\n",
              "      <td>USD 249</td>\n",
              "      <td>AED 1,300</td>\n",
              "      <td>2022</td>\n",
              "    </tr>\n",
              "    <tr>\n",
              "      <th>445</th>\n",
              "      <td>Oppo</td>\n",
              "      <td>K9x 128GB</td>\n",
              "      <td>194g</td>\n",
              "      <td>6GB</td>\n",
              "      <td>16MP</td>\n",
              "      <td>64MP + 2MP + 2MP</td>\n",
              "      <td>MediaTek Dimensity 810</td>\n",
              "      <td>5,000mAh</td>\n",
              "      <td>6.5 inches</td>\n",
              "      <td>PKR 49,999</td>\n",
              "      <td>INR 15,999</td>\n",
              "      <td>CNY 1,499</td>\n",
              "      <td>USD 199</td>\n",
              "      <td>AED 1,000</td>\n",
              "      <td>2021</td>\n",
              "    </tr>\n",
              "    <tr>\n",
              "      <th>446</th>\n",
              "      <td>Oppo</td>\n",
              "      <td>K9x 256GB</td>\n",
              "      <td>194g</td>\n",
              "      <td>8GB</td>\n",
              "      <td>16MP</td>\n",
              "      <td>64MP + 2MP + 2MP</td>\n",
              "      <td>MediaTek Dimensity 810</td>\n",
              "      <td>5,000mAh</td>\n",
              "      <td>6.5 inches</td>\n",
              "      <td>PKR 54,999</td>\n",
              "      <td>INR 17,999</td>\n",
              "      <td>CNY 1,699</td>\n",
              "      <td>USD 229</td>\n",
              "      <td>AED 1,200</td>\n",
              "      <td>2021</td>\n",
              "    </tr>\n",
              "    <tr>\n",
              "      <th>447</th>\n",
              "      <td>Oppo</td>\n",
              "      <td>K9 Pro 5G 128GB</td>\n",
              "      <td>180g</td>\n",
              "      <td>8GB</td>\n",
              "      <td>16MP</td>\n",
              "      <td>64MP + 8MP + 2MP</td>\n",
              "      <td>MediaTek Dimensity 1200</td>\n",
              "      <td>4,500mAh</td>\n",
              "      <td>6.43 inches</td>\n",
              "      <td>PKR 69,999</td>\n",
              "      <td>INR 24,999</td>\n",
              "      <td>CNY 2,199</td>\n",
              "      <td>USD 299</td>\n",
              "      <td>AED 1,500</td>\n",
              "      <td>2021</td>\n",
              "    </tr>\n",
              "    <tr>\n",
              "      <th>448</th>\n",
              "      <td>Oppo</td>\n",
              "      <td>K9 Pro 5G 256GB</td>\n",
              "      <td>180g</td>\n",
              "      <td>12GB</td>\n",
              "      <td>16MP</td>\n",
              "      <td>64MP + 8MP + 2MP</td>\n",
              "      <td>MediaTek Dimensity 1200</td>\n",
              "      <td>4,500mAh</td>\n",
              "      <td>6.43 inches</td>\n",
              "      <td>PKR 74,999</td>\n",
              "      <td>INR 27,999</td>\n",
              "      <td>CNY 2,499</td>\n",
              "      <td>USD 329</td>\n",
              "      <td>AED 1,700</td>\n",
              "      <td>2021</td>\n",
              "    </tr>\n",
              "    <tr>\n",
              "      <th>449</th>\n",
              "      <td>Oppo</td>\n",
              "      <td>K9 5G 128GB</td>\n",
              "      <td>172g</td>\n",
              "      <td>8GB</td>\n",
              "      <td>32MP</td>\n",
              "      <td>64MP + 8MP + 2MP</td>\n",
              "      <td>Qualcomm Snapdragon 768G</td>\n",
              "      <td>4,300mAh</td>\n",
              "      <td>6.43 inches</td>\n",
              "      <td>PKR 59,999</td>\n",
              "      <td>INR 22,999</td>\n",
              "      <td>CNY 1,999</td>\n",
              "      <td>USD 279</td>\n",
              "      <td>AED 1,400</td>\n",
              "      <td>2021</td>\n",
              "    </tr>\n",
              "    <tr>\n",
              "      <th>450</th>\n",
              "      <td>Oppo</td>\n",
              "      <td>K9 5G 256GB</td>\n",
              "      <td>172g</td>\n",
              "      <td>8GB</td>\n",
              "      <td>32MP</td>\n",
              "      <td>64MP + 8MP + 2MP</td>\n",
              "      <td>Qualcomm Snapdragon 768G</td>\n",
              "      <td>4,300mAh</td>\n",
              "      <td>6.43 inches</td>\n",
              "      <td>PKR 64,999</td>\n",
              "      <td>INR 24,999</td>\n",
              "      <td>CNY 2,199</td>\n",
              "      <td>USD 299</td>\n",
              "      <td>AED 1,500</td>\n",
              "      <td>2021</td>\n",
              "    </tr>\n",
              "    <tr>\n",
              "      <th>451</th>\n",
              "      <td>Oppo</td>\n",
              "      <td>K7x 128GB</td>\n",
              "      <td>194g</td>\n",
              "      <td>6GB</td>\n",
              "      <td>16MP</td>\n",
              "      <td>48MP + 8MP + 2MP + 2MP</td>\n",
              "      <td>MediaTek Dimensity 720</td>\n",
              "      <td>5,000mAh</td>\n",
              "      <td>6.5 inches</td>\n",
              "      <td>PKR 44,999</td>\n",
              "      <td>INR 14,999</td>\n",
              "      <td>CNY 1,499</td>\n",
              "      <td>USD 199</td>\n",
              "      <td>AED 1,000</td>\n",
              "      <td>2020</td>\n",
              "    </tr>\n",
              "    <tr>\n",
              "      <th>452</th>\n",
              "      <td>Oppo</td>\n",
              "      <td>K7 5G 128GB</td>\n",
              "      <td>180g</td>\n",
              "      <td>8GB</td>\n",
              "      <td>32MP</td>\n",
              "      <td>48MP + 8MP + 2MP + 2MP</td>\n",
              "      <td>Qualcomm Snapdragon 765G</td>\n",
              "      <td>4,025mAh</td>\n",
              "      <td>6.4 inches</td>\n",
              "      <td>PKR 49,999</td>\n",
              "      <td>INR 19,999</td>\n",
              "      <td>CNY 1,999</td>\n",
              "      <td>USD 279</td>\n",
              "      <td>AED 1,400</td>\n",
              "      <td>2020</td>\n",
              "    </tr>\n",
              "    <tr>\n",
              "      <th>798</th>\n",
              "      <td>Infinix</td>\n",
              "      <td>Hot 10 Lite 64GB</td>\n",
              "      <td>195g</td>\n",
              "      <td>3GB</td>\n",
              "      <td>8MP</td>\n",
              "      <td>13MP</td>\n",
              "      <td>MediaTek Helio A25</td>\n",
              "      <td>5,000mAh</td>\n",
              "      <td>6.6 inches</td>\n",
              "      <td>PKR 19,999</td>\n",
              "      <td>INR 7,999</td>\n",
              "      <td>CNY 699</td>\n",
              "      <td>USD 109</td>\n",
              "      <td>AED 399</td>\n",
              "      <td>2020</td>\n",
              "    </tr>\n",
              "  </tbody>\n",
              "</table>\n",
              "</div>"
            ],
            "text/plain": [
              "    Company Name        Model Name Mobile Weight (gram) RAM (GB)  \\\n",
              "347         Oppo          A3 128GB                 186g      4GB   \n",
              "437         Oppo        K11x 128GB                 195g      8GB   \n",
              "438         Oppo        K11x 256GB                 195g     12GB   \n",
              "441         Oppo        K10x 128GB                 195g      6GB   \n",
              "442         Oppo        K10x 256GB                 195g      8GB   \n",
              "443         Oppo      K10 5G 128GB                 205g      8GB   \n",
              "445         Oppo         K9x 128GB                 194g      6GB   \n",
              "446         Oppo         K9x 256GB                 194g      8GB   \n",
              "447         Oppo   K9 Pro 5G 128GB                 180g      8GB   \n",
              "448         Oppo   K9 Pro 5G 256GB                 180g     12GB   \n",
              "449         Oppo       K9 5G 128GB                 172g      8GB   \n",
              "450         Oppo       K9 5G 256GB                 172g      8GB   \n",
              "451         Oppo         K7x 128GB                 194g      6GB   \n",
              "452         Oppo       K7 5G 128GB                 180g      8GB   \n",
              "798      Infinix  Hot 10 Lite 64GB                 195g      3GB   \n",
              "\n",
              "    Front Camera (MP)        Back Camera (MP)                    Processor  \\\n",
              "347               5MP                    50MP       Snapdragon 6s 4G Gen 1   \n",
              "437              16MP             108MP + 2MP      Qualcomm Snapdragon 695   \n",
              "438              16MP             108MP + 2MP      Qualcomm Snapdragon 695   \n",
              "441              16MP        64MP + 2MP + 2MP      Qualcomm Snapdragon 695   \n",
              "442              16MP        64MP + 2MP + 2MP      Qualcomm Snapdragon 695   \n",
              "443              16MP        64MP + 8MP + 2MP  MediaTek Dimensity 8000-Max   \n",
              "445              16MP        64MP + 2MP + 2MP       MediaTek Dimensity 810   \n",
              "446              16MP        64MP + 2MP + 2MP       MediaTek Dimensity 810   \n",
              "447              16MP        64MP + 8MP + 2MP      MediaTek Dimensity 1200   \n",
              "448              16MP        64MP + 8MP + 2MP      MediaTek Dimensity 1200   \n",
              "449              32MP        64MP + 8MP + 2MP     Qualcomm Snapdragon 768G   \n",
              "450              32MP        64MP + 8MP + 2MP     Qualcomm Snapdragon 768G   \n",
              "451              16MP  48MP + 8MP + 2MP + 2MP       MediaTek Dimensity 720   \n",
              "452              32MP  48MP + 8MP + 2MP + 2MP     Qualcomm Snapdragon 765G   \n",
              "798               8MP                    13MP           MediaTek Helio A25   \n",
              "\n",
              "    Battery Capacity (mAh) Screen Size (inch) Launched Price (Pakistan USD)  \\\n",
              "347                5000mAh         6.7 inches                    PKR 59,999   \n",
              "437               5,000mAh        6.72 inches                    PKR 59,999   \n",
              "438               5,000mAh        6.72 inches                    PKR 64,999   \n",
              "441               5,000mAh        6.59 inches                    PKR 54,999   \n",
              "442               5,000mAh        6.59 inches                    PKR 59,999   \n",
              "443               5,000mAh        6.59 inches                    PKR 64,999   \n",
              "445               5,000mAh         6.5 inches                    PKR 49,999   \n",
              "446               5,000mAh         6.5 inches                    PKR 54,999   \n",
              "447               4,500mAh        6.43 inches                    PKR 69,999   \n",
              "448               4,500mAh        6.43 inches                    PKR 74,999   \n",
              "449               4,300mAh        6.43 inches                    PKR 59,999   \n",
              "450               4,300mAh        6.43 inches                    PKR 64,999   \n",
              "451               5,000mAh         6.5 inches                    PKR 44,999   \n",
              "452               4,025mAh         6.4 inches                    PKR 49,999   \n",
              "798               5,000mAh         6.6 inches                    PKR 19,999   \n",
              "\n",
              "    Launched Price (India USD) Launched Price (China USD)  \\\n",
              "347                 INR 34,999                  CNY 2,999   \n",
              "437                 INR 18,000                  CNY 1,499   \n",
              "438                 INR 20,000                  CNY 1,699   \n",
              "441                 INR 16,990                  CNY 1,499   \n",
              "442                 INR 18,990                  CNY 1,699   \n",
              "443                 INR 19,999                  CNY 1,799   \n",
              "445                 INR 15,999                  CNY 1,499   \n",
              "446                 INR 17,999                  CNY 1,699   \n",
              "447                 INR 24,999                  CNY 2,199   \n",
              "448                 INR 27,999                  CNY 2,499   \n",
              "449                 INR 22,999                  CNY 1,999   \n",
              "450                 INR 24,999                  CNY 2,199   \n",
              "451                 INR 14,999                  CNY 1,499   \n",
              "452                 INR 19,999                  CNY 1,999   \n",
              "798                  INR 7,999                    CNY 699   \n",
              "\n",
              "    Launched Price (USA USD) Launched Price (Dubai USD)  Launched Year  \n",
              "347                  USD 399                  AED 1,499           2024  \n",
              "437                  USD 199                  AED 1,000           2023  \n",
              "438                  USD 229                  AED 1,200           2023  \n",
              "441                  USD 199                  AED 1,000           2022  \n",
              "442                  USD 229                  AED 1,200           2022  \n",
              "443                  USD 249                  AED 1,300           2022  \n",
              "445                  USD 199                  AED 1,000           2021  \n",
              "446                  USD 229                  AED 1,200           2021  \n",
              "447                  USD 299                  AED 1,500           2021  \n",
              "448                  USD 329                  AED 1,700           2021  \n",
              "449                  USD 279                  AED 1,400           2021  \n",
              "450                  USD 299                  AED 1,500           2021  \n",
              "451                  USD 199                  AED 1,000           2020  \n",
              "452                  USD 279                  AED 1,400           2020  \n",
              "798                  USD 109                    AED 399           2020  "
            ]
          },
          "execution_count": 8,
          "metadata": {},
          "output_type": "execute_result"
        }
      ],
      "source": [
        "df[df.duplicated()]"
      ]
    },
    {
      "cell_type": "code",
      "execution_count": 9,
      "metadata": {},
      "outputs": [
        {
          "data": {
            "application/vnd.microsoft.datawrangler.viewer.v0+json": {
              "columns": [
                {
                  "name": "index",
                  "rawType": "int64",
                  "type": "integer"
                },
                {
                  "name": "Company Name",
                  "rawType": "object",
                  "type": "string"
                },
                {
                  "name": "Model Name",
                  "rawType": "object",
                  "type": "string"
                },
                {
                  "name": "Mobile Weight (gram)",
                  "rawType": "object",
                  "type": "string"
                },
                {
                  "name": "RAM (GB)",
                  "rawType": "object",
                  "type": "string"
                },
                {
                  "name": "Front Camera (MP)",
                  "rawType": "object",
                  "type": "string"
                },
                {
                  "name": "Back Camera (MP)",
                  "rawType": "object",
                  "type": "string"
                },
                {
                  "name": "Processor",
                  "rawType": "object",
                  "type": "string"
                },
                {
                  "name": "Battery Capacity (mAh)",
                  "rawType": "object",
                  "type": "string"
                },
                {
                  "name": "Screen Size (inch)",
                  "rawType": "object",
                  "type": "string"
                },
                {
                  "name": "Launched Price (Pakistan USD)",
                  "rawType": "object",
                  "type": "string"
                },
                {
                  "name": "Launched Price (India USD)",
                  "rawType": "object",
                  "type": "string"
                },
                {
                  "name": "Launched Price (China USD)",
                  "rawType": "object",
                  "type": "string"
                },
                {
                  "name": "Launched Price (USA USD)",
                  "rawType": "object",
                  "type": "string"
                },
                {
                  "name": "Launched Price (Dubai USD)",
                  "rawType": "object",
                  "type": "string"
                },
                {
                  "name": "Launched Year",
                  "rawType": "int64",
                  "type": "integer"
                }
              ],
              "ref": "ca3e882b-2c54-4996-aa77-c63db3ebf058",
              "rows": [
                [
                  "344",
                  "Oppo",
                  "A3 128GB",
                  "186g",
                  "4GB",
                  "5MP",
                  "50MP",
                  "Snapdragon 6s 4G Gen 1",
                  "5000mAh",
                  "6.7 inches",
                  "PKR 59,999",
                  "INR 34,999",
                  "CNY 2,999",
                  "USD 399",
                  "AED 1,499",
                  "2024"
                ],
                [
                  "347",
                  "Oppo",
                  "A3 128GB",
                  "186g",
                  "4GB",
                  "5MP",
                  "50MP",
                  "Snapdragon 6s 4G Gen 1",
                  "5000mAh",
                  "6.7 inches",
                  "PKR 59,999",
                  "INR 34,999",
                  "CNY 2,999",
                  "USD 399",
                  "AED 1,499",
                  "2024"
                ],
                [
                  "423",
                  "Oppo",
                  "K11x 128GB",
                  "195g",
                  "8GB",
                  "16MP",
                  "108MP + 2MP",
                  "Qualcomm Snapdragon 695",
                  "5,000mAh",
                  "6.72 inches",
                  "PKR 59,999",
                  "INR 18,000",
                  "CNY 1,499",
                  "USD 199",
                  "AED 1,000",
                  "2023"
                ],
                [
                  "424",
                  "Oppo",
                  "K11x 256GB",
                  "195g",
                  "12GB",
                  "16MP",
                  "108MP + 2MP",
                  "Qualcomm Snapdragon 695",
                  "5,000mAh",
                  "6.72 inches",
                  "PKR 64,999",
                  "INR 20,000",
                  "CNY 1,699",
                  "USD 229",
                  "AED 1,200",
                  "2023"
                ],
                [
                  "425",
                  "Oppo",
                  "K10x 128GB",
                  "195g",
                  "6GB",
                  "16MP",
                  "64MP + 2MP + 2MP",
                  "Qualcomm Snapdragon 695",
                  "5,000mAh",
                  "6.59 inches",
                  "PKR 54,999",
                  "INR 16,990",
                  "CNY 1,499",
                  "USD 199",
                  "AED 1,000",
                  "2022"
                ],
                [
                  "426",
                  "Oppo",
                  "K10x 256GB",
                  "195g",
                  "8GB",
                  "16MP",
                  "64MP + 2MP + 2MP",
                  "Qualcomm Snapdragon 695",
                  "5,000mAh",
                  "6.59 inches",
                  "PKR 59,999",
                  "INR 18,990",
                  "CNY 1,699",
                  "USD 229",
                  "AED 1,200",
                  "2022"
                ],
                [
                  "427",
                  "Oppo",
                  "K10 5G 128GB",
                  "205g",
                  "8GB",
                  "16MP",
                  "64MP + 8MP + 2MP",
                  "MediaTek Dimensity 8000-Max",
                  "5,000mAh",
                  "6.59 inches",
                  "PKR 64,999",
                  "INR 19,999",
                  "CNY 1,799",
                  "USD 249",
                  "AED 1,300",
                  "2022"
                ],
                [
                  "428",
                  "Oppo",
                  "K9x 128GB",
                  "194g",
                  "6GB",
                  "16MP",
                  "64MP + 2MP + 2MP",
                  "MediaTek Dimensity 810",
                  "5,000mAh",
                  "6.5 inches",
                  "PKR 49,999",
                  "INR 15,999",
                  "CNY 1,499",
                  "USD 199",
                  "AED 1,000",
                  "2021"
                ],
                [
                  "429",
                  "Oppo",
                  "K9x 256GB",
                  "194g",
                  "8GB",
                  "16MP",
                  "64MP + 2MP + 2MP",
                  "MediaTek Dimensity 810",
                  "5,000mAh",
                  "6.5 inches",
                  "PKR 54,999",
                  "INR 17,999",
                  "CNY 1,699",
                  "USD 229",
                  "AED 1,200",
                  "2021"
                ],
                [
                  "430",
                  "Oppo",
                  "K9 Pro 5G 128GB",
                  "180g",
                  "8GB",
                  "16MP",
                  "64MP + 8MP + 2MP",
                  "MediaTek Dimensity 1200",
                  "4,500mAh",
                  "6.43 inches",
                  "PKR 69,999",
                  "INR 24,999",
                  "CNY 2,199",
                  "USD 299",
                  "AED 1,500",
                  "2021"
                ],
                [
                  "431",
                  "Oppo",
                  "K9 Pro 5G 256GB",
                  "180g",
                  "12GB",
                  "16MP",
                  "64MP + 8MP + 2MP",
                  "MediaTek Dimensity 1200",
                  "4,500mAh",
                  "6.43 inches",
                  "PKR 74,999",
                  "INR 27,999",
                  "CNY 2,499",
                  "USD 329",
                  "AED 1,700",
                  "2021"
                ],
                [
                  "432",
                  "Oppo",
                  "K9 5G 128GB",
                  "172g",
                  "8GB",
                  "32MP",
                  "64MP + 8MP + 2MP",
                  "Qualcomm Snapdragon 768G",
                  "4,300mAh",
                  "6.43 inches",
                  "PKR 59,999",
                  "INR 22,999",
                  "CNY 1,999",
                  "USD 279",
                  "AED 1,400",
                  "2021"
                ],
                [
                  "433",
                  "Oppo",
                  "K9 5G 256GB",
                  "172g",
                  "8GB",
                  "32MP",
                  "64MP + 8MP + 2MP",
                  "Qualcomm Snapdragon 768G",
                  "4,300mAh",
                  "6.43 inches",
                  "PKR 64,999",
                  "INR 24,999",
                  "CNY 2,199",
                  "USD 299",
                  "AED 1,500",
                  "2021"
                ],
                [
                  "434",
                  "Oppo",
                  "K7x 128GB",
                  "194g",
                  "6GB",
                  "16MP",
                  "48MP + 8MP + 2MP + 2MP",
                  "MediaTek Dimensity 720",
                  "5,000mAh",
                  "6.5 inches",
                  "PKR 44,999",
                  "INR 14,999",
                  "CNY 1,499",
                  "USD 199",
                  "AED 1,000",
                  "2020"
                ],
                [
                  "435",
                  "Oppo",
                  "K7 5G 128GB",
                  "180g",
                  "8GB",
                  "32MP",
                  "48MP + 8MP + 2MP + 2MP",
                  "Qualcomm Snapdragon 765G",
                  "4,025mAh",
                  "6.4 inches",
                  "PKR 49,999",
                  "INR 19,999",
                  "CNY 1,999",
                  "USD 279",
                  "AED 1,400",
                  "2020"
                ],
                [
                  "437",
                  "Oppo",
                  "K11x 128GB",
                  "195g",
                  "8GB",
                  "16MP",
                  "108MP + 2MP",
                  "Qualcomm Snapdragon 695",
                  "5,000mAh",
                  "6.72 inches",
                  "PKR 59,999",
                  "INR 18,000",
                  "CNY 1,499",
                  "USD 199",
                  "AED 1,000",
                  "2023"
                ],
                [
                  "438",
                  "Oppo",
                  "K11x 256GB",
                  "195g",
                  "12GB",
                  "16MP",
                  "108MP + 2MP",
                  "Qualcomm Snapdragon 695",
                  "5,000mAh",
                  "6.72 inches",
                  "PKR 64,999",
                  "INR 20,000",
                  "CNY 1,699",
                  "USD 229",
                  "AED 1,200",
                  "2023"
                ],
                [
                  "441",
                  "Oppo",
                  "K10x 128GB",
                  "195g",
                  "6GB",
                  "16MP",
                  "64MP + 2MP + 2MP",
                  "Qualcomm Snapdragon 695",
                  "5,000mAh",
                  "6.59 inches",
                  "PKR 54,999",
                  "INR 16,990",
                  "CNY 1,499",
                  "USD 199",
                  "AED 1,000",
                  "2022"
                ],
                [
                  "442",
                  "Oppo",
                  "K10x 256GB",
                  "195g",
                  "8GB",
                  "16MP",
                  "64MP + 2MP + 2MP",
                  "Qualcomm Snapdragon 695",
                  "5,000mAh",
                  "6.59 inches",
                  "PKR 59,999",
                  "INR 18,990",
                  "CNY 1,699",
                  "USD 229",
                  "AED 1,200",
                  "2022"
                ],
                [
                  "443",
                  "Oppo",
                  "K10 5G 128GB",
                  "205g",
                  "8GB",
                  "16MP",
                  "64MP + 8MP + 2MP",
                  "MediaTek Dimensity 8000-Max",
                  "5,000mAh",
                  "6.59 inches",
                  "PKR 64,999",
                  "INR 19,999",
                  "CNY 1,799",
                  "USD 249",
                  "AED 1,300",
                  "2022"
                ],
                [
                  "445",
                  "Oppo",
                  "K9x 128GB",
                  "194g",
                  "6GB",
                  "16MP",
                  "64MP + 2MP + 2MP",
                  "MediaTek Dimensity 810",
                  "5,000mAh",
                  "6.5 inches",
                  "PKR 49,999",
                  "INR 15,999",
                  "CNY 1,499",
                  "USD 199",
                  "AED 1,000",
                  "2021"
                ],
                [
                  "446",
                  "Oppo",
                  "K9x 256GB",
                  "194g",
                  "8GB",
                  "16MP",
                  "64MP + 2MP + 2MP",
                  "MediaTek Dimensity 810",
                  "5,000mAh",
                  "6.5 inches",
                  "PKR 54,999",
                  "INR 17,999",
                  "CNY 1,699",
                  "USD 229",
                  "AED 1,200",
                  "2021"
                ],
                [
                  "447",
                  "Oppo",
                  "K9 Pro 5G 128GB",
                  "180g",
                  "8GB",
                  "16MP",
                  "64MP + 8MP + 2MP",
                  "MediaTek Dimensity 1200",
                  "4,500mAh",
                  "6.43 inches",
                  "PKR 69,999",
                  "INR 24,999",
                  "CNY 2,199",
                  "USD 299",
                  "AED 1,500",
                  "2021"
                ],
                [
                  "448",
                  "Oppo",
                  "K9 Pro 5G 256GB",
                  "180g",
                  "12GB",
                  "16MP",
                  "64MP + 8MP + 2MP",
                  "MediaTek Dimensity 1200",
                  "4,500mAh",
                  "6.43 inches",
                  "PKR 74,999",
                  "INR 27,999",
                  "CNY 2,499",
                  "USD 329",
                  "AED 1,700",
                  "2021"
                ],
                [
                  "449",
                  "Oppo",
                  "K9 5G 128GB",
                  "172g",
                  "8GB",
                  "32MP",
                  "64MP + 8MP + 2MP",
                  "Qualcomm Snapdragon 768G",
                  "4,300mAh",
                  "6.43 inches",
                  "PKR 59,999",
                  "INR 22,999",
                  "CNY 1,999",
                  "USD 279",
                  "AED 1,400",
                  "2021"
                ],
                [
                  "450",
                  "Oppo",
                  "K9 5G 256GB",
                  "172g",
                  "8GB",
                  "32MP",
                  "64MP + 8MP + 2MP",
                  "Qualcomm Snapdragon 768G",
                  "4,300mAh",
                  "6.43 inches",
                  "PKR 64,999",
                  "INR 24,999",
                  "CNY 2,199",
                  "USD 299",
                  "AED 1,500",
                  "2021"
                ],
                [
                  "451",
                  "Oppo",
                  "K7x 128GB",
                  "194g",
                  "6GB",
                  "16MP",
                  "48MP + 8MP + 2MP + 2MP",
                  "MediaTek Dimensity 720",
                  "5,000mAh",
                  "6.5 inches",
                  "PKR 44,999",
                  "INR 14,999",
                  "CNY 1,499",
                  "USD 199",
                  "AED 1,000",
                  "2020"
                ],
                [
                  "452",
                  "Oppo",
                  "K7 5G 128GB",
                  "180g",
                  "8GB",
                  "32MP",
                  "48MP + 8MP + 2MP + 2MP",
                  "Qualcomm Snapdragon 765G",
                  "4,025mAh",
                  "6.4 inches",
                  "PKR 49,999",
                  "INR 19,999",
                  "CNY 1,999",
                  "USD 279",
                  "AED 1,400",
                  "2020"
                ],
                [
                  "791",
                  "Infinix",
                  "Hot 10 Lite 64GB",
                  "195g",
                  "3GB",
                  "8MP",
                  "13MP",
                  "MediaTek Helio A25",
                  "5,000mAh",
                  "6.6 inches",
                  "PKR 19,999",
                  "INR 7,999",
                  "CNY 699",
                  "USD 109",
                  "AED 399",
                  "2020"
                ],
                [
                  "798",
                  "Infinix",
                  "Hot 10 Lite 64GB",
                  "195g",
                  "3GB",
                  "8MP",
                  "13MP",
                  "MediaTek Helio A25",
                  "5,000mAh",
                  "6.6 inches",
                  "PKR 19,999",
                  "INR 7,999",
                  "CNY 699",
                  "USD 109",
                  "AED 399",
                  "2020"
                ]
              ],
              "shape": {
                "columns": 15,
                "rows": 30
              }
            },
            "text/html": [
              "<div>\n",
              "<style scoped>\n",
              "    .dataframe tbody tr th:only-of-type {\n",
              "        vertical-align: middle;\n",
              "    }\n",
              "\n",
              "    .dataframe tbody tr th {\n",
              "        vertical-align: top;\n",
              "    }\n",
              "\n",
              "    .dataframe thead th {\n",
              "        text-align: right;\n",
              "    }\n",
              "</style>\n",
              "<table border=\"1\" class=\"dataframe\">\n",
              "  <thead>\n",
              "    <tr style=\"text-align: right;\">\n",
              "      <th></th>\n",
              "      <th>Company Name</th>\n",
              "      <th>Model Name</th>\n",
              "      <th>Mobile Weight (gram)</th>\n",
              "      <th>RAM (GB)</th>\n",
              "      <th>Front Camera (MP)</th>\n",
              "      <th>Back Camera (MP)</th>\n",
              "      <th>Processor</th>\n",
              "      <th>Battery Capacity (mAh)</th>\n",
              "      <th>Screen Size (inch)</th>\n",
              "      <th>Launched Price (Pakistan USD)</th>\n",
              "      <th>Launched Price (India USD)</th>\n",
              "      <th>Launched Price (China USD)</th>\n",
              "      <th>Launched Price (USA USD)</th>\n",
              "      <th>Launched Price (Dubai USD)</th>\n",
              "      <th>Launched Year</th>\n",
              "    </tr>\n",
              "  </thead>\n",
              "  <tbody>\n",
              "    <tr>\n",
              "      <th>344</th>\n",
              "      <td>Oppo</td>\n",
              "      <td>A3 128GB</td>\n",
              "      <td>186g</td>\n",
              "      <td>4GB</td>\n",
              "      <td>5MP</td>\n",
              "      <td>50MP</td>\n",
              "      <td>Snapdragon 6s 4G Gen 1</td>\n",
              "      <td>5000mAh</td>\n",
              "      <td>6.7 inches</td>\n",
              "      <td>PKR 59,999</td>\n",
              "      <td>INR 34,999</td>\n",
              "      <td>CNY 2,999</td>\n",
              "      <td>USD 399</td>\n",
              "      <td>AED 1,499</td>\n",
              "      <td>2024</td>\n",
              "    </tr>\n",
              "    <tr>\n",
              "      <th>347</th>\n",
              "      <td>Oppo</td>\n",
              "      <td>A3 128GB</td>\n",
              "      <td>186g</td>\n",
              "      <td>4GB</td>\n",
              "      <td>5MP</td>\n",
              "      <td>50MP</td>\n",
              "      <td>Snapdragon 6s 4G Gen 1</td>\n",
              "      <td>5000mAh</td>\n",
              "      <td>6.7 inches</td>\n",
              "      <td>PKR 59,999</td>\n",
              "      <td>INR 34,999</td>\n",
              "      <td>CNY 2,999</td>\n",
              "      <td>USD 399</td>\n",
              "      <td>AED 1,499</td>\n",
              "      <td>2024</td>\n",
              "    </tr>\n",
              "    <tr>\n",
              "      <th>423</th>\n",
              "      <td>Oppo</td>\n",
              "      <td>K11x 128GB</td>\n",
              "      <td>195g</td>\n",
              "      <td>8GB</td>\n",
              "      <td>16MP</td>\n",
              "      <td>108MP + 2MP</td>\n",
              "      <td>Qualcomm Snapdragon 695</td>\n",
              "      <td>5,000mAh</td>\n",
              "      <td>6.72 inches</td>\n",
              "      <td>PKR 59,999</td>\n",
              "      <td>INR 18,000</td>\n",
              "      <td>CNY 1,499</td>\n",
              "      <td>USD 199</td>\n",
              "      <td>AED 1,000</td>\n",
              "      <td>2023</td>\n",
              "    </tr>\n",
              "    <tr>\n",
              "      <th>424</th>\n",
              "      <td>Oppo</td>\n",
              "      <td>K11x 256GB</td>\n",
              "      <td>195g</td>\n",
              "      <td>12GB</td>\n",
              "      <td>16MP</td>\n",
              "      <td>108MP + 2MP</td>\n",
              "      <td>Qualcomm Snapdragon 695</td>\n",
              "      <td>5,000mAh</td>\n",
              "      <td>6.72 inches</td>\n",
              "      <td>PKR 64,999</td>\n",
              "      <td>INR 20,000</td>\n",
              "      <td>CNY 1,699</td>\n",
              "      <td>USD 229</td>\n",
              "      <td>AED 1,200</td>\n",
              "      <td>2023</td>\n",
              "    </tr>\n",
              "    <tr>\n",
              "      <th>425</th>\n",
              "      <td>Oppo</td>\n",
              "      <td>K10x 128GB</td>\n",
              "      <td>195g</td>\n",
              "      <td>6GB</td>\n",
              "      <td>16MP</td>\n",
              "      <td>64MP + 2MP + 2MP</td>\n",
              "      <td>Qualcomm Snapdragon 695</td>\n",
              "      <td>5,000mAh</td>\n",
              "      <td>6.59 inches</td>\n",
              "      <td>PKR 54,999</td>\n",
              "      <td>INR 16,990</td>\n",
              "      <td>CNY 1,499</td>\n",
              "      <td>USD 199</td>\n",
              "      <td>AED 1,000</td>\n",
              "      <td>2022</td>\n",
              "    </tr>\n",
              "    <tr>\n",
              "      <th>426</th>\n",
              "      <td>Oppo</td>\n",
              "      <td>K10x 256GB</td>\n",
              "      <td>195g</td>\n",
              "      <td>8GB</td>\n",
              "      <td>16MP</td>\n",
              "      <td>64MP + 2MP + 2MP</td>\n",
              "      <td>Qualcomm Snapdragon 695</td>\n",
              "      <td>5,000mAh</td>\n",
              "      <td>6.59 inches</td>\n",
              "      <td>PKR 59,999</td>\n",
              "      <td>INR 18,990</td>\n",
              "      <td>CNY 1,699</td>\n",
              "      <td>USD 229</td>\n",
              "      <td>AED 1,200</td>\n",
              "      <td>2022</td>\n",
              "    </tr>\n",
              "    <tr>\n",
              "      <th>427</th>\n",
              "      <td>Oppo</td>\n",
              "      <td>K10 5G 128GB</td>\n",
              "      <td>205g</td>\n",
              "      <td>8GB</td>\n",
              "      <td>16MP</td>\n",
              "      <td>64MP + 8MP + 2MP</td>\n",
              "      <td>MediaTek Dimensity 8000-Max</td>\n",
              "      <td>5,000mAh</td>\n",
              "      <td>6.59 inches</td>\n",
              "      <td>PKR 64,999</td>\n",
              "      <td>INR 19,999</td>\n",
              "      <td>CNY 1,799</td>\n",
              "      <td>USD 249</td>\n",
              "      <td>AED 1,300</td>\n",
              "      <td>2022</td>\n",
              "    </tr>\n",
              "    <tr>\n",
              "      <th>428</th>\n",
              "      <td>Oppo</td>\n",
              "      <td>K9x 128GB</td>\n",
              "      <td>194g</td>\n",
              "      <td>6GB</td>\n",
              "      <td>16MP</td>\n",
              "      <td>64MP + 2MP + 2MP</td>\n",
              "      <td>MediaTek Dimensity 810</td>\n",
              "      <td>5,000mAh</td>\n",
              "      <td>6.5 inches</td>\n",
              "      <td>PKR 49,999</td>\n",
              "      <td>INR 15,999</td>\n",
              "      <td>CNY 1,499</td>\n",
              "      <td>USD 199</td>\n",
              "      <td>AED 1,000</td>\n",
              "      <td>2021</td>\n",
              "    </tr>\n",
              "    <tr>\n",
              "      <th>429</th>\n",
              "      <td>Oppo</td>\n",
              "      <td>K9x 256GB</td>\n",
              "      <td>194g</td>\n",
              "      <td>8GB</td>\n",
              "      <td>16MP</td>\n",
              "      <td>64MP + 2MP + 2MP</td>\n",
              "      <td>MediaTek Dimensity 810</td>\n",
              "      <td>5,000mAh</td>\n",
              "      <td>6.5 inches</td>\n",
              "      <td>PKR 54,999</td>\n",
              "      <td>INR 17,999</td>\n",
              "      <td>CNY 1,699</td>\n",
              "      <td>USD 229</td>\n",
              "      <td>AED 1,200</td>\n",
              "      <td>2021</td>\n",
              "    </tr>\n",
              "    <tr>\n",
              "      <th>430</th>\n",
              "      <td>Oppo</td>\n",
              "      <td>K9 Pro 5G 128GB</td>\n",
              "      <td>180g</td>\n",
              "      <td>8GB</td>\n",
              "      <td>16MP</td>\n",
              "      <td>64MP + 8MP + 2MP</td>\n",
              "      <td>MediaTek Dimensity 1200</td>\n",
              "      <td>4,500mAh</td>\n",
              "      <td>6.43 inches</td>\n",
              "      <td>PKR 69,999</td>\n",
              "      <td>INR 24,999</td>\n",
              "      <td>CNY 2,199</td>\n",
              "      <td>USD 299</td>\n",
              "      <td>AED 1,500</td>\n",
              "      <td>2021</td>\n",
              "    </tr>\n",
              "    <tr>\n",
              "      <th>431</th>\n",
              "      <td>Oppo</td>\n",
              "      <td>K9 Pro 5G 256GB</td>\n",
              "      <td>180g</td>\n",
              "      <td>12GB</td>\n",
              "      <td>16MP</td>\n",
              "      <td>64MP + 8MP + 2MP</td>\n",
              "      <td>MediaTek Dimensity 1200</td>\n",
              "      <td>4,500mAh</td>\n",
              "      <td>6.43 inches</td>\n",
              "      <td>PKR 74,999</td>\n",
              "      <td>INR 27,999</td>\n",
              "      <td>CNY 2,499</td>\n",
              "      <td>USD 329</td>\n",
              "      <td>AED 1,700</td>\n",
              "      <td>2021</td>\n",
              "    </tr>\n",
              "    <tr>\n",
              "      <th>432</th>\n",
              "      <td>Oppo</td>\n",
              "      <td>K9 5G 128GB</td>\n",
              "      <td>172g</td>\n",
              "      <td>8GB</td>\n",
              "      <td>32MP</td>\n",
              "      <td>64MP + 8MP + 2MP</td>\n",
              "      <td>Qualcomm Snapdragon 768G</td>\n",
              "      <td>4,300mAh</td>\n",
              "      <td>6.43 inches</td>\n",
              "      <td>PKR 59,999</td>\n",
              "      <td>INR 22,999</td>\n",
              "      <td>CNY 1,999</td>\n",
              "      <td>USD 279</td>\n",
              "      <td>AED 1,400</td>\n",
              "      <td>2021</td>\n",
              "    </tr>\n",
              "    <tr>\n",
              "      <th>433</th>\n",
              "      <td>Oppo</td>\n",
              "      <td>K9 5G 256GB</td>\n",
              "      <td>172g</td>\n",
              "      <td>8GB</td>\n",
              "      <td>32MP</td>\n",
              "      <td>64MP + 8MP + 2MP</td>\n",
              "      <td>Qualcomm Snapdragon 768G</td>\n",
              "      <td>4,300mAh</td>\n",
              "      <td>6.43 inches</td>\n",
              "      <td>PKR 64,999</td>\n",
              "      <td>INR 24,999</td>\n",
              "      <td>CNY 2,199</td>\n",
              "      <td>USD 299</td>\n",
              "      <td>AED 1,500</td>\n",
              "      <td>2021</td>\n",
              "    </tr>\n",
              "    <tr>\n",
              "      <th>434</th>\n",
              "      <td>Oppo</td>\n",
              "      <td>K7x 128GB</td>\n",
              "      <td>194g</td>\n",
              "      <td>6GB</td>\n",
              "      <td>16MP</td>\n",
              "      <td>48MP + 8MP + 2MP + 2MP</td>\n",
              "      <td>MediaTek Dimensity 720</td>\n",
              "      <td>5,000mAh</td>\n",
              "      <td>6.5 inches</td>\n",
              "      <td>PKR 44,999</td>\n",
              "      <td>INR 14,999</td>\n",
              "      <td>CNY 1,499</td>\n",
              "      <td>USD 199</td>\n",
              "      <td>AED 1,000</td>\n",
              "      <td>2020</td>\n",
              "    </tr>\n",
              "    <tr>\n",
              "      <th>435</th>\n",
              "      <td>Oppo</td>\n",
              "      <td>K7 5G 128GB</td>\n",
              "      <td>180g</td>\n",
              "      <td>8GB</td>\n",
              "      <td>32MP</td>\n",
              "      <td>48MP + 8MP + 2MP + 2MP</td>\n",
              "      <td>Qualcomm Snapdragon 765G</td>\n",
              "      <td>4,025mAh</td>\n",
              "      <td>6.4 inches</td>\n",
              "      <td>PKR 49,999</td>\n",
              "      <td>INR 19,999</td>\n",
              "      <td>CNY 1,999</td>\n",
              "      <td>USD 279</td>\n",
              "      <td>AED 1,400</td>\n",
              "      <td>2020</td>\n",
              "    </tr>\n",
              "    <tr>\n",
              "      <th>437</th>\n",
              "      <td>Oppo</td>\n",
              "      <td>K11x 128GB</td>\n",
              "      <td>195g</td>\n",
              "      <td>8GB</td>\n",
              "      <td>16MP</td>\n",
              "      <td>108MP + 2MP</td>\n",
              "      <td>Qualcomm Snapdragon 695</td>\n",
              "      <td>5,000mAh</td>\n",
              "      <td>6.72 inches</td>\n",
              "      <td>PKR 59,999</td>\n",
              "      <td>INR 18,000</td>\n",
              "      <td>CNY 1,499</td>\n",
              "      <td>USD 199</td>\n",
              "      <td>AED 1,000</td>\n",
              "      <td>2023</td>\n",
              "    </tr>\n",
              "    <tr>\n",
              "      <th>438</th>\n",
              "      <td>Oppo</td>\n",
              "      <td>K11x 256GB</td>\n",
              "      <td>195g</td>\n",
              "      <td>12GB</td>\n",
              "      <td>16MP</td>\n",
              "      <td>108MP + 2MP</td>\n",
              "      <td>Qualcomm Snapdragon 695</td>\n",
              "      <td>5,000mAh</td>\n",
              "      <td>6.72 inches</td>\n",
              "      <td>PKR 64,999</td>\n",
              "      <td>INR 20,000</td>\n",
              "      <td>CNY 1,699</td>\n",
              "      <td>USD 229</td>\n",
              "      <td>AED 1,200</td>\n",
              "      <td>2023</td>\n",
              "    </tr>\n",
              "    <tr>\n",
              "      <th>441</th>\n",
              "      <td>Oppo</td>\n",
              "      <td>K10x 128GB</td>\n",
              "      <td>195g</td>\n",
              "      <td>6GB</td>\n",
              "      <td>16MP</td>\n",
              "      <td>64MP + 2MP + 2MP</td>\n",
              "      <td>Qualcomm Snapdragon 695</td>\n",
              "      <td>5,000mAh</td>\n",
              "      <td>6.59 inches</td>\n",
              "      <td>PKR 54,999</td>\n",
              "      <td>INR 16,990</td>\n",
              "      <td>CNY 1,499</td>\n",
              "      <td>USD 199</td>\n",
              "      <td>AED 1,000</td>\n",
              "      <td>2022</td>\n",
              "    </tr>\n",
              "    <tr>\n",
              "      <th>442</th>\n",
              "      <td>Oppo</td>\n",
              "      <td>K10x 256GB</td>\n",
              "      <td>195g</td>\n",
              "      <td>8GB</td>\n",
              "      <td>16MP</td>\n",
              "      <td>64MP + 2MP + 2MP</td>\n",
              "      <td>Qualcomm Snapdragon 695</td>\n",
              "      <td>5,000mAh</td>\n",
              "      <td>6.59 inches</td>\n",
              "      <td>PKR 59,999</td>\n",
              "      <td>INR 18,990</td>\n",
              "      <td>CNY 1,699</td>\n",
              "      <td>USD 229</td>\n",
              "      <td>AED 1,200</td>\n",
              "      <td>2022</td>\n",
              "    </tr>\n",
              "    <tr>\n",
              "      <th>443</th>\n",
              "      <td>Oppo</td>\n",
              "      <td>K10 5G 128GB</td>\n",
              "      <td>205g</td>\n",
              "      <td>8GB</td>\n",
              "      <td>16MP</td>\n",
              "      <td>64MP + 8MP + 2MP</td>\n",
              "      <td>MediaTek Dimensity 8000-Max</td>\n",
              "      <td>5,000mAh</td>\n",
              "      <td>6.59 inches</td>\n",
              "      <td>PKR 64,999</td>\n",
              "      <td>INR 19,999</td>\n",
              "      <td>CNY 1,799</td>\n",
              "      <td>USD 249</td>\n",
              "      <td>AED 1,300</td>\n",
              "      <td>2022</td>\n",
              "    </tr>\n",
              "    <tr>\n",
              "      <th>445</th>\n",
              "      <td>Oppo</td>\n",
              "      <td>K9x 128GB</td>\n",
              "      <td>194g</td>\n",
              "      <td>6GB</td>\n",
              "      <td>16MP</td>\n",
              "      <td>64MP + 2MP + 2MP</td>\n",
              "      <td>MediaTek Dimensity 810</td>\n",
              "      <td>5,000mAh</td>\n",
              "      <td>6.5 inches</td>\n",
              "      <td>PKR 49,999</td>\n",
              "      <td>INR 15,999</td>\n",
              "      <td>CNY 1,499</td>\n",
              "      <td>USD 199</td>\n",
              "      <td>AED 1,000</td>\n",
              "      <td>2021</td>\n",
              "    </tr>\n",
              "    <tr>\n",
              "      <th>446</th>\n",
              "      <td>Oppo</td>\n",
              "      <td>K9x 256GB</td>\n",
              "      <td>194g</td>\n",
              "      <td>8GB</td>\n",
              "      <td>16MP</td>\n",
              "      <td>64MP + 2MP + 2MP</td>\n",
              "      <td>MediaTek Dimensity 810</td>\n",
              "      <td>5,000mAh</td>\n",
              "      <td>6.5 inches</td>\n",
              "      <td>PKR 54,999</td>\n",
              "      <td>INR 17,999</td>\n",
              "      <td>CNY 1,699</td>\n",
              "      <td>USD 229</td>\n",
              "      <td>AED 1,200</td>\n",
              "      <td>2021</td>\n",
              "    </tr>\n",
              "    <tr>\n",
              "      <th>447</th>\n",
              "      <td>Oppo</td>\n",
              "      <td>K9 Pro 5G 128GB</td>\n",
              "      <td>180g</td>\n",
              "      <td>8GB</td>\n",
              "      <td>16MP</td>\n",
              "      <td>64MP + 8MP + 2MP</td>\n",
              "      <td>MediaTek Dimensity 1200</td>\n",
              "      <td>4,500mAh</td>\n",
              "      <td>6.43 inches</td>\n",
              "      <td>PKR 69,999</td>\n",
              "      <td>INR 24,999</td>\n",
              "      <td>CNY 2,199</td>\n",
              "      <td>USD 299</td>\n",
              "      <td>AED 1,500</td>\n",
              "      <td>2021</td>\n",
              "    </tr>\n",
              "    <tr>\n",
              "      <th>448</th>\n",
              "      <td>Oppo</td>\n",
              "      <td>K9 Pro 5G 256GB</td>\n",
              "      <td>180g</td>\n",
              "      <td>12GB</td>\n",
              "      <td>16MP</td>\n",
              "      <td>64MP + 8MP + 2MP</td>\n",
              "      <td>MediaTek Dimensity 1200</td>\n",
              "      <td>4,500mAh</td>\n",
              "      <td>6.43 inches</td>\n",
              "      <td>PKR 74,999</td>\n",
              "      <td>INR 27,999</td>\n",
              "      <td>CNY 2,499</td>\n",
              "      <td>USD 329</td>\n",
              "      <td>AED 1,700</td>\n",
              "      <td>2021</td>\n",
              "    </tr>\n",
              "    <tr>\n",
              "      <th>449</th>\n",
              "      <td>Oppo</td>\n",
              "      <td>K9 5G 128GB</td>\n",
              "      <td>172g</td>\n",
              "      <td>8GB</td>\n",
              "      <td>32MP</td>\n",
              "      <td>64MP + 8MP + 2MP</td>\n",
              "      <td>Qualcomm Snapdragon 768G</td>\n",
              "      <td>4,300mAh</td>\n",
              "      <td>6.43 inches</td>\n",
              "      <td>PKR 59,999</td>\n",
              "      <td>INR 22,999</td>\n",
              "      <td>CNY 1,999</td>\n",
              "      <td>USD 279</td>\n",
              "      <td>AED 1,400</td>\n",
              "      <td>2021</td>\n",
              "    </tr>\n",
              "    <tr>\n",
              "      <th>450</th>\n",
              "      <td>Oppo</td>\n",
              "      <td>K9 5G 256GB</td>\n",
              "      <td>172g</td>\n",
              "      <td>8GB</td>\n",
              "      <td>32MP</td>\n",
              "      <td>64MP + 8MP + 2MP</td>\n",
              "      <td>Qualcomm Snapdragon 768G</td>\n",
              "      <td>4,300mAh</td>\n",
              "      <td>6.43 inches</td>\n",
              "      <td>PKR 64,999</td>\n",
              "      <td>INR 24,999</td>\n",
              "      <td>CNY 2,199</td>\n",
              "      <td>USD 299</td>\n",
              "      <td>AED 1,500</td>\n",
              "      <td>2021</td>\n",
              "    </tr>\n",
              "    <tr>\n",
              "      <th>451</th>\n",
              "      <td>Oppo</td>\n",
              "      <td>K7x 128GB</td>\n",
              "      <td>194g</td>\n",
              "      <td>6GB</td>\n",
              "      <td>16MP</td>\n",
              "      <td>48MP + 8MP + 2MP + 2MP</td>\n",
              "      <td>MediaTek Dimensity 720</td>\n",
              "      <td>5,000mAh</td>\n",
              "      <td>6.5 inches</td>\n",
              "      <td>PKR 44,999</td>\n",
              "      <td>INR 14,999</td>\n",
              "      <td>CNY 1,499</td>\n",
              "      <td>USD 199</td>\n",
              "      <td>AED 1,000</td>\n",
              "      <td>2020</td>\n",
              "    </tr>\n",
              "    <tr>\n",
              "      <th>452</th>\n",
              "      <td>Oppo</td>\n",
              "      <td>K7 5G 128GB</td>\n",
              "      <td>180g</td>\n",
              "      <td>8GB</td>\n",
              "      <td>32MP</td>\n",
              "      <td>48MP + 8MP + 2MP + 2MP</td>\n",
              "      <td>Qualcomm Snapdragon 765G</td>\n",
              "      <td>4,025mAh</td>\n",
              "      <td>6.4 inches</td>\n",
              "      <td>PKR 49,999</td>\n",
              "      <td>INR 19,999</td>\n",
              "      <td>CNY 1,999</td>\n",
              "      <td>USD 279</td>\n",
              "      <td>AED 1,400</td>\n",
              "      <td>2020</td>\n",
              "    </tr>\n",
              "    <tr>\n",
              "      <th>791</th>\n",
              "      <td>Infinix</td>\n",
              "      <td>Hot 10 Lite 64GB</td>\n",
              "      <td>195g</td>\n",
              "      <td>3GB</td>\n",
              "      <td>8MP</td>\n",
              "      <td>13MP</td>\n",
              "      <td>MediaTek Helio A25</td>\n",
              "      <td>5,000mAh</td>\n",
              "      <td>6.6 inches</td>\n",
              "      <td>PKR 19,999</td>\n",
              "      <td>INR 7,999</td>\n",
              "      <td>CNY 699</td>\n",
              "      <td>USD 109</td>\n",
              "      <td>AED 399</td>\n",
              "      <td>2020</td>\n",
              "    </tr>\n",
              "    <tr>\n",
              "      <th>798</th>\n",
              "      <td>Infinix</td>\n",
              "      <td>Hot 10 Lite 64GB</td>\n",
              "      <td>195g</td>\n",
              "      <td>3GB</td>\n",
              "      <td>8MP</td>\n",
              "      <td>13MP</td>\n",
              "      <td>MediaTek Helio A25</td>\n",
              "      <td>5,000mAh</td>\n",
              "      <td>6.6 inches</td>\n",
              "      <td>PKR 19,999</td>\n",
              "      <td>INR 7,999</td>\n",
              "      <td>CNY 699</td>\n",
              "      <td>USD 109</td>\n",
              "      <td>AED 399</td>\n",
              "      <td>2020</td>\n",
              "    </tr>\n",
              "  </tbody>\n",
              "</table>\n",
              "</div>"
            ],
            "text/plain": [
              "    Company Name        Model Name Mobile Weight (gram) RAM (GB)  \\\n",
              "344         Oppo          A3 128GB                 186g      4GB   \n",
              "347         Oppo          A3 128GB                 186g      4GB   \n",
              "423         Oppo        K11x 128GB                 195g      8GB   \n",
              "424         Oppo        K11x 256GB                 195g     12GB   \n",
              "425         Oppo        K10x 128GB                 195g      6GB   \n",
              "426         Oppo        K10x 256GB                 195g      8GB   \n",
              "427         Oppo      K10 5G 128GB                 205g      8GB   \n",
              "428         Oppo         K9x 128GB                 194g      6GB   \n",
              "429         Oppo         K9x 256GB                 194g      8GB   \n",
              "430         Oppo   K9 Pro 5G 128GB                 180g      8GB   \n",
              "431         Oppo   K9 Pro 5G 256GB                 180g     12GB   \n",
              "432         Oppo       K9 5G 128GB                 172g      8GB   \n",
              "433         Oppo       K9 5G 256GB                 172g      8GB   \n",
              "434         Oppo         K7x 128GB                 194g      6GB   \n",
              "435         Oppo       K7 5G 128GB                 180g      8GB   \n",
              "437         Oppo        K11x 128GB                 195g      8GB   \n",
              "438         Oppo        K11x 256GB                 195g     12GB   \n",
              "441         Oppo        K10x 128GB                 195g      6GB   \n",
              "442         Oppo        K10x 256GB                 195g      8GB   \n",
              "443         Oppo      K10 5G 128GB                 205g      8GB   \n",
              "445         Oppo         K9x 128GB                 194g      6GB   \n",
              "446         Oppo         K9x 256GB                 194g      8GB   \n",
              "447         Oppo   K9 Pro 5G 128GB                 180g      8GB   \n",
              "448         Oppo   K9 Pro 5G 256GB                 180g     12GB   \n",
              "449         Oppo       K9 5G 128GB                 172g      8GB   \n",
              "450         Oppo       K9 5G 256GB                 172g      8GB   \n",
              "451         Oppo         K7x 128GB                 194g      6GB   \n",
              "452         Oppo       K7 5G 128GB                 180g      8GB   \n",
              "791      Infinix  Hot 10 Lite 64GB                 195g      3GB   \n",
              "798      Infinix  Hot 10 Lite 64GB                 195g      3GB   \n",
              "\n",
              "    Front Camera (MP)        Back Camera (MP)                    Processor  \\\n",
              "344               5MP                    50MP       Snapdragon 6s 4G Gen 1   \n",
              "347               5MP                    50MP       Snapdragon 6s 4G Gen 1   \n",
              "423              16MP             108MP + 2MP      Qualcomm Snapdragon 695   \n",
              "424              16MP             108MP + 2MP      Qualcomm Snapdragon 695   \n",
              "425              16MP        64MP + 2MP + 2MP      Qualcomm Snapdragon 695   \n",
              "426              16MP        64MP + 2MP + 2MP      Qualcomm Snapdragon 695   \n",
              "427              16MP        64MP + 8MP + 2MP  MediaTek Dimensity 8000-Max   \n",
              "428              16MP        64MP + 2MP + 2MP       MediaTek Dimensity 810   \n",
              "429              16MP        64MP + 2MP + 2MP       MediaTek Dimensity 810   \n",
              "430              16MP        64MP + 8MP + 2MP      MediaTek Dimensity 1200   \n",
              "431              16MP        64MP + 8MP + 2MP      MediaTek Dimensity 1200   \n",
              "432              32MP        64MP + 8MP + 2MP     Qualcomm Snapdragon 768G   \n",
              "433              32MP        64MP + 8MP + 2MP     Qualcomm Snapdragon 768G   \n",
              "434              16MP  48MP + 8MP + 2MP + 2MP       MediaTek Dimensity 720   \n",
              "435              32MP  48MP + 8MP + 2MP + 2MP     Qualcomm Snapdragon 765G   \n",
              "437              16MP             108MP + 2MP      Qualcomm Snapdragon 695   \n",
              "438              16MP             108MP + 2MP      Qualcomm Snapdragon 695   \n",
              "441              16MP        64MP + 2MP + 2MP      Qualcomm Snapdragon 695   \n",
              "442              16MP        64MP + 2MP + 2MP      Qualcomm Snapdragon 695   \n",
              "443              16MP        64MP + 8MP + 2MP  MediaTek Dimensity 8000-Max   \n",
              "445              16MP        64MP + 2MP + 2MP       MediaTek Dimensity 810   \n",
              "446              16MP        64MP + 2MP + 2MP       MediaTek Dimensity 810   \n",
              "447              16MP        64MP + 8MP + 2MP      MediaTek Dimensity 1200   \n",
              "448              16MP        64MP + 8MP + 2MP      MediaTek Dimensity 1200   \n",
              "449              32MP        64MP + 8MP + 2MP     Qualcomm Snapdragon 768G   \n",
              "450              32MP        64MP + 8MP + 2MP     Qualcomm Snapdragon 768G   \n",
              "451              16MP  48MP + 8MP + 2MP + 2MP       MediaTek Dimensity 720   \n",
              "452              32MP  48MP + 8MP + 2MP + 2MP     Qualcomm Snapdragon 765G   \n",
              "791               8MP                    13MP           MediaTek Helio A25   \n",
              "798               8MP                    13MP           MediaTek Helio A25   \n",
              "\n",
              "    Battery Capacity (mAh) Screen Size (inch) Launched Price (Pakistan USD)  \\\n",
              "344                5000mAh         6.7 inches                    PKR 59,999   \n",
              "347                5000mAh         6.7 inches                    PKR 59,999   \n",
              "423               5,000mAh        6.72 inches                    PKR 59,999   \n",
              "424               5,000mAh        6.72 inches                    PKR 64,999   \n",
              "425               5,000mAh        6.59 inches                    PKR 54,999   \n",
              "426               5,000mAh        6.59 inches                    PKR 59,999   \n",
              "427               5,000mAh        6.59 inches                    PKR 64,999   \n",
              "428               5,000mAh         6.5 inches                    PKR 49,999   \n",
              "429               5,000mAh         6.5 inches                    PKR 54,999   \n",
              "430               4,500mAh        6.43 inches                    PKR 69,999   \n",
              "431               4,500mAh        6.43 inches                    PKR 74,999   \n",
              "432               4,300mAh        6.43 inches                    PKR 59,999   \n",
              "433               4,300mAh        6.43 inches                    PKR 64,999   \n",
              "434               5,000mAh         6.5 inches                    PKR 44,999   \n",
              "435               4,025mAh         6.4 inches                    PKR 49,999   \n",
              "437               5,000mAh        6.72 inches                    PKR 59,999   \n",
              "438               5,000mAh        6.72 inches                    PKR 64,999   \n",
              "441               5,000mAh        6.59 inches                    PKR 54,999   \n",
              "442               5,000mAh        6.59 inches                    PKR 59,999   \n",
              "443               5,000mAh        6.59 inches                    PKR 64,999   \n",
              "445               5,000mAh         6.5 inches                    PKR 49,999   \n",
              "446               5,000mAh         6.5 inches                    PKR 54,999   \n",
              "447               4,500mAh        6.43 inches                    PKR 69,999   \n",
              "448               4,500mAh        6.43 inches                    PKR 74,999   \n",
              "449               4,300mAh        6.43 inches                    PKR 59,999   \n",
              "450               4,300mAh        6.43 inches                    PKR 64,999   \n",
              "451               5,000mAh         6.5 inches                    PKR 44,999   \n",
              "452               4,025mAh         6.4 inches                    PKR 49,999   \n",
              "791               5,000mAh         6.6 inches                    PKR 19,999   \n",
              "798               5,000mAh         6.6 inches                    PKR 19,999   \n",
              "\n",
              "    Launched Price (India USD) Launched Price (China USD)  \\\n",
              "344                 INR 34,999                  CNY 2,999   \n",
              "347                 INR 34,999                  CNY 2,999   \n",
              "423                 INR 18,000                  CNY 1,499   \n",
              "424                 INR 20,000                  CNY 1,699   \n",
              "425                 INR 16,990                  CNY 1,499   \n",
              "426                 INR 18,990                  CNY 1,699   \n",
              "427                 INR 19,999                  CNY 1,799   \n",
              "428                 INR 15,999                  CNY 1,499   \n",
              "429                 INR 17,999                  CNY 1,699   \n",
              "430                 INR 24,999                  CNY 2,199   \n",
              "431                 INR 27,999                  CNY 2,499   \n",
              "432                 INR 22,999                  CNY 1,999   \n",
              "433                 INR 24,999                  CNY 2,199   \n",
              "434                 INR 14,999                  CNY 1,499   \n",
              "435                 INR 19,999                  CNY 1,999   \n",
              "437                 INR 18,000                  CNY 1,499   \n",
              "438                 INR 20,000                  CNY 1,699   \n",
              "441                 INR 16,990                  CNY 1,499   \n",
              "442                 INR 18,990                  CNY 1,699   \n",
              "443                 INR 19,999                  CNY 1,799   \n",
              "445                 INR 15,999                  CNY 1,499   \n",
              "446                 INR 17,999                  CNY 1,699   \n",
              "447                 INR 24,999                  CNY 2,199   \n",
              "448                 INR 27,999                  CNY 2,499   \n",
              "449                 INR 22,999                  CNY 1,999   \n",
              "450                 INR 24,999                  CNY 2,199   \n",
              "451                 INR 14,999                  CNY 1,499   \n",
              "452                 INR 19,999                  CNY 1,999   \n",
              "791                  INR 7,999                    CNY 699   \n",
              "798                  INR 7,999                    CNY 699   \n",
              "\n",
              "    Launched Price (USA USD) Launched Price (Dubai USD)  Launched Year  \n",
              "344                  USD 399                  AED 1,499           2024  \n",
              "347                  USD 399                  AED 1,499           2024  \n",
              "423                  USD 199                  AED 1,000           2023  \n",
              "424                  USD 229                  AED 1,200           2023  \n",
              "425                  USD 199                  AED 1,000           2022  \n",
              "426                  USD 229                  AED 1,200           2022  \n",
              "427                  USD 249                  AED 1,300           2022  \n",
              "428                  USD 199                  AED 1,000           2021  \n",
              "429                  USD 229                  AED 1,200           2021  \n",
              "430                  USD 299                  AED 1,500           2021  \n",
              "431                  USD 329                  AED 1,700           2021  \n",
              "432                  USD 279                  AED 1,400           2021  \n",
              "433                  USD 299                  AED 1,500           2021  \n",
              "434                  USD 199                  AED 1,000           2020  \n",
              "435                  USD 279                  AED 1,400           2020  \n",
              "437                  USD 199                  AED 1,000           2023  \n",
              "438                  USD 229                  AED 1,200           2023  \n",
              "441                  USD 199                  AED 1,000           2022  \n",
              "442                  USD 229                  AED 1,200           2022  \n",
              "443                  USD 249                  AED 1,300           2022  \n",
              "445                  USD 199                  AED 1,000           2021  \n",
              "446                  USD 229                  AED 1,200           2021  \n",
              "447                  USD 299                  AED 1,500           2021  \n",
              "448                  USD 329                  AED 1,700           2021  \n",
              "449                  USD 279                  AED 1,400           2021  \n",
              "450                  USD 299                  AED 1,500           2021  \n",
              "451                  USD 199                  AED 1,000           2020  \n",
              "452                  USD 279                  AED 1,400           2020  \n",
              "791                  USD 109                    AED 399           2020  \n",
              "798                  USD 109                    AED 399           2020  "
            ]
          },
          "execution_count": 9,
          "metadata": {},
          "output_type": "execute_result"
        }
      ],
      "source": [
        "df[df.duplicated(keep=False)]"
      ]
    },
    {
      "cell_type": "code",
      "execution_count": 10,
      "metadata": {},
      "outputs": [],
      "source": [
        "df.drop_duplicates(keep=False,inplace=True)"
      ]
    },
    {
      "cell_type": "code",
      "execution_count": 11,
      "metadata": {
        "colab": {
          "base_uri": "https://localhost:8080/"
        },
        "id": "2mJ_0uxB0auH",
        "outputId": "5cfe12b7-005e-4ec1-ae4f-d86f1fb49b34"
      },
      "outputs": [
        {
          "data": {
            "text/plain": [
              "np.int64(0)"
            ]
          },
          "execution_count": 11,
          "metadata": {},
          "output_type": "execute_result"
        }
      ],
      "source": [
        "df.duplicated().sum()"
      ]
    },
    {
      "cell_type": "code",
      "execution_count": 12,
      "metadata": {
        "colab": {
          "base_uri": "https://localhost:8080/",
          "height": 310
        },
        "id": "EZa3MFdLyubS",
        "outputId": "09edfed5-74ae-4ce1-e777-11c82d5f2540"
      },
      "outputs": [
        {
          "data": {
            "application/vnd.microsoft.datawrangler.viewer.v0+json": {
              "columns": [
                {
                  "name": "index",
                  "rawType": "int64",
                  "type": "integer"
                },
                {
                  "name": "Company Name",
                  "rawType": "object",
                  "type": "string"
                },
                {
                  "name": "Model Name",
                  "rawType": "object",
                  "type": "string"
                },
                {
                  "name": "Mobile Weight (gram)",
                  "rawType": "object",
                  "type": "string"
                },
                {
                  "name": "RAM (GB)",
                  "rawType": "object",
                  "type": "string"
                },
                {
                  "name": "Front Camera (MP)",
                  "rawType": "object",
                  "type": "string"
                },
                {
                  "name": "Back Camera (MP)",
                  "rawType": "object",
                  "type": "string"
                },
                {
                  "name": "Processor",
                  "rawType": "object",
                  "type": "string"
                },
                {
                  "name": "Battery Capacity (mAh)",
                  "rawType": "object",
                  "type": "string"
                },
                {
                  "name": "Screen Size (inch)",
                  "rawType": "object",
                  "type": "string"
                },
                {
                  "name": "Launched Price (Pakistan USD)",
                  "rawType": "object",
                  "type": "string"
                },
                {
                  "name": "Launched Price (India USD)",
                  "rawType": "object",
                  "type": "string"
                },
                {
                  "name": "Launched Price (China USD)",
                  "rawType": "object",
                  "type": "string"
                },
                {
                  "name": "Launched Price (USA USD)",
                  "rawType": "object",
                  "type": "string"
                },
                {
                  "name": "Launched Price (Dubai USD)",
                  "rawType": "object",
                  "type": "string"
                },
                {
                  "name": "Launched Year",
                  "rawType": "int64",
                  "type": "integer"
                }
              ],
              "ref": "61ffc51a-dd0f-44ad-bcd9-851bc0fc754e",
              "rows": [
                [
                  "0",
                  "Apple",
                  "iPhone 16 128GB",
                  "174g",
                  "6GB",
                  "12MP",
                  "48MP",
                  "A17 Bionic",
                  "3,600mAh",
                  "6.1 inches",
                  "PKR 224,999",
                  "INR 79,999",
                  "CNY 5,799",
                  "USD 799",
                  "AED 2,799",
                  "2024"
                ],
                [
                  "1",
                  "Apple",
                  "iPhone 16 256GB",
                  "174g",
                  "6GB",
                  "12MP",
                  "48MP",
                  "A17 Bionic",
                  "3,600mAh",
                  "6.1 inches",
                  "PKR 234,999",
                  "INR 84,999",
                  "CNY 6,099",
                  "USD 849",
                  "AED 2,999",
                  "2024"
                ],
                [
                  "2",
                  "Apple",
                  "iPhone 16 512GB",
                  "174g",
                  "6GB",
                  "12MP",
                  "48MP",
                  "A17 Bionic",
                  "3,600mAh",
                  "6.1 inches",
                  "PKR 244,999",
                  "INR 89,999",
                  "CNY 6,499",
                  "USD 899",
                  "AED 3,199",
                  "2024"
                ],
                [
                  "3",
                  "Apple",
                  "iPhone 16 Plus 128GB",
                  "203g",
                  "6GB",
                  "12MP",
                  "48MP",
                  "A17 Bionic",
                  "4,200mAh",
                  "6.7 inches",
                  "PKR 249,999",
                  "INR 89,999",
                  "CNY 6,199",
                  "USD 899",
                  "AED 3,199",
                  "2024"
                ],
                [
                  "4",
                  "Apple",
                  "iPhone 16 Plus 256GB",
                  "203g",
                  "6GB",
                  "12MP",
                  "48MP",
                  "A17 Bionic",
                  "4,200mAh",
                  "6.7 inches",
                  "PKR 259,999",
                  "INR 94,999",
                  "CNY 6,499",
                  "USD 949",
                  "AED 3,399",
                  "2024"
                ]
              ],
              "shape": {
                "columns": 15,
                "rows": 5
              }
            },
            "text/html": [
              "<div>\n",
              "<style scoped>\n",
              "    .dataframe tbody tr th:only-of-type {\n",
              "        vertical-align: middle;\n",
              "    }\n",
              "\n",
              "    .dataframe tbody tr th {\n",
              "        vertical-align: top;\n",
              "    }\n",
              "\n",
              "    .dataframe thead th {\n",
              "        text-align: right;\n",
              "    }\n",
              "</style>\n",
              "<table border=\"1\" class=\"dataframe\">\n",
              "  <thead>\n",
              "    <tr style=\"text-align: right;\">\n",
              "      <th></th>\n",
              "      <th>Company Name</th>\n",
              "      <th>Model Name</th>\n",
              "      <th>Mobile Weight (gram)</th>\n",
              "      <th>RAM (GB)</th>\n",
              "      <th>Front Camera (MP)</th>\n",
              "      <th>Back Camera (MP)</th>\n",
              "      <th>Processor</th>\n",
              "      <th>Battery Capacity (mAh)</th>\n",
              "      <th>Screen Size (inch)</th>\n",
              "      <th>Launched Price (Pakistan USD)</th>\n",
              "      <th>Launched Price (India USD)</th>\n",
              "      <th>Launched Price (China USD)</th>\n",
              "      <th>Launched Price (USA USD)</th>\n",
              "      <th>Launched Price (Dubai USD)</th>\n",
              "      <th>Launched Year</th>\n",
              "    </tr>\n",
              "  </thead>\n",
              "  <tbody>\n",
              "    <tr>\n",
              "      <th>0</th>\n",
              "      <td>Apple</td>\n",
              "      <td>iPhone 16 128GB</td>\n",
              "      <td>174g</td>\n",
              "      <td>6GB</td>\n",
              "      <td>12MP</td>\n",
              "      <td>48MP</td>\n",
              "      <td>A17 Bionic</td>\n",
              "      <td>3,600mAh</td>\n",
              "      <td>6.1 inches</td>\n",
              "      <td>PKR 224,999</td>\n",
              "      <td>INR 79,999</td>\n",
              "      <td>CNY 5,799</td>\n",
              "      <td>USD 799</td>\n",
              "      <td>AED 2,799</td>\n",
              "      <td>2024</td>\n",
              "    </tr>\n",
              "    <tr>\n",
              "      <th>1</th>\n",
              "      <td>Apple</td>\n",
              "      <td>iPhone 16 256GB</td>\n",
              "      <td>174g</td>\n",
              "      <td>6GB</td>\n",
              "      <td>12MP</td>\n",
              "      <td>48MP</td>\n",
              "      <td>A17 Bionic</td>\n",
              "      <td>3,600mAh</td>\n",
              "      <td>6.1 inches</td>\n",
              "      <td>PKR 234,999</td>\n",
              "      <td>INR 84,999</td>\n",
              "      <td>CNY 6,099</td>\n",
              "      <td>USD 849</td>\n",
              "      <td>AED 2,999</td>\n",
              "      <td>2024</td>\n",
              "    </tr>\n",
              "    <tr>\n",
              "      <th>2</th>\n",
              "      <td>Apple</td>\n",
              "      <td>iPhone 16 512GB</td>\n",
              "      <td>174g</td>\n",
              "      <td>6GB</td>\n",
              "      <td>12MP</td>\n",
              "      <td>48MP</td>\n",
              "      <td>A17 Bionic</td>\n",
              "      <td>3,600mAh</td>\n",
              "      <td>6.1 inches</td>\n",
              "      <td>PKR 244,999</td>\n",
              "      <td>INR 89,999</td>\n",
              "      <td>CNY 6,499</td>\n",
              "      <td>USD 899</td>\n",
              "      <td>AED 3,199</td>\n",
              "      <td>2024</td>\n",
              "    </tr>\n",
              "    <tr>\n",
              "      <th>3</th>\n",
              "      <td>Apple</td>\n",
              "      <td>iPhone 16 Plus 128GB</td>\n",
              "      <td>203g</td>\n",
              "      <td>6GB</td>\n",
              "      <td>12MP</td>\n",
              "      <td>48MP</td>\n",
              "      <td>A17 Bionic</td>\n",
              "      <td>4,200mAh</td>\n",
              "      <td>6.7 inches</td>\n",
              "      <td>PKR 249,999</td>\n",
              "      <td>INR 89,999</td>\n",
              "      <td>CNY 6,199</td>\n",
              "      <td>USD 899</td>\n",
              "      <td>AED 3,199</td>\n",
              "      <td>2024</td>\n",
              "    </tr>\n",
              "    <tr>\n",
              "      <th>4</th>\n",
              "      <td>Apple</td>\n",
              "      <td>iPhone 16 Plus 256GB</td>\n",
              "      <td>203g</td>\n",
              "      <td>6GB</td>\n",
              "      <td>12MP</td>\n",
              "      <td>48MP</td>\n",
              "      <td>A17 Bionic</td>\n",
              "      <td>4,200mAh</td>\n",
              "      <td>6.7 inches</td>\n",
              "      <td>PKR 259,999</td>\n",
              "      <td>INR 94,999</td>\n",
              "      <td>CNY 6,499</td>\n",
              "      <td>USD 949</td>\n",
              "      <td>AED 3,399</td>\n",
              "      <td>2024</td>\n",
              "    </tr>\n",
              "  </tbody>\n",
              "</table>\n",
              "</div>"
            ],
            "text/plain": [
              "  Company Name            Model Name Mobile Weight (gram) RAM (GB)  \\\n",
              "0        Apple       iPhone 16 128GB                 174g      6GB   \n",
              "1        Apple       iPhone 16 256GB                 174g      6GB   \n",
              "2        Apple       iPhone 16 512GB                 174g      6GB   \n",
              "3        Apple  iPhone 16 Plus 128GB                 203g      6GB   \n",
              "4        Apple  iPhone 16 Plus 256GB                 203g      6GB   \n",
              "\n",
              "  Front Camera (MP) Back Camera (MP)   Processor Battery Capacity (mAh)  \\\n",
              "0              12MP             48MP  A17 Bionic               3,600mAh   \n",
              "1              12MP             48MP  A17 Bionic               3,600mAh   \n",
              "2              12MP             48MP  A17 Bionic               3,600mAh   \n",
              "3              12MP             48MP  A17 Bionic               4,200mAh   \n",
              "4              12MP             48MP  A17 Bionic               4,200mAh   \n",
              "\n",
              "  Screen Size (inch) Launched Price (Pakistan USD) Launched Price (India USD)  \\\n",
              "0         6.1 inches                   PKR 224,999                 INR 79,999   \n",
              "1         6.1 inches                   PKR 234,999                 INR 84,999   \n",
              "2         6.1 inches                   PKR 244,999                 INR 89,999   \n",
              "3         6.7 inches                   PKR 249,999                 INR 89,999   \n",
              "4         6.7 inches                   PKR 259,999                 INR 94,999   \n",
              "\n",
              "  Launched Price (China USD) Launched Price (USA USD)  \\\n",
              "0                  CNY 5,799                  USD 799   \n",
              "1                  CNY 6,099                  USD 849   \n",
              "2                  CNY 6,499                  USD 899   \n",
              "3                  CNY 6,199                  USD 899   \n",
              "4                  CNY 6,499                  USD 949   \n",
              "\n",
              "  Launched Price (Dubai USD)  Launched Year  \n",
              "0                  AED 2,799           2024  \n",
              "1                  AED 2,999           2024  \n",
              "2                  AED 3,199           2024  \n",
              "3                  AED 3,199           2024  \n",
              "4                  AED 3,399           2024  "
            ]
          },
          "execution_count": 12,
          "metadata": {},
          "output_type": "execute_result"
        }
      ],
      "source": [
        "df.head()"
      ]
    },
    {
      "cell_type": "code",
      "execution_count": 13,
      "metadata": {},
      "outputs": [],
      "source": [
        "df['Mobile Weight (gram)'] = df['Mobile Weight (gram)'].apply(lambda x: x.replace('g',''))"
      ]
    },
    {
      "cell_type": "code",
      "execution_count": 14,
      "metadata": {},
      "outputs": [
        {
          "data": {
            "application/vnd.microsoft.datawrangler.viewer.v0+json": {
              "columns": [
                {
                  "name": "Mobile Weight (gram)",
                  "rawType": "object",
                  "type": "string"
                },
                {
                  "name": "count",
                  "rawType": "int64",
                  "type": "integer"
                }
              ],
              "ref": "9c622fa0-adf9-49b2-907f-201063b67414",
              "rows": [
                [
                  "190",
                  "68"
                ],
                [
                  "195",
                  "54"
                ],
                [
                  "185",
                  "29"
                ],
                [
                  "192",
                  "26"
                ],
                [
                  "198",
                  "22"
                ],
                [
                  "206",
                  "21"
                ],
                [
                  "188",
                  "21"
                ],
                [
                  "191",
                  "20"
                ],
                [
                  "186",
                  "20"
                ],
                [
                  "205",
                  "20"
                ],
                [
                  "189",
                  "20"
                ],
                [
                  "180",
                  "19"
                ],
                [
                  "210",
                  "18"
                ],
                [
                  "199",
                  "18"
                ],
                [
                  "203",
                  "17"
                ],
                [
                  "196",
                  "16"
                ],
                [
                  "184",
                  "16"
                ],
                [
                  "168",
                  "15"
                ],
                [
                  "202",
                  "15"
                ],
                [
                  "179",
                  "14"
                ],
                [
                  "173",
                  "13"
                ],
                [
                  "221",
                  "13"
                ],
                [
                  "182",
                  "12"
                ],
                [
                  "175",
                  "12"
                ],
                [
                  "174",
                  "12"
                ],
                [
                  "209",
                  "12"
                ],
                [
                  "187",
                  "11"
                ],
                [
                  "200",
                  "11"
                ],
                [
                  "193",
                  "11"
                ],
                [
                  "172",
                  "11"
                ],
                [
                  "181",
                  "10"
                ],
                [
                  "228",
                  "9"
                ],
                [
                  "194",
                  "9"
                ],
                [
                  "183",
                  "8"
                ],
                [
                  "177",
                  "8"
                ],
                [
                  "204",
                  "8"
                ],
                [
                  "170",
                  "7"
                ],
                [
                  "171",
                  "6"
                ],
                [
                  "220",
                  "6"
                ],
                [
                  "460",
                  "6"
                ],
                [
                  "164",
                  "6"
                ],
                [
                  "234",
                  "5"
                ],
                [
                  "208",
                  "5"
                ],
                [
                  "207",
                  "5"
                ],
                [
                  "239",
                  "5"
                ],
                [
                  "708",
                  "5"
                ],
                [
                  "218",
                  "4"
                ],
                [
                  "223",
                  "4"
                ],
                [
                  "226",
                  "4"
                ],
                [
                  "238",
                  "4"
                ]
              ],
              "shape": {
                "columns": 1,
                "rows": 148
              }
            },
            "text/plain": [
              "Mobile Weight (gram)\n",
              "190      68\n",
              "195      54\n",
              "185      29\n",
              "192      26\n",
              "198      22\n",
              "         ..\n",
              "288       1\n",
              "495       1\n",
              "505       1\n",
              "475       1\n",
              "178.8     1\n",
              "Name: count, Length: 148, dtype: int64"
            ]
          },
          "execution_count": 14,
          "metadata": {},
          "output_type": "execute_result"
        }
      ],
      "source": [
        "df['Mobile Weight (gram)'].value_counts()"
      ]
    },
    {
      "cell_type": "code",
      "execution_count": 15,
      "metadata": {},
      "outputs": [],
      "source": [
        "df['Mobile Weight (gram)'] = pd.to_numeric(df['Mobile Weight (gram)'], errors='coerce')"
      ]
    },
    {
      "cell_type": "code",
      "execution_count": 16,
      "metadata": {},
      "outputs": [
        {
          "data": {
            "application/vnd.microsoft.datawrangler.viewer.v0+json": {
              "columns": [
                {
                  "name": "Mobile Weight (gram)",
                  "rawType": "float64",
                  "type": "float"
                },
                {
                  "name": "count",
                  "rawType": "int64",
                  "type": "integer"
                }
              ],
              "ref": "c50d2278-3237-4c2f-ba08-50ffbba64a94",
              "rows": [
                [
                  "190.0",
                  "68"
                ],
                [
                  "195.0",
                  "54"
                ],
                [
                  "185.0",
                  "29"
                ],
                [
                  "192.0",
                  "26"
                ],
                [
                  "198.0",
                  "22"
                ],
                [
                  "206.0",
                  "21"
                ],
                [
                  "188.0",
                  "21"
                ],
                [
                  "191.0",
                  "20"
                ],
                [
                  "186.0",
                  "20"
                ],
                [
                  "205.0",
                  "20"
                ],
                [
                  "189.0",
                  "20"
                ],
                [
                  "180.0",
                  "19"
                ],
                [
                  "210.0",
                  "18"
                ],
                [
                  "199.0",
                  "18"
                ],
                [
                  "203.0",
                  "17"
                ],
                [
                  "196.0",
                  "16"
                ],
                [
                  "184.0",
                  "16"
                ],
                [
                  "168.0",
                  "15"
                ],
                [
                  "202.0",
                  "15"
                ],
                [
                  "179.0",
                  "14"
                ],
                [
                  "173.0",
                  "13"
                ],
                [
                  "221.0",
                  "13"
                ],
                [
                  "182.0",
                  "12"
                ],
                [
                  "175.0",
                  "12"
                ],
                [
                  "174.0",
                  "12"
                ],
                [
                  "209.0",
                  "12"
                ],
                [
                  "187.0",
                  "11"
                ],
                [
                  "200.0",
                  "11"
                ],
                [
                  "193.0",
                  "11"
                ],
                [
                  "172.0",
                  "11"
                ],
                [
                  "181.0",
                  "10"
                ],
                [
                  "228.0",
                  "9"
                ],
                [
                  "194.0",
                  "9"
                ],
                [
                  "183.0",
                  "8"
                ],
                [
                  "177.0",
                  "8"
                ],
                [
                  "204.0",
                  "8"
                ],
                [
                  "170.0",
                  "7"
                ],
                [
                  "171.0",
                  "6"
                ],
                [
                  "220.0",
                  "6"
                ],
                [
                  "460.0",
                  "6"
                ],
                [
                  "164.0",
                  "6"
                ],
                [
                  "234.0",
                  "5"
                ],
                [
                  "208.0",
                  "5"
                ],
                [
                  "207.0",
                  "5"
                ],
                [
                  "239.0",
                  "5"
                ],
                [
                  "708.0",
                  "5"
                ],
                [
                  "218.0",
                  "4"
                ],
                [
                  "223.0",
                  "4"
                ],
                [
                  "226.0",
                  "4"
                ],
                [
                  "238.0",
                  "4"
                ]
              ],
              "shape": {
                "columns": 1,
                "rows": 148
              }
            },
            "text/plain": [
              "Mobile Weight (gram)\n",
              "190.0    68\n",
              "195.0    54\n",
              "185.0    29\n",
              "192.0    26\n",
              "198.0    22\n",
              "         ..\n",
              "288.0     1\n",
              "495.0     1\n",
              "505.0     1\n",
              "475.0     1\n",
              "178.8     1\n",
              "Name: count, Length: 148, dtype: int64"
            ]
          },
          "execution_count": 16,
          "metadata": {},
          "output_type": "execute_result"
        }
      ],
      "source": [
        "df['Mobile Weight (gram)'].value_counts()"
      ]
    },
    {
      "cell_type": "code",
      "execution_count": 17,
      "metadata": {},
      "outputs": [],
      "source": [
        "df['RAM (GB)'] = df['RAM (GB)'].apply(lambda x:x.replace('GB',''))"
      ]
    },
    {
      "cell_type": "code",
      "execution_count": 18,
      "metadata": {},
      "outputs": [],
      "source": [
        "df['RAM (GB)'] = pd.to_numeric(df['RAM (GB)'], errors='coerce')"
      ]
    },
    {
      "cell_type": "code",
      "execution_count": 19,
      "metadata": {},
      "outputs": [
        {
          "data": {
            "application/vnd.microsoft.datawrangler.viewer.v0+json": {
              "columns": [
                {
                  "name": "RAM (GB)",
                  "rawType": "float64",
                  "type": "float"
                },
                {
                  "name": "count",
                  "rawType": "int64",
                  "type": "integer"
                }
              ],
              "ref": "cdeefcf3-5ed9-44e9-9711-052df07d7b8f",
              "rows": [
                [
                  "8.0",
                  "292"
                ],
                [
                  "6.0",
                  "200"
                ],
                [
                  "12.0",
                  "189"
                ],
                [
                  "4.0",
                  "144"
                ],
                [
                  "3.0",
                  "32"
                ],
                [
                  "16.0",
                  "31"
                ],
                [
                  "2.0",
                  "6"
                ],
                [
                  "1.5",
                  "2"
                ],
                [
                  "10.0",
                  "1"
                ],
                [
                  "1.0",
                  "1"
                ]
              ],
              "shape": {
                "columns": 1,
                "rows": 10
              }
            },
            "text/plain": [
              "RAM (GB)\n",
              "8.0     292\n",
              "6.0     200\n",
              "12.0    189\n",
              "4.0     144\n",
              "3.0      32\n",
              "16.0     31\n",
              "2.0       6\n",
              "1.5       2\n",
              "10.0      1\n",
              "1.0       1\n",
              "Name: count, dtype: int64"
            ]
          },
          "execution_count": 19,
          "metadata": {},
          "output_type": "execute_result"
        }
      ],
      "source": [
        "df['RAM (GB)'].value_counts()"
      ]
    },
    {
      "cell_type": "code",
      "execution_count": 20,
      "metadata": {},
      "outputs": [
        {
          "data": {
            "application/vnd.microsoft.datawrangler.viewer.v0+json": {
              "columns": [
                {
                  "name": "Battery Capacity (mAh)",
                  "rawType": "object",
                  "type": "string"
                },
                {
                  "name": "count",
                  "rawType": "int64",
                  "type": "integer"
                }
              ],
              "ref": "e0e4712b-27ab-443e-9d15-7dea43140e56",
              "rows": [
                [
                  "5,000mAh",
                  "179"
                ],
                [
                  "5000mAh",
                  "94"
                ],
                [
                  "4,500mAh",
                  "42"
                ],
                [
                  "4500mAh",
                  "38"
                ],
                [
                  "5,200mAh",
                  "35"
                ],
                [
                  "4,000mAh",
                  "24"
                ],
                [
                  "6000mAh",
                  "20"
                ],
                [
                  "5,500mAh",
                  "19"
                ],
                [
                  "5,100mAh",
                  "19"
                ],
                [
                  "4,300mAh",
                  "16"
                ],
                [
                  "6,000mAh",
                  "15"
                ],
                [
                  "4,600mAh",
                  "14"
                ],
                [
                  "4000mAh",
                  "12"
                ],
                [
                  "4300mAh",
                  "10"
                ],
                [
                  "8040mAh",
                  "9"
                ],
                [
                  "4,800mAh",
                  "9"
                ],
                [
                  "4800mAh",
                  "8"
                ],
                [
                  "4,400mAh",
                  "8"
                ],
                [
                  "4,200mAh",
                  "8"
                ],
                [
                  "5,050mAh",
                  "8"
                ],
                [
                  "3700mAh",
                  "8"
                ],
                [
                  "5100mAh",
                  "7"
                ],
                [
                  "4700mAh",
                  "7"
                ],
                [
                  "4400mAh",
                  "7"
                ],
                [
                  "4,700mAh",
                  "7"
                ],
                [
                  "4200mAh",
                  "6"
                ],
                [
                  "4600mAh",
                  "6"
                ],
                [
                  "7,100mAh",
                  "6"
                ],
                [
                  "2,815mAh",
                  "6"
                ],
                [
                  "3,200mAh",
                  "6"
                ],
                [
                  "9510mAh",
                  "6"
                ],
                [
                  "10,307mAh",
                  "5"
                ],
                [
                  "7,250mAh",
                  "5"
                ],
                [
                  "3300mAh",
                  "5"
                ],
                [
                  "3000mAh",
                  "4"
                ],
                [
                  "4,025mAh",
                  "4"
                ],
                [
                  "5160mAh",
                  "4"
                ],
                [
                  "3,500mAh",
                  "4"
                ],
                [
                  "4,020mAh",
                  "4"
                ],
                [
                  "5,800mAh",
                  "4"
                ],
                [
                  "3,110mAh",
                  "3"
                ],
                [
                  "3,969mAh",
                  "3"
                ],
                [
                  "3,046mAh",
                  "3"
                ],
                [
                  "4,325mAh",
                  "3"
                ],
                [
                  "3,095mAh",
                  "3"
                ],
                [
                  "3,240mAh",
                  "3"
                ],
                [
                  "2,438mAh",
                  "3"
                ],
                [
                  "3,600mAh",
                  "3"
                ],
                [
                  "3,687mAh",
                  "3"
                ],
                [
                  "2,227mAh",
                  "3"
                ]
              ],
              "shape": {
                "columns": 1,
                "rows": 147
              }
            },
            "text/plain": [
              "Battery Capacity (mAh)\n",
              "5,000mAh    179\n",
              "5000mAh      94\n",
              "4,500mAh     42\n",
              "4500mAh      38\n",
              "5,200mAh     35\n",
              "           ... \n",
              "7,500mAh      1\n",
              "8,300mAh      1\n",
              "8,850mAh      1\n",
              "5065mAh       1\n",
              "5110mAh       1\n",
              "Name: count, Length: 147, dtype: int64"
            ]
          },
          "execution_count": 20,
          "metadata": {},
          "output_type": "execute_result"
        }
      ],
      "source": [
        "df['Battery Capacity (mAh)'].value_counts()"
      ]
    },
    {
      "cell_type": "code",
      "execution_count": 21,
      "metadata": {},
      "outputs": [],
      "source": [
        "df['Battery Capacity (mAh)'] = df['Battery Capacity (mAh)'].apply(lambda x:x.replace('mAh',''))"
      ]
    },
    {
      "cell_type": "code",
      "execution_count": 25,
      "metadata": {},
      "outputs": [
        {
          "data": {
            "text/plain": [
              "'10,000'"
            ]
          },
          "execution_count": 25,
          "metadata": {},
          "output_type": "execute_result"
        }
      ],
      "source": [
        "df.loc[925, 'Battery Capacity (mAh)']"
      ]
    },
    {
      "cell_type": "code",
      "execution_count": 27,
      "metadata": {},
      "outputs": [
        {
          "data": {
            "application/vnd.microsoft.datawrangler.viewer.v0+json": {
              "columns": [
                {
                  "name": "index",
                  "rawType": "int64",
                  "type": "integer"
                },
                {
                  "name": "Company Name",
                  "rawType": "object",
                  "type": "string"
                },
                {
                  "name": "Model Name",
                  "rawType": "object",
                  "type": "string"
                },
                {
                  "name": "Mobile Weight (gram)",
                  "rawType": "float64",
                  "type": "float"
                },
                {
                  "name": "RAM (GB)",
                  "rawType": "float64",
                  "type": "float"
                },
                {
                  "name": "Front Camera (MP)",
                  "rawType": "object",
                  "type": "string"
                },
                {
                  "name": "Back Camera (MP)",
                  "rawType": "object",
                  "type": "string"
                },
                {
                  "name": "Processor",
                  "rawType": "object",
                  "type": "string"
                },
                {
                  "name": "Battery Capacity (mAh)",
                  "rawType": "object",
                  "type": "string"
                },
                {
                  "name": "Screen Size (inch)",
                  "rawType": "object",
                  "type": "string"
                },
                {
                  "name": "Launched Price (Pakistan USD)",
                  "rawType": "object",
                  "type": "string"
                },
                {
                  "name": "Launched Price (India USD)",
                  "rawType": "object",
                  "type": "string"
                },
                {
                  "name": "Launched Price (China USD)",
                  "rawType": "object",
                  "type": "string"
                },
                {
                  "name": "Launched Price (USA USD)",
                  "rawType": "object",
                  "type": "string"
                },
                {
                  "name": "Launched Price (Dubai USD)",
                  "rawType": "object",
                  "type": "string"
                },
                {
                  "name": "Launched Year",
                  "rawType": "int64",
                  "type": "integer"
                }
              ],
              "ref": "b5f02209-cf6d-4a5f-bb46-9930458571a4",
              "rows": [],
              "shape": {
                "columns": 15,
                "rows": 0
              }
            },
            "text/html": [
              "<div>\n",
              "<style scoped>\n",
              "    .dataframe tbody tr th:only-of-type {\n",
              "        vertical-align: middle;\n",
              "    }\n",
              "\n",
              "    .dataframe tbody tr th {\n",
              "        vertical-align: top;\n",
              "    }\n",
              "\n",
              "    .dataframe thead th {\n",
              "        text-align: right;\n",
              "    }\n",
              "</style>\n",
              "<table border=\"1\" class=\"dataframe\">\n",
              "  <thead>\n",
              "    <tr style=\"text-align: right;\">\n",
              "      <th></th>\n",
              "      <th>Company Name</th>\n",
              "      <th>Model Name</th>\n",
              "      <th>Mobile Weight (gram)</th>\n",
              "      <th>RAM (GB)</th>\n",
              "      <th>Front Camera (MP)</th>\n",
              "      <th>Back Camera (MP)</th>\n",
              "      <th>Processor</th>\n",
              "      <th>Battery Capacity (mAh)</th>\n",
              "      <th>Screen Size (inch)</th>\n",
              "      <th>Launched Price (Pakistan USD)</th>\n",
              "      <th>Launched Price (India USD)</th>\n",
              "      <th>Launched Price (China USD)</th>\n",
              "      <th>Launched Price (USA USD)</th>\n",
              "      <th>Launched Price (Dubai USD)</th>\n",
              "      <th>Launched Year</th>\n",
              "    </tr>\n",
              "  </thead>\n",
              "  <tbody>\n",
              "  </tbody>\n",
              "</table>\n",
              "</div>"
            ],
            "text/plain": [
              "Empty DataFrame\n",
              "Columns: [Company Name, Model Name, Mobile Weight (gram), RAM (GB), Front Camera (MP), Back Camera (MP), Processor, Battery Capacity (mAh), Screen Size (inch), Launched Price (Pakistan USD), Launched Price (India USD), Launched Price (China USD), Launched Price (USA USD), Launched Price (Dubai USD), Launched Year]\n",
              "Index: []"
            ]
          },
          "execution_count": 27,
          "metadata": {},
          "output_type": "execute_result"
        }
      ],
      "source": [
        "df[df['Battery Capacity (mAh)'].str.contains(' ')]"
      ]
    },
    {
      "cell_type": "code",
      "execution_count": 23,
      "metadata": {},
      "outputs": [],
      "source": [
        "df['Battery Capacity (mAh)'] = (\n",
        "    df['Battery Capacity (mAh)']\n",
        "    .astype(str)\n",
        "    .str.replace(',','' ,regex=False)\n",
        "    .str.strip()\n",
        ")\n",
        "df['Battery Capacity (mAh)'] = pd.to_numeric(df['Battery Capacity (mAh)'], errors='coerce')"
      ]
    },
    {
      "cell_type": "code",
      "execution_count": 24,
      "metadata": {},
      "outputs": [
        {
          "data": {
            "text/plain": [
              "np.int64(0)"
            ]
          },
          "execution_count": 24,
          "metadata": {},
          "output_type": "execute_result"
        }
      ],
      "source": [
        "df['Battery Capacity (mAh)'].isnull().sum()"
      ]
    },
    {
      "cell_type": "code",
      "execution_count": 25,
      "metadata": {},
      "outputs": [],
      "source": [
        "df['Screen Size (inch)'] = (\n",
        "    df['Screen Size (inch)']\n",
        "    .astype(str)\n",
        "    .str.replace(r'inches.*','',regex=True)\n",
        "    .str.strip()\n",
        ")\n",
        "df['Screen Size (inch)'] = pd.to_numeric(df['Screen Size (inch)'], errors='coerce')"
      ]
    },
    {
      "cell_type": "code",
      "execution_count": 26,
      "metadata": {},
      "outputs": [
        {
          "data": {
            "text/plain": [
              "np.int64(0)"
            ]
          },
          "execution_count": 26,
          "metadata": {},
          "output_type": "execute_result"
        }
      ],
      "source": [
        "df['Screen Size (inch)'].isnull().sum()"
      ]
    },
    {
      "cell_type": "code",
      "execution_count": null,
      "metadata": {},
      "outputs": [],
      "source": []
    },
    {
      "cell_type": "code",
      "execution_count": 28,
      "metadata": {},
      "outputs": [],
      "source": [
        "df['Battery Capacity (mAh)'] = pd.to_numeric(df['Battery Capacity (mAh)'], errors='coerce')"
      ]
    },
    {
      "cell_type": "code",
      "execution_count": 32,
      "metadata": {},
      "outputs": [
        {
          "data": {
            "text/plain": [
              "np.int64(587)"
            ]
          },
          "execution_count": 32,
          "metadata": {},
          "output_type": "execute_result"
        }
      ],
      "source": [
        "df['Battery Capacity (mAh)'].isnull().sum()"
      ]
    },
    {
      "cell_type": "code",
      "execution_count": null,
      "metadata": {},
      "outputs": [],
      "source": []
    },
    {
      "cell_type": "code",
      "execution_count": null,
      "metadata": {},
      "outputs": [],
      "source": []
    },
    {
      "cell_type": "code",
      "execution_count": null,
      "metadata": {},
      "outputs": [],
      "source": []
    },
    {
      "cell_type": "code",
      "execution_count": null,
      "metadata": {},
      "outputs": [],
      "source": []
    },
    {
      "cell_type": "code",
      "execution_count": 12,
      "metadata": {
        "id": "HRuqc6VQwiJl"
      },
      "outputs": [],
      "source": [
        "columns_usd = {'Launched Price (Pakistan)':281,\n",
        "               'Launched Price (India)':87.82,\n",
        "               'Launched Price (China)':7.12,\n",
        "               'Launched Price (USA)':1,\n",
        "               'Launched Price (Dubai)':3.67\n",
        "               }\n",
        "for key,value in columns_usd.items():\n",
        "  df[key] = df[key].astype(float)/value"
      ]
    },
    {
      "cell_type": "code",
      "execution_count": null,
      "metadata": {
        "id": "b5uvsuG1w7vv"
      },
      "outputs": [],
      "source": [
        "\n"
      ]
    },
    {
      "cell_type": "code",
      "execution_count": 14,
      "metadata": {},
      "outputs": [
        {
          "data": {
            "application/vnd.microsoft.datawrangler.viewer.v0+json": {
              "columns": [
                {
                  "name": "Screen Size (inch)",
                  "rawType": "object",
                  "type": "string"
                },
                {
                  "name": "count",
                  "rawType": "int64",
                  "type": "integer"
                }
              ],
              "ref": "1969fe08-8954-4ad2-b6a0-95e2d031c3e7",
              "rows": [
                [
                  "67",
                  "123"
                ],
                [
                  "65",
                  "73"
                ],
                [
                  "667",
                  "69"
                ],
                [
                  "66",
                  "63"
                ],
                [
                  "678",
                  "61"
                ],
                [
                  "61",
                  "51"
                ],
                [
                  "68",
                  "39"
                ],
                [
                  "655",
                  "22"
                ],
                [
                  "644",
                  "20"
                ],
                [
                  "643",
                  "17"
                ],
                [
                  "682",
                  "16"
                ],
                [
                  "652",
                  "15"
                ],
                [
                  "69",
                  "15"
                ],
                [
                  "11",
                  "15"
                ],
                [
                  "681",
                  "14"
                ],
                [
                  "64",
                  "14"
                ],
                [
                  "674",
                  "12"
                ],
                [
                  "672",
                  "12"
                ],
                [
                  "658",
                  "12"
                ],
                [
                  "656",
                  "12"
                ],
                [
                  "63",
                  "11"
                ],
                [
                  "104",
                  "10"
                ],
                [
                  "76",
                  "10"
                ],
                [
                  "121",
                  "9"
                ],
                [
                  "58",
                  "9"
                ],
                [
                  "639",
                  "7"
                ],
                [
                  "55",
                  "7"
                ],
                [
                  "101",
                  "7"
                ],
                [
                  "653",
                  "7"
                ],
                [
                  "54",
                  "6"
                ],
                [
                  "673",
                  "6"
                ],
                [
                  "60",
                  "6"
                ],
                [
                  "659",
                  "6"
                ],
                [
                  "657",
                  "5"
                ],
                [
                  "13",
                  "5"
                ],
                [
                  "97",
                  "5"
                ],
                [
                  "628",
                  "5"
                ],
                [
                  "792",
                  "4"
                ],
                [
                  "109",
                  "4"
                ],
                [
                  "79",
                  "4"
                ],
                [
                  "129",
                  "4"
                ],
                [
                  "87",
                  "4"
                ],
                [
                  "651",
                  "4"
                ],
                [
                  "649",
                  "4"
                ],
                [
                  "636",
                  "4"
                ],
                [
                  "8",
                  "3"
                ],
                [
                  "676",
                  "3"
                ],
                [
                  "115",
                  "3"
                ],
                [
                  "116",
                  "3"
                ],
                [
                  "622",
                  "3"
                ]
              ],
              "shape": {
                "columns": 1,
                "rows": 94
              }
            },
            "text/plain": [
              "Screen Size (inch)\n",
              "67     123\n",
              "65      73\n",
              "667     69\n",
              "66      63\n",
              "678     61\n",
              "      ... \n",
              "671      1\n",
              "663      1\n",
              "120      1\n",
              "135      1\n",
              "679      1\n",
              "Name: count, Length: 94, dtype: int64"
            ]
          },
          "execution_count": 14,
          "metadata": {},
          "output_type": "execute_result"
        }
      ],
      "source": [
        "df['Screen Size (inch)'].value_counts()"
      ]
    },
    {
      "cell_type": "code",
      "execution_count": null,
      "metadata": {
        "id": "zhPHQOKH09Xl"
      },
      "outputs": [],
      "source": [
        "df['Screen Size (inch)'] = df['Screen Size (inch)'] /10"
      ]
    },
    {
      "cell_type": "code",
      "execution_count": null,
      "metadata": {
        "id": "857bLLrv1alO"
      },
      "outputs": [],
      "source": [
        "columns = ['Launched Price (Pakistan USD)', 'Launched Price (India USD)',\n",
        "       'Launched Price (China USD)', 'Launched Price (USA USD)',\n",
        "       'Launched Price (Dubai USD)']\n",
        "for col in columns:\n",
        "  df[col] = df[col].fillna(0).astype('int64')"
      ]
    },
    {
      "cell_type": "code",
      "execution_count": 79,
      "metadata": {
        "colab": {
          "base_uri": "https://localhost:8080/",
          "height": 363
        },
        "id": "ssQmUn0uuWBg",
        "outputId": "974faf15-7fe2-4a68-b5ee-8529fcfd9749"
      },
      "outputs": [
        {
          "data": {
            "application/vnd.microsoft.datawrangler.viewer.v0+json": {
              "columns": [
                {
                  "name": "index",
                  "rawType": "int64",
                  "type": "integer"
                },
                {
                  "name": "Company Name",
                  "rawType": "object",
                  "type": "string"
                },
                {
                  "name": "Model Name",
                  "rawType": "object",
                  "type": "string"
                },
                {
                  "name": "Mobile Weight (gram)",
                  "rawType": "Int64",
                  "type": "integer"
                },
                {
                  "name": "RAM (GB)",
                  "rawType": "Int64",
                  "type": "integer"
                },
                {
                  "name": "Front Camera (MP)",
                  "rawType": "Int64",
                  "type": "integer"
                },
                {
                  "name": "Back Camera (MP)",
                  "rawType": "Int64",
                  "type": "integer"
                },
                {
                  "name": "Processor",
                  "rawType": "object",
                  "type": "string"
                },
                {
                  "name": "Battery Capacity (mAh)",
                  "rawType": "Int64",
                  "type": "integer"
                },
                {
                  "name": "Screen Size (inch)",
                  "rawType": "Float64",
                  "type": "float"
                },
                {
                  "name": "Launched Price (Pakistan USD)",
                  "rawType": "int64",
                  "type": "integer"
                },
                {
                  "name": "Launched Price (India USD)",
                  "rawType": "int64",
                  "type": "integer"
                },
                {
                  "name": "Launched Price (China USD)",
                  "rawType": "int64",
                  "type": "integer"
                },
                {
                  "name": "Launched Price (USA USD)",
                  "rawType": "int64",
                  "type": "integer"
                },
                {
                  "name": "Launched Price (Dubai USD)",
                  "rawType": "int64",
                  "type": "integer"
                },
                {
                  "name": "Launched Year",
                  "rawType": "Int64",
                  "type": "integer"
                }
              ],
              "ref": "098956f2-e60a-4172-9696-4c646e21b459",
              "rows": [
                [
                  "0",
                  "Apple",
                  "iPhone 16 128GB",
                  "174",
                  "6",
                  "12",
                  "48",
                  "A17 Bionic",
                  "3600",
                  "6.1",
                  "800",
                  "910",
                  "814",
                  "799",
                  "762",
                  "2024"
                ],
                [
                  "1",
                  "Apple",
                  "iPhone 16 256GB",
                  "174",
                  "6",
                  "12",
                  "48",
                  "A17 Bionic",
                  "3600",
                  "6.1",
                  "836",
                  "967",
                  "856",
                  "849",
                  "817",
                  "2024"
                ],
                [
                  "2",
                  "Apple",
                  "iPhone 16 512GB",
                  "174",
                  "6",
                  "12",
                  "48",
                  "A17 Bionic",
                  "3600",
                  "6.1",
                  "871",
                  "1024",
                  "912",
                  "899",
                  "871",
                  "2024"
                ],
                [
                  "3",
                  "Apple",
                  "iPhone 16 Plus 128GB",
                  "203",
                  "6",
                  "12",
                  "48",
                  "A17 Bionic",
                  "4200",
                  "6.7",
                  "889",
                  "1024",
                  "870",
                  "899",
                  "871",
                  "2024"
                ],
                [
                  "4",
                  "Apple",
                  "iPhone 16 Plus 256GB",
                  "203",
                  "6",
                  "12",
                  "48",
                  "A17 Bionic",
                  "4200",
                  "6.7",
                  "925",
                  "1081",
                  "912",
                  "949",
                  "926",
                  "2024"
                ]
              ],
              "shape": {
                "columns": 15,
                "rows": 5
              }
            },
            "text/html": [
              "<div>\n",
              "<style scoped>\n",
              "    .dataframe tbody tr th:only-of-type {\n",
              "        vertical-align: middle;\n",
              "    }\n",
              "\n",
              "    .dataframe tbody tr th {\n",
              "        vertical-align: top;\n",
              "    }\n",
              "\n",
              "    .dataframe thead th {\n",
              "        text-align: right;\n",
              "    }\n",
              "</style>\n",
              "<table border=\"1\" class=\"dataframe\">\n",
              "  <thead>\n",
              "    <tr style=\"text-align: right;\">\n",
              "      <th></th>\n",
              "      <th>Company Name</th>\n",
              "      <th>Model Name</th>\n",
              "      <th>Mobile Weight (gram)</th>\n",
              "      <th>RAM (GB)</th>\n",
              "      <th>Front Camera (MP)</th>\n",
              "      <th>Back Camera (MP)</th>\n",
              "      <th>Processor</th>\n",
              "      <th>Battery Capacity (mAh)</th>\n",
              "      <th>Screen Size (inch)</th>\n",
              "      <th>Launched Price (Pakistan USD)</th>\n",
              "      <th>Launched Price (India USD)</th>\n",
              "      <th>Launched Price (China USD)</th>\n",
              "      <th>Launched Price (USA USD)</th>\n",
              "      <th>Launched Price (Dubai USD)</th>\n",
              "      <th>Launched Year</th>\n",
              "    </tr>\n",
              "  </thead>\n",
              "  <tbody>\n",
              "    <tr>\n",
              "      <th>0</th>\n",
              "      <td>Apple</td>\n",
              "      <td>iPhone 16 128GB</td>\n",
              "      <td>174</td>\n",
              "      <td>6</td>\n",
              "      <td>12</td>\n",
              "      <td>48</td>\n",
              "      <td>A17 Bionic</td>\n",
              "      <td>3600</td>\n",
              "      <td>6.1</td>\n",
              "      <td>800</td>\n",
              "      <td>910</td>\n",
              "      <td>814</td>\n",
              "      <td>799</td>\n",
              "      <td>762</td>\n",
              "      <td>2024</td>\n",
              "    </tr>\n",
              "    <tr>\n",
              "      <th>1</th>\n",
              "      <td>Apple</td>\n",
              "      <td>iPhone 16 256GB</td>\n",
              "      <td>174</td>\n",
              "      <td>6</td>\n",
              "      <td>12</td>\n",
              "      <td>48</td>\n",
              "      <td>A17 Bionic</td>\n",
              "      <td>3600</td>\n",
              "      <td>6.1</td>\n",
              "      <td>836</td>\n",
              "      <td>967</td>\n",
              "      <td>856</td>\n",
              "      <td>849</td>\n",
              "      <td>817</td>\n",
              "      <td>2024</td>\n",
              "    </tr>\n",
              "    <tr>\n",
              "      <th>2</th>\n",
              "      <td>Apple</td>\n",
              "      <td>iPhone 16 512GB</td>\n",
              "      <td>174</td>\n",
              "      <td>6</td>\n",
              "      <td>12</td>\n",
              "      <td>48</td>\n",
              "      <td>A17 Bionic</td>\n",
              "      <td>3600</td>\n",
              "      <td>6.1</td>\n",
              "      <td>871</td>\n",
              "      <td>1024</td>\n",
              "      <td>912</td>\n",
              "      <td>899</td>\n",
              "      <td>871</td>\n",
              "      <td>2024</td>\n",
              "    </tr>\n",
              "    <tr>\n",
              "      <th>3</th>\n",
              "      <td>Apple</td>\n",
              "      <td>iPhone 16 Plus 128GB</td>\n",
              "      <td>203</td>\n",
              "      <td>6</td>\n",
              "      <td>12</td>\n",
              "      <td>48</td>\n",
              "      <td>A17 Bionic</td>\n",
              "      <td>4200</td>\n",
              "      <td>6.7</td>\n",
              "      <td>889</td>\n",
              "      <td>1024</td>\n",
              "      <td>870</td>\n",
              "      <td>899</td>\n",
              "      <td>871</td>\n",
              "      <td>2024</td>\n",
              "    </tr>\n",
              "    <tr>\n",
              "      <th>4</th>\n",
              "      <td>Apple</td>\n",
              "      <td>iPhone 16 Plus 256GB</td>\n",
              "      <td>203</td>\n",
              "      <td>6</td>\n",
              "      <td>12</td>\n",
              "      <td>48</td>\n",
              "      <td>A17 Bionic</td>\n",
              "      <td>4200</td>\n",
              "      <td>6.7</td>\n",
              "      <td>925</td>\n",
              "      <td>1081</td>\n",
              "      <td>912</td>\n",
              "      <td>949</td>\n",
              "      <td>926</td>\n",
              "      <td>2024</td>\n",
              "    </tr>\n",
              "  </tbody>\n",
              "</table>\n",
              "</div>"
            ],
            "text/plain": [
              "  Company Name            Model Name  Mobile Weight (gram)  RAM (GB)  \\\n",
              "0        Apple       iPhone 16 128GB                   174         6   \n",
              "1        Apple       iPhone 16 256GB                   174         6   \n",
              "2        Apple       iPhone 16 512GB                   174         6   \n",
              "3        Apple  iPhone 16 Plus 128GB                   203         6   \n",
              "4        Apple  iPhone 16 Plus 256GB                   203         6   \n",
              "\n",
              "   Front Camera (MP)  Back Camera (MP)   Processor  Battery Capacity (mAh)  \\\n",
              "0                 12                48  A17 Bionic                    3600   \n",
              "1                 12                48  A17 Bionic                    3600   \n",
              "2                 12                48  A17 Bionic                    3600   \n",
              "3                 12                48  A17 Bionic                    4200   \n",
              "4                 12                48  A17 Bionic                    4200   \n",
              "\n",
              "   Screen Size (inch)  Launched Price (Pakistan USD)  \\\n",
              "0                 6.1                            800   \n",
              "1                 6.1                            836   \n",
              "2                 6.1                            871   \n",
              "3                 6.7                            889   \n",
              "4                 6.7                            925   \n",
              "\n",
              "   Launched Price (India USD)  Launched Price (China USD)  \\\n",
              "0                         910                         814   \n",
              "1                         967                         856   \n",
              "2                        1024                         912   \n",
              "3                        1024                         870   \n",
              "4                        1081                         912   \n",
              "\n",
              "   Launched Price (USA USD)  Launched Price (Dubai USD)  Launched Year  \n",
              "0                       799                         762           2024  \n",
              "1                       849                         817           2024  \n",
              "2                       899                         871           2024  \n",
              "3                       899                         871           2024  \n",
              "4                       949                         926           2024  "
            ]
          },
          "execution_count": 79,
          "metadata": {},
          "output_type": "execute_result"
        }
      ],
      "source": [
        "df.head(5)"
      ]
    },
    {
      "cell_type": "code",
      "execution_count": null,
      "metadata": {},
      "outputs": [],
      "source": [
        "df['Country'] = ''"
      ]
    },
    {
      "cell_type": "code",
      "execution_count": 81,
      "metadata": {},
      "outputs": [],
      "source": [
        "df.drop(labels='Country', inplace=True, axis=1)"
      ]
    },
    {
      "cell_type": "code",
      "execution_count": 82,
      "metadata": {},
      "outputs": [
        {
          "data": {
            "application/vnd.microsoft.datawrangler.viewer.v0+json": {
              "columns": [
                {
                  "name": "Company Name",
                  "rawType": "object",
                  "type": "string"
                },
                {
                  "name": "count",
                  "rawType": "int64",
                  "type": "integer"
                }
              ],
              "ref": "a9df4386-385e-4c15-bea2-7decf87c1a26",
              "rows": [
                [
                  "Oppo",
                  "115"
                ],
                [
                  "Apple",
                  "97"
                ],
                [
                  "Honor",
                  "91"
                ],
                [
                  "Samsung",
                  "88"
                ],
                [
                  "Vivo",
                  "86"
                ],
                [
                  "Realme",
                  "69"
                ],
                [
                  "Motorola",
                  "62"
                ],
                [
                  "Infinix",
                  "55"
                ],
                [
                  "OnePlus",
                  "53"
                ],
                [
                  "Huawei",
                  "42"
                ],
                [
                  "Tecno",
                  "39"
                ],
                [
                  "POCO",
                  "30"
                ],
                [
                  "Xiaomi",
                  "27"
                ],
                [
                  "Google",
                  "21"
                ],
                [
                  "Lenovo",
                  "15"
                ],
                [
                  "Nokia",
                  "11"
                ],
                [
                  "Sony",
                  "9"
                ],
                [
                  "iQOO",
                  "3"
                ],
                [
                  "Poco",
                  "2"
                ]
              ],
              "shape": {
                "columns": 1,
                "rows": 19
              }
            },
            "text/plain": [
              "Company Name\n",
              "Oppo        115\n",
              "Apple        97\n",
              "Honor        91\n",
              "Samsung      88\n",
              "Vivo         86\n",
              "Realme       69\n",
              "Motorola     62\n",
              "Infinix      55\n",
              "OnePlus      53\n",
              "Huawei       42\n",
              "Tecno        39\n",
              "POCO         30\n",
              "Xiaomi       27\n",
              "Google       21\n",
              "Lenovo       15\n",
              "Nokia        11\n",
              "Sony          9\n",
              "iQOO          3\n",
              "Poco          2\n",
              "Name: count, dtype: int64"
            ]
          },
          "execution_count": 82,
          "metadata": {},
          "output_type": "execute_result"
        }
      ],
      "source": [
        "df['Company Name'].value_counts()"
      ]
    },
    {
      "cell_type": "code",
      "execution_count": 83,
      "metadata": {},
      "outputs": [
        {
          "data": {
            "text/plain": [
              "Index(['Company Name', 'Model Name', 'Mobile Weight (gram)', 'RAM (GB)',\n",
              "       'Front Camera (MP)', 'Back Camera (MP)', 'Processor',\n",
              "       'Battery Capacity (mAh)', 'Screen Size (inch)',\n",
              "       'Launched Price (Pakistan USD)', 'Launched Price (India USD)',\n",
              "       'Launched Price (China USD)', 'Launched Price (USA USD)',\n",
              "       'Launched Price (Dubai USD)', 'Launched Year'],\n",
              "      dtype='object')"
            ]
          },
          "execution_count": 83,
          "metadata": {},
          "output_type": "execute_result"
        }
      ],
      "source": [
        "df.columns"
      ]
    },
    {
      "cell_type": "code",
      "execution_count": 84,
      "metadata": {},
      "outputs": [
        {
          "data": {
            "application/vnd.microsoft.datawrangler.viewer.v0+json": {
              "columns": [
                {
                  "name": "index",
                  "rawType": "int64",
                  "type": "integer"
                },
                {
                  "name": "Company Name",
                  "rawType": "object",
                  "type": "string"
                },
                {
                  "name": "Model Name",
                  "rawType": "object",
                  "type": "string"
                },
                {
                  "name": "Mobile Weight (gram)",
                  "rawType": "Int64",
                  "type": "integer"
                },
                {
                  "name": "RAM (GB)",
                  "rawType": "Int64",
                  "type": "integer"
                },
                {
                  "name": "Front Camera (MP)",
                  "rawType": "Int64",
                  "type": "integer"
                },
                {
                  "name": "Back Camera (MP)",
                  "rawType": "Int64",
                  "type": "integer"
                },
                {
                  "name": "Processor",
                  "rawType": "object",
                  "type": "string"
                },
                {
                  "name": "Battery Capacity (mAh)",
                  "rawType": "Int64",
                  "type": "integer"
                },
                {
                  "name": "Screen Size (inch)",
                  "rawType": "Float64",
                  "type": "float"
                },
                {
                  "name": "Launched Price (Pakistan USD)",
                  "rawType": "int64",
                  "type": "integer"
                },
                {
                  "name": "Launched Price (India USD)",
                  "rawType": "int64",
                  "type": "integer"
                },
                {
                  "name": "Launched Price (China USD)",
                  "rawType": "int64",
                  "type": "integer"
                },
                {
                  "name": "Launched Price (USA USD)",
                  "rawType": "int64",
                  "type": "integer"
                },
                {
                  "name": "Launched Price (Dubai USD)",
                  "rawType": "int64",
                  "type": "integer"
                },
                {
                  "name": "Launched Year",
                  "rawType": "Int64",
                  "type": "integer"
                }
              ],
              "ref": "752bf791-917c-46a8-b7a5-45269b5370ce",
              "rows": [
                [
                  "84",
                  "Apple",
                  "iPad Mini 7.9-inch 64GB",
                  "3005",
                  "3",
                  "7",
                  "8",
                  "A12 Bionic",
                  "5124",
                  "7.9",
                  "249",
                  "454",
                  "491",
                  "399",
                  "408",
                  "2019"
                ],
                [
                  "85",
                  "Apple",
                  "iPad Mini 7.9-inch 256GB",
                  "3005",
                  "3",
                  "7",
                  "8",
                  "A12 Bionic",
                  "5124",
                  "7.9",
                  "284",
                  "568",
                  "533",
                  "499",
                  "490",
                  "2019"
                ],
                [
                  "453",
                  "Realme",
                  "GT 7 Pro 128GB",
                  "2228",
                  "12",
                  "16",
                  "50508",
                  "Qualcomm Snapdragon 8 Elite",
                  "6500",
                  "67.8",
                  "498",
                  "683",
                  "477",
                  "470",
                  "470",
                  "2024"
                ],
                [
                  "454",
                  "Realme",
                  "GT 7 Pro 256GB",
                  "2228",
                  "16",
                  "16",
                  "50508",
                  "Qualcomm Snapdragon 8 Elite",
                  "6500",
                  "67.8",
                  "533",
                  "751",
                  "505",
                  "500",
                  "501",
                  "2024"
                ],
                [
                  "910",
                  "POCO",
                  "M5s 128GB",
                  "1788",
                  "4",
                  "13",
                  "64",
                  "MediaTek Helio G95",
                  "5000",
                  "64.3",
                  "124",
                  "159",
                  "196",
                  "229",
                  "244",
                  "2022"
                ]
              ],
              "shape": {
                "columns": 15,
                "rows": 5
              }
            },
            "text/html": [
              "<div>\n",
              "<style scoped>\n",
              "    .dataframe tbody tr th:only-of-type {\n",
              "        vertical-align: middle;\n",
              "    }\n",
              "\n",
              "    .dataframe tbody tr th {\n",
              "        vertical-align: top;\n",
              "    }\n",
              "\n",
              "    .dataframe thead th {\n",
              "        text-align: right;\n",
              "    }\n",
              "</style>\n",
              "<table border=\"1\" class=\"dataframe\">\n",
              "  <thead>\n",
              "    <tr style=\"text-align: right;\">\n",
              "      <th></th>\n",
              "      <th>Company Name</th>\n",
              "      <th>Model Name</th>\n",
              "      <th>Mobile Weight (gram)</th>\n",
              "      <th>RAM (GB)</th>\n",
              "      <th>Front Camera (MP)</th>\n",
              "      <th>Back Camera (MP)</th>\n",
              "      <th>Processor</th>\n",
              "      <th>Battery Capacity (mAh)</th>\n",
              "      <th>Screen Size (inch)</th>\n",
              "      <th>Launched Price (Pakistan USD)</th>\n",
              "      <th>Launched Price (India USD)</th>\n",
              "      <th>Launched Price (China USD)</th>\n",
              "      <th>Launched Price (USA USD)</th>\n",
              "      <th>Launched Price (Dubai USD)</th>\n",
              "      <th>Launched Year</th>\n",
              "    </tr>\n",
              "  </thead>\n",
              "  <tbody>\n",
              "    <tr>\n",
              "      <th>84</th>\n",
              "      <td>Apple</td>\n",
              "      <td>iPad Mini 7.9-inch 64GB</td>\n",
              "      <td>3005</td>\n",
              "      <td>3</td>\n",
              "      <td>7</td>\n",
              "      <td>8</td>\n",
              "      <td>A12 Bionic</td>\n",
              "      <td>5124</td>\n",
              "      <td>7.9</td>\n",
              "      <td>249</td>\n",
              "      <td>454</td>\n",
              "      <td>491</td>\n",
              "      <td>399</td>\n",
              "      <td>408</td>\n",
              "      <td>2019</td>\n",
              "    </tr>\n",
              "    <tr>\n",
              "      <th>85</th>\n",
              "      <td>Apple</td>\n",
              "      <td>iPad Mini 7.9-inch 256GB</td>\n",
              "      <td>3005</td>\n",
              "      <td>3</td>\n",
              "      <td>7</td>\n",
              "      <td>8</td>\n",
              "      <td>A12 Bionic</td>\n",
              "      <td>5124</td>\n",
              "      <td>7.9</td>\n",
              "      <td>284</td>\n",
              "      <td>568</td>\n",
              "      <td>533</td>\n",
              "      <td>499</td>\n",
              "      <td>490</td>\n",
              "      <td>2019</td>\n",
              "    </tr>\n",
              "    <tr>\n",
              "      <th>453</th>\n",
              "      <td>Realme</td>\n",
              "      <td>GT 7 Pro 128GB</td>\n",
              "      <td>2228</td>\n",
              "      <td>12</td>\n",
              "      <td>16</td>\n",
              "      <td>50508</td>\n",
              "      <td>Qualcomm Snapdragon 8 Elite</td>\n",
              "      <td>6500</td>\n",
              "      <td>67.8</td>\n",
              "      <td>498</td>\n",
              "      <td>683</td>\n",
              "      <td>477</td>\n",
              "      <td>470</td>\n",
              "      <td>470</td>\n",
              "      <td>2024</td>\n",
              "    </tr>\n",
              "    <tr>\n",
              "      <th>454</th>\n",
              "      <td>Realme</td>\n",
              "      <td>GT 7 Pro 256GB</td>\n",
              "      <td>2228</td>\n",
              "      <td>16</td>\n",
              "      <td>16</td>\n",
              "      <td>50508</td>\n",
              "      <td>Qualcomm Snapdragon 8 Elite</td>\n",
              "      <td>6500</td>\n",
              "      <td>67.8</td>\n",
              "      <td>533</td>\n",
              "      <td>751</td>\n",
              "      <td>505</td>\n",
              "      <td>500</td>\n",
              "      <td>501</td>\n",
              "      <td>2024</td>\n",
              "    </tr>\n",
              "    <tr>\n",
              "      <th>910</th>\n",
              "      <td>POCO</td>\n",
              "      <td>M5s 128GB</td>\n",
              "      <td>1788</td>\n",
              "      <td>4</td>\n",
              "      <td>13</td>\n",
              "      <td>64</td>\n",
              "      <td>MediaTek Helio G95</td>\n",
              "      <td>5000</td>\n",
              "      <td>64.3</td>\n",
              "      <td>124</td>\n",
              "      <td>159</td>\n",
              "      <td>196</td>\n",
              "      <td>229</td>\n",
              "      <td>244</td>\n",
              "      <td>2022</td>\n",
              "    </tr>\n",
              "  </tbody>\n",
              "</table>\n",
              "</div>"
            ],
            "text/plain": [
              "    Company Name                Model Name  Mobile Weight (gram)  RAM (GB)  \\\n",
              "84         Apple   iPad Mini 7.9-inch 64GB                  3005         3   \n",
              "85         Apple  iPad Mini 7.9-inch 256GB                  3005         3   \n",
              "453       Realme            GT 7 Pro 128GB                  2228        12   \n",
              "454       Realme            GT 7 Pro 256GB                  2228        16   \n",
              "910         POCO                 M5s 128GB                  1788         4   \n",
              "\n",
              "     Front Camera (MP)  Back Camera (MP)                    Processor  \\\n",
              "84                   7                 8                   A12 Bionic   \n",
              "85                   7                 8                   A12 Bionic   \n",
              "453                 16             50508  Qualcomm Snapdragon 8 Elite   \n",
              "454                 16             50508  Qualcomm Snapdragon 8 Elite   \n",
              "910                 13                64           MediaTek Helio G95   \n",
              "\n",
              "     Battery Capacity (mAh)  Screen Size (inch)  \\\n",
              "84                     5124                 7.9   \n",
              "85                     5124                 7.9   \n",
              "453                    6500                67.8   \n",
              "454                    6500                67.8   \n",
              "910                    5000                64.3   \n",
              "\n",
              "     Launched Price (Pakistan USD)  Launched Price (India USD)  \\\n",
              "84                             249                         454   \n",
              "85                             284                         568   \n",
              "453                            498                         683   \n",
              "454                            533                         751   \n",
              "910                            124                         159   \n",
              "\n",
              "     Launched Price (China USD)  Launched Price (USA USD)  \\\n",
              "84                          491                       399   \n",
              "85                          533                       499   \n",
              "453                         477                       470   \n",
              "454                         505                       500   \n",
              "910                         196                       229   \n",
              "\n",
              "     Launched Price (Dubai USD)  Launched Year  \n",
              "84                          408           2019  \n",
              "85                          490           2019  \n",
              "453                         470           2024  \n",
              "454                         501           2024  \n",
              "910                         244           2022  "
            ]
          },
          "execution_count": 84,
          "metadata": {},
          "output_type": "execute_result"
        }
      ],
      "source": [
        "df[df['Mobile Weight (gram)'] >= 800]"
      ]
    },
    {
      "cell_type": "code",
      "execution_count": 85,
      "metadata": {},
      "outputs": [],
      "source": [
        "# df['Mobile Weight (gram)'] /= 10"
      ]
    },
    {
      "cell_type": "code",
      "execution_count": 102,
      "metadata": {},
      "outputs": [],
      "source": [
        "df['Mobile Weight (gram)'] = df['Mobile Weight (gram)'].astype(float)\n",
        "df.loc[df['Mobile Weight (gram)']>=1000, \"Mobile Weight (gram)\"]/=10"
      ]
    },
    {
      "cell_type": "code",
      "execution_count": 104,
      "metadata": {},
      "outputs": [
        {
          "data": {
            "application/vnd.microsoft.datawrangler.viewer.v0+json": {
              "columns": [
                {
                  "name": "Mobile Weight (gram)",
                  "rawType": "float64",
                  "type": "float"
                },
                {
                  "name": "count",
                  "rawType": "int64",
                  "type": "integer"
                }
              ],
              "ref": "425dc2c3-1eee-492d-9cbe-4b093798655a",
              "rows": [
                [
                  "190.0",
                  "68"
                ],
                [
                  "195.0",
                  "59"
                ],
                [
                  "185.0",
                  "29"
                ],
                [
                  "192.0",
                  "26"
                ],
                [
                  "198.0",
                  "22"
                ],
                [
                  "180.0",
                  "22"
                ],
                [
                  "186.0",
                  "21"
                ],
                [
                  "205.0",
                  "21"
                ],
                [
                  "206.0",
                  "21"
                ],
                [
                  "188.0",
                  "21"
                ],
                [
                  "189.0",
                  "20"
                ],
                [
                  "191.0",
                  "20"
                ],
                [
                  "210.0",
                  "18"
                ],
                [
                  "199.0",
                  "18"
                ],
                [
                  "203.0",
                  "17"
                ],
                [
                  "196.0",
                  "16"
                ],
                [
                  "184.0",
                  "16"
                ],
                [
                  "168.0",
                  "15"
                ],
                [
                  "202.0",
                  "15"
                ],
                [
                  "179.0",
                  "14"
                ],
                [
                  "173.0",
                  "13"
                ],
                [
                  "172.0",
                  "13"
                ],
                [
                  "221.0",
                  "13"
                ],
                [
                  "175.0",
                  "12"
                ],
                [
                  "194.0",
                  "12"
                ],
                [
                  "174.0",
                  "12"
                ],
                [
                  "182.0",
                  "12"
                ],
                [
                  "209.0",
                  "12"
                ],
                [
                  "187.0",
                  "11"
                ],
                [
                  "200.0",
                  "11"
                ],
                [
                  "193.0",
                  "11"
                ],
                [
                  "181.0",
                  "10"
                ],
                [
                  "228.0",
                  "9"
                ],
                [
                  "183.0",
                  "8"
                ],
                [
                  "177.0",
                  "8"
                ],
                [
                  "204.0",
                  "8"
                ],
                [
                  "170.0",
                  "7"
                ],
                [
                  "171.0",
                  "6"
                ],
                [
                  "220.0",
                  "6"
                ],
                [
                  "460.0",
                  "6"
                ],
                [
                  "164.0",
                  "6"
                ],
                [
                  "234.0",
                  "5"
                ],
                [
                  "208.0",
                  "5"
                ],
                [
                  "207.0",
                  "5"
                ],
                [
                  "239.0",
                  "5"
                ],
                [
                  "708.0",
                  "5"
                ],
                [
                  "218.0",
                  "4"
                ],
                [
                  "223.0",
                  "4"
                ],
                [
                  "226.0",
                  "4"
                ],
                [
                  "238.0",
                  "4"
                ]
              ],
              "shape": {
                "columns": 1,
                "rows": 148
              }
            },
            "text/plain": [
              "Mobile Weight (gram)\n",
              "190.0    68\n",
              "195.0    59\n",
              "185.0    29\n",
              "192.0    26\n",
              "198.0    22\n",
              "         ..\n",
              "288.0     1\n",
              "495.0     1\n",
              "505.0     1\n",
              "475.0     1\n",
              "178.8     1\n",
              "Name: count, Length: 148, dtype: int64"
            ]
          },
          "execution_count": 104,
          "metadata": {},
          "output_type": "execute_result"
        }
      ],
      "source": [
        "df['Mobile Weight (gram)'].value_counts()"
      ]
    },
    {
      "cell_type": "code",
      "execution_count": null,
      "metadata": {},
      "outputs": [],
      "source": []
    },
    {
      "cell_type": "code",
      "execution_count": 87,
      "metadata": {
        "colab": {
          "base_uri": "https://localhost:8080/",
          "height": 466
        },
        "id": "n2uiOuRXpgj7",
        "outputId": "acbcb85f-7845-4709-b5de-9bdf4d0347c5"
      },
      "outputs": [
        {
          "data": {
            "text/plain": [
              "<Axes: xlabel='Launched Year', ylabel='Count'>"
            ]
          },
          "execution_count": 87,
          "metadata": {},
          "output_type": "execute_result"
        },
        {
          "data": {
            "image/png": "[encoded data removed]",
            "text/plain": [
              "<Figure size 640x480 with 1 Axes>"
            ]
          },
          "metadata": {},
          "output_type": "display_data"
        }
      ],
      "source": [
        "sns.histplot(df['Launched Year'])"
      ]
    },
    {
      "cell_type": "code",
      "execution_count": 88,
      "metadata": {
        "colab": {
          "base_uri": "https://localhost:8080/",
          "height": 466
        },
        "id": "dt-fhxCOpqMd",
        "outputId": "91c5611a-3121-4678-8a49-240b996c2219"
      },
      "outputs": [
        {
          "data": {
            "text/plain": [
              "<Axes: xlabel='count', ylabel='Company Name'>"
            ]
          },
          "execution_count": 88,
          "metadata": {},
          "output_type": "execute_result"
        },
        {
          "data": {
            "image/png": "[encoded data removed]",
            "text/plain": [
              "<Figure size 640x480 with 1 Axes>"
            ]
          },
          "metadata": {},
          "output_type": "display_data"
        }
      ],
      "source": [
        "sns.countplot(df['Company Name'], order=df['Company Name'].value_counts().index)"
      ]
    },
    {
      "cell_type": "code",
      "execution_count": 89,
      "metadata": {
        "colab": {
          "base_uri": "https://localhost:8080/",
          "height": 466
        },
        "id": "gL8lvVvp2kCh",
        "outputId": "e19839bd-de11-4aa7-dde4-0a1d47caebeb"
      },
      "outputs": [
        {
          "data": {
            "text/plain": [
              "<Axes: xlabel='RAM (GB)', ylabel='Company Name'>"
            ]
          },
          "execution_count": 89,
          "metadata": {},
          "output_type": "execute_result"
        },
        {
          "data": {
            "image/png": "[encoded data removed]",
            "text/plain": [
              "<Figure size 640x480 with 1 Axes>"
            ]
          },
          "metadata": {},
          "output_type": "display_data"
        }
      ],
      "source": [
        "sns.barplot(x='RAM (GB)', y='Company Name', data=df)"
      ]
    },
    {
      "cell_type": "code",
      "execution_count": 90,
      "metadata": {
        "colab": {
          "base_uri": "https://localhost:8080/",
          "height": 1000
        },
        "id": "QXt1xpzm5_vq",
        "outputId": "ffaa7638-7cc9-4991-ea0e-6f2fab2b28d9"
      },
      "outputs": [
        {
          "data": {
            "text/plain": [
              "<Axes: >"
            ]
          },
          "execution_count": 90,
          "metadata": {},
          "output_type": "execute_result"
        },
        {
          "data": {
            "image/png": "[encoded data removed]",
            "text/plain": [
              "<Figure size 1000x1000 with 2 Axes>"
            ]
          },
          "metadata": {},
          "output_type": "display_data"
        }
      ],
      "source": [
        "plt.figure(figsize=(10,10))\n",
        "sns.heatmap(df.corr(numeric_only=True), annot=True)"
      ]
    }
  ],
  "metadata": {
    "colab": {
      "provenance": []
    },
    "kernelspec": {
      "display_name": "mobile-dataset-analysis",
      "language": "python",
      "name": "python3"
    },
    "language_info": {
      "codemirror_mode": {
        "name": "ipython",
        "version": 3
      },
      "file_extension": ".py",
      "mimetype": "text/x-python",
      "name": "python",
      "nbconvert_exporter": "python",
      "pygments_lexer": "ipython3",
      "version": "3.14.0"
    }
  },
  "nbformat": 4,
  "nbformat_minor": 0
}
