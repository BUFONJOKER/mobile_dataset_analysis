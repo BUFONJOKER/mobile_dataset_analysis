{
  "cells": [
    {
      "cell_type": "markdown",
      "metadata": {},
      "source": [
        "<table align=\"center\">\n",
        "  <td>\n",
        "    <a href=\"https://colab.research.google.com/github/BUFONJOKER/mobile_dataset_analysis/blob/master/mobiles_dataset_eda.ipynb\" target=\"_parent\">\n",
        "      <img src=\"https://colab.research.google.com/assets/colab-badge.svg\" alt=\"Open In Colab\"\n",
        "      style=\"height:50px; width:auto;\"/>\n",
        "    </a>\n",
        "  </td>\n",
        "</table>\n"
      ]
    },
    {
      "cell_type": "code",
      "execution_count": 1,
      "metadata": {
        "id": "p9VyPf3cohQV"
      },
      "outputs": [],
      "source": [
        "import pandas as pd\n",
        "import matplotlib.pyplot as plt\n",
        "import seaborn as sns\n",
        "import numpy as np"
      ]
    },
    {
      "cell_type": "code",
      "execution_count": 2,
      "metadata": {
        "id": "MdmDxoCros14"
      },
      "outputs": [],
      "source": [
        "# df = pd.read_csv(\"/content/Mobiles Dataset (2025).csv\", encoding='ISO-8859-1')\n",
        "df_copy = pd.read_csv(\"dataset/Mobiles Dataset (2025).csv\", encoding='ISO-8859-1')\n",
        "df = df_copy.copy()"
      ]
    },
    {
      "cell_type": "code",
      "execution_count": 3,
      "metadata": {
        "colab": {
          "base_uri": "https://localhost:8080/",
          "height": 310
        },
        "id": "TP-it03-o40U",
        "outputId": "0faca2cc-93db-439c-eb41-501a118f07d8"
      },
      "outputs": [
        {
          "data": {
            "application/vnd.microsoft.datawrangler.viewer.v0+json": {
              "columns": [
                {
                  "name": "index",
                  "rawType": "int64",
                  "type": "integer"
                },
                {
                  "name": "Company Name",
                  "rawType": "object",
                  "type": "string"
                },
                {
                  "name": "Model Name",
                  "rawType": "object",
                  "type": "string"
                },
                {
                  "name": "Mobile Weight",
                  "rawType": "object",
                  "type": "string"
                },
                {
                  "name": "RAM",
                  "rawType": "object",
                  "type": "string"
                },
                {
                  "name": "Front Camera",
                  "rawType": "object",
                  "type": "string"
                },
                {
                  "name": "Back Camera",
                  "rawType": "object",
                  "type": "string"
                },
                {
                  "name": "Processor",
                  "rawType": "object",
                  "type": "string"
                },
                {
                  "name": "Battery Capacity",
                  "rawType": "object",
                  "type": "string"
                },
                {
                  "name": "Screen Size",
                  "rawType": "object",
                  "type": "string"
                },
                {
                  "name": "Launched Price (Pakistan)",
                  "rawType": "object",
                  "type": "string"
                },
                {
                  "name": "Launched Price (India)",
                  "rawType": "object",
                  "type": "string"
                },
                {
                  "name": "Launched Price (China)",
                  "rawType": "object",
                  "type": "string"
                },
                {
                  "name": "Launched Price (USA)",
                  "rawType": "object",
                  "type": "string"
                },
                {
                  "name": "Launched Price (Dubai)",
                  "rawType": "object",
                  "type": "string"
                },
                {
                  "name": "Launched Year",
                  "rawType": "int64",
                  "type": "integer"
                }
              ],
              "ref": "d8b01be6-665e-4021-9d06-b3e1aeb9ac98",
              "rows": [
                [
                  "0",
                  "Apple",
                  "iPhone 16 128GB",
                  "174g",
                  "6GB",
                  "12MP",
                  "48MP",
                  "A17 Bionic",
                  "3,600mAh",
                  "6.1 inches",
                  "PKR 224,999",
                  "INR 79,999",
                  "CNY 5,799",
                  "USD 799",
                  "AED 2,799",
                  "2024"
                ],
                [
                  "1",
                  "Apple",
                  "iPhone 16 256GB",
                  "174g",
                  "6GB",
                  "12MP",
                  "48MP",
                  "A17 Bionic",
                  "3,600mAh",
                  "6.1 inches",
                  "PKR 234,999",
                  "INR 84,999",
                  "CNY 6,099",
                  "USD 849",
                  "AED 2,999",
                  "2024"
                ],
                [
                  "2",
                  "Apple",
                  "iPhone 16 512GB",
                  "174g",
                  "6GB",
                  "12MP",
                  "48MP",
                  "A17 Bionic",
                  "3,600mAh",
                  "6.1 inches",
                  "PKR 244,999",
                  "INR 89,999",
                  "CNY 6,499",
                  "USD 899",
                  "AED 3,199",
                  "2024"
                ],
                [
                  "3",
                  "Apple",
                  "iPhone 16 Plus 128GB",
                  "203g",
                  "6GB",
                  "12MP",
                  "48MP",
                  "A17 Bionic",
                  "4,200mAh",
                  "6.7 inches",
                  "PKR 249,999",
                  "INR 89,999",
                  "CNY 6,199",
                  "USD 899",
                  "AED 3,199",
                  "2024"
                ],
                [
                  "4",
                  "Apple",
                  "iPhone 16 Plus 256GB",
                  "203g",
                  "6GB",
                  "12MP",
                  "48MP",
                  "A17 Bionic",
                  "4,200mAh",
                  "6.7 inches",
                  "PKR 259,999",
                  "INR 94,999",
                  "CNY 6,499",
                  "USD 949",
                  "AED 3,399",
                  "2024"
                ]
              ],
              "shape": {
                "columns": 15,
                "rows": 5
              }
            },
            "text/html": [
              "<div>\n",
              "<style scoped>\n",
              "    .dataframe tbody tr th:only-of-type {\n",
              "        vertical-align: middle;\n",
              "    }\n",
              "\n",
              "    .dataframe tbody tr th {\n",
              "        vertical-align: top;\n",
              "    }\n",
              "\n",
              "    .dataframe thead th {\n",
              "        text-align: right;\n",
              "    }\n",
              "</style>\n",
              "<table border=\"1\" class=\"dataframe\">\n",
              "  <thead>\n",
              "    <tr style=\"text-align: right;\">\n",
              "      <th></th>\n",
              "      <th>Company Name</th>\n",
              "      <th>Model Name</th>\n",
              "      <th>Mobile Weight</th>\n",
              "      <th>RAM</th>\n",
              "      <th>Front Camera</th>\n",
              "      <th>Back Camera</th>\n",
              "      <th>Processor</th>\n",
              "      <th>Battery Capacity</th>\n",
              "      <th>Screen Size</th>\n",
              "      <th>Launched Price (Pakistan)</th>\n",
              "      <th>Launched Price (India)</th>\n",
              "      <th>Launched Price (China)</th>\n",
              "      <th>Launched Price (USA)</th>\n",
              "      <th>Launched Price (Dubai)</th>\n",
              "      <th>Launched Year</th>\n",
              "    </tr>\n",
              "  </thead>\n",
              "  <tbody>\n",
              "    <tr>\n",
              "      <th>0</th>\n",
              "      <td>Apple</td>\n",
              "      <td>iPhone 16 128GB</td>\n",
              "      <td>174g</td>\n",
              "      <td>6GB</td>\n",
              "      <td>12MP</td>\n",
              "      <td>48MP</td>\n",
              "      <td>A17 Bionic</td>\n",
              "      <td>3,600mAh</td>\n",
              "      <td>6.1 inches</td>\n",
              "      <td>PKR 224,999</td>\n",
              "      <td>INR 79,999</td>\n",
              "      <td>CNY 5,799</td>\n",
              "      <td>USD 799</td>\n",
              "      <td>AED 2,799</td>\n",
              "      <td>2024</td>\n",
              "    </tr>\n",
              "    <tr>\n",
              "      <th>1</th>\n",
              "      <td>Apple</td>\n",
              "      <td>iPhone 16 256GB</td>\n",
              "      <td>174g</td>\n",
              "      <td>6GB</td>\n",
              "      <td>12MP</td>\n",
              "      <td>48MP</td>\n",
              "      <td>A17 Bionic</td>\n",
              "      <td>3,600mAh</td>\n",
              "      <td>6.1 inches</td>\n",
              "      <td>PKR 234,999</td>\n",
              "      <td>INR 84,999</td>\n",
              "      <td>CNY 6,099</td>\n",
              "      <td>USD 849</td>\n",
              "      <td>AED 2,999</td>\n",
              "      <td>2024</td>\n",
              "    </tr>\n",
              "    <tr>\n",
              "      <th>2</th>\n",
              "      <td>Apple</td>\n",
              "      <td>iPhone 16 512GB</td>\n",
              "      <td>174g</td>\n",
              "      <td>6GB</td>\n",
              "      <td>12MP</td>\n",
              "      <td>48MP</td>\n",
              "      <td>A17 Bionic</td>\n",
              "      <td>3,600mAh</td>\n",
              "      <td>6.1 inches</td>\n",
              "      <td>PKR 244,999</td>\n",
              "      <td>INR 89,999</td>\n",
              "      <td>CNY 6,499</td>\n",
              "      <td>USD 899</td>\n",
              "      <td>AED 3,199</td>\n",
              "      <td>2024</td>\n",
              "    </tr>\n",
              "    <tr>\n",
              "      <th>3</th>\n",
              "      <td>Apple</td>\n",
              "      <td>iPhone 16 Plus 128GB</td>\n",
              "      <td>203g</td>\n",
              "      <td>6GB</td>\n",
              "      <td>12MP</td>\n",
              "      <td>48MP</td>\n",
              "      <td>A17 Bionic</td>\n",
              "      <td>4,200mAh</td>\n",
              "      <td>6.7 inches</td>\n",
              "      <td>PKR 249,999</td>\n",
              "      <td>INR 89,999</td>\n",
              "      <td>CNY 6,199</td>\n",
              "      <td>USD 899</td>\n",
              "      <td>AED 3,199</td>\n",
              "      <td>2024</td>\n",
              "    </tr>\n",
              "    <tr>\n",
              "      <th>4</th>\n",
              "      <td>Apple</td>\n",
              "      <td>iPhone 16 Plus 256GB</td>\n",
              "      <td>203g</td>\n",
              "      <td>6GB</td>\n",
              "      <td>12MP</td>\n",
              "      <td>48MP</td>\n",
              "      <td>A17 Bionic</td>\n",
              "      <td>4,200mAh</td>\n",
              "      <td>6.7 inches</td>\n",
              "      <td>PKR 259,999</td>\n",
              "      <td>INR 94,999</td>\n",
              "      <td>CNY 6,499</td>\n",
              "      <td>USD 949</td>\n",
              "      <td>AED 3,399</td>\n",
              "      <td>2024</td>\n",
              "    </tr>\n",
              "  </tbody>\n",
              "</table>\n",
              "</div>"
            ],
            "text/plain": [
              "  Company Name            Model Name Mobile Weight  RAM Front Camera  \\\n",
              "0        Apple       iPhone 16 128GB          174g  6GB         12MP   \n",
              "1        Apple       iPhone 16 256GB          174g  6GB         12MP   \n",
              "2        Apple       iPhone 16 512GB          174g  6GB         12MP   \n",
              "3        Apple  iPhone 16 Plus 128GB          203g  6GB         12MP   \n",
              "4        Apple  iPhone 16 Plus 256GB          203g  6GB         12MP   \n",
              "\n",
              "  Back Camera   Processor Battery Capacity Screen Size  \\\n",
              "0        48MP  A17 Bionic         3,600mAh  6.1 inches   \n",
              "1        48MP  A17 Bionic         3,600mAh  6.1 inches   \n",
              "2        48MP  A17 Bionic         3,600mAh  6.1 inches   \n",
              "3        48MP  A17 Bionic         4,200mAh  6.7 inches   \n",
              "4        48MP  A17 Bionic         4,200mAh  6.7 inches   \n",
              "\n",
              "  Launched Price (Pakistan) Launched Price (India) Launched Price (China)  \\\n",
              "0               PKR 224,999             INR 79,999              CNY 5,799   \n",
              "1               PKR 234,999             INR 84,999              CNY 6,099   \n",
              "2               PKR 244,999             INR 89,999              CNY 6,499   \n",
              "3               PKR 249,999             INR 89,999              CNY 6,199   \n",
              "4               PKR 259,999             INR 94,999              CNY 6,499   \n",
              "\n",
              "  Launched Price (USA) Launched Price (Dubai)  Launched Year  \n",
              "0              USD 799              AED 2,799           2024  \n",
              "1              USD 849              AED 2,999           2024  \n",
              "2              USD 899              AED 3,199           2024  \n",
              "3              USD 899              AED 3,199           2024  \n",
              "4              USD 949              AED 3,399           2024  "
            ]
          },
          "execution_count": 3,
          "metadata": {},
          "output_type": "execute_result"
        }
      ],
      "source": [
        "df.head()"
      ]
    },
    {
      "cell_type": "code",
      "execution_count": 4,
      "metadata": {
        "colab": {
          "base_uri": "https://localhost:8080/",
          "height": 555
        },
        "id": "90srQPBAszU1",
        "outputId": "d6af9b84-27e2-440b-f6a7-66f4f87694ad"
      },
      "outputs": [
        {
          "data": {
            "application/vnd.microsoft.datawrangler.viewer.v0+json": {
              "columns": [
                {
                  "name": "index",
                  "rawType": "object",
                  "type": "string"
                },
                {
                  "name": "0",
                  "rawType": "object",
                  "type": "unknown"
                }
              ],
              "ref": "0e1c394a-9b61-45eb-8283-88272f5a94ab",
              "rows": [
                [
                  "Company Name",
                  "object"
                ],
                [
                  "Model Name",
                  "object"
                ],
                [
                  "Mobile Weight",
                  "object"
                ],
                [
                  "RAM",
                  "object"
                ],
                [
                  "Front Camera",
                  "object"
                ],
                [
                  "Back Camera",
                  "object"
                ],
                [
                  "Processor",
                  "object"
                ],
                [
                  "Battery Capacity",
                  "object"
                ],
                [
                  "Screen Size",
                  "object"
                ],
                [
                  "Launched Price (Pakistan)",
                  "object"
                ],
                [
                  "Launched Price (India)",
                  "object"
                ],
                [
                  "Launched Price (China)",
                  "object"
                ],
                [
                  "Launched Price (USA)",
                  "object"
                ],
                [
                  "Launched Price (Dubai)",
                  "object"
                ],
                [
                  "Launched Year",
                  "int64"
                ]
              ],
              "shape": {
                "columns": 1,
                "rows": 15
              }
            },
            "text/plain": [
              "Company Name                 object\n",
              "Model Name                   object\n",
              "Mobile Weight                object\n",
              "RAM                          object\n",
              "Front Camera                 object\n",
              "Back Camera                  object\n",
              "Processor                    object\n",
              "Battery Capacity             object\n",
              "Screen Size                  object\n",
              "Launched Price (Pakistan)    object\n",
              "Launched Price (India)       object\n",
              "Launched Price (China)       object\n",
              "Launched Price (USA)         object\n",
              "Launched Price (Dubai)       object\n",
              "Launched Year                 int64\n",
              "dtype: object"
            ]
          },
          "execution_count": 4,
          "metadata": {},
          "output_type": "execute_result"
        }
      ],
      "source": [
        "df.dtypes"
      ]
    },
    {
      "cell_type": "code",
      "execution_count": 5,
      "metadata": {
        "colab": {
          "base_uri": "https://localhost:8080/"
        },
        "id": "paQ1GQnsrTZ7",
        "outputId": "dfe0984f-926b-4f9f-9883-535bd21e2c79"
      },
      "outputs": [
        {
          "data": {
            "text/plain": [
              "Index(['Company Name', 'Model Name', 'Mobile Weight', 'RAM', 'Front Camera',\n",
              "       'Back Camera', 'Processor', 'Battery Capacity', 'Screen Size',\n",
              "       'Launched Price (Pakistan)', 'Launched Price (India)',\n",
              "       'Launched Price (China)', 'Launched Price (USA)',\n",
              "       'Launched Price (Dubai)', 'Launched Year'],\n",
              "      dtype='object')"
            ]
          },
          "execution_count": 5,
          "metadata": {},
          "output_type": "execute_result"
        }
      ],
      "source": [
        "df.columns"
      ]
    },
    {
      "cell_type": "code",
      "execution_count": 6,
      "metadata": {},
      "outputs": [],
      "source": [
        "df.rename(columns={\n",
        "    'Mobile Weight': 'Mobile Weight (gram)',\n",
        "    'RAM': 'RAM (GB)',\n",
        "    'Front Camera': 'Front Camera (MP)',\n",
        "    'Back Camera': 'Back Camera (MP)',\n",
        "    'Battery Capacity': 'Battery Capacity (mAh)',\n",
        "    'Screen Size': 'Screen Size (inch)',\n",
        "    'Launched Price (Pakistan)': 'Launched Price (Pakistan USD)',\n",
        "    'Launched Price (India)': 'Launched Price (India USD)',\n",
        "    'Launched Price (China)': 'Launched Price (China USD)',\n",
        "    'Launched Price (USA)': 'Launched Price (USA USD)',\n",
        "    'Launched Price (Dubai)': 'Launched Price (Dubai USD)'\n",
        "},inplace=True)"
      ]
    },
    {
      "cell_type": "code",
      "execution_count": 7,
      "metadata": {
        "colab": {
          "base_uri": "https://localhost:8080/",
          "height": 555
        },
        "id": "d0BkQukO0PdT",
        "outputId": "fbd3e17f-ca00-4958-8fe4-914b4812e682"
      },
      "outputs": [
        {
          "data": {
            "application/vnd.microsoft.datawrangler.viewer.v0+json": {
              "columns": [
                {
                  "name": "index",
                  "rawType": "object",
                  "type": "string"
                },
                {
                  "name": "0",
                  "rawType": "int64",
                  "type": "integer"
                }
              ],
              "ref": "a3c996d1-3db5-4801-9d8e-0d9cecce43a6",
              "rows": [
                [
                  "Company Name",
                  "0"
                ],
                [
                  "Model Name",
                  "0"
                ],
                [
                  "Mobile Weight (gram)",
                  "0"
                ],
                [
                  "RAM (GB)",
                  "0"
                ],
                [
                  "Front Camera (MP)",
                  "0"
                ],
                [
                  "Back Camera (MP)",
                  "0"
                ],
                [
                  "Processor",
                  "0"
                ],
                [
                  "Battery Capacity (mAh)",
                  "0"
                ],
                [
                  "Screen Size (inch)",
                  "0"
                ],
                [
                  "Launched Price (Pakistan USD)",
                  "0"
                ],
                [
                  "Launched Price (India USD)",
                  "0"
                ],
                [
                  "Launched Price (China USD)",
                  "0"
                ],
                [
                  "Launched Price (USA USD)",
                  "0"
                ],
                [
                  "Launched Price (Dubai USD)",
                  "0"
                ],
                [
                  "Launched Year",
                  "0"
                ]
              ],
              "shape": {
                "columns": 1,
                "rows": 15
              }
            },
            "text/plain": [
              "Company Name                     0\n",
              "Model Name                       0\n",
              "Mobile Weight (gram)             0\n",
              "RAM (GB)                         0\n",
              "Front Camera (MP)                0\n",
              "Back Camera (MP)                 0\n",
              "Processor                        0\n",
              "Battery Capacity (mAh)           0\n",
              "Screen Size (inch)               0\n",
              "Launched Price (Pakistan USD)    0\n",
              "Launched Price (India USD)       0\n",
              "Launched Price (China USD)       0\n",
              "Launched Price (USA USD)         0\n",
              "Launched Price (Dubai USD)       0\n",
              "Launched Year                    0\n",
              "dtype: int64"
            ]
          },
          "execution_count": 7,
          "metadata": {},
          "output_type": "execute_result"
        }
      ],
      "source": [
        "df.isnull().sum()"
      ]
    },
    {
      "cell_type": "code",
      "execution_count": 8,
      "metadata": {
        "colab": {
          "base_uri": "https://localhost:8080/"
        },
        "id": "Wujq0PUo0TXi",
        "outputId": "4ff98223-1857-4a3c-da45-f94238c1af15"
      },
      "outputs": [
        {
          "data": {
            "application/vnd.microsoft.datawrangler.viewer.v0+json": {
              "columns": [
                {
                  "name": "index",
                  "rawType": "int64",
                  "type": "integer"
                },
                {
                  "name": "Company Name",
                  "rawType": "object",
                  "type": "string"
                },
                {
                  "name": "Model Name",
                  "rawType": "object",
                  "type": "string"
                },
                {
                  "name": "Mobile Weight (gram)",
                  "rawType": "object",
                  "type": "string"
                },
                {
                  "name": "RAM (GB)",
                  "rawType": "object",
                  "type": "string"
                },
                {
                  "name": "Front Camera (MP)",
                  "rawType": "object",
                  "type": "string"
                },
                {
                  "name": "Back Camera (MP)",
                  "rawType": "object",
                  "type": "string"
                },
                {
                  "name": "Processor",
                  "rawType": "object",
                  "type": "string"
                },
                {
                  "name": "Battery Capacity (mAh)",
                  "rawType": "object",
                  "type": "string"
                },
                {
                  "name": "Screen Size (inch)",
                  "rawType": "object",
                  "type": "string"
                },
                {
                  "name": "Launched Price (Pakistan USD)",
                  "rawType": "object",
                  "type": "string"
                },
                {
                  "name": "Launched Price (India USD)",
                  "rawType": "object",
                  "type": "string"
                },
                {
                  "name": "Launched Price (China USD)",
                  "rawType": "object",
                  "type": "string"
                },
                {
                  "name": "Launched Price (USA USD)",
                  "rawType": "object",
                  "type": "string"
                },
                {
                  "name": "Launched Price (Dubai USD)",
                  "rawType": "object",
                  "type": "string"
                },
                {
                  "name": "Launched Year",
                  "rawType": "int64",
                  "type": "integer"
                }
              ],
              "ref": "e79957e9-b377-4ef8-99be-6f9c1b8b86e2",
              "rows": [
                [
                  "347",
                  "Oppo",
                  "A3 128GB",
                  "186g",
                  "4GB",
                  "5MP",
                  "50MP",
                  "Snapdragon 6s 4G Gen 1",
                  "5000mAh",
                  "6.7 inches",
                  "PKR 59,999",
                  "INR 34,999",
                  "CNY 2,999",
                  "USD 399",
                  "AED 1,499",
                  "2024"
                ],
                [
                  "437",
                  "Oppo",
                  "K11x 128GB",
                  "195g",
                  "8GB",
                  "16MP",
                  "108MP + 2MP",
                  "Qualcomm Snapdragon 695",
                  "5,000mAh",
                  "6.72 inches",
                  "PKR 59,999",
                  "INR 18,000",
                  "CNY 1,499",
                  "USD 199",
                  "AED 1,000",
                  "2023"
                ],
                [
                  "438",
                  "Oppo",
                  "K11x 256GB",
                  "195g",
                  "12GB",
                  "16MP",
                  "108MP + 2MP",
                  "Qualcomm Snapdragon 695",
                  "5,000mAh",
                  "6.72 inches",
                  "PKR 64,999",
                  "INR 20,000",
                  "CNY 1,699",
                  "USD 229",
                  "AED 1,200",
                  "2023"
                ],
                [
                  "441",
                  "Oppo",
                  "K10x 128GB",
                  "195g",
                  "6GB",
                  "16MP",
                  "64MP + 2MP + 2MP",
                  "Qualcomm Snapdragon 695",
                  "5,000mAh",
                  "6.59 inches",
                  "PKR 54,999",
                  "INR 16,990",
                  "CNY 1,499",
                  "USD 199",
                  "AED 1,000",
                  "2022"
                ],
                [
                  "442",
                  "Oppo",
                  "K10x 256GB",
                  "195g",
                  "8GB",
                  "16MP",
                  "64MP + 2MP + 2MP",
                  "Qualcomm Snapdragon 695",
                  "5,000mAh",
                  "6.59 inches",
                  "PKR 59,999",
                  "INR 18,990",
                  "CNY 1,699",
                  "USD 229",
                  "AED 1,200",
                  "2022"
                ],
                [
                  "443",
                  "Oppo",
                  "K10 5G 128GB",
                  "205g",
                  "8GB",
                  "16MP",
                  "64MP + 8MP + 2MP",
                  "MediaTek Dimensity 8000-Max",
                  "5,000mAh",
                  "6.59 inches",
                  "PKR 64,999",
                  "INR 19,999",
                  "CNY 1,799",
                  "USD 249",
                  "AED 1,300",
                  "2022"
                ],
                [
                  "445",
                  "Oppo",
                  "K9x 128GB",
                  "194g",
                  "6GB",
                  "16MP",
                  "64MP + 2MP + 2MP",
                  "MediaTek Dimensity 810",
                  "5,000mAh",
                  "6.5 inches",
                  "PKR 49,999",
                  "INR 15,999",
                  "CNY 1,499",
                  "USD 199",
                  "AED 1,000",
                  "2021"
                ],
                [
                  "446",
                  "Oppo",
                  "K9x 256GB",
                  "194g",
                  "8GB",
                  "16MP",
                  "64MP + 2MP + 2MP",
                  "MediaTek Dimensity 810",
                  "5,000mAh",
                  "6.5 inches",
                  "PKR 54,999",
                  "INR 17,999",
                  "CNY 1,699",
                  "USD 229",
                  "AED 1,200",
                  "2021"
                ],
                [
                  "447",
                  "Oppo",
                  "K9 Pro 5G 128GB",
                  "180g",
                  "8GB",
                  "16MP",
                  "64MP + 8MP + 2MP",
                  "MediaTek Dimensity 1200",
                  "4,500mAh",
                  "6.43 inches",
                  "PKR 69,999",
                  "INR 24,999",
                  "CNY 2,199",
                  "USD 299",
                  "AED 1,500",
                  "2021"
                ],
                [
                  "448",
                  "Oppo",
                  "K9 Pro 5G 256GB",
                  "180g",
                  "12GB",
                  "16MP",
                  "64MP + 8MP + 2MP",
                  "MediaTek Dimensity 1200",
                  "4,500mAh",
                  "6.43 inches",
                  "PKR 74,999",
                  "INR 27,999",
                  "CNY 2,499",
                  "USD 329",
                  "AED 1,700",
                  "2021"
                ],
                [
                  "449",
                  "Oppo",
                  "K9 5G 128GB",
                  "172g",
                  "8GB",
                  "32MP",
                  "64MP + 8MP + 2MP",
                  "Qualcomm Snapdragon 768G",
                  "4,300mAh",
                  "6.43 inches",
                  "PKR 59,999",
                  "INR 22,999",
                  "CNY 1,999",
                  "USD 279",
                  "AED 1,400",
                  "2021"
                ],
                [
                  "450",
                  "Oppo",
                  "K9 5G 256GB",
                  "172g",
                  "8GB",
                  "32MP",
                  "64MP + 8MP + 2MP",
                  "Qualcomm Snapdragon 768G",
                  "4,300mAh",
                  "6.43 inches",
                  "PKR 64,999",
                  "INR 24,999",
                  "CNY 2,199",
                  "USD 299",
                  "AED 1,500",
                  "2021"
                ],
                [
                  "451",
                  "Oppo",
                  "K7x 128GB",
                  "194g",
                  "6GB",
                  "16MP",
                  "48MP + 8MP + 2MP + 2MP",
                  "MediaTek Dimensity 720",
                  "5,000mAh",
                  "6.5 inches",
                  "PKR 44,999",
                  "INR 14,999",
                  "CNY 1,499",
                  "USD 199",
                  "AED 1,000",
                  "2020"
                ],
                [
                  "452",
                  "Oppo",
                  "K7 5G 128GB",
                  "180g",
                  "8GB",
                  "32MP",
                  "48MP + 8MP + 2MP + 2MP",
                  "Qualcomm Snapdragon 765G",
                  "4,025mAh",
                  "6.4 inches",
                  "PKR 49,999",
                  "INR 19,999",
                  "CNY 1,999",
                  "USD 279",
                  "AED 1,400",
                  "2020"
                ],
                [
                  "798",
                  "Infinix",
                  "Hot 10 Lite 64GB",
                  "195g",
                  "3GB",
                  "8MP",
                  "13MP",
                  "MediaTek Helio A25",
                  "5,000mAh",
                  "6.6 inches",
                  "PKR 19,999",
                  "INR 7,999",
                  "CNY 699",
                  "USD 109",
                  "AED 399",
                  "2020"
                ]
              ],
              "shape": {
                "columns": 15,
                "rows": 15
              }
            },
            "text/html": [
              "<div>\n",
              "<style scoped>\n",
              "    .dataframe tbody tr th:only-of-type {\n",
              "        vertical-align: middle;\n",
              "    }\n",
              "\n",
              "    .dataframe tbody tr th {\n",
              "        vertical-align: top;\n",
              "    }\n",
              "\n",
              "    .dataframe thead th {\n",
              "        text-align: right;\n",
              "    }\n",
              "</style>\n",
              "<table border=\"1\" class=\"dataframe\">\n",
              "  <thead>\n",
              "    <tr style=\"text-align: right;\">\n",
              "      <th></th>\n",
              "      <th>Company Name</th>\n",
              "      <th>Model Name</th>\n",
              "      <th>Mobile Weight (gram)</th>\n",
              "      <th>RAM (GB)</th>\n",
              "      <th>Front Camera (MP)</th>\n",
              "      <th>Back Camera (MP)</th>\n",
              "      <th>Processor</th>\n",
              "      <th>Battery Capacity (mAh)</th>\n",
              "      <th>Screen Size (inch)</th>\n",
              "      <th>Launched Price (Pakistan USD)</th>\n",
              "      <th>Launched Price (India USD)</th>\n",
              "      <th>Launched Price (China USD)</th>\n",
              "      <th>Launched Price (USA USD)</th>\n",
              "      <th>Launched Price (Dubai USD)</th>\n",
              "      <th>Launched Year</th>\n",
              "    </tr>\n",
              "  </thead>\n",
              "  <tbody>\n",
              "    <tr>\n",
              "      <th>347</th>\n",
              "      <td>Oppo</td>\n",
              "      <td>A3 128GB</td>\n",
              "      <td>186g</td>\n",
              "      <td>4GB</td>\n",
              "      <td>5MP</td>\n",
              "      <td>50MP</td>\n",
              "      <td>Snapdragon 6s 4G Gen 1</td>\n",
              "      <td>5000mAh</td>\n",
              "      <td>6.7 inches</td>\n",
              "      <td>PKR 59,999</td>\n",
              "      <td>INR 34,999</td>\n",
              "      <td>CNY 2,999</td>\n",
              "      <td>USD 399</td>\n",
              "      <td>AED 1,499</td>\n",
              "      <td>2024</td>\n",
              "    </tr>\n",
              "    <tr>\n",
              "      <th>437</th>\n",
              "      <td>Oppo</td>\n",
              "      <td>K11x 128GB</td>\n",
              "      <td>195g</td>\n",
              "      <td>8GB</td>\n",
              "      <td>16MP</td>\n",
              "      <td>108MP + 2MP</td>\n",
              "      <td>Qualcomm Snapdragon 695</td>\n",
              "      <td>5,000mAh</td>\n",
              "      <td>6.72 inches</td>\n",
              "      <td>PKR 59,999</td>\n",
              "      <td>INR 18,000</td>\n",
              "      <td>CNY 1,499</td>\n",
              "      <td>USD 199</td>\n",
              "      <td>AED 1,000</td>\n",
              "      <td>2023</td>\n",
              "    </tr>\n",
              "    <tr>\n",
              "      <th>438</th>\n",
              "      <td>Oppo</td>\n",
              "      <td>K11x 256GB</td>\n",
              "      <td>195g</td>\n",
              "      <td>12GB</td>\n",
              "      <td>16MP</td>\n",
              "      <td>108MP + 2MP</td>\n",
              "      <td>Qualcomm Snapdragon 695</td>\n",
              "      <td>5,000mAh</td>\n",
              "      <td>6.72 inches</td>\n",
              "      <td>PKR 64,999</td>\n",
              "      <td>INR 20,000</td>\n",
              "      <td>CNY 1,699</td>\n",
              "      <td>USD 229</td>\n",
              "      <td>AED 1,200</td>\n",
              "      <td>2023</td>\n",
              "    </tr>\n",
              "    <tr>\n",
              "      <th>441</th>\n",
              "      <td>Oppo</td>\n",
              "      <td>K10x 128GB</td>\n",
              "      <td>195g</td>\n",
              "      <td>6GB</td>\n",
              "      <td>16MP</td>\n",
              "      <td>64MP + 2MP + 2MP</td>\n",
              "      <td>Qualcomm Snapdragon 695</td>\n",
              "      <td>5,000mAh</td>\n",
              "      <td>6.59 inches</td>\n",
              "      <td>PKR 54,999</td>\n",
              "      <td>INR 16,990</td>\n",
              "      <td>CNY 1,499</td>\n",
              "      <td>USD 199</td>\n",
              "      <td>AED 1,000</td>\n",
              "      <td>2022</td>\n",
              "    </tr>\n",
              "    <tr>\n",
              "      <th>442</th>\n",
              "      <td>Oppo</td>\n",
              "      <td>K10x 256GB</td>\n",
              "      <td>195g</td>\n",
              "      <td>8GB</td>\n",
              "      <td>16MP</td>\n",
              "      <td>64MP + 2MP + 2MP</td>\n",
              "      <td>Qualcomm Snapdragon 695</td>\n",
              "      <td>5,000mAh</td>\n",
              "      <td>6.59 inches</td>\n",
              "      <td>PKR 59,999</td>\n",
              "      <td>INR 18,990</td>\n",
              "      <td>CNY 1,699</td>\n",
              "      <td>USD 229</td>\n",
              "      <td>AED 1,200</td>\n",
              "      <td>2022</td>\n",
              "    </tr>\n",
              "    <tr>\n",
              "      <th>443</th>\n",
              "      <td>Oppo</td>\n",
              "      <td>K10 5G 128GB</td>\n",
              "      <td>205g</td>\n",
              "      <td>8GB</td>\n",
              "      <td>16MP</td>\n",
              "      <td>64MP + 8MP + 2MP</td>\n",
              "      <td>MediaTek Dimensity 8000-Max</td>\n",
              "      <td>5,000mAh</td>\n",
              "      <td>6.59 inches</td>\n",
              "      <td>PKR 64,999</td>\n",
              "      <td>INR 19,999</td>\n",
              "      <td>CNY 1,799</td>\n",
              "      <td>USD 249</td>\n",
              "      <td>AED 1,300</td>\n",
              "      <td>2022</td>\n",
              "    </tr>\n",
              "    <tr>\n",
              "      <th>445</th>\n",
              "      <td>Oppo</td>\n",
              "      <td>K9x 128GB</td>\n",
              "      <td>194g</td>\n",
              "      <td>6GB</td>\n",
              "      <td>16MP</td>\n",
              "      <td>64MP + 2MP + 2MP</td>\n",
              "      <td>MediaTek Dimensity 810</td>\n",
              "      <td>5,000mAh</td>\n",
              "      <td>6.5 inches</td>\n",
              "      <td>PKR 49,999</td>\n",
              "      <td>INR 15,999</td>\n",
              "      <td>CNY 1,499</td>\n",
              "      <td>USD 199</td>\n",
              "      <td>AED 1,000</td>\n",
              "      <td>2021</td>\n",
              "    </tr>\n",
              "    <tr>\n",
              "      <th>446</th>\n",
              "      <td>Oppo</td>\n",
              "      <td>K9x 256GB</td>\n",
              "      <td>194g</td>\n",
              "      <td>8GB</td>\n",
              "      <td>16MP</td>\n",
              "      <td>64MP + 2MP + 2MP</td>\n",
              "      <td>MediaTek Dimensity 810</td>\n",
              "      <td>5,000mAh</td>\n",
              "      <td>6.5 inches</td>\n",
              "      <td>PKR 54,999</td>\n",
              "      <td>INR 17,999</td>\n",
              "      <td>CNY 1,699</td>\n",
              "      <td>USD 229</td>\n",
              "      <td>AED 1,200</td>\n",
              "      <td>2021</td>\n",
              "    </tr>\n",
              "    <tr>\n",
              "      <th>447</th>\n",
              "      <td>Oppo</td>\n",
              "      <td>K9 Pro 5G 128GB</td>\n",
              "      <td>180g</td>\n",
              "      <td>8GB</td>\n",
              "      <td>16MP</td>\n",
              "      <td>64MP + 8MP + 2MP</td>\n",
              "      <td>MediaTek Dimensity 1200</td>\n",
              "      <td>4,500mAh</td>\n",
              "      <td>6.43 inches</td>\n",
              "      <td>PKR 69,999</td>\n",
              "      <td>INR 24,999</td>\n",
              "      <td>CNY 2,199</td>\n",
              "      <td>USD 299</td>\n",
              "      <td>AED 1,500</td>\n",
              "      <td>2021</td>\n",
              "    </tr>\n",
              "    <tr>\n",
              "      <th>448</th>\n",
              "      <td>Oppo</td>\n",
              "      <td>K9 Pro 5G 256GB</td>\n",
              "      <td>180g</td>\n",
              "      <td>12GB</td>\n",
              "      <td>16MP</td>\n",
              "      <td>64MP + 8MP + 2MP</td>\n",
              "      <td>MediaTek Dimensity 1200</td>\n",
              "      <td>4,500mAh</td>\n",
              "      <td>6.43 inches</td>\n",
              "      <td>PKR 74,999</td>\n",
              "      <td>INR 27,999</td>\n",
              "      <td>CNY 2,499</td>\n",
              "      <td>USD 329</td>\n",
              "      <td>AED 1,700</td>\n",
              "      <td>2021</td>\n",
              "    </tr>\n",
              "    <tr>\n",
              "      <th>449</th>\n",
              "      <td>Oppo</td>\n",
              "      <td>K9 5G 128GB</td>\n",
              "      <td>172g</td>\n",
              "      <td>8GB</td>\n",
              "      <td>32MP</td>\n",
              "      <td>64MP + 8MP + 2MP</td>\n",
              "      <td>Qualcomm Snapdragon 768G</td>\n",
              "      <td>4,300mAh</td>\n",
              "      <td>6.43 inches</td>\n",
              "      <td>PKR 59,999</td>\n",
              "      <td>INR 22,999</td>\n",
              "      <td>CNY 1,999</td>\n",
              "      <td>USD 279</td>\n",
              "      <td>AED 1,400</td>\n",
              "      <td>2021</td>\n",
              "    </tr>\n",
              "    <tr>\n",
              "      <th>450</th>\n",
              "      <td>Oppo</td>\n",
              "      <td>K9 5G 256GB</td>\n",
              "      <td>172g</td>\n",
              "      <td>8GB</td>\n",
              "      <td>32MP</td>\n",
              "      <td>64MP + 8MP + 2MP</td>\n",
              "      <td>Qualcomm Snapdragon 768G</td>\n",
              "      <td>4,300mAh</td>\n",
              "      <td>6.43 inches</td>\n",
              "      <td>PKR 64,999</td>\n",
              "      <td>INR 24,999</td>\n",
              "      <td>CNY 2,199</td>\n",
              "      <td>USD 299</td>\n",
              "      <td>AED 1,500</td>\n",
              "      <td>2021</td>\n",
              "    </tr>\n",
              "    <tr>\n",
              "      <th>451</th>\n",
              "      <td>Oppo</td>\n",
              "      <td>K7x 128GB</td>\n",
              "      <td>194g</td>\n",
              "      <td>6GB</td>\n",
              "      <td>16MP</td>\n",
              "      <td>48MP + 8MP + 2MP + 2MP</td>\n",
              "      <td>MediaTek Dimensity 720</td>\n",
              "      <td>5,000mAh</td>\n",
              "      <td>6.5 inches</td>\n",
              "      <td>PKR 44,999</td>\n",
              "      <td>INR 14,999</td>\n",
              "      <td>CNY 1,499</td>\n",
              "      <td>USD 199</td>\n",
              "      <td>AED 1,000</td>\n",
              "      <td>2020</td>\n",
              "    </tr>\n",
              "    <tr>\n",
              "      <th>452</th>\n",
              "      <td>Oppo</td>\n",
              "      <td>K7 5G 128GB</td>\n",
              "      <td>180g</td>\n",
              "      <td>8GB</td>\n",
              "      <td>32MP</td>\n",
              "      <td>48MP + 8MP + 2MP + 2MP</td>\n",
              "      <td>Qualcomm Snapdragon 765G</td>\n",
              "      <td>4,025mAh</td>\n",
              "      <td>6.4 inches</td>\n",
              "      <td>PKR 49,999</td>\n",
              "      <td>INR 19,999</td>\n",
              "      <td>CNY 1,999</td>\n",
              "      <td>USD 279</td>\n",
              "      <td>AED 1,400</td>\n",
              "      <td>2020</td>\n",
              "    </tr>\n",
              "    <tr>\n",
              "      <th>798</th>\n",
              "      <td>Infinix</td>\n",
              "      <td>Hot 10 Lite 64GB</td>\n",
              "      <td>195g</td>\n",
              "      <td>3GB</td>\n",
              "      <td>8MP</td>\n",
              "      <td>13MP</td>\n",
              "      <td>MediaTek Helio A25</td>\n",
              "      <td>5,000mAh</td>\n",
              "      <td>6.6 inches</td>\n",
              "      <td>PKR 19,999</td>\n",
              "      <td>INR 7,999</td>\n",
              "      <td>CNY 699</td>\n",
              "      <td>USD 109</td>\n",
              "      <td>AED 399</td>\n",
              "      <td>2020</td>\n",
              "    </tr>\n",
              "  </tbody>\n",
              "</table>\n",
              "</div>"
            ],
            "text/plain": [
              "    Company Name        Model Name Mobile Weight (gram) RAM (GB)  \\\n",
              "347         Oppo          A3 128GB                 186g      4GB   \n",
              "437         Oppo        K11x 128GB                 195g      8GB   \n",
              "438         Oppo        K11x 256GB                 195g     12GB   \n",
              "441         Oppo        K10x 128GB                 195g      6GB   \n",
              "442         Oppo        K10x 256GB                 195g      8GB   \n",
              "443         Oppo      K10 5G 128GB                 205g      8GB   \n",
              "445         Oppo         K9x 128GB                 194g      6GB   \n",
              "446         Oppo         K9x 256GB                 194g      8GB   \n",
              "447         Oppo   K9 Pro 5G 128GB                 180g      8GB   \n",
              "448         Oppo   K9 Pro 5G 256GB                 180g     12GB   \n",
              "449         Oppo       K9 5G 128GB                 172g      8GB   \n",
              "450         Oppo       K9 5G 256GB                 172g      8GB   \n",
              "451         Oppo         K7x 128GB                 194g      6GB   \n",
              "452         Oppo       K7 5G 128GB                 180g      8GB   \n",
              "798      Infinix  Hot 10 Lite 64GB                 195g      3GB   \n",
              "\n",
              "    Front Camera (MP)        Back Camera (MP)                    Processor  \\\n",
              "347               5MP                    50MP       Snapdragon 6s 4G Gen 1   \n",
              "437              16MP             108MP + 2MP      Qualcomm Snapdragon 695   \n",
              "438              16MP             108MP + 2MP      Qualcomm Snapdragon 695   \n",
              "441              16MP        64MP + 2MP + 2MP      Qualcomm Snapdragon 695   \n",
              "442              16MP        64MP + 2MP + 2MP      Qualcomm Snapdragon 695   \n",
              "443              16MP        64MP + 8MP + 2MP  MediaTek Dimensity 8000-Max   \n",
              "445              16MP        64MP + 2MP + 2MP       MediaTek Dimensity 810   \n",
              "446              16MP        64MP + 2MP + 2MP       MediaTek Dimensity 810   \n",
              "447              16MP        64MP + 8MP + 2MP      MediaTek Dimensity 1200   \n",
              "448              16MP        64MP + 8MP + 2MP      MediaTek Dimensity 1200   \n",
              "449              32MP        64MP + 8MP + 2MP     Qualcomm Snapdragon 768G   \n",
              "450              32MP        64MP + 8MP + 2MP     Qualcomm Snapdragon 768G   \n",
              "451              16MP  48MP + 8MP + 2MP + 2MP       MediaTek Dimensity 720   \n",
              "452              32MP  48MP + 8MP + 2MP + 2MP     Qualcomm Snapdragon 765G   \n",
              "798               8MP                    13MP           MediaTek Helio A25   \n",
              "\n",
              "    Battery Capacity (mAh) Screen Size (inch) Launched Price (Pakistan USD)  \\\n",
              "347                5000mAh         6.7 inches                    PKR 59,999   \n",
              "437               5,000mAh        6.72 inches                    PKR 59,999   \n",
              "438               5,000mAh        6.72 inches                    PKR 64,999   \n",
              "441               5,000mAh        6.59 inches                    PKR 54,999   \n",
              "442               5,000mAh        6.59 inches                    PKR 59,999   \n",
              "443               5,000mAh        6.59 inches                    PKR 64,999   \n",
              "445               5,000mAh         6.5 inches                    PKR 49,999   \n",
              "446               5,000mAh         6.5 inches                    PKR 54,999   \n",
              "447               4,500mAh        6.43 inches                    PKR 69,999   \n",
              "448               4,500mAh        6.43 inches                    PKR 74,999   \n",
              "449               4,300mAh        6.43 inches                    PKR 59,999   \n",
              "450               4,300mAh        6.43 inches                    PKR 64,999   \n",
              "451               5,000mAh         6.5 inches                    PKR 44,999   \n",
              "452               4,025mAh         6.4 inches                    PKR 49,999   \n",
              "798               5,000mAh         6.6 inches                    PKR 19,999   \n",
              "\n",
              "    Launched Price (India USD) Launched Price (China USD)  \\\n",
              "347                 INR 34,999                  CNY 2,999   \n",
              "437                 INR 18,000                  CNY 1,499   \n",
              "438                 INR 20,000                  CNY 1,699   \n",
              "441                 INR 16,990                  CNY 1,499   \n",
              "442                 INR 18,990                  CNY 1,699   \n",
              "443                 INR 19,999                  CNY 1,799   \n",
              "445                 INR 15,999                  CNY 1,499   \n",
              "446                 INR 17,999                  CNY 1,699   \n",
              "447                 INR 24,999                  CNY 2,199   \n",
              "448                 INR 27,999                  CNY 2,499   \n",
              "449                 INR 22,999                  CNY 1,999   \n",
              "450                 INR 24,999                  CNY 2,199   \n",
              "451                 INR 14,999                  CNY 1,499   \n",
              "452                 INR 19,999                  CNY 1,999   \n",
              "798                  INR 7,999                    CNY 699   \n",
              "\n",
              "    Launched Price (USA USD) Launched Price (Dubai USD)  Launched Year  \n",
              "347                  USD 399                  AED 1,499           2024  \n",
              "437                  USD 199                  AED 1,000           2023  \n",
              "438                  USD 229                  AED 1,200           2023  \n",
              "441                  USD 199                  AED 1,000           2022  \n",
              "442                  USD 229                  AED 1,200           2022  \n",
              "443                  USD 249                  AED 1,300           2022  \n",
              "445                  USD 199                  AED 1,000           2021  \n",
              "446                  USD 229                  AED 1,200           2021  \n",
              "447                  USD 299                  AED 1,500           2021  \n",
              "448                  USD 329                  AED 1,700           2021  \n",
              "449                  USD 279                  AED 1,400           2021  \n",
              "450                  USD 299                  AED 1,500           2021  \n",
              "451                  USD 199                  AED 1,000           2020  \n",
              "452                  USD 279                  AED 1,400           2020  \n",
              "798                  USD 109                    AED 399           2020  "
            ]
          },
          "execution_count": 8,
          "metadata": {},
          "output_type": "execute_result"
        }
      ],
      "source": [
        "df[df.duplicated()]"
      ]
    },
    {
      "cell_type": "code",
      "execution_count": 9,
      "metadata": {},
      "outputs": [
        {
          "data": {
            "application/vnd.microsoft.datawrangler.viewer.v0+json": {
              "columns": [
                {
                  "name": "index",
                  "rawType": "int64",
                  "type": "integer"
                },
                {
                  "name": "Company Name",
                  "rawType": "object",
                  "type": "string"
                },
                {
                  "name": "Model Name",
                  "rawType": "object",
                  "type": "string"
                },
                {
                  "name": "Mobile Weight (gram)",
                  "rawType": "object",
                  "type": "string"
                },
                {
                  "name": "RAM (GB)",
                  "rawType": "object",
                  "type": "string"
                },
                {
                  "name": "Front Camera (MP)",
                  "rawType": "object",
                  "type": "string"
                },
                {
                  "name": "Back Camera (MP)",
                  "rawType": "object",
                  "type": "string"
                },
                {
                  "name": "Processor",
                  "rawType": "object",
                  "type": "string"
                },
                {
                  "name": "Battery Capacity (mAh)",
                  "rawType": "object",
                  "type": "string"
                },
                {
                  "name": "Screen Size (inch)",
                  "rawType": "object",
                  "type": "string"
                },
                {
                  "name": "Launched Price (Pakistan USD)",
                  "rawType": "object",
                  "type": "string"
                },
                {
                  "name": "Launched Price (India USD)",
                  "rawType": "object",
                  "type": "string"
                },
                {
                  "name": "Launched Price (China USD)",
                  "rawType": "object",
                  "type": "string"
                },
                {
                  "name": "Launched Price (USA USD)",
                  "rawType": "object",
                  "type": "string"
                },
                {
                  "name": "Launched Price (Dubai USD)",
                  "rawType": "object",
                  "type": "string"
                },
                {
                  "name": "Launched Year",
                  "rawType": "int64",
                  "type": "integer"
                }
              ],
              "ref": "fa194cdf-7fc2-4f29-a361-147c9fd8a7ee",
              "rows": [
                [
                  "344",
                  "Oppo",
                  "A3 128GB",
                  "186g",
                  "4GB",
                  "5MP",
                  "50MP",
                  "Snapdragon 6s 4G Gen 1",
                  "5000mAh",
                  "6.7 inches",
                  "PKR 59,999",
                  "INR 34,999",
                  "CNY 2,999",
                  "USD 399",
                  "AED 1,499",
                  "2024"
                ],
                [
                  "347",
                  "Oppo",
                  "A3 128GB",
                  "186g",
                  "4GB",
                  "5MP",
                  "50MP",
                  "Snapdragon 6s 4G Gen 1",
                  "5000mAh",
                  "6.7 inches",
                  "PKR 59,999",
                  "INR 34,999",
                  "CNY 2,999",
                  "USD 399",
                  "AED 1,499",
                  "2024"
                ],
                [
                  "423",
                  "Oppo",
                  "K11x 128GB",
                  "195g",
                  "8GB",
                  "16MP",
                  "108MP + 2MP",
                  "Qualcomm Snapdragon 695",
                  "5,000mAh",
                  "6.72 inches",
                  "PKR 59,999",
                  "INR 18,000",
                  "CNY 1,499",
                  "USD 199",
                  "AED 1,000",
                  "2023"
                ],
                [
                  "424",
                  "Oppo",
                  "K11x 256GB",
                  "195g",
                  "12GB",
                  "16MP",
                  "108MP + 2MP",
                  "Qualcomm Snapdragon 695",
                  "5,000mAh",
                  "6.72 inches",
                  "PKR 64,999",
                  "INR 20,000",
                  "CNY 1,699",
                  "USD 229",
                  "AED 1,200",
                  "2023"
                ],
                [
                  "425",
                  "Oppo",
                  "K10x 128GB",
                  "195g",
                  "6GB",
                  "16MP",
                  "64MP + 2MP + 2MP",
                  "Qualcomm Snapdragon 695",
                  "5,000mAh",
                  "6.59 inches",
                  "PKR 54,999",
                  "INR 16,990",
                  "CNY 1,499",
                  "USD 199",
                  "AED 1,000",
                  "2022"
                ],
                [
                  "426",
                  "Oppo",
                  "K10x 256GB",
                  "195g",
                  "8GB",
                  "16MP",
                  "64MP + 2MP + 2MP",
                  "Qualcomm Snapdragon 695",
                  "5,000mAh",
                  "6.59 inches",
                  "PKR 59,999",
                  "INR 18,990",
                  "CNY 1,699",
                  "USD 229",
                  "AED 1,200",
                  "2022"
                ],
                [
                  "427",
                  "Oppo",
                  "K10 5G 128GB",
                  "205g",
                  "8GB",
                  "16MP",
                  "64MP + 8MP + 2MP",
                  "MediaTek Dimensity 8000-Max",
                  "5,000mAh",
                  "6.59 inches",
                  "PKR 64,999",
                  "INR 19,999",
                  "CNY 1,799",
                  "USD 249",
                  "AED 1,300",
                  "2022"
                ],
                [
                  "428",
                  "Oppo",
                  "K9x 128GB",
                  "194g",
                  "6GB",
                  "16MP",
                  "64MP + 2MP + 2MP",
                  "MediaTek Dimensity 810",
                  "5,000mAh",
                  "6.5 inches",
                  "PKR 49,999",
                  "INR 15,999",
                  "CNY 1,499",
                  "USD 199",
                  "AED 1,000",
                  "2021"
                ],
                [
                  "429",
                  "Oppo",
                  "K9x 256GB",
                  "194g",
                  "8GB",
                  "16MP",
                  "64MP + 2MP + 2MP",
                  "MediaTek Dimensity 810",
                  "5,000mAh",
                  "6.5 inches",
                  "PKR 54,999",
                  "INR 17,999",
                  "CNY 1,699",
                  "USD 229",
                  "AED 1,200",
                  "2021"
                ],
                [
                  "430",
                  "Oppo",
                  "K9 Pro 5G 128GB",
                  "180g",
                  "8GB",
                  "16MP",
                  "64MP + 8MP + 2MP",
                  "MediaTek Dimensity 1200",
                  "4,500mAh",
                  "6.43 inches",
                  "PKR 69,999",
                  "INR 24,999",
                  "CNY 2,199",
                  "USD 299",
                  "AED 1,500",
                  "2021"
                ],
                [
                  "431",
                  "Oppo",
                  "K9 Pro 5G 256GB",
                  "180g",
                  "12GB",
                  "16MP",
                  "64MP + 8MP + 2MP",
                  "MediaTek Dimensity 1200",
                  "4,500mAh",
                  "6.43 inches",
                  "PKR 74,999",
                  "INR 27,999",
                  "CNY 2,499",
                  "USD 329",
                  "AED 1,700",
                  "2021"
                ],
                [
                  "432",
                  "Oppo",
                  "K9 5G 128GB",
                  "172g",
                  "8GB",
                  "32MP",
                  "64MP + 8MP + 2MP",
                  "Qualcomm Snapdragon 768G",
                  "4,300mAh",
                  "6.43 inches",
                  "PKR 59,999",
                  "INR 22,999",
                  "CNY 1,999",
                  "USD 279",
                  "AED 1,400",
                  "2021"
                ],
                [
                  "433",
                  "Oppo",
                  "K9 5G 256GB",
                  "172g",
                  "8GB",
                  "32MP",
                  "64MP + 8MP + 2MP",
                  "Qualcomm Snapdragon 768G",
                  "4,300mAh",
                  "6.43 inches",
                  "PKR 64,999",
                  "INR 24,999",
                  "CNY 2,199",
                  "USD 299",
                  "AED 1,500",
                  "2021"
                ],
                [
                  "434",
                  "Oppo",
                  "K7x 128GB",
                  "194g",
                  "6GB",
                  "16MP",
                  "48MP + 8MP + 2MP + 2MP",
                  "MediaTek Dimensity 720",
                  "5,000mAh",
                  "6.5 inches",
                  "PKR 44,999",
                  "INR 14,999",
                  "CNY 1,499",
                  "USD 199",
                  "AED 1,000",
                  "2020"
                ],
                [
                  "435",
                  "Oppo",
                  "K7 5G 128GB",
                  "180g",
                  "8GB",
                  "32MP",
                  "48MP + 8MP + 2MP + 2MP",
                  "Qualcomm Snapdragon 765G",
                  "4,025mAh",
                  "6.4 inches",
                  "PKR 49,999",
                  "INR 19,999",
                  "CNY 1,999",
                  "USD 279",
                  "AED 1,400",
                  "2020"
                ],
                [
                  "437",
                  "Oppo",
                  "K11x 128GB",
                  "195g",
                  "8GB",
                  "16MP",
                  "108MP + 2MP",
                  "Qualcomm Snapdragon 695",
                  "5,000mAh",
                  "6.72 inches",
                  "PKR 59,999",
                  "INR 18,000",
                  "CNY 1,499",
                  "USD 199",
                  "AED 1,000",
                  "2023"
                ],
                [
                  "438",
                  "Oppo",
                  "K11x 256GB",
                  "195g",
                  "12GB",
                  "16MP",
                  "108MP + 2MP",
                  "Qualcomm Snapdragon 695",
                  "5,000mAh",
                  "6.72 inches",
                  "PKR 64,999",
                  "INR 20,000",
                  "CNY 1,699",
                  "USD 229",
                  "AED 1,200",
                  "2023"
                ],
                [
                  "441",
                  "Oppo",
                  "K10x 128GB",
                  "195g",
                  "6GB",
                  "16MP",
                  "64MP + 2MP + 2MP",
                  "Qualcomm Snapdragon 695",
                  "5,000mAh",
                  "6.59 inches",
                  "PKR 54,999",
                  "INR 16,990",
                  "CNY 1,499",
                  "USD 199",
                  "AED 1,000",
                  "2022"
                ],
                [
                  "442",
                  "Oppo",
                  "K10x 256GB",
                  "195g",
                  "8GB",
                  "16MP",
                  "64MP + 2MP + 2MP",
                  "Qualcomm Snapdragon 695",
                  "5,000mAh",
                  "6.59 inches",
                  "PKR 59,999",
                  "INR 18,990",
                  "CNY 1,699",
                  "USD 229",
                  "AED 1,200",
                  "2022"
                ],
                [
                  "443",
                  "Oppo",
                  "K10 5G 128GB",
                  "205g",
                  "8GB",
                  "16MP",
                  "64MP + 8MP + 2MP",
                  "MediaTek Dimensity 8000-Max",
                  "5,000mAh",
                  "6.59 inches",
                  "PKR 64,999",
                  "INR 19,999",
                  "CNY 1,799",
                  "USD 249",
                  "AED 1,300",
                  "2022"
                ],
                [
                  "445",
                  "Oppo",
                  "K9x 128GB",
                  "194g",
                  "6GB",
                  "16MP",
                  "64MP + 2MP + 2MP",
                  "MediaTek Dimensity 810",
                  "5,000mAh",
                  "6.5 inches",
                  "PKR 49,999",
                  "INR 15,999",
                  "CNY 1,499",
                  "USD 199",
                  "AED 1,000",
                  "2021"
                ],
                [
                  "446",
                  "Oppo",
                  "K9x 256GB",
                  "194g",
                  "8GB",
                  "16MP",
                  "64MP + 2MP + 2MP",
                  "MediaTek Dimensity 810",
                  "5,000mAh",
                  "6.5 inches",
                  "PKR 54,999",
                  "INR 17,999",
                  "CNY 1,699",
                  "USD 229",
                  "AED 1,200",
                  "2021"
                ],
                [
                  "447",
                  "Oppo",
                  "K9 Pro 5G 128GB",
                  "180g",
                  "8GB",
                  "16MP",
                  "64MP + 8MP + 2MP",
                  "MediaTek Dimensity 1200",
                  "4,500mAh",
                  "6.43 inches",
                  "PKR 69,999",
                  "INR 24,999",
                  "CNY 2,199",
                  "USD 299",
                  "AED 1,500",
                  "2021"
                ],
                [
                  "448",
                  "Oppo",
                  "K9 Pro 5G 256GB",
                  "180g",
                  "12GB",
                  "16MP",
                  "64MP + 8MP + 2MP",
                  "MediaTek Dimensity 1200",
                  "4,500mAh",
                  "6.43 inches",
                  "PKR 74,999",
                  "INR 27,999",
                  "CNY 2,499",
                  "USD 329",
                  "AED 1,700",
                  "2021"
                ],
                [
                  "449",
                  "Oppo",
                  "K9 5G 128GB",
                  "172g",
                  "8GB",
                  "32MP",
                  "64MP + 8MP + 2MP",
                  "Qualcomm Snapdragon 768G",
                  "4,300mAh",
                  "6.43 inches",
                  "PKR 59,999",
                  "INR 22,999",
                  "CNY 1,999",
                  "USD 279",
                  "AED 1,400",
                  "2021"
                ],
                [
                  "450",
                  "Oppo",
                  "K9 5G 256GB",
                  "172g",
                  "8GB",
                  "32MP",
                  "64MP + 8MP + 2MP",
                  "Qualcomm Snapdragon 768G",
                  "4,300mAh",
                  "6.43 inches",
                  "PKR 64,999",
                  "INR 24,999",
                  "CNY 2,199",
                  "USD 299",
                  "AED 1,500",
                  "2021"
                ],
                [
                  "451",
                  "Oppo",
                  "K7x 128GB",
                  "194g",
                  "6GB",
                  "16MP",
                  "48MP + 8MP + 2MP + 2MP",
                  "MediaTek Dimensity 720",
                  "5,000mAh",
                  "6.5 inches",
                  "PKR 44,999",
                  "INR 14,999",
                  "CNY 1,499",
                  "USD 199",
                  "AED 1,000",
                  "2020"
                ],
                [
                  "452",
                  "Oppo",
                  "K7 5G 128GB",
                  "180g",
                  "8GB",
                  "32MP",
                  "48MP + 8MP + 2MP + 2MP",
                  "Qualcomm Snapdragon 765G",
                  "4,025mAh",
                  "6.4 inches",
                  "PKR 49,999",
                  "INR 19,999",
                  "CNY 1,999",
                  "USD 279",
                  "AED 1,400",
                  "2020"
                ],
                [
                  "791",
                  "Infinix",
                  "Hot 10 Lite 64GB",
                  "195g",
                  "3GB",
                  "8MP",
                  "13MP",
                  "MediaTek Helio A25",
                  "5,000mAh",
                  "6.6 inches",
                  "PKR 19,999",
                  "INR 7,999",
                  "CNY 699",
                  "USD 109",
                  "AED 399",
                  "2020"
                ],
                [
                  "798",
                  "Infinix",
                  "Hot 10 Lite 64GB",
                  "195g",
                  "3GB",
                  "8MP",
                  "13MP",
                  "MediaTek Helio A25",
                  "5,000mAh",
                  "6.6 inches",
                  "PKR 19,999",
                  "INR 7,999",
                  "CNY 699",
                  "USD 109",
                  "AED 399",
                  "2020"
                ]
              ],
              "shape": {
                "columns": 15,
                "rows": 30
              }
            },
            "text/html": [
              "<div>\n",
              "<style scoped>\n",
              "    .dataframe tbody tr th:only-of-type {\n",
              "        vertical-align: middle;\n",
              "    }\n",
              "\n",
              "    .dataframe tbody tr th {\n",
              "        vertical-align: top;\n",
              "    }\n",
              "\n",
              "    .dataframe thead th {\n",
              "        text-align: right;\n",
              "    }\n",
              "</style>\n",
              "<table border=\"1\" class=\"dataframe\">\n",
              "  <thead>\n",
              "    <tr style=\"text-align: right;\">\n",
              "      <th></th>\n",
              "      <th>Company Name</th>\n",
              "      <th>Model Name</th>\n",
              "      <th>Mobile Weight (gram)</th>\n",
              "      <th>RAM (GB)</th>\n",
              "      <th>Front Camera (MP)</th>\n",
              "      <th>Back Camera (MP)</th>\n",
              "      <th>Processor</th>\n",
              "      <th>Battery Capacity (mAh)</th>\n",
              "      <th>Screen Size (inch)</th>\n",
              "      <th>Launched Price (Pakistan USD)</th>\n",
              "      <th>Launched Price (India USD)</th>\n",
              "      <th>Launched Price (China USD)</th>\n",
              "      <th>Launched Price (USA USD)</th>\n",
              "      <th>Launched Price (Dubai USD)</th>\n",
              "      <th>Launched Year</th>\n",
              "    </tr>\n",
              "  </thead>\n",
              "  <tbody>\n",
              "    <tr>\n",
              "      <th>344</th>\n",
              "      <td>Oppo</td>\n",
              "      <td>A3 128GB</td>\n",
              "      <td>186g</td>\n",
              "      <td>4GB</td>\n",
              "      <td>5MP</td>\n",
              "      <td>50MP</td>\n",
              "      <td>Snapdragon 6s 4G Gen 1</td>\n",
              "      <td>5000mAh</td>\n",
              "      <td>6.7 inches</td>\n",
              "      <td>PKR 59,999</td>\n",
              "      <td>INR 34,999</td>\n",
              "      <td>CNY 2,999</td>\n",
              "      <td>USD 399</td>\n",
              "      <td>AED 1,499</td>\n",
              "      <td>2024</td>\n",
              "    </tr>\n",
              "    <tr>\n",
              "      <th>347</th>\n",
              "      <td>Oppo</td>\n",
              "      <td>A3 128GB</td>\n",
              "      <td>186g</td>\n",
              "      <td>4GB</td>\n",
              "      <td>5MP</td>\n",
              "      <td>50MP</td>\n",
              "      <td>Snapdragon 6s 4G Gen 1</td>\n",
              "      <td>5000mAh</td>\n",
              "      <td>6.7 inches</td>\n",
              "      <td>PKR 59,999</td>\n",
              "      <td>INR 34,999</td>\n",
              "      <td>CNY 2,999</td>\n",
              "      <td>USD 399</td>\n",
              "      <td>AED 1,499</td>\n",
              "      <td>2024</td>\n",
              "    </tr>\n",
              "    <tr>\n",
              "      <th>423</th>\n",
              "      <td>Oppo</td>\n",
              "      <td>K11x 128GB</td>\n",
              "      <td>195g</td>\n",
              "      <td>8GB</td>\n",
              "      <td>16MP</td>\n",
              "      <td>108MP + 2MP</td>\n",
              "      <td>Qualcomm Snapdragon 695</td>\n",
              "      <td>5,000mAh</td>\n",
              "      <td>6.72 inches</td>\n",
              "      <td>PKR 59,999</td>\n",
              "      <td>INR 18,000</td>\n",
              "      <td>CNY 1,499</td>\n",
              "      <td>USD 199</td>\n",
              "      <td>AED 1,000</td>\n",
              "      <td>2023</td>\n",
              "    </tr>\n",
              "    <tr>\n",
              "      <th>424</th>\n",
              "      <td>Oppo</td>\n",
              "      <td>K11x 256GB</td>\n",
              "      <td>195g</td>\n",
              "      <td>12GB</td>\n",
              "      <td>16MP</td>\n",
              "      <td>108MP + 2MP</td>\n",
              "      <td>Qualcomm Snapdragon 695</td>\n",
              "      <td>5,000mAh</td>\n",
              "      <td>6.72 inches</td>\n",
              "      <td>PKR 64,999</td>\n",
              "      <td>INR 20,000</td>\n",
              "      <td>CNY 1,699</td>\n",
              "      <td>USD 229</td>\n",
              "      <td>AED 1,200</td>\n",
              "      <td>2023</td>\n",
              "    </tr>\n",
              "    <tr>\n",
              "      <th>425</th>\n",
              "      <td>Oppo</td>\n",
              "      <td>K10x 128GB</td>\n",
              "      <td>195g</td>\n",
              "      <td>6GB</td>\n",
              "      <td>16MP</td>\n",
              "      <td>64MP + 2MP + 2MP</td>\n",
              "      <td>Qualcomm Snapdragon 695</td>\n",
              "      <td>5,000mAh</td>\n",
              "      <td>6.59 inches</td>\n",
              "      <td>PKR 54,999</td>\n",
              "      <td>INR 16,990</td>\n",
              "      <td>CNY 1,499</td>\n",
              "      <td>USD 199</td>\n",
              "      <td>AED 1,000</td>\n",
              "      <td>2022</td>\n",
              "    </tr>\n",
              "    <tr>\n",
              "      <th>426</th>\n",
              "      <td>Oppo</td>\n",
              "      <td>K10x 256GB</td>\n",
              "      <td>195g</td>\n",
              "      <td>8GB</td>\n",
              "      <td>16MP</td>\n",
              "      <td>64MP + 2MP + 2MP</td>\n",
              "      <td>Qualcomm Snapdragon 695</td>\n",
              "      <td>5,000mAh</td>\n",
              "      <td>6.59 inches</td>\n",
              "      <td>PKR 59,999</td>\n",
              "      <td>INR 18,990</td>\n",
              "      <td>CNY 1,699</td>\n",
              "      <td>USD 229</td>\n",
              "      <td>AED 1,200</td>\n",
              "      <td>2022</td>\n",
              "    </tr>\n",
              "    <tr>\n",
              "      <th>427</th>\n",
              "      <td>Oppo</td>\n",
              "      <td>K10 5G 128GB</td>\n",
              "      <td>205g</td>\n",
              "      <td>8GB</td>\n",
              "      <td>16MP</td>\n",
              "      <td>64MP + 8MP + 2MP</td>\n",
              "      <td>MediaTek Dimensity 8000-Max</td>\n",
              "      <td>5,000mAh</td>\n",
              "      <td>6.59 inches</td>\n",
              "      <td>PKR 64,999</td>\n",
              "      <td>INR 19,999</td>\n",
              "      <td>CNY 1,799</td>\n",
              "      <td>USD 249</td>\n",
              "      <td>AED 1,300</td>\n",
              "      <td>2022</td>\n",
              "    </tr>\n",
              "    <tr>\n",
              "      <th>428</th>\n",
              "      <td>Oppo</td>\n",
              "      <td>K9x 128GB</td>\n",
              "      <td>194g</td>\n",
              "      <td>6GB</td>\n",
              "      <td>16MP</td>\n",
              "      <td>64MP + 2MP + 2MP</td>\n",
              "      <td>MediaTek Dimensity 810</td>\n",
              "      <td>5,000mAh</td>\n",
              "      <td>6.5 inches</td>\n",
              "      <td>PKR 49,999</td>\n",
              "      <td>INR 15,999</td>\n",
              "      <td>CNY 1,499</td>\n",
              "      <td>USD 199</td>\n",
              "      <td>AED 1,000</td>\n",
              "      <td>2021</td>\n",
              "    </tr>\n",
              "    <tr>\n",
              "      <th>429</th>\n",
              "      <td>Oppo</td>\n",
              "      <td>K9x 256GB</td>\n",
              "      <td>194g</td>\n",
              "      <td>8GB</td>\n",
              "      <td>16MP</td>\n",
              "      <td>64MP + 2MP + 2MP</td>\n",
              "      <td>MediaTek Dimensity 810</td>\n",
              "      <td>5,000mAh</td>\n",
              "      <td>6.5 inches</td>\n",
              "      <td>PKR 54,999</td>\n",
              "      <td>INR 17,999</td>\n",
              "      <td>CNY 1,699</td>\n",
              "      <td>USD 229</td>\n",
              "      <td>AED 1,200</td>\n",
              "      <td>2021</td>\n",
              "    </tr>\n",
              "    <tr>\n",
              "      <th>430</th>\n",
              "      <td>Oppo</td>\n",
              "      <td>K9 Pro 5G 128GB</td>\n",
              "      <td>180g</td>\n",
              "      <td>8GB</td>\n",
              "      <td>16MP</td>\n",
              "      <td>64MP + 8MP + 2MP</td>\n",
              "      <td>MediaTek Dimensity 1200</td>\n",
              "      <td>4,500mAh</td>\n",
              "      <td>6.43 inches</td>\n",
              "      <td>PKR 69,999</td>\n",
              "      <td>INR 24,999</td>\n",
              "      <td>CNY 2,199</td>\n",
              "      <td>USD 299</td>\n",
              "      <td>AED 1,500</td>\n",
              "      <td>2021</td>\n",
              "    </tr>\n",
              "    <tr>\n",
              "      <th>431</th>\n",
              "      <td>Oppo</td>\n",
              "      <td>K9 Pro 5G 256GB</td>\n",
              "      <td>180g</td>\n",
              "      <td>12GB</td>\n",
              "      <td>16MP</td>\n",
              "      <td>64MP + 8MP + 2MP</td>\n",
              "      <td>MediaTek Dimensity 1200</td>\n",
              "      <td>4,500mAh</td>\n",
              "      <td>6.43 inches</td>\n",
              "      <td>PKR 74,999</td>\n",
              "      <td>INR 27,999</td>\n",
              "      <td>CNY 2,499</td>\n",
              "      <td>USD 329</td>\n",
              "      <td>AED 1,700</td>\n",
              "      <td>2021</td>\n",
              "    </tr>\n",
              "    <tr>\n",
              "      <th>432</th>\n",
              "      <td>Oppo</td>\n",
              "      <td>K9 5G 128GB</td>\n",
              "      <td>172g</td>\n",
              "      <td>8GB</td>\n",
              "      <td>32MP</td>\n",
              "      <td>64MP + 8MP + 2MP</td>\n",
              "      <td>Qualcomm Snapdragon 768G</td>\n",
              "      <td>4,300mAh</td>\n",
              "      <td>6.43 inches</td>\n",
              "      <td>PKR 59,999</td>\n",
              "      <td>INR 22,999</td>\n",
              "      <td>CNY 1,999</td>\n",
              "      <td>USD 279</td>\n",
              "      <td>AED 1,400</td>\n",
              "      <td>2021</td>\n",
              "    </tr>\n",
              "    <tr>\n",
              "      <th>433</th>\n",
              "      <td>Oppo</td>\n",
              "      <td>K9 5G 256GB</td>\n",
              "      <td>172g</td>\n",
              "      <td>8GB</td>\n",
              "      <td>32MP</td>\n",
              "      <td>64MP + 8MP + 2MP</td>\n",
              "      <td>Qualcomm Snapdragon 768G</td>\n",
              "      <td>4,300mAh</td>\n",
              "      <td>6.43 inches</td>\n",
              "      <td>PKR 64,999</td>\n",
              "      <td>INR 24,999</td>\n",
              "      <td>CNY 2,199</td>\n",
              "      <td>USD 299</td>\n",
              "      <td>AED 1,500</td>\n",
              "      <td>2021</td>\n",
              "    </tr>\n",
              "    <tr>\n",
              "      <th>434</th>\n",
              "      <td>Oppo</td>\n",
              "      <td>K7x 128GB</td>\n",
              "      <td>194g</td>\n",
              "      <td>6GB</td>\n",
              "      <td>16MP</td>\n",
              "      <td>48MP + 8MP + 2MP + 2MP</td>\n",
              "      <td>MediaTek Dimensity 720</td>\n",
              "      <td>5,000mAh</td>\n",
              "      <td>6.5 inches</td>\n",
              "      <td>PKR 44,999</td>\n",
              "      <td>INR 14,999</td>\n",
              "      <td>CNY 1,499</td>\n",
              "      <td>USD 199</td>\n",
              "      <td>AED 1,000</td>\n",
              "      <td>2020</td>\n",
              "    </tr>\n",
              "    <tr>\n",
              "      <th>435</th>\n",
              "      <td>Oppo</td>\n",
              "      <td>K7 5G 128GB</td>\n",
              "      <td>180g</td>\n",
              "      <td>8GB</td>\n",
              "      <td>32MP</td>\n",
              "      <td>48MP + 8MP + 2MP + 2MP</td>\n",
              "      <td>Qualcomm Snapdragon 765G</td>\n",
              "      <td>4,025mAh</td>\n",
              "      <td>6.4 inches</td>\n",
              "      <td>PKR 49,999</td>\n",
              "      <td>INR 19,999</td>\n",
              "      <td>CNY 1,999</td>\n",
              "      <td>USD 279</td>\n",
              "      <td>AED 1,400</td>\n",
              "      <td>2020</td>\n",
              "    </tr>\n",
              "    <tr>\n",
              "      <th>437</th>\n",
              "      <td>Oppo</td>\n",
              "      <td>K11x 128GB</td>\n",
              "      <td>195g</td>\n",
              "      <td>8GB</td>\n",
              "      <td>16MP</td>\n",
              "      <td>108MP + 2MP</td>\n",
              "      <td>Qualcomm Snapdragon 695</td>\n",
              "      <td>5,000mAh</td>\n",
              "      <td>6.72 inches</td>\n",
              "      <td>PKR 59,999</td>\n",
              "      <td>INR 18,000</td>\n",
              "      <td>CNY 1,499</td>\n",
              "      <td>USD 199</td>\n",
              "      <td>AED 1,000</td>\n",
              "      <td>2023</td>\n",
              "    </tr>\n",
              "    <tr>\n",
              "      <th>438</th>\n",
              "      <td>Oppo</td>\n",
              "      <td>K11x 256GB</td>\n",
              "      <td>195g</td>\n",
              "      <td>12GB</td>\n",
              "      <td>16MP</td>\n",
              "      <td>108MP + 2MP</td>\n",
              "      <td>Qualcomm Snapdragon 695</td>\n",
              "      <td>5,000mAh</td>\n",
              "      <td>6.72 inches</td>\n",
              "      <td>PKR 64,999</td>\n",
              "      <td>INR 20,000</td>\n",
              "      <td>CNY 1,699</td>\n",
              "      <td>USD 229</td>\n",
              "      <td>AED 1,200</td>\n",
              "      <td>2023</td>\n",
              "    </tr>\n",
              "    <tr>\n",
              "      <th>441</th>\n",
              "      <td>Oppo</td>\n",
              "      <td>K10x 128GB</td>\n",
              "      <td>195g</td>\n",
              "      <td>6GB</td>\n",
              "      <td>16MP</td>\n",
              "      <td>64MP + 2MP + 2MP</td>\n",
              "      <td>Qualcomm Snapdragon 695</td>\n",
              "      <td>5,000mAh</td>\n",
              "      <td>6.59 inches</td>\n",
              "      <td>PKR 54,999</td>\n",
              "      <td>INR 16,990</td>\n",
              "      <td>CNY 1,499</td>\n",
              "      <td>USD 199</td>\n",
              "      <td>AED 1,000</td>\n",
              "      <td>2022</td>\n",
              "    </tr>\n",
              "    <tr>\n",
              "      <th>442</th>\n",
              "      <td>Oppo</td>\n",
              "      <td>K10x 256GB</td>\n",
              "      <td>195g</td>\n",
              "      <td>8GB</td>\n",
              "      <td>16MP</td>\n",
              "      <td>64MP + 2MP + 2MP</td>\n",
              "      <td>Qualcomm Snapdragon 695</td>\n",
              "      <td>5,000mAh</td>\n",
              "      <td>6.59 inches</td>\n",
              "      <td>PKR 59,999</td>\n",
              "      <td>INR 18,990</td>\n",
              "      <td>CNY 1,699</td>\n",
              "      <td>USD 229</td>\n",
              "      <td>AED 1,200</td>\n",
              "      <td>2022</td>\n",
              "    </tr>\n",
              "    <tr>\n",
              "      <th>443</th>\n",
              "      <td>Oppo</td>\n",
              "      <td>K10 5G 128GB</td>\n",
              "      <td>205g</td>\n",
              "      <td>8GB</td>\n",
              "      <td>16MP</td>\n",
              "      <td>64MP + 8MP + 2MP</td>\n",
              "      <td>MediaTek Dimensity 8000-Max</td>\n",
              "      <td>5,000mAh</td>\n",
              "      <td>6.59 inches</td>\n",
              "      <td>PKR 64,999</td>\n",
              "      <td>INR 19,999</td>\n",
              "      <td>CNY 1,799</td>\n",
              "      <td>USD 249</td>\n",
              "      <td>AED 1,300</td>\n",
              "      <td>2022</td>\n",
              "    </tr>\n",
              "    <tr>\n",
              "      <th>445</th>\n",
              "      <td>Oppo</td>\n",
              "      <td>K9x 128GB</td>\n",
              "      <td>194g</td>\n",
              "      <td>6GB</td>\n",
              "      <td>16MP</td>\n",
              "      <td>64MP + 2MP + 2MP</td>\n",
              "      <td>MediaTek Dimensity 810</td>\n",
              "      <td>5,000mAh</td>\n",
              "      <td>6.5 inches</td>\n",
              "      <td>PKR 49,999</td>\n",
              "      <td>INR 15,999</td>\n",
              "      <td>CNY 1,499</td>\n",
              "      <td>USD 199</td>\n",
              "      <td>AED 1,000</td>\n",
              "      <td>2021</td>\n",
              "    </tr>\n",
              "    <tr>\n",
              "      <th>446</th>\n",
              "      <td>Oppo</td>\n",
              "      <td>K9x 256GB</td>\n",
              "      <td>194g</td>\n",
              "      <td>8GB</td>\n",
              "      <td>16MP</td>\n",
              "      <td>64MP + 2MP + 2MP</td>\n",
              "      <td>MediaTek Dimensity 810</td>\n",
              "      <td>5,000mAh</td>\n",
              "      <td>6.5 inches</td>\n",
              "      <td>PKR 54,999</td>\n",
              "      <td>INR 17,999</td>\n",
              "      <td>CNY 1,699</td>\n",
              "      <td>USD 229</td>\n",
              "      <td>AED 1,200</td>\n",
              "      <td>2021</td>\n",
              "    </tr>\n",
              "    <tr>\n",
              "      <th>447</th>\n",
              "      <td>Oppo</td>\n",
              "      <td>K9 Pro 5G 128GB</td>\n",
              "      <td>180g</td>\n",
              "      <td>8GB</td>\n",
              "      <td>16MP</td>\n",
              "      <td>64MP + 8MP + 2MP</td>\n",
              "      <td>MediaTek Dimensity 1200</td>\n",
              "      <td>4,500mAh</td>\n",
              "      <td>6.43 inches</td>\n",
              "      <td>PKR 69,999</td>\n",
              "      <td>INR 24,999</td>\n",
              "      <td>CNY 2,199</td>\n",
              "      <td>USD 299</td>\n",
              "      <td>AED 1,500</td>\n",
              "      <td>2021</td>\n",
              "    </tr>\n",
              "    <tr>\n",
              "      <th>448</th>\n",
              "      <td>Oppo</td>\n",
              "      <td>K9 Pro 5G 256GB</td>\n",
              "      <td>180g</td>\n",
              "      <td>12GB</td>\n",
              "      <td>16MP</td>\n",
              "      <td>64MP + 8MP + 2MP</td>\n",
              "      <td>MediaTek Dimensity 1200</td>\n",
              "      <td>4,500mAh</td>\n",
              "      <td>6.43 inches</td>\n",
              "      <td>PKR 74,999</td>\n",
              "      <td>INR 27,999</td>\n",
              "      <td>CNY 2,499</td>\n",
              "      <td>USD 329</td>\n",
              "      <td>AED 1,700</td>\n",
              "      <td>2021</td>\n",
              "    </tr>\n",
              "    <tr>\n",
              "      <th>449</th>\n",
              "      <td>Oppo</td>\n",
              "      <td>K9 5G 128GB</td>\n",
              "      <td>172g</td>\n",
              "      <td>8GB</td>\n",
              "      <td>32MP</td>\n",
              "      <td>64MP + 8MP + 2MP</td>\n",
              "      <td>Qualcomm Snapdragon 768G</td>\n",
              "      <td>4,300mAh</td>\n",
              "      <td>6.43 inches</td>\n",
              "      <td>PKR 59,999</td>\n",
              "      <td>INR 22,999</td>\n",
              "      <td>CNY 1,999</td>\n",
              "      <td>USD 279</td>\n",
              "      <td>AED 1,400</td>\n",
              "      <td>2021</td>\n",
              "    </tr>\n",
              "    <tr>\n",
              "      <th>450</th>\n",
              "      <td>Oppo</td>\n",
              "      <td>K9 5G 256GB</td>\n",
              "      <td>172g</td>\n",
              "      <td>8GB</td>\n",
              "      <td>32MP</td>\n",
              "      <td>64MP + 8MP + 2MP</td>\n",
              "      <td>Qualcomm Snapdragon 768G</td>\n",
              "      <td>4,300mAh</td>\n",
              "      <td>6.43 inches</td>\n",
              "      <td>PKR 64,999</td>\n",
              "      <td>INR 24,999</td>\n",
              "      <td>CNY 2,199</td>\n",
              "      <td>USD 299</td>\n",
              "      <td>AED 1,500</td>\n",
              "      <td>2021</td>\n",
              "    </tr>\n",
              "    <tr>\n",
              "      <th>451</th>\n",
              "      <td>Oppo</td>\n",
              "      <td>K7x 128GB</td>\n",
              "      <td>194g</td>\n",
              "      <td>6GB</td>\n",
              "      <td>16MP</td>\n",
              "      <td>48MP + 8MP + 2MP + 2MP</td>\n",
              "      <td>MediaTek Dimensity 720</td>\n",
              "      <td>5,000mAh</td>\n",
              "      <td>6.5 inches</td>\n",
              "      <td>PKR 44,999</td>\n",
              "      <td>INR 14,999</td>\n",
              "      <td>CNY 1,499</td>\n",
              "      <td>USD 199</td>\n",
              "      <td>AED 1,000</td>\n",
              "      <td>2020</td>\n",
              "    </tr>\n",
              "    <tr>\n",
              "      <th>452</th>\n",
              "      <td>Oppo</td>\n",
              "      <td>K7 5G 128GB</td>\n",
              "      <td>180g</td>\n",
              "      <td>8GB</td>\n",
              "      <td>32MP</td>\n",
              "      <td>48MP + 8MP + 2MP + 2MP</td>\n",
              "      <td>Qualcomm Snapdragon 765G</td>\n",
              "      <td>4,025mAh</td>\n",
              "      <td>6.4 inches</td>\n",
              "      <td>PKR 49,999</td>\n",
              "      <td>INR 19,999</td>\n",
              "      <td>CNY 1,999</td>\n",
              "      <td>USD 279</td>\n",
              "      <td>AED 1,400</td>\n",
              "      <td>2020</td>\n",
              "    </tr>\n",
              "    <tr>\n",
              "      <th>791</th>\n",
              "      <td>Infinix</td>\n",
              "      <td>Hot 10 Lite 64GB</td>\n",
              "      <td>195g</td>\n",
              "      <td>3GB</td>\n",
              "      <td>8MP</td>\n",
              "      <td>13MP</td>\n",
              "      <td>MediaTek Helio A25</td>\n",
              "      <td>5,000mAh</td>\n",
              "      <td>6.6 inches</td>\n",
              "      <td>PKR 19,999</td>\n",
              "      <td>INR 7,999</td>\n",
              "      <td>CNY 699</td>\n",
              "      <td>USD 109</td>\n",
              "      <td>AED 399</td>\n",
              "      <td>2020</td>\n",
              "    </tr>\n",
              "    <tr>\n",
              "      <th>798</th>\n",
              "      <td>Infinix</td>\n",
              "      <td>Hot 10 Lite 64GB</td>\n",
              "      <td>195g</td>\n",
              "      <td>3GB</td>\n",
              "      <td>8MP</td>\n",
              "      <td>13MP</td>\n",
              "      <td>MediaTek Helio A25</td>\n",
              "      <td>5,000mAh</td>\n",
              "      <td>6.6 inches</td>\n",
              "      <td>PKR 19,999</td>\n",
              "      <td>INR 7,999</td>\n",
              "      <td>CNY 699</td>\n",
              "      <td>USD 109</td>\n",
              "      <td>AED 399</td>\n",
              "      <td>2020</td>\n",
              "    </tr>\n",
              "  </tbody>\n",
              "</table>\n",
              "</div>"
            ],
            "text/plain": [
              "    Company Name        Model Name Mobile Weight (gram) RAM (GB)  \\\n",
              "344         Oppo          A3 128GB                 186g      4GB   \n",
              "347         Oppo          A3 128GB                 186g      4GB   \n",
              "423         Oppo        K11x 128GB                 195g      8GB   \n",
              "424         Oppo        K11x 256GB                 195g     12GB   \n",
              "425         Oppo        K10x 128GB                 195g      6GB   \n",
              "426         Oppo        K10x 256GB                 195g      8GB   \n",
              "427         Oppo      K10 5G 128GB                 205g      8GB   \n",
              "428         Oppo         K9x 128GB                 194g      6GB   \n",
              "429         Oppo         K9x 256GB                 194g      8GB   \n",
              "430         Oppo   K9 Pro 5G 128GB                 180g      8GB   \n",
              "431         Oppo   K9 Pro 5G 256GB                 180g     12GB   \n",
              "432         Oppo       K9 5G 128GB                 172g      8GB   \n",
              "433         Oppo       K9 5G 256GB                 172g      8GB   \n",
              "434         Oppo         K7x 128GB                 194g      6GB   \n",
              "435         Oppo       K7 5G 128GB                 180g      8GB   \n",
              "437         Oppo        K11x 128GB                 195g      8GB   \n",
              "438         Oppo        K11x 256GB                 195g     12GB   \n",
              "441         Oppo        K10x 128GB                 195g      6GB   \n",
              "442         Oppo        K10x 256GB                 195g      8GB   \n",
              "443         Oppo      K10 5G 128GB                 205g      8GB   \n",
              "445         Oppo         K9x 128GB                 194g      6GB   \n",
              "446         Oppo         K9x 256GB                 194g      8GB   \n",
              "447         Oppo   K9 Pro 5G 128GB                 180g      8GB   \n",
              "448         Oppo   K9 Pro 5G 256GB                 180g     12GB   \n",
              "449         Oppo       K9 5G 128GB                 172g      8GB   \n",
              "450         Oppo       K9 5G 256GB                 172g      8GB   \n",
              "451         Oppo         K7x 128GB                 194g      6GB   \n",
              "452         Oppo       K7 5G 128GB                 180g      8GB   \n",
              "791      Infinix  Hot 10 Lite 64GB                 195g      3GB   \n",
              "798      Infinix  Hot 10 Lite 64GB                 195g      3GB   \n",
              "\n",
              "    Front Camera (MP)        Back Camera (MP)                    Processor  \\\n",
              "344               5MP                    50MP       Snapdragon 6s 4G Gen 1   \n",
              "347               5MP                    50MP       Snapdragon 6s 4G Gen 1   \n",
              "423              16MP             108MP + 2MP      Qualcomm Snapdragon 695   \n",
              "424              16MP             108MP + 2MP      Qualcomm Snapdragon 695   \n",
              "425              16MP        64MP + 2MP + 2MP      Qualcomm Snapdragon 695   \n",
              "426              16MP        64MP + 2MP + 2MP      Qualcomm Snapdragon 695   \n",
              "427              16MP        64MP + 8MP + 2MP  MediaTek Dimensity 8000-Max   \n",
              "428              16MP        64MP + 2MP + 2MP       MediaTek Dimensity 810   \n",
              "429              16MP        64MP + 2MP + 2MP       MediaTek Dimensity 810   \n",
              "430              16MP        64MP + 8MP + 2MP      MediaTek Dimensity 1200   \n",
              "431              16MP        64MP + 8MP + 2MP      MediaTek Dimensity 1200   \n",
              "432              32MP        64MP + 8MP + 2MP     Qualcomm Snapdragon 768G   \n",
              "433              32MP        64MP + 8MP + 2MP     Qualcomm Snapdragon 768G   \n",
              "434              16MP  48MP + 8MP + 2MP + 2MP       MediaTek Dimensity 720   \n",
              "435              32MP  48MP + 8MP + 2MP + 2MP     Qualcomm Snapdragon 765G   \n",
              "437              16MP             108MP + 2MP      Qualcomm Snapdragon 695   \n",
              "438              16MP             108MP + 2MP      Qualcomm Snapdragon 695   \n",
              "441              16MP        64MP + 2MP + 2MP      Qualcomm Snapdragon 695   \n",
              "442              16MP        64MP + 2MP + 2MP      Qualcomm Snapdragon 695   \n",
              "443              16MP        64MP + 8MP + 2MP  MediaTek Dimensity 8000-Max   \n",
              "445              16MP        64MP + 2MP + 2MP       MediaTek Dimensity 810   \n",
              "446              16MP        64MP + 2MP + 2MP       MediaTek Dimensity 810   \n",
              "447              16MP        64MP + 8MP + 2MP      MediaTek Dimensity 1200   \n",
              "448              16MP        64MP + 8MP + 2MP      MediaTek Dimensity 1200   \n",
              "449              32MP        64MP + 8MP + 2MP     Qualcomm Snapdragon 768G   \n",
              "450              32MP        64MP + 8MP + 2MP     Qualcomm Snapdragon 768G   \n",
              "451              16MP  48MP + 8MP + 2MP + 2MP       MediaTek Dimensity 720   \n",
              "452              32MP  48MP + 8MP + 2MP + 2MP     Qualcomm Snapdragon 765G   \n",
              "791               8MP                    13MP           MediaTek Helio A25   \n",
              "798               8MP                    13MP           MediaTek Helio A25   \n",
              "\n",
              "    Battery Capacity (mAh) Screen Size (inch) Launched Price (Pakistan USD)  \\\n",
              "344                5000mAh         6.7 inches                    PKR 59,999   \n",
              "347                5000mAh         6.7 inches                    PKR 59,999   \n",
              "423               5,000mAh        6.72 inches                    PKR 59,999   \n",
              "424               5,000mAh        6.72 inches                    PKR 64,999   \n",
              "425               5,000mAh        6.59 inches                    PKR 54,999   \n",
              "426               5,000mAh        6.59 inches                    PKR 59,999   \n",
              "427               5,000mAh        6.59 inches                    PKR 64,999   \n",
              "428               5,000mAh         6.5 inches                    PKR 49,999   \n",
              "429               5,000mAh         6.5 inches                    PKR 54,999   \n",
              "430               4,500mAh        6.43 inches                    PKR 69,999   \n",
              "431               4,500mAh        6.43 inches                    PKR 74,999   \n",
              "432               4,300mAh        6.43 inches                    PKR 59,999   \n",
              "433               4,300mAh        6.43 inches                    PKR 64,999   \n",
              "434               5,000mAh         6.5 inches                    PKR 44,999   \n",
              "435               4,025mAh         6.4 inches                    PKR 49,999   \n",
              "437               5,000mAh        6.72 inches                    PKR 59,999   \n",
              "438               5,000mAh        6.72 inches                    PKR 64,999   \n",
              "441               5,000mAh        6.59 inches                    PKR 54,999   \n",
              "442               5,000mAh        6.59 inches                    PKR 59,999   \n",
              "443               5,000mAh        6.59 inches                    PKR 64,999   \n",
              "445               5,000mAh         6.5 inches                    PKR 49,999   \n",
              "446               5,000mAh         6.5 inches                    PKR 54,999   \n",
              "447               4,500mAh        6.43 inches                    PKR 69,999   \n",
              "448               4,500mAh        6.43 inches                    PKR 74,999   \n",
              "449               4,300mAh        6.43 inches                    PKR 59,999   \n",
              "450               4,300mAh        6.43 inches                    PKR 64,999   \n",
              "451               5,000mAh         6.5 inches                    PKR 44,999   \n",
              "452               4,025mAh         6.4 inches                    PKR 49,999   \n",
              "791               5,000mAh         6.6 inches                    PKR 19,999   \n",
              "798               5,000mAh         6.6 inches                    PKR 19,999   \n",
              "\n",
              "    Launched Price (India USD) Launched Price (China USD)  \\\n",
              "344                 INR 34,999                  CNY 2,999   \n",
              "347                 INR 34,999                  CNY 2,999   \n",
              "423                 INR 18,000                  CNY 1,499   \n",
              "424                 INR 20,000                  CNY 1,699   \n",
              "425                 INR 16,990                  CNY 1,499   \n",
              "426                 INR 18,990                  CNY 1,699   \n",
              "427                 INR 19,999                  CNY 1,799   \n",
              "428                 INR 15,999                  CNY 1,499   \n",
              "429                 INR 17,999                  CNY 1,699   \n",
              "430                 INR 24,999                  CNY 2,199   \n",
              "431                 INR 27,999                  CNY 2,499   \n",
              "432                 INR 22,999                  CNY 1,999   \n",
              "433                 INR 24,999                  CNY 2,199   \n",
              "434                 INR 14,999                  CNY 1,499   \n",
              "435                 INR 19,999                  CNY 1,999   \n",
              "437                 INR 18,000                  CNY 1,499   \n",
              "438                 INR 20,000                  CNY 1,699   \n",
              "441                 INR 16,990                  CNY 1,499   \n",
              "442                 INR 18,990                  CNY 1,699   \n",
              "443                 INR 19,999                  CNY 1,799   \n",
              "445                 INR 15,999                  CNY 1,499   \n",
              "446                 INR 17,999                  CNY 1,699   \n",
              "447                 INR 24,999                  CNY 2,199   \n",
              "448                 INR 27,999                  CNY 2,499   \n",
              "449                 INR 22,999                  CNY 1,999   \n",
              "450                 INR 24,999                  CNY 2,199   \n",
              "451                 INR 14,999                  CNY 1,499   \n",
              "452                 INR 19,999                  CNY 1,999   \n",
              "791                  INR 7,999                    CNY 699   \n",
              "798                  INR 7,999                    CNY 699   \n",
              "\n",
              "    Launched Price (USA USD) Launched Price (Dubai USD)  Launched Year  \n",
              "344                  USD 399                  AED 1,499           2024  \n",
              "347                  USD 399                  AED 1,499           2024  \n",
              "423                  USD 199                  AED 1,000           2023  \n",
              "424                  USD 229                  AED 1,200           2023  \n",
              "425                  USD 199                  AED 1,000           2022  \n",
              "426                  USD 229                  AED 1,200           2022  \n",
              "427                  USD 249                  AED 1,300           2022  \n",
              "428                  USD 199                  AED 1,000           2021  \n",
              "429                  USD 229                  AED 1,200           2021  \n",
              "430                  USD 299                  AED 1,500           2021  \n",
              "431                  USD 329                  AED 1,700           2021  \n",
              "432                  USD 279                  AED 1,400           2021  \n",
              "433                  USD 299                  AED 1,500           2021  \n",
              "434                  USD 199                  AED 1,000           2020  \n",
              "435                  USD 279                  AED 1,400           2020  \n",
              "437                  USD 199                  AED 1,000           2023  \n",
              "438                  USD 229                  AED 1,200           2023  \n",
              "441                  USD 199                  AED 1,000           2022  \n",
              "442                  USD 229                  AED 1,200           2022  \n",
              "443                  USD 249                  AED 1,300           2022  \n",
              "445                  USD 199                  AED 1,000           2021  \n",
              "446                  USD 229                  AED 1,200           2021  \n",
              "447                  USD 299                  AED 1,500           2021  \n",
              "448                  USD 329                  AED 1,700           2021  \n",
              "449                  USD 279                  AED 1,400           2021  \n",
              "450                  USD 299                  AED 1,500           2021  \n",
              "451                  USD 199                  AED 1,000           2020  \n",
              "452                  USD 279                  AED 1,400           2020  \n",
              "791                  USD 109                    AED 399           2020  \n",
              "798                  USD 109                    AED 399           2020  "
            ]
          },
          "execution_count": 9,
          "metadata": {},
          "output_type": "execute_result"
        }
      ],
      "source": [
        "df[df.duplicated(keep=False)]"
      ]
    },
    {
      "cell_type": "code",
      "execution_count": 10,
      "metadata": {},
      "outputs": [],
      "source": [
        "df.drop_duplicates(keep=False,inplace=True)"
      ]
    },
    {
      "cell_type": "code",
      "execution_count": 11,
      "metadata": {
        "colab": {
          "base_uri": "https://localhost:8080/"
        },
        "id": "2mJ_0uxB0auH",
        "outputId": "5cfe12b7-005e-4ec1-ae4f-d86f1fb49b34"
      },
      "outputs": [
        {
          "data": {
            "text/plain": [
              "np.int64(0)"
            ]
          },
          "execution_count": 11,
          "metadata": {},
          "output_type": "execute_result"
        }
      ],
      "source": [
        "df.duplicated().sum()"
      ]
    },
    {
      "cell_type": "code",
      "execution_count": 12,
      "metadata": {
        "colab": {
          "base_uri": "https://localhost:8080/",
          "height": 310
        },
        "id": "EZa3MFdLyubS",
        "outputId": "09edfed5-74ae-4ce1-e777-11c82d5f2540"
      },
      "outputs": [
        {
          "data": {
            "application/vnd.microsoft.datawrangler.viewer.v0+json": {
              "columns": [
                {
                  "name": "index",
                  "rawType": "int64",
                  "type": "integer"
                },
                {
                  "name": "Company Name",
                  "rawType": "object",
                  "type": "string"
                },
                {
                  "name": "Model Name",
                  "rawType": "object",
                  "type": "string"
                },
                {
                  "name": "Mobile Weight (gram)",
                  "rawType": "object",
                  "type": "string"
                },
                {
                  "name": "RAM (GB)",
                  "rawType": "object",
                  "type": "string"
                },
                {
                  "name": "Front Camera (MP)",
                  "rawType": "object",
                  "type": "string"
                },
                {
                  "name": "Back Camera (MP)",
                  "rawType": "object",
                  "type": "string"
                },
                {
                  "name": "Processor",
                  "rawType": "object",
                  "type": "string"
                },
                {
                  "name": "Battery Capacity (mAh)",
                  "rawType": "object",
                  "type": "string"
                },
                {
                  "name": "Screen Size (inch)",
                  "rawType": "object",
                  "type": "string"
                },
                {
                  "name": "Launched Price (Pakistan USD)",
                  "rawType": "object",
                  "type": "string"
                },
                {
                  "name": "Launched Price (India USD)",
                  "rawType": "object",
                  "type": "string"
                },
                {
                  "name": "Launched Price (China USD)",
                  "rawType": "object",
                  "type": "string"
                },
                {
                  "name": "Launched Price (USA USD)",
                  "rawType": "object",
                  "type": "string"
                },
                {
                  "name": "Launched Price (Dubai USD)",
                  "rawType": "object",
                  "type": "string"
                },
                {
                  "name": "Launched Year",
                  "rawType": "int64",
                  "type": "integer"
                }
              ],
              "ref": "183f182f-baff-4af2-9ebf-c467f76dc836",
              "rows": [
                [
                  "0",
                  "Apple",
                  "iPhone 16 128GB",
                  "174g",
                  "6GB",
                  "12MP",
                  "48MP",
                  "A17 Bionic",
                  "3,600mAh",
                  "6.1 inches",
                  "PKR 224,999",
                  "INR 79,999",
                  "CNY 5,799",
                  "USD 799",
                  "AED 2,799",
                  "2024"
                ],
                [
                  "1",
                  "Apple",
                  "iPhone 16 256GB",
                  "174g",
                  "6GB",
                  "12MP",
                  "48MP",
                  "A17 Bionic",
                  "3,600mAh",
                  "6.1 inches",
                  "PKR 234,999",
                  "INR 84,999",
                  "CNY 6,099",
                  "USD 849",
                  "AED 2,999",
                  "2024"
                ],
                [
                  "2",
                  "Apple",
                  "iPhone 16 512GB",
                  "174g",
                  "6GB",
                  "12MP",
                  "48MP",
                  "A17 Bionic",
                  "3,600mAh",
                  "6.1 inches",
                  "PKR 244,999",
                  "INR 89,999",
                  "CNY 6,499",
                  "USD 899",
                  "AED 3,199",
                  "2024"
                ],
                [
                  "3",
                  "Apple",
                  "iPhone 16 Plus 128GB",
                  "203g",
                  "6GB",
                  "12MP",
                  "48MP",
                  "A17 Bionic",
                  "4,200mAh",
                  "6.7 inches",
                  "PKR 249,999",
                  "INR 89,999",
                  "CNY 6,199",
                  "USD 899",
                  "AED 3,199",
                  "2024"
                ],
                [
                  "4",
                  "Apple",
                  "iPhone 16 Plus 256GB",
                  "203g",
                  "6GB",
                  "12MP",
                  "48MP",
                  "A17 Bionic",
                  "4,200mAh",
                  "6.7 inches",
                  "PKR 259,999",
                  "INR 94,999",
                  "CNY 6,499",
                  "USD 949",
                  "AED 3,399",
                  "2024"
                ]
              ],
              "shape": {
                "columns": 15,
                "rows": 5
              }
            },
            "text/html": [
              "<div>\n",
              "<style scoped>\n",
              "    .dataframe tbody tr th:only-of-type {\n",
              "        vertical-align: middle;\n",
              "    }\n",
              "\n",
              "    .dataframe tbody tr th {\n",
              "        vertical-align: top;\n",
              "    }\n",
              "\n",
              "    .dataframe thead th {\n",
              "        text-align: right;\n",
              "    }\n",
              "</style>\n",
              "<table border=\"1\" class=\"dataframe\">\n",
              "  <thead>\n",
              "    <tr style=\"text-align: right;\">\n",
              "      <th></th>\n",
              "      <th>Company Name</th>\n",
              "      <th>Model Name</th>\n",
              "      <th>Mobile Weight (gram)</th>\n",
              "      <th>RAM (GB)</th>\n",
              "      <th>Front Camera (MP)</th>\n",
              "      <th>Back Camera (MP)</th>\n",
              "      <th>Processor</th>\n",
              "      <th>Battery Capacity (mAh)</th>\n",
              "      <th>Screen Size (inch)</th>\n",
              "      <th>Launched Price (Pakistan USD)</th>\n",
              "      <th>Launched Price (India USD)</th>\n",
              "      <th>Launched Price (China USD)</th>\n",
              "      <th>Launched Price (USA USD)</th>\n",
              "      <th>Launched Price (Dubai USD)</th>\n",
              "      <th>Launched Year</th>\n",
              "    </tr>\n",
              "  </thead>\n",
              "  <tbody>\n",
              "    <tr>\n",
              "      <th>0</th>\n",
              "      <td>Apple</td>\n",
              "      <td>iPhone 16 128GB</td>\n",
              "      <td>174g</td>\n",
              "      <td>6GB</td>\n",
              "      <td>12MP</td>\n",
              "      <td>48MP</td>\n",
              "      <td>A17 Bionic</td>\n",
              "      <td>3,600mAh</td>\n",
              "      <td>6.1 inches</td>\n",
              "      <td>PKR 224,999</td>\n",
              "      <td>INR 79,999</td>\n",
              "      <td>CNY 5,799</td>\n",
              "      <td>USD 799</td>\n",
              "      <td>AED 2,799</td>\n",
              "      <td>2024</td>\n",
              "    </tr>\n",
              "    <tr>\n",
              "      <th>1</th>\n",
              "      <td>Apple</td>\n",
              "      <td>iPhone 16 256GB</td>\n",
              "      <td>174g</td>\n",
              "      <td>6GB</td>\n",
              "      <td>12MP</td>\n",
              "      <td>48MP</td>\n",
              "      <td>A17 Bionic</td>\n",
              "      <td>3,600mAh</td>\n",
              "      <td>6.1 inches</td>\n",
              "      <td>PKR 234,999</td>\n",
              "      <td>INR 84,999</td>\n",
              "      <td>CNY 6,099</td>\n",
              "      <td>USD 849</td>\n",
              "      <td>AED 2,999</td>\n",
              "      <td>2024</td>\n",
              "    </tr>\n",
              "    <tr>\n",
              "      <th>2</th>\n",
              "      <td>Apple</td>\n",
              "      <td>iPhone 16 512GB</td>\n",
              "      <td>174g</td>\n",
              "      <td>6GB</td>\n",
              "      <td>12MP</td>\n",
              "      <td>48MP</td>\n",
              "      <td>A17 Bionic</td>\n",
              "      <td>3,600mAh</td>\n",
              "      <td>6.1 inches</td>\n",
              "      <td>PKR 244,999</td>\n",
              "      <td>INR 89,999</td>\n",
              "      <td>CNY 6,499</td>\n",
              "      <td>USD 899</td>\n",
              "      <td>AED 3,199</td>\n",
              "      <td>2024</td>\n",
              "    </tr>\n",
              "    <tr>\n",
              "      <th>3</th>\n",
              "      <td>Apple</td>\n",
              "      <td>iPhone 16 Plus 128GB</td>\n",
              "      <td>203g</td>\n",
              "      <td>6GB</td>\n",
              "      <td>12MP</td>\n",
              "      <td>48MP</td>\n",
              "      <td>A17 Bionic</td>\n",
              "      <td>4,200mAh</td>\n",
              "      <td>6.7 inches</td>\n",
              "      <td>PKR 249,999</td>\n",
              "      <td>INR 89,999</td>\n",
              "      <td>CNY 6,199</td>\n",
              "      <td>USD 899</td>\n",
              "      <td>AED 3,199</td>\n",
              "      <td>2024</td>\n",
              "    </tr>\n",
              "    <tr>\n",
              "      <th>4</th>\n",
              "      <td>Apple</td>\n",
              "      <td>iPhone 16 Plus 256GB</td>\n",
              "      <td>203g</td>\n",
              "      <td>6GB</td>\n",
              "      <td>12MP</td>\n",
              "      <td>48MP</td>\n",
              "      <td>A17 Bionic</td>\n",
              "      <td>4,200mAh</td>\n",
              "      <td>6.7 inches</td>\n",
              "      <td>PKR 259,999</td>\n",
              "      <td>INR 94,999</td>\n",
              "      <td>CNY 6,499</td>\n",
              "      <td>USD 949</td>\n",
              "      <td>AED 3,399</td>\n",
              "      <td>2024</td>\n",
              "    </tr>\n",
              "  </tbody>\n",
              "</table>\n",
              "</div>"
            ],
            "text/plain": [
              "  Company Name            Model Name Mobile Weight (gram) RAM (GB)  \\\n",
              "0        Apple       iPhone 16 128GB                 174g      6GB   \n",
              "1        Apple       iPhone 16 256GB                 174g      6GB   \n",
              "2        Apple       iPhone 16 512GB                 174g      6GB   \n",
              "3        Apple  iPhone 16 Plus 128GB                 203g      6GB   \n",
              "4        Apple  iPhone 16 Plus 256GB                 203g      6GB   \n",
              "\n",
              "  Front Camera (MP) Back Camera (MP)   Processor Battery Capacity (mAh)  \\\n",
              "0              12MP             48MP  A17 Bionic               3,600mAh   \n",
              "1              12MP             48MP  A17 Bionic               3,600mAh   \n",
              "2              12MP             48MP  A17 Bionic               3,600mAh   \n",
              "3              12MP             48MP  A17 Bionic               4,200mAh   \n",
              "4              12MP             48MP  A17 Bionic               4,200mAh   \n",
              "\n",
              "  Screen Size (inch) Launched Price (Pakistan USD) Launched Price (India USD)  \\\n",
              "0         6.1 inches                   PKR 224,999                 INR 79,999   \n",
              "1         6.1 inches                   PKR 234,999                 INR 84,999   \n",
              "2         6.1 inches                   PKR 244,999                 INR 89,999   \n",
              "3         6.7 inches                   PKR 249,999                 INR 89,999   \n",
              "4         6.7 inches                   PKR 259,999                 INR 94,999   \n",
              "\n",
              "  Launched Price (China USD) Launched Price (USA USD)  \\\n",
              "0                  CNY 5,799                  USD 799   \n",
              "1                  CNY 6,099                  USD 849   \n",
              "2                  CNY 6,499                  USD 899   \n",
              "3                  CNY 6,199                  USD 899   \n",
              "4                  CNY 6,499                  USD 949   \n",
              "\n",
              "  Launched Price (Dubai USD)  Launched Year  \n",
              "0                  AED 2,799           2024  \n",
              "1                  AED 2,999           2024  \n",
              "2                  AED 3,199           2024  \n",
              "3                  AED 3,199           2024  \n",
              "4                  AED 3,399           2024  "
            ]
          },
          "execution_count": 12,
          "metadata": {},
          "output_type": "execute_result"
        }
      ],
      "source": [
        "df.head()"
      ]
    },
    {
      "cell_type": "code",
      "execution_count": 13,
      "metadata": {},
      "outputs": [],
      "source": [
        "df['Mobile Weight (gram)'] = df['Mobile Weight (gram)'].apply(lambda x: x.replace('g',''))"
      ]
    },
    {
      "cell_type": "code",
      "execution_count": 14,
      "metadata": {},
      "outputs": [
        {
          "data": {
            "application/vnd.microsoft.datawrangler.viewer.v0+json": {
              "columns": [
                {
                  "name": "Mobile Weight (gram)",
                  "rawType": "object",
                  "type": "string"
                },
                {
                  "name": "count",
                  "rawType": "int64",
                  "type": "integer"
                }
              ],
              "ref": "4ec48c9f-df43-4513-ae4c-cae9675192b7",
              "rows": [
                [
                  "190",
                  "68"
                ],
                [
                  "195",
                  "54"
                ],
                [
                  "185",
                  "29"
                ],
                [
                  "192",
                  "26"
                ],
                [
                  "198",
                  "22"
                ],
                [
                  "206",
                  "21"
                ],
                [
                  "188",
                  "21"
                ],
                [
                  "191",
                  "20"
                ],
                [
                  "186",
                  "20"
                ],
                [
                  "205",
                  "20"
                ],
                [
                  "189",
                  "20"
                ],
                [
                  "180",
                  "19"
                ],
                [
                  "210",
                  "18"
                ],
                [
                  "199",
                  "18"
                ],
                [
                  "203",
                  "17"
                ],
                [
                  "196",
                  "16"
                ],
                [
                  "184",
                  "16"
                ],
                [
                  "168",
                  "15"
                ],
                [
                  "202",
                  "15"
                ],
                [
                  "179",
                  "14"
                ],
                [
                  "173",
                  "13"
                ],
                [
                  "221",
                  "13"
                ],
                [
                  "182",
                  "12"
                ],
                [
                  "175",
                  "12"
                ],
                [
                  "174",
                  "12"
                ],
                [
                  "209",
                  "12"
                ],
                [
                  "187",
                  "11"
                ],
                [
                  "200",
                  "11"
                ],
                [
                  "193",
                  "11"
                ],
                [
                  "172",
                  "11"
                ],
                [
                  "181",
                  "10"
                ],
                [
                  "228",
                  "9"
                ],
                [
                  "194",
                  "9"
                ],
                [
                  "183",
                  "8"
                ],
                [
                  "177",
                  "8"
                ],
                [
                  "204",
                  "8"
                ],
                [
                  "170",
                  "7"
                ],
                [
                  "171",
                  "6"
                ],
                [
                  "220",
                  "6"
                ],
                [
                  "460",
                  "6"
                ],
                [
                  "164",
                  "6"
                ],
                [
                  "234",
                  "5"
                ],
                [
                  "208",
                  "5"
                ],
                [
                  "207",
                  "5"
                ],
                [
                  "239",
                  "5"
                ],
                [
                  "708",
                  "5"
                ],
                [
                  "218",
                  "4"
                ],
                [
                  "223",
                  "4"
                ],
                [
                  "226",
                  "4"
                ],
                [
                  "238",
                  "4"
                ]
              ],
              "shape": {
                "columns": 1,
                "rows": 148
              }
            },
            "text/plain": [
              "Mobile Weight (gram)\n",
              "190      68\n",
              "195      54\n",
              "185      29\n",
              "192      26\n",
              "198      22\n",
              "         ..\n",
              "288       1\n",
              "495       1\n",
              "505       1\n",
              "475       1\n",
              "178.8     1\n",
              "Name: count, Length: 148, dtype: int64"
            ]
          },
          "execution_count": 14,
          "metadata": {},
          "output_type": "execute_result"
        }
      ],
      "source": [
        "df['Mobile Weight (gram)'].value_counts()"
      ]
    },
    {
      "cell_type": "code",
      "execution_count": 15,
      "metadata": {},
      "outputs": [],
      "source": [
        "df['Mobile Weight (gram)'] = pd.to_numeric(df['Mobile Weight (gram)'], errors='coerce')"
      ]
    },
    {
      "cell_type": "code",
      "execution_count": 16,
      "metadata": {},
      "outputs": [
        {
          "data": {
            "application/vnd.microsoft.datawrangler.viewer.v0+json": {
              "columns": [
                {
                  "name": "Mobile Weight (gram)",
                  "rawType": "float64",
                  "type": "float"
                },
                {
                  "name": "count",
                  "rawType": "int64",
                  "type": "integer"
                }
              ],
              "ref": "7aa84ebf-fda6-45df-b887-a3f965964416",
              "rows": [
                [
                  "190.0",
                  "68"
                ],
                [
                  "195.0",
                  "54"
                ],
                [
                  "185.0",
                  "29"
                ],
                [
                  "192.0",
                  "26"
                ],
                [
                  "198.0",
                  "22"
                ],
                [
                  "206.0",
                  "21"
                ],
                [
                  "188.0",
                  "21"
                ],
                [
                  "191.0",
                  "20"
                ],
                [
                  "186.0",
                  "20"
                ],
                [
                  "205.0",
                  "20"
                ],
                [
                  "189.0",
                  "20"
                ],
                [
                  "180.0",
                  "19"
                ],
                [
                  "210.0",
                  "18"
                ],
                [
                  "199.0",
                  "18"
                ],
                [
                  "203.0",
                  "17"
                ],
                [
                  "196.0",
                  "16"
                ],
                [
                  "184.0",
                  "16"
                ],
                [
                  "168.0",
                  "15"
                ],
                [
                  "202.0",
                  "15"
                ],
                [
                  "179.0",
                  "14"
                ],
                [
                  "173.0",
                  "13"
                ],
                [
                  "221.0",
                  "13"
                ],
                [
                  "182.0",
                  "12"
                ],
                [
                  "175.0",
                  "12"
                ],
                [
                  "174.0",
                  "12"
                ],
                [
                  "209.0",
                  "12"
                ],
                [
                  "187.0",
                  "11"
                ],
                [
                  "200.0",
                  "11"
                ],
                [
                  "193.0",
                  "11"
                ],
                [
                  "172.0",
                  "11"
                ],
                [
                  "181.0",
                  "10"
                ],
                [
                  "228.0",
                  "9"
                ],
                [
                  "194.0",
                  "9"
                ],
                [
                  "183.0",
                  "8"
                ],
                [
                  "177.0",
                  "8"
                ],
                [
                  "204.0",
                  "8"
                ],
                [
                  "170.0",
                  "7"
                ],
                [
                  "171.0",
                  "6"
                ],
                [
                  "220.0",
                  "6"
                ],
                [
                  "460.0",
                  "6"
                ],
                [
                  "164.0",
                  "6"
                ],
                [
                  "234.0",
                  "5"
                ],
                [
                  "208.0",
                  "5"
                ],
                [
                  "207.0",
                  "5"
                ],
                [
                  "239.0",
                  "5"
                ],
                [
                  "708.0",
                  "5"
                ],
                [
                  "218.0",
                  "4"
                ],
                [
                  "223.0",
                  "4"
                ],
                [
                  "226.0",
                  "4"
                ],
                [
                  "238.0",
                  "4"
                ]
              ],
              "shape": {
                "columns": 1,
                "rows": 148
              }
            },
            "text/plain": [
              "Mobile Weight (gram)\n",
              "190.0    68\n",
              "195.0    54\n",
              "185.0    29\n",
              "192.0    26\n",
              "198.0    22\n",
              "         ..\n",
              "288.0     1\n",
              "495.0     1\n",
              "505.0     1\n",
              "475.0     1\n",
              "178.8     1\n",
              "Name: count, Length: 148, dtype: int64"
            ]
          },
          "execution_count": 16,
          "metadata": {},
          "output_type": "execute_result"
        }
      ],
      "source": [
        "df['Mobile Weight (gram)'].value_counts()"
      ]
    },
    {
      "cell_type": "code",
      "execution_count": 17,
      "metadata": {},
      "outputs": [],
      "source": [
        "df['RAM (GB)'] = df['RAM (GB)'].apply(lambda x:x.replace('GB',''))"
      ]
    },
    {
      "cell_type": "code",
      "execution_count": 18,
      "metadata": {},
      "outputs": [],
      "source": [
        "df['RAM (GB)'] = pd.to_numeric(df['RAM (GB)'], errors='coerce')"
      ]
    },
    {
      "cell_type": "code",
      "execution_count": 19,
      "metadata": {},
      "outputs": [
        {
          "data": {
            "application/vnd.microsoft.datawrangler.viewer.v0+json": {
              "columns": [
                {
                  "name": "RAM (GB)",
                  "rawType": "float64",
                  "type": "float"
                },
                {
                  "name": "count",
                  "rawType": "int64",
                  "type": "integer"
                }
              ],
              "ref": "257f30c8-b879-4e35-90ca-9eb74acbb1c4",
              "rows": [
                [
                  "8.0",
                  "292"
                ],
                [
                  "6.0",
                  "200"
                ],
                [
                  "12.0",
                  "189"
                ],
                [
                  "4.0",
                  "144"
                ],
                [
                  "3.0",
                  "32"
                ],
                [
                  "16.0",
                  "31"
                ],
                [
                  "2.0",
                  "6"
                ],
                [
                  "1.5",
                  "2"
                ],
                [
                  "10.0",
                  "1"
                ],
                [
                  "1.0",
                  "1"
                ]
              ],
              "shape": {
                "columns": 1,
                "rows": 10
              }
            },
            "text/plain": [
              "RAM (GB)\n",
              "8.0     292\n",
              "6.0     200\n",
              "12.0    189\n",
              "4.0     144\n",
              "3.0      32\n",
              "16.0     31\n",
              "2.0       6\n",
              "1.5       2\n",
              "10.0      1\n",
              "1.0       1\n",
              "Name: count, dtype: int64"
            ]
          },
          "execution_count": 19,
          "metadata": {},
          "output_type": "execute_result"
        }
      ],
      "source": [
        "df['RAM (GB)'].value_counts()"
      ]
    },
    {
      "cell_type": "code",
      "execution_count": 20,
      "metadata": {},
      "outputs": [
        {
          "data": {
            "application/vnd.microsoft.datawrangler.viewer.v0+json": {
              "columns": [
                {
                  "name": "Battery Capacity (mAh)",
                  "rawType": "object",
                  "type": "string"
                },
                {
                  "name": "count",
                  "rawType": "int64",
                  "type": "integer"
                }
              ],
              "ref": "3e6c1721-ba02-4ab0-ad3a-e446d5cc07ba",
              "rows": [
                [
                  "5,000mAh",
                  "179"
                ],
                [
                  "5000mAh",
                  "94"
                ],
                [
                  "4,500mAh",
                  "42"
                ],
                [
                  "4500mAh",
                  "38"
                ],
                [
                  "5,200mAh",
                  "35"
                ],
                [
                  "4,000mAh",
                  "24"
                ],
                [
                  "6000mAh",
                  "20"
                ],
                [
                  "5,500mAh",
                  "19"
                ],
                [
                  "5,100mAh",
                  "19"
                ],
                [
                  "4,300mAh",
                  "16"
                ],
                [
                  "6,000mAh",
                  "15"
                ],
                [
                  "4,600mAh",
                  "14"
                ],
                [
                  "4000mAh",
                  "12"
                ],
                [
                  "4300mAh",
                  "10"
                ],
                [
                  "8040mAh",
                  "9"
                ],
                [
                  "4,800mAh",
                  "9"
                ],
                [
                  "4800mAh",
                  "8"
                ],
                [
                  "4,400mAh",
                  "8"
                ],
                [
                  "4,200mAh",
                  "8"
                ],
                [
                  "5,050mAh",
                  "8"
                ],
                [
                  "3700mAh",
                  "8"
                ],
                [
                  "5100mAh",
                  "7"
                ],
                [
                  "4700mAh",
                  "7"
                ],
                [
                  "4400mAh",
                  "7"
                ],
                [
                  "4,700mAh",
                  "7"
                ],
                [
                  "4200mAh",
                  "6"
                ],
                [
                  "4600mAh",
                  "6"
                ],
                [
                  "7,100mAh",
                  "6"
                ],
                [
                  "2,815mAh",
                  "6"
                ],
                [
                  "3,200mAh",
                  "6"
                ],
                [
                  "9510mAh",
                  "6"
                ],
                [
                  "10,307mAh",
                  "5"
                ],
                [
                  "7,250mAh",
                  "5"
                ],
                [
                  "3300mAh",
                  "5"
                ],
                [
                  "3000mAh",
                  "4"
                ],
                [
                  "4,025mAh",
                  "4"
                ],
                [
                  "5160mAh",
                  "4"
                ],
                [
                  "3,500mAh",
                  "4"
                ],
                [
                  "4,020mAh",
                  "4"
                ],
                [
                  "5,800mAh",
                  "4"
                ],
                [
                  "3,110mAh",
                  "3"
                ],
                [
                  "3,969mAh",
                  "3"
                ],
                [
                  "3,046mAh",
                  "3"
                ],
                [
                  "4,325mAh",
                  "3"
                ],
                [
                  "3,095mAh",
                  "3"
                ],
                [
                  "3,240mAh",
                  "3"
                ],
                [
                  "2,438mAh",
                  "3"
                ],
                [
                  "3,600mAh",
                  "3"
                ],
                [
                  "3,687mAh",
                  "3"
                ],
                [
                  "2,227mAh",
                  "3"
                ]
              ],
              "shape": {
                "columns": 1,
                "rows": 147
              }
            },
            "text/plain": [
              "Battery Capacity (mAh)\n",
              "5,000mAh    179\n",
              "5000mAh      94\n",
              "4,500mAh     42\n",
              "4500mAh      38\n",
              "5,200mAh     35\n",
              "           ... \n",
              "7,500mAh      1\n",
              "8,300mAh      1\n",
              "8,850mAh      1\n",
              "5065mAh       1\n",
              "5110mAh       1\n",
              "Name: count, Length: 147, dtype: int64"
            ]
          },
          "execution_count": 20,
          "metadata": {},
          "output_type": "execute_result"
        }
      ],
      "source": [
        "df['Battery Capacity (mAh)'].value_counts()"
      ]
    },
    {
      "cell_type": "code",
      "execution_count": 21,
      "metadata": {},
      "outputs": [],
      "source": [
        "df['Battery Capacity (mAh)'] = df['Battery Capacity (mAh)'].apply(lambda x:x.replace('mAh',''))"
      ]
    },
    {
      "cell_type": "code",
      "execution_count": 22,
      "metadata": {},
      "outputs": [
        {
          "data": {
            "text/plain": [
              "'10,000'"
            ]
          },
          "execution_count": 22,
          "metadata": {},
          "output_type": "execute_result"
        }
      ],
      "source": [
        "df.loc[925, 'Battery Capacity (mAh)']"
      ]
    },
    {
      "cell_type": "code",
      "execution_count": 23,
      "metadata": {},
      "outputs": [
        {
          "data": {
            "application/vnd.microsoft.datawrangler.viewer.v0+json": {
              "columns": [
                {
                  "name": "index",
                  "rawType": "int64",
                  "type": "integer"
                },
                {
                  "name": "Company Name",
                  "rawType": "object",
                  "type": "string"
                },
                {
                  "name": "Model Name",
                  "rawType": "object",
                  "type": "string"
                },
                {
                  "name": "Mobile Weight (gram)",
                  "rawType": "float64",
                  "type": "float"
                },
                {
                  "name": "RAM (GB)",
                  "rawType": "float64",
                  "type": "float"
                },
                {
                  "name": "Front Camera (MP)",
                  "rawType": "object",
                  "type": "string"
                },
                {
                  "name": "Back Camera (MP)",
                  "rawType": "object",
                  "type": "string"
                },
                {
                  "name": "Processor",
                  "rawType": "object",
                  "type": "string"
                },
                {
                  "name": "Battery Capacity (mAh)",
                  "rawType": "object",
                  "type": "string"
                },
                {
                  "name": "Screen Size (inch)",
                  "rawType": "object",
                  "type": "string"
                },
                {
                  "name": "Launched Price (Pakistan USD)",
                  "rawType": "object",
                  "type": "string"
                },
                {
                  "name": "Launched Price (India USD)",
                  "rawType": "object",
                  "type": "string"
                },
                {
                  "name": "Launched Price (China USD)",
                  "rawType": "object",
                  "type": "string"
                },
                {
                  "name": "Launched Price (USA USD)",
                  "rawType": "object",
                  "type": "string"
                },
                {
                  "name": "Launched Price (Dubai USD)",
                  "rawType": "object",
                  "type": "string"
                },
                {
                  "name": "Launched Year",
                  "rawType": "int64",
                  "type": "integer"
                }
              ],
              "ref": "f6a25420-1ef5-4308-8f95-ef2e519ace8d",
              "rows": [],
              "shape": {
                "columns": 15,
                "rows": 0
              }
            },
            "text/html": [
              "<div>\n",
              "<style scoped>\n",
              "    .dataframe tbody tr th:only-of-type {\n",
              "        vertical-align: middle;\n",
              "    }\n",
              "\n",
              "    .dataframe tbody tr th {\n",
              "        vertical-align: top;\n",
              "    }\n",
              "\n",
              "    .dataframe thead th {\n",
              "        text-align: right;\n",
              "    }\n",
              "</style>\n",
              "<table border=\"1\" class=\"dataframe\">\n",
              "  <thead>\n",
              "    <tr style=\"text-align: right;\">\n",
              "      <th></th>\n",
              "      <th>Company Name</th>\n",
              "      <th>Model Name</th>\n",
              "      <th>Mobile Weight (gram)</th>\n",
              "      <th>RAM (GB)</th>\n",
              "      <th>Front Camera (MP)</th>\n",
              "      <th>Back Camera (MP)</th>\n",
              "      <th>Processor</th>\n",
              "      <th>Battery Capacity (mAh)</th>\n",
              "      <th>Screen Size (inch)</th>\n",
              "      <th>Launched Price (Pakistan USD)</th>\n",
              "      <th>Launched Price (India USD)</th>\n",
              "      <th>Launched Price (China USD)</th>\n",
              "      <th>Launched Price (USA USD)</th>\n",
              "      <th>Launched Price (Dubai USD)</th>\n",
              "      <th>Launched Year</th>\n",
              "    </tr>\n",
              "  </thead>\n",
              "  <tbody>\n",
              "  </tbody>\n",
              "</table>\n",
              "</div>"
            ],
            "text/plain": [
              "Empty DataFrame\n",
              "Columns: [Company Name, Model Name, Mobile Weight (gram), RAM (GB), Front Camera (MP), Back Camera (MP), Processor, Battery Capacity (mAh), Screen Size (inch), Launched Price (Pakistan USD), Launched Price (India USD), Launched Price (China USD), Launched Price (USA USD), Launched Price (Dubai USD), Launched Year]\n",
              "Index: []"
            ]
          },
          "execution_count": 23,
          "metadata": {},
          "output_type": "execute_result"
        }
      ],
      "source": [
        "df[df['Battery Capacity (mAh)'].str.contains(' ')]"
      ]
    },
    {
      "cell_type": "code",
      "execution_count": 24,
      "metadata": {},
      "outputs": [],
      "source": [
        "df['Battery Capacity (mAh)'] = (\n",
        "    df['Battery Capacity (mAh)']\n",
        "    .astype(str)\n",
        "    .str.replace(',','' ,regex=False)\n",
        "    .str.strip()\n",
        ")\n",
        "df['Battery Capacity (mAh)'] = pd.to_numeric(df['Battery Capacity (mAh)'], errors='coerce')"
      ]
    },
    {
      "cell_type": "code",
      "execution_count": 25,
      "metadata": {},
      "outputs": [
        {
          "data": {
            "text/plain": [
              "np.int64(0)"
            ]
          },
          "execution_count": 25,
          "metadata": {},
          "output_type": "execute_result"
        }
      ],
      "source": [
        "df['Battery Capacity (mAh)'].isnull().sum()"
      ]
    },
    {
      "cell_type": "code",
      "execution_count": 26,
      "metadata": {},
      "outputs": [],
      "source": [
        "df['Screen Size (inch)'] = (\n",
        "    df['Screen Size (inch)']\n",
        "    .astype(str)\n",
        "    .str.replace(r'inches.*','',regex=True)\n",
        "    .str.strip()\n",
        ")\n",
        "df['Screen Size (inch)'] = pd.to_numeric(df['Screen Size (inch)'], errors='coerce')"
      ]
    },
    {
      "cell_type": "code",
      "execution_count": 27,
      "metadata": {},
      "outputs": [
        {
          "data": {
            "text/plain": [
              "np.int64(0)"
            ]
          },
          "execution_count": 27,
          "metadata": {},
          "output_type": "execute_result"
        }
      ],
      "source": [
        "df['Screen Size (inch)'].isnull().sum()"
      ]
    },
    {
      "cell_type": "code",
      "execution_count": 28,
      "metadata": {},
      "outputs": [],
      "source": [
        "df['Launched Price (Pakistan USD)'] =(\n",
        "    df['Launched Price (Pakistan USD)']\n",
        "    .astype(str)\n",
        "    .str.replace('PKR','',regex=False)\n",
        "    .str.replace(',','',regex=False)\n",
        "    .str.strip()\n",
        ")"
      ]
    },
    {
      "cell_type": "code",
      "execution_count": 29,
      "metadata": {},
      "outputs": [],
      "source": [
        "df['Launched Price (Pakistan USD)'] = pd.to_numeric(df['Launched Price (Pakistan USD)'],errors='coerce')"
      ]
    },
    {
      "cell_type": "code",
      "execution_count": 30,
      "metadata": {},
      "outputs": [
        {
          "data": {
            "text/plain": [
              "np.int64(1)"
            ]
          },
          "execution_count": 30,
          "metadata": {},
          "output_type": "execute_result"
        }
      ],
      "source": [
        "df['Launched Price (Pakistan USD)'].isnull().sum()"
      ]
    },
    {
      "cell_type": "code",
      "execution_count": 31,
      "metadata": {},
      "outputs": [],
      "source": [
        "df.dropna(subset=['Launched Price (Pakistan USD)'],inplace=True)"
      ]
    },
    {
      "cell_type": "code",
      "execution_count": 32,
      "metadata": {},
      "outputs": [
        {
          "data": {
            "text/plain": [
              "np.int64(0)"
            ]
          },
          "execution_count": 32,
          "metadata": {},
          "output_type": "execute_result"
        }
      ],
      "source": [
        "df['Launched Price (Pakistan USD)'].isnull().sum()"
      ]
    },
    {
      "cell_type": "code",
      "execution_count": 33,
      "metadata": {},
      "outputs": [
        {
          "data": {
            "text/plain": [
              "Index(['Company Name', 'Model Name', 'Mobile Weight (gram)', 'RAM (GB)',\n",
              "       'Front Camera (MP)', 'Back Camera (MP)', 'Processor',\n",
              "       'Battery Capacity (mAh)', 'Screen Size (inch)',\n",
              "       'Launched Price (Pakistan USD)', 'Launched Price (India USD)',\n",
              "       'Launched Price (China USD)', 'Launched Price (USA USD)',\n",
              "       'Launched Price (Dubai USD)', 'Launched Year'],\n",
              "      dtype='object')"
            ]
          },
          "execution_count": 33,
          "metadata": {},
          "output_type": "execute_result"
        }
      ],
      "source": [
        "df.columns"
      ]
    },
    {
      "cell_type": "code",
      "execution_count": 34,
      "metadata": {},
      "outputs": [],
      "source": [
        "df['Launched Price (India USD)'] = (\n",
        "    df['Launched Price (India USD)']\n",
        "    .astype(str)\n",
        "    .str.replace('INR','',regex=False)\n",
        "    .str.replace(',','',regex=False)\n",
        "    .str.strip()\n",
        ")\n",
        "df['Launched Price (India USD)'] = pd.to_numeric(df['Launched Price (India USD)'], errors='coerce')"
      ]
    },
    {
      "cell_type": "code",
      "execution_count": 35,
      "metadata": {},
      "outputs": [],
      "source": [
        "df['Launched Price (China USD)'] = (\n",
        "    df['Launched Price (China USD)']\n",
        "    .astype(str)\n",
        "    .str.replace('CNY','',regex=False)\n",
        "    .str.replace('¥','',regex=False)\n",
        "    .str.replace(',','',regex=False)\n",
        "    .str.strip()\n",
        ")\n",
        "df['Launched Price (China USD)'] = pd.to_numeric(df['Launched Price (China USD)'], errors='coerce')"
      ]
    },
    {
      "cell_type": "code",
      "execution_count": 36,
      "metadata": {},
      "outputs": [],
      "source": [
        "df['Launched Price (USA USD)'] = (\n",
        "    df['Launched Price (USA USD)']\n",
        "    .astype(str)\n",
        "    .str.replace('USD','',regex=False)\n",
        "    .str.replace(',','',regex=False)\n",
        "    .str.strip()\n",
        ")\n",
        "df['Launched Price (USA USD)'] = pd.to_numeric(df['Launched Price (USA USD)'], errors='coerce')"
      ]
    },
    {
      "cell_type": "code",
      "execution_count": 37,
      "metadata": {},
      "outputs": [],
      "source": [
        "df['Launched Price (Dubai USD)'] = (\n",
        "    df['Launched Price (Dubai USD)']\n",
        "    .astype(str)\n",
        "    .str.replace('AED','',regex=False)\n",
        "    .str.replace(',','',regex=False)\n",
        "    .str.strip()\n",
        ")\n",
        "df['Launched Price (Dubai USD)'] = pd.to_numeric(df['Launched Price (Dubai USD)'], errors='coerce')"
      ]
    },
    {
      "cell_type": "code",
      "execution_count": 38,
      "metadata": {},
      "outputs": [
        {
          "data": {
            "application/vnd.microsoft.datawrangler.viewer.v0+json": {
              "columns": [
                {
                  "name": "index",
                  "rawType": "object",
                  "type": "string"
                },
                {
                  "name": "0",
                  "rawType": "object",
                  "type": "unknown"
                }
              ],
              "ref": "6ba700a3-d136-41bc-a0c0-6828e44d3920",
              "rows": [
                [
                  "Company Name",
                  "object"
                ],
                [
                  "Model Name",
                  "object"
                ],
                [
                  "Mobile Weight (gram)",
                  "float64"
                ],
                [
                  "RAM (GB)",
                  "float64"
                ],
                [
                  "Front Camera (MP)",
                  "object"
                ],
                [
                  "Back Camera (MP)",
                  "object"
                ],
                [
                  "Processor",
                  "object"
                ],
                [
                  "Battery Capacity (mAh)",
                  "int64"
                ],
                [
                  "Screen Size (inch)",
                  "float64"
                ],
                [
                  "Launched Price (Pakistan USD)",
                  "float64"
                ],
                [
                  "Launched Price (India USD)",
                  "int64"
                ],
                [
                  "Launched Price (China USD)",
                  "int64"
                ],
                [
                  "Launched Price (USA USD)",
                  "float64"
                ],
                [
                  "Launched Price (Dubai USD)",
                  "int64"
                ],
                [
                  "Launched Year",
                  "int64"
                ]
              ],
              "shape": {
                "columns": 1,
                "rows": 15
              }
            },
            "text/plain": [
              "Company Name                      object\n",
              "Model Name                        object\n",
              "Mobile Weight (gram)             float64\n",
              "RAM (GB)                         float64\n",
              "Front Camera (MP)                 object\n",
              "Back Camera (MP)                  object\n",
              "Processor                         object\n",
              "Battery Capacity (mAh)             int64\n",
              "Screen Size (inch)               float64\n",
              "Launched Price (Pakistan USD)    float64\n",
              "Launched Price (India USD)         int64\n",
              "Launched Price (China USD)         int64\n",
              "Launched Price (USA USD)         float64\n",
              "Launched Price (Dubai USD)         int64\n",
              "Launched Year                      int64\n",
              "dtype: object"
            ]
          },
          "execution_count": 38,
          "metadata": {},
          "output_type": "execute_result"
        }
      ],
      "source": [
        "df.dtypes"
      ]
    },
    {
      "cell_type": "code",
      "execution_count": 39,
      "metadata": {},
      "outputs": [],
      "source": [
        "columns = {\n",
        "    'Launched Price (Pakistan USD)':281,\n",
        "    'Launched Price (India USD)':87.82,\n",
        "    'Launched Price (China USD)':7.12,\n",
        "    'Launched Price (Dubai USD)':3.67\n",
        "}\n",
        "\n",
        "for key, val in columns.items():\n",
        "    df[key] //= val"
      ]
    },
    {
      "cell_type": "code",
      "execution_count": 40,
      "metadata": {},
      "outputs": [
        {
          "name": "stdout",
          "output_type": "stream",
          "text": [
            "Company Name                     0\n",
            "Model Name                       0\n",
            "Mobile Weight (gram)             0\n",
            "RAM (GB)                         2\n",
            "Front Camera (MP)                0\n",
            "Back Camera (MP)                 0\n",
            "Processor                        0\n",
            "Battery Capacity (mAh)           0\n",
            "Screen Size (inch)               0\n",
            "Launched Price (Pakistan USD)    0\n",
            "Launched Price (India USD)       0\n",
            "Launched Price (China USD)       0\n",
            "Launched Price (USA USD)         0\n",
            "Launched Price (Dubai USD)       0\n",
            "Launched Year                    0\n",
            "dtype: int64\n"
          ]
        }
      ],
      "source": [
        "print(df.isnull().sum())"
      ]
    },
    {
      "cell_type": "code",
      "execution_count": 41,
      "metadata": {},
      "outputs": [],
      "source": [
        "df.dropna(inplace=True)"
      ]
    },
    {
      "cell_type": "code",
      "execution_count": 42,
      "metadata": {},
      "outputs": [
        {
          "data": {
            "application/vnd.microsoft.datawrangler.viewer.v0+json": {
              "columns": [
                {
                  "name": "index",
                  "rawType": "object",
                  "type": "string"
                },
                {
                  "name": "0",
                  "rawType": "int64",
                  "type": "integer"
                }
              ],
              "ref": "cb61ad1c-4d25-4ba1-bdf1-4af4a367a95e",
              "rows": [
                [
                  "Company Name",
                  "0"
                ],
                [
                  "Model Name",
                  "0"
                ],
                [
                  "Mobile Weight (gram)",
                  "0"
                ],
                [
                  "RAM (GB)",
                  "0"
                ],
                [
                  "Front Camera (MP)",
                  "0"
                ],
                [
                  "Back Camera (MP)",
                  "0"
                ],
                [
                  "Processor",
                  "0"
                ],
                [
                  "Battery Capacity (mAh)",
                  "0"
                ],
                [
                  "Screen Size (inch)",
                  "0"
                ],
                [
                  "Launched Price (Pakistan USD)",
                  "0"
                ],
                [
                  "Launched Price (India USD)",
                  "0"
                ],
                [
                  "Launched Price (China USD)",
                  "0"
                ],
                [
                  "Launched Price (USA USD)",
                  "0"
                ],
                [
                  "Launched Price (Dubai USD)",
                  "0"
                ],
                [
                  "Launched Year",
                  "0"
                ]
              ],
              "shape": {
                "columns": 1,
                "rows": 15
              }
            },
            "text/plain": [
              "Company Name                     0\n",
              "Model Name                       0\n",
              "Mobile Weight (gram)             0\n",
              "RAM (GB)                         0\n",
              "Front Camera (MP)                0\n",
              "Back Camera (MP)                 0\n",
              "Processor                        0\n",
              "Battery Capacity (mAh)           0\n",
              "Screen Size (inch)               0\n",
              "Launched Price (Pakistan USD)    0\n",
              "Launched Price (India USD)       0\n",
              "Launched Price (China USD)       0\n",
              "Launched Price (USA USD)         0\n",
              "Launched Price (Dubai USD)       0\n",
              "Launched Year                    0\n",
              "dtype: int64"
            ]
          },
          "execution_count": 42,
          "metadata": {},
          "output_type": "execute_result"
        }
      ],
      "source": [
        "df.isnull().sum()"
      ]
    },
    {
      "cell_type": "code",
      "execution_count": 43,
      "metadata": {},
      "outputs": [
        {
          "data": {
            "application/vnd.microsoft.datawrangler.viewer.v0+json": {
              "columns": [
                {
                  "name": "index",
                  "rawType": "object",
                  "type": "string"
                },
                {
                  "name": "0",
                  "rawType": "object",
                  "type": "unknown"
                }
              ],
              "ref": "dbe1a7c7-c170-45da-b588-68b78c8e69f2",
              "rows": [
                [
                  "Company Name",
                  "object"
                ],
                [
                  "Model Name",
                  "object"
                ],
                [
                  "Mobile Weight (gram)",
                  "float64"
                ],
                [
                  "RAM (GB)",
                  "float64"
                ],
                [
                  "Front Camera (MP)",
                  "object"
                ],
                [
                  "Back Camera (MP)",
                  "object"
                ],
                [
                  "Processor",
                  "object"
                ],
                [
                  "Battery Capacity (mAh)",
                  "int64"
                ],
                [
                  "Screen Size (inch)",
                  "float64"
                ],
                [
                  "Launched Price (Pakistan USD)",
                  "float64"
                ],
                [
                  "Launched Price (India USD)",
                  "float64"
                ],
                [
                  "Launched Price (China USD)",
                  "float64"
                ],
                [
                  "Launched Price (USA USD)",
                  "float64"
                ],
                [
                  "Launched Price (Dubai USD)",
                  "float64"
                ],
                [
                  "Launched Year",
                  "int64"
                ]
              ],
              "shape": {
                "columns": 1,
                "rows": 15
              }
            },
            "text/plain": [
              "Company Name                      object\n",
              "Model Name                        object\n",
              "Mobile Weight (gram)             float64\n",
              "RAM (GB)                         float64\n",
              "Front Camera (MP)                 object\n",
              "Back Camera (MP)                  object\n",
              "Processor                         object\n",
              "Battery Capacity (mAh)             int64\n",
              "Screen Size (inch)               float64\n",
              "Launched Price (Pakistan USD)    float64\n",
              "Launched Price (India USD)       float64\n",
              "Launched Price (China USD)       float64\n",
              "Launched Price (USA USD)         float64\n",
              "Launched Price (Dubai USD)       float64\n",
              "Launched Year                      int64\n",
              "dtype: object"
            ]
          },
          "execution_count": 43,
          "metadata": {},
          "output_type": "execute_result"
        }
      ],
      "source": [
        "df.dtypes"
      ]
    },
    {
      "cell_type": "code",
      "execution_count": 44,
      "metadata": {},
      "outputs": [],
      "source": [
        "df['Company Name'] = df['Company Name'].apply(lambda x:x.title())"
      ]
    },
    {
      "cell_type": "code",
      "execution_count": 45,
      "metadata": {},
      "outputs": [
        {
          "data": {
            "text/plain": [
              "array(['Apple', 'Samsung', 'Oneplus', 'Vivo', 'Iqoo', 'Oppo', 'Realme',\n",
              "       'Xiaomi', 'Lenovo', 'Motorola', 'Huawei', 'Nokia', 'Sony',\n",
              "       'Google', 'Tecno', 'Infinix', 'Honor', 'Poco'], dtype=object)"
            ]
          },
          "execution_count": 45,
          "metadata": {},
          "output_type": "execute_result"
        }
      ],
      "source": [
        "df['Company Name'].unique()"
      ]
    },
    {
      "cell_type": "code",
      "execution_count": null,
      "metadata": {},
      "outputs": [],
      "source": [
        "df"
      ]
    }
  ],
  "metadata": {
    "colab": {
      "provenance": []
    },
    "kernelspec": {
      "display_name": "mobile-dataset-analysis",
      "language": "python",
      "name": "python3"
    },
    "language_info": {
      "codemirror_mode": {
        "name": "ipython",
        "version": 3
      },
      "file_extension": ".py",
      "mimetype": "text/x-python",
      "name": "python",
      "nbconvert_exporter": "python",
      "pygments_lexer": "ipython3",
      "version": "3.14.0"
    }
  },
  "nbformat": 4,
  "nbformat_minor": 0
}
