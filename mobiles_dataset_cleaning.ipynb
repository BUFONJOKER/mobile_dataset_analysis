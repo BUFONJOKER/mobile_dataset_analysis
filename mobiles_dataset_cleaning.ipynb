{
  "cells": [
    {
      "cell_type": "markdown",
      "metadata": {},
      "source": [
        "<table align=\"center\">\n",
        "  <td>\n",
        "    <a href=\"https://colab.research.google.com/github/BUFONJOKER/mobile_dataset_analysis/blob/master/mobiles_dataset_eda.ipynb\" target=\"_parent\">\n",
        "      <img src=\"https://colab.research.google.com/assets/colab-badge.svg\" alt=\"Open In Colab\"\n",
        "      style=\"height:50px; width:auto;\"/>\n",
        "    </a>\n",
        "  </td>\n",
        "</table>\n"
      ]
    },
    {
      "cell_type": "code",
      "execution_count": 1,
      "metadata": {
        "id": "p9VyPf3cohQV"
      },
      "outputs": [],
      "source": [
        "import pandas as pd\n",
        "import matplotlib.pyplot as plt\n",
        "import seaborn as sns\n",
        "import numpy as np"
      ]
    },
    {
      "cell_type": "code",
      "execution_count": 2,
      "metadata": {
        "id": "MdmDxoCros14"
      },
      "outputs": [],
      "source": [
        "# df = pd.read_csv(\"/content/Mobiles Dataset (2025).csv\", encoding='ISO-8859-1')\n",
        "df_copy = pd.read_csv(\"dataset/Mobiles Dataset (2025).csv\", encoding='ISO-8859-1')\n",
        "df = df_copy.copy()"
      ]
    },
    {
      "cell_type": "code",
      "execution_count": 3,
      "metadata": {
        "colab": {
          "base_uri": "https://localhost:8080/",
          "height": 310
        },
        "id": "TP-it03-o40U",
        "outputId": "0faca2cc-93db-439c-eb41-501a118f07d8"
      },
      "outputs": [
        {
          "data": {
            "application/vnd.microsoft.datawrangler.viewer.v0+json": {
              "columns": [
                {
                  "name": "index",
                  "rawType": "int64",
                  "type": "integer"
                },
                {
                  "name": "Company Name",
                  "rawType": "object",
                  "type": "string"
                },
                {
                  "name": "Model Name",
                  "rawType": "object",
                  "type": "string"
                },
                {
                  "name": "Mobile Weight",
                  "rawType": "object",
                  "type": "string"
                },
                {
                  "name": "RAM",
                  "rawType": "object",
                  "type": "string"
                },
                {
                  "name": "Front Camera",
                  "rawType": "object",
                  "type": "string"
                },
                {
                  "name": "Back Camera",
                  "rawType": "object",
                  "type": "string"
                },
                {
                  "name": "Processor",
                  "rawType": "object",
                  "type": "string"
                },
                {
                  "name": "Battery Capacity",
                  "rawType": "object",
                  "type": "string"
                },
                {
                  "name": "Screen Size",
                  "rawType": "object",
                  "type": "string"
                },
                {
                  "name": "Launched Price (Pakistan)",
                  "rawType": "object",
                  "type": "string"
                },
                {
                  "name": "Launched Price (India)",
                  "rawType": "object",
                  "type": "string"
                },
                {
                  "name": "Launched Price (China)",
                  "rawType": "object",
                  "type": "string"
                },
                {
                  "name": "Launched Price (USA)",
                  "rawType": "object",
                  "type": "string"
                },
                {
                  "name": "Launched Price (Dubai)",
                  "rawType": "object",
                  "type": "string"
                },
                {
                  "name": "Launched Year",
                  "rawType": "int64",
                  "type": "integer"
                }
              ],
              "ref": "d8b01be6-665e-4021-9d06-b3e1aeb9ac98",
              "rows": [
                [
                  "0",
                  "Apple",
                  "iPhone 16 128GB",
                  "174g",
                  "6GB",
                  "12MP",
                  "48MP",
                  "A17 Bionic",
                  "3,600mAh",
                  "6.1 inches",
                  "PKR 224,999",
                  "INR 79,999",
                  "CNY 5,799",
                  "USD 799",
                  "AED 2,799",
                  "2024"
                ],
                [
                  "1",
                  "Apple",
                  "iPhone 16 256GB",
                  "174g",
                  "6GB",
                  "12MP",
                  "48MP",
                  "A17 Bionic",
                  "3,600mAh",
                  "6.1 inches",
                  "PKR 234,999",
                  "INR 84,999",
                  "CNY 6,099",
                  "USD 849",
                  "AED 2,999",
                  "2024"
                ],
                [
                  "2",
                  "Apple",
                  "iPhone 16 512GB",
                  "174g",
                  "6GB",
                  "12MP",
                  "48MP",
                  "A17 Bionic",
                  "3,600mAh",
                  "6.1 inches",
                  "PKR 244,999",
                  "INR 89,999",
                  "CNY 6,499",
                  "USD 899",
                  "AED 3,199",
                  "2024"
                ],
                [
                  "3",
                  "Apple",
                  "iPhone 16 Plus 128GB",
                  "203g",
                  "6GB",
                  "12MP",
                  "48MP",
                  "A17 Bionic",
                  "4,200mAh",
                  "6.7 inches",
                  "PKR 249,999",
                  "INR 89,999",
                  "CNY 6,199",
                  "USD 899",
                  "AED 3,199",
                  "2024"
                ],
                [
                  "4",
                  "Apple",
                  "iPhone 16 Plus 256GB",
                  "203g",
                  "6GB",
                  "12MP",
                  "48MP",
                  "A17 Bionic",
                  "4,200mAh",
                  "6.7 inches",
                  "PKR 259,999",
                  "INR 94,999",
                  "CNY 6,499",
                  "USD 949",
                  "AED 3,399",
                  "2024"
                ]
              ],
              "shape": {
                "columns": 15,
                "rows": 5
              }
            },
            "text/html": [
              "<div>\n",
              "<style scoped>\n",
              "    .dataframe tbody tr th:only-of-type {\n",
              "        vertical-align: middle;\n",
              "    }\n",
              "\n",
              "    .dataframe tbody tr th {\n",
              "        vertical-align: top;\n",
              "    }\n",
              "\n",
              "    .dataframe thead th {\n",
              "        text-align: right;\n",
              "    }\n",
              "</style>\n",
              "<table border=\"1\" class=\"dataframe\">\n",
              "  <thead>\n",
              "    <tr style=\"text-align: right;\">\n",
              "      <th></th>\n",
              "      <th>Company Name</th>\n",
              "      <th>Model Name</th>\n",
              "      <th>Mobile Weight</th>\n",
              "      <th>RAM</th>\n",
              "      <th>Front Camera</th>\n",
              "      <th>Back Camera</th>\n",
              "      <th>Processor</th>\n",
              "      <th>Battery Capacity</th>\n",
              "      <th>Screen Size</th>\n",
              "      <th>Launched Price (Pakistan)</th>\n",
              "      <th>Launched Price (India)</th>\n",
              "      <th>Launched Price (China)</th>\n",
              "      <th>Launched Price (USA)</th>\n",
              "      <th>Launched Price (Dubai)</th>\n",
              "      <th>Launched Year</th>\n",
              "    </tr>\n",
              "  </thead>\n",
              "  <tbody>\n",
              "    <tr>\n",
              "      <th>0</th>\n",
              "      <td>Apple</td>\n",
              "      <td>iPhone 16 128GB</td>\n",
              "      <td>174g</td>\n",
              "      <td>6GB</td>\n",
              "      <td>12MP</td>\n",
              "      <td>48MP</td>\n",
              "      <td>A17 Bionic</td>\n",
              "      <td>3,600mAh</td>\n",
              "      <td>6.1 inches</td>\n",
              "      <td>PKR 224,999</td>\n",
              "      <td>INR 79,999</td>\n",
              "      <td>CNY 5,799</td>\n",
              "      <td>USD 799</td>\n",
              "      <td>AED 2,799</td>\n",
              "      <td>2024</td>\n",
              "    </tr>\n",
              "    <tr>\n",
              "      <th>1</th>\n",
              "      <td>Apple</td>\n",
              "      <td>iPhone 16 256GB</td>\n",
              "      <td>174g</td>\n",
              "      <td>6GB</td>\n",
              "      <td>12MP</td>\n",
              "      <td>48MP</td>\n",
              "      <td>A17 Bionic</td>\n",
              "      <td>3,600mAh</td>\n",
              "      <td>6.1 inches</td>\n",
              "      <td>PKR 234,999</td>\n",
              "      <td>INR 84,999</td>\n",
              "      <td>CNY 6,099</td>\n",
              "      <td>USD 849</td>\n",
              "      <td>AED 2,999</td>\n",
              "      <td>2024</td>\n",
              "    </tr>\n",
              "    <tr>\n",
              "      <th>2</th>\n",
              "      <td>Apple</td>\n",
              "      <td>iPhone 16 512GB</td>\n",
              "      <td>174g</td>\n",
              "      <td>6GB</td>\n",
              "      <td>12MP</td>\n",
              "      <td>48MP</td>\n",
              "      <td>A17 Bionic</td>\n",
              "      <td>3,600mAh</td>\n",
              "      <td>6.1 inches</td>\n",
              "      <td>PKR 244,999</td>\n",
              "      <td>INR 89,999</td>\n",
              "      <td>CNY 6,499</td>\n",
              "      <td>USD 899</td>\n",
              "      <td>AED 3,199</td>\n",
              "      <td>2024</td>\n",
              "    </tr>\n",
              "    <tr>\n",
              "      <th>3</th>\n",
              "      <td>Apple</td>\n",
              "      <td>iPhone 16 Plus 128GB</td>\n",
              "      <td>203g</td>\n",
              "      <td>6GB</td>\n",
              "      <td>12MP</td>\n",
              "      <td>48MP</td>\n",
              "      <td>A17 Bionic</td>\n",
              "      <td>4,200mAh</td>\n",
              "      <td>6.7 inches</td>\n",
              "      <td>PKR 249,999</td>\n",
              "      <td>INR 89,999</td>\n",
              "      <td>CNY 6,199</td>\n",
              "      <td>USD 899</td>\n",
              "      <td>AED 3,199</td>\n",
              "      <td>2024</td>\n",
              "    </tr>\n",
              "    <tr>\n",
              "      <th>4</th>\n",
              "      <td>Apple</td>\n",
              "      <td>iPhone 16 Plus 256GB</td>\n",
              "      <td>203g</td>\n",
              "      <td>6GB</td>\n",
              "      <td>12MP</td>\n",
              "      <td>48MP</td>\n",
              "      <td>A17 Bionic</td>\n",
              "      <td>4,200mAh</td>\n",
              "      <td>6.7 inches</td>\n",
              "      <td>PKR 259,999</td>\n",
              "      <td>INR 94,999</td>\n",
              "      <td>CNY 6,499</td>\n",
              "      <td>USD 949</td>\n",
              "      <td>AED 3,399</td>\n",
              "      <td>2024</td>\n",
              "    </tr>\n",
              "  </tbody>\n",
              "</table>\n",
              "</div>"
            ],
            "text/plain": [
              "  Company Name            Model Name Mobile Weight  RAM Front Camera  \\\n",
              "0        Apple       iPhone 16 128GB          174g  6GB         12MP   \n",
              "1        Apple       iPhone 16 256GB          174g  6GB         12MP   \n",
              "2        Apple       iPhone 16 512GB          174g  6GB         12MP   \n",
              "3        Apple  iPhone 16 Plus 128GB          203g  6GB         12MP   \n",
              "4        Apple  iPhone 16 Plus 256GB          203g  6GB         12MP   \n",
              "\n",
              "  Back Camera   Processor Battery Capacity Screen Size  \\\n",
              "0        48MP  A17 Bionic         3,600mAh  6.1 inches   \n",
              "1        48MP  A17 Bionic         3,600mAh  6.1 inches   \n",
              "2        48MP  A17 Bionic         3,600mAh  6.1 inches   \n",
              "3        48MP  A17 Bionic         4,200mAh  6.7 inches   \n",
              "4        48MP  A17 Bionic         4,200mAh  6.7 inches   \n",
              "\n",
              "  Launched Price (Pakistan) Launched Price (India) Launched Price (China)  \\\n",
              "0               PKR 224,999             INR 79,999              CNY 5,799   \n",
              "1               PKR 234,999             INR 84,999              CNY 6,099   \n",
              "2               PKR 244,999             INR 89,999              CNY 6,499   \n",
              "3               PKR 249,999             INR 89,999              CNY 6,199   \n",
              "4               PKR 259,999             INR 94,999              CNY 6,499   \n",
              "\n",
              "  Launched Price (USA) Launched Price (Dubai)  Launched Year  \n",
              "0              USD 799              AED 2,799           2024  \n",
              "1              USD 849              AED 2,999           2024  \n",
              "2              USD 899              AED 3,199           2024  \n",
              "3              USD 899              AED 3,199           2024  \n",
              "4              USD 949              AED 3,399           2024  "
            ]
          },
          "execution_count": 3,
          "metadata": {},
          "output_type": "execute_result"
        }
      ],
      "source": [
        "df.head()"
      ]
    },
    {
      "cell_type": "code",
      "execution_count": 4,
      "metadata": {
        "colab": {
          "base_uri": "https://localhost:8080/",
          "height": 555
        },
        "id": "90srQPBAszU1",
        "outputId": "d6af9b84-27e2-440b-f6a7-66f4f87694ad"
      },
      "outputs": [
        {
          "data": {
            "application/vnd.microsoft.datawrangler.viewer.v0+json": {
              "columns": [
                {
                  "name": "index",
                  "rawType": "object",
                  "type": "string"
                },
                {
                  "name": "0",
                  "rawType": "object",
                  "type": "unknown"
                }
              ],
              "ref": "0e1c394a-9b61-45eb-8283-88272f5a94ab",
              "rows": [
                [
                  "Company Name",
                  "object"
                ],
                [
                  "Model Name",
                  "object"
                ],
                [
                  "Mobile Weight",
                  "object"
                ],
                [
                  "RAM",
                  "object"
                ],
                [
                  "Front Camera",
                  "object"
                ],
                [
                  "Back Camera",
                  "object"
                ],
                [
                  "Processor",
                  "object"
                ],
                [
                  "Battery Capacity",
                  "object"
                ],
                [
                  "Screen Size",
                  "object"
                ],
                [
                  "Launched Price (Pakistan)",
                  "object"
                ],
                [
                  "Launched Price (India)",
                  "object"
                ],
                [
                  "Launched Price (China)",
                  "object"
                ],
                [
                  "Launched Price (USA)",
                  "object"
                ],
                [
                  "Launched Price (Dubai)",
                  "object"
                ],
                [
                  "Launched Year",
                  "int64"
                ]
              ],
              "shape": {
                "columns": 1,
                "rows": 15
              }
            },
            "text/plain": [
              "Company Name                 object\n",
              "Model Name                   object\n",
              "Mobile Weight                object\n",
              "RAM                          object\n",
              "Front Camera                 object\n",
              "Back Camera                  object\n",
              "Processor                    object\n",
              "Battery Capacity             object\n",
              "Screen Size                  object\n",
              "Launched Price (Pakistan)    object\n",
              "Launched Price (India)       object\n",
              "Launched Price (China)       object\n",
              "Launched Price (USA)         object\n",
              "Launched Price (Dubai)       object\n",
              "Launched Year                 int64\n",
              "dtype: object"
            ]
          },
          "execution_count": 4,
          "metadata": {},
          "output_type": "execute_result"
        }
      ],
      "source": [
        "df.dtypes"
      ]
    },
    {
      "cell_type": "code",
      "execution_count": 5,
      "metadata": {
        "colab": {
          "base_uri": "https://localhost:8080/"
        },
        "id": "paQ1GQnsrTZ7",
        "outputId": "dfe0984f-926b-4f9f-9883-535bd21e2c79"
      },
      "outputs": [
        {
          "data": {
            "text/plain": [
              "Index(['Company Name', 'Model Name', 'Mobile Weight', 'RAM', 'Front Camera',\n",
              "       'Back Camera', 'Processor', 'Battery Capacity', 'Screen Size',\n",
              "       'Launched Price (Pakistan)', 'Launched Price (India)',\n",
              "       'Launched Price (China)', 'Launched Price (USA)',\n",
              "       'Launched Price (Dubai)', 'Launched Year'],\n",
              "      dtype='object')"
            ]
          },
          "execution_count": 5,
          "metadata": {},
          "output_type": "execute_result"
        }
      ],
      "source": [
        "df.columns"
      ]
    },
    {
      "cell_type": "code",
      "execution_count": 6,
      "metadata": {},
      "outputs": [],
      "source": [
        "df.rename(columns={\n",
        "    'Mobile Weight': 'Mobile Weight (gram)',\n",
        "    'RAM': 'RAM (GB)',\n",
        "    'Front Camera': 'Front Camera (MP)',\n",
        "    'Back Camera': 'Back Camera (MP)',\n",
        "    'Battery Capacity': 'Battery Capacity (mAh)',\n",
        "    'Screen Size': 'Screen Size (inch)',\n",
        "    'Launched Price (Pakistan)': 'Launched Price (Pakistan USD)',\n",
        "    'Launched Price (India)': 'Launched Price (India USD)',\n",
        "    'Launched Price (China)': 'Launched Price (China USD)',\n",
        "    'Launched Price (USA)': 'Launched Price (USA USD)',\n",
        "    'Launched Price (Dubai)': 'Launched Price (Dubai USD)'\n",
        "},inplace=True)"
      ]
    },
    {
      "cell_type": "code",
      "execution_count": 7,
      "metadata": {
        "colab": {
          "base_uri": "https://localhost:8080/",
          "height": 555
        },
        "id": "d0BkQukO0PdT",
        "outputId": "fbd3e17f-ca00-4958-8fe4-914b4812e682"
      },
      "outputs": [
        {
          "data": {
            "application/vnd.microsoft.datawrangler.viewer.v0+json": {
              "columns": [
                {
                  "name": "index",
                  "rawType": "object",
                  "type": "string"
                },
                {
                  "name": "0",
                  "rawType": "int64",
                  "type": "integer"
                }
              ],
              "ref": "a3c996d1-3db5-4801-9d8e-0d9cecce43a6",
              "rows": [
                [
                  "Company Name",
                  "0"
                ],
                [
                  "Model Name",
                  "0"
                ],
                [
                  "Mobile Weight (gram)",
                  "0"
                ],
                [
                  "RAM (GB)",
                  "0"
                ],
                [
                  "Front Camera (MP)",
                  "0"
                ],
                [
                  "Back Camera (MP)",
                  "0"
                ],
                [
                  "Processor",
                  "0"
                ],
                [
                  "Battery Capacity (mAh)",
                  "0"
                ],
                [
                  "Screen Size (inch)",
                  "0"
                ],
                [
                  "Launched Price (Pakistan USD)",
                  "0"
                ],
                [
                  "Launched Price (India USD)",
                  "0"
                ],
                [
                  "Launched Price (China USD)",
                  "0"
                ],
                [
                  "Launched Price (USA USD)",
                  "0"
                ],
                [
                  "Launched Price (Dubai USD)",
                  "0"
                ],
                [
                  "Launched Year",
                  "0"
                ]
              ],
              "shape": {
                "columns": 1,
                "rows": 15
              }
            },
            "text/plain": [
              "Company Name                     0\n",
              "Model Name                       0\n",
              "Mobile Weight (gram)             0\n",
              "RAM (GB)                         0\n",
              "Front Camera (MP)                0\n",
              "Back Camera (MP)                 0\n",
              "Processor                        0\n",
              "Battery Capacity (mAh)           0\n",
              "Screen Size (inch)               0\n",
              "Launched Price (Pakistan USD)    0\n",
              "Launched Price (India USD)       0\n",
              "Launched Price (China USD)       0\n",
              "Launched Price (USA USD)         0\n",
              "Launched Price (Dubai USD)       0\n",
              "Launched Year                    0\n",
              "dtype: int64"
            ]
          },
          "execution_count": 7,
          "metadata": {},
          "output_type": "execute_result"
        }
      ],
      "source": [
        "df.isnull().sum()"
      ]
    },
    {
      "cell_type": "code",
      "execution_count": 8,
      "metadata": {
        "colab": {
          "base_uri": "https://localhost:8080/"
        },
        "id": "Wujq0PUo0TXi",
        "outputId": "4ff98223-1857-4a3c-da45-f94238c1af15"
      },
      "outputs": [
        {
          "data": {
            "application/vnd.microsoft.datawrangler.viewer.v0+json": {
              "columns": [
                {
                  "name": "index",
                  "rawType": "int64",
                  "type": "integer"
                },
                {
                  "name": "Company Name",
                  "rawType": "object",
                  "type": "string"
                },
                {
                  "name": "Model Name",
                  "rawType": "object",
                  "type": "string"
                },
                {
                  "name": "Mobile Weight (gram)",
                  "rawType": "object",
                  "type": "string"
                },
                {
                  "name": "RAM (GB)",
                  "rawType": "object",
                  "type": "string"
                },
                {
                  "name": "Front Camera (MP)",
                  "rawType": "object",
                  "type": "string"
                },
                {
                  "name": "Back Camera (MP)",
                  "rawType": "object",
                  "type": "string"
                },
                {
                  "name": "Processor",
                  "rawType": "object",
                  "type": "string"
                },
                {
                  "name": "Battery Capacity (mAh)",
                  "rawType": "object",
                  "type": "string"
                },
                {
                  "name": "Screen Size (inch)",
                  "rawType": "object",
                  "type": "string"
                },
                {
                  "name": "Launched Price (Pakistan USD)",
                  "rawType": "object",
                  "type": "string"
                },
                {
                  "name": "Launched Price (India USD)",
                  "rawType": "object",
                  "type": "string"
                },
                {
                  "name": "Launched Price (China USD)",
                  "rawType": "object",
                  "type": "string"
                },
                {
                  "name": "Launched Price (USA USD)",
                  "rawType": "object",
                  "type": "string"
                },
                {
                  "name": "Launched Price (Dubai USD)",
                  "rawType": "object",
                  "type": "string"
                },
                {
                  "name": "Launched Year",
                  "rawType": "int64",
                  "type": "integer"
                }
              ],
              "ref": "e79957e9-b377-4ef8-99be-6f9c1b8b86e2",
              "rows": [
                [
                  "347",
                  "Oppo",
                  "A3 128GB",
                  "186g",
                  "4GB",
                  "5MP",
                  "50MP",
                  "Snapdragon 6s 4G Gen 1",
                  "5000mAh",
                  "6.7 inches",
                  "PKR 59,999",
                  "INR 34,999",
                  "CNY 2,999",
                  "USD 399",
                  "AED 1,499",
                  "2024"
                ],
                [
                  "437",
                  "Oppo",
                  "K11x 128GB",
                  "195g",
                  "8GB",
                  "16MP",
                  "108MP + 2MP",
                  "Qualcomm Snapdragon 695",
                  "5,000mAh",
                  "6.72 inches",
                  "PKR 59,999",
                  "INR 18,000",
                  "CNY 1,499",
                  "USD 199",
                  "AED 1,000",
                  "2023"
                ],
                [
                  "438",
                  "Oppo",
                  "K11x 256GB",
                  "195g",
                  "12GB",
                  "16MP",
                  "108MP + 2MP",
                  "Qualcomm Snapdragon 695",
                  "5,000mAh",
                  "6.72 inches",
                  "PKR 64,999",
                  "INR 20,000",
                  "CNY 1,699",
                  "USD 229",
                  "AED 1,200",
                  "2023"
                ],
                [
                  "441",
                  "Oppo",
                  "K10x 128GB",
                  "195g",
                  "6GB",
                  "16MP",
                  "64MP + 2MP + 2MP",
                  "Qualcomm Snapdragon 695",
                  "5,000mAh",
                  "6.59 inches",
                  "PKR 54,999",
                  "INR 16,990",
                  "CNY 1,499",
                  "USD 199",
                  "AED 1,000",
                  "2022"
                ],
                [
                  "442",
                  "Oppo",
                  "K10x 256GB",
                  "195g",
                  "8GB",
                  "16MP",
                  "64MP + 2MP + 2MP",
                  "Qualcomm Snapdragon 695",
                  "5,000mAh",
                  "6.59 inches",
                  "PKR 59,999",
                  "INR 18,990",
                  "CNY 1,699",
                  "USD 229",
                  "AED 1,200",
                  "2022"
                ],
                [
                  "443",
                  "Oppo",
                  "K10 5G 128GB",
                  "205g",
                  "8GB",
                  "16MP",
                  "64MP + 8MP + 2MP",
                  "MediaTek Dimensity 8000-Max",
                  "5,000mAh",
                  "6.59 inches",
                  "PKR 64,999",
                  "INR 19,999",
                  "CNY 1,799",
                  "USD 249",
                  "AED 1,300",
                  "2022"
                ],
                [
                  "445",
                  "Oppo",
                  "K9x 128GB",
                  "194g",
                  "6GB",
                  "16MP",
                  "64MP + 2MP + 2MP",
                  "MediaTek Dimensity 810",
                  "5,000mAh",
                  "6.5 inches",
                  "PKR 49,999",
                  "INR 15,999",
                  "CNY 1,499",
                  "USD 199",
                  "AED 1,000",
                  "2021"
                ],
                [
                  "446",
                  "Oppo",
                  "K9x 256GB",
                  "194g",
                  "8GB",
                  "16MP",
                  "64MP + 2MP + 2MP",
                  "MediaTek Dimensity 810",
                  "5,000mAh",
                  "6.5 inches",
                  "PKR 54,999",
                  "INR 17,999",
                  "CNY 1,699",
                  "USD 229",
                  "AED 1,200",
                  "2021"
                ],
                [
                  "447",
                  "Oppo",
                  "K9 Pro 5G 128GB",
                  "180g",
                  "8GB",
                  "16MP",
                  "64MP + 8MP + 2MP",
                  "MediaTek Dimensity 1200",
                  "4,500mAh",
                  "6.43 inches",
                  "PKR 69,999",
                  "INR 24,999",
                  "CNY 2,199",
                  "USD 299",
                  "AED 1,500",
                  "2021"
                ],
                [
                  "448",
                  "Oppo",
                  "K9 Pro 5G 256GB",
                  "180g",
                  "12GB",
                  "16MP",
                  "64MP + 8MP + 2MP",
                  "MediaTek Dimensity 1200",
                  "4,500mAh",
                  "6.43 inches",
                  "PKR 74,999",
                  "INR 27,999",
                  "CNY 2,499",
                  "USD 329",
                  "AED 1,700",
                  "2021"
                ],
                [
                  "449",
                  "Oppo",
                  "K9 5G 128GB",
                  "172g",
                  "8GB",
                  "32MP",
                  "64MP + 8MP + 2MP",
                  "Qualcomm Snapdragon 768G",
                  "4,300mAh",
                  "6.43 inches",
                  "PKR 59,999",
                  "INR 22,999",
                  "CNY 1,999",
                  "USD 279",
                  "AED 1,400",
                  "2021"
                ],
                [
                  "450",
                  "Oppo",
                  "K9 5G 256GB",
                  "172g",
                  "8GB",
                  "32MP",
                  "64MP + 8MP + 2MP",
                  "Qualcomm Snapdragon 768G",
                  "4,300mAh",
                  "6.43 inches",
                  "PKR 64,999",
                  "INR 24,999",
                  "CNY 2,199",
                  "USD 299",
                  "AED 1,500",
                  "2021"
                ],
                [
                  "451",
                  "Oppo",
                  "K7x 128GB",
                  "194g",
                  "6GB",
                  "16MP",
                  "48MP + 8MP + 2MP + 2MP",
                  "MediaTek Dimensity 720",
                  "5,000mAh",
                  "6.5 inches",
                  "PKR 44,999",
                  "INR 14,999",
                  "CNY 1,499",
                  "USD 199",
                  "AED 1,000",
                  "2020"
                ],
                [
                  "452",
                  "Oppo",
                  "K7 5G 128GB",
                  "180g",
                  "8GB",
                  "32MP",
                  "48MP + 8MP + 2MP + 2MP",
                  "Qualcomm Snapdragon 765G",
                  "4,025mAh",
                  "6.4 inches",
                  "PKR 49,999",
                  "INR 19,999",
                  "CNY 1,999",
                  "USD 279",
                  "AED 1,400",
                  "2020"
                ],
                [
                  "798",
                  "Infinix",
                  "Hot 10 Lite 64GB",
                  "195g",
                  "3GB",
                  "8MP",
                  "13MP",
                  "MediaTek Helio A25",
                  "5,000mAh",
                  "6.6 inches",
                  "PKR 19,999",
                  "INR 7,999",
                  "CNY 699",
                  "USD 109",
                  "AED 399",
                  "2020"
                ]
              ],
              "shape": {
                "columns": 15,
                "rows": 15
              }
            },
            "text/html": [
              "<div>\n",
              "<style scoped>\n",
              "    .dataframe tbody tr th:only-of-type {\n",
              "        vertical-align: middle;\n",
              "    }\n",
              "\n",
              "    .dataframe tbody tr th {\n",
              "        vertical-align: top;\n",
              "    }\n",
              "\n",
              "    .dataframe thead th {\n",
              "        text-align: right;\n",
              "    }\n",
              "</style>\n",
              "<table border=\"1\" class=\"dataframe\">\n",
              "  <thead>\n",
              "    <tr style=\"text-align: right;\">\n",
              "      <th></th>\n",
              "      <th>Company Name</th>\n",
              "      <th>Model Name</th>\n",
              "      <th>Mobile Weight (gram)</th>\n",
              "      <th>RAM (GB)</th>\n",
              "      <th>Front Camera (MP)</th>\n",
              "      <th>Back Camera (MP)</th>\n",
              "      <th>Processor</th>\n",
              "      <th>Battery Capacity (mAh)</th>\n",
              "      <th>Screen Size (inch)</th>\n",
              "      <th>Launched Price (Pakistan USD)</th>\n",
              "      <th>Launched Price (India USD)</th>\n",
              "      <th>Launched Price (China USD)</th>\n",
              "      <th>Launched Price (USA USD)</th>\n",
              "      <th>Launched Price (Dubai USD)</th>\n",
              "      <th>Launched Year</th>\n",
              "    </tr>\n",
              "  </thead>\n",
              "  <tbody>\n",
              "    <tr>\n",
              "      <th>347</th>\n",
              "      <td>Oppo</td>\n",
              "      <td>A3 128GB</td>\n",
              "      <td>186g</td>\n",
              "      <td>4GB</td>\n",
              "      <td>5MP</td>\n",
              "      <td>50MP</td>\n",
              "      <td>Snapdragon 6s 4G Gen 1</td>\n",
              "      <td>5000mAh</td>\n",
              "      <td>6.7 inches</td>\n",
              "      <td>PKR 59,999</td>\n",
              "      <td>INR 34,999</td>\n",
              "      <td>CNY 2,999</td>\n",
              "      <td>USD 399</td>\n",
              "      <td>AED 1,499</td>\n",
              "      <td>2024</td>\n",
              "    </tr>\n",
              "    <tr>\n",
              "      <th>437</th>\n",
              "      <td>Oppo</td>\n",
              "      <td>K11x 128GB</td>\n",
              "      <td>195g</td>\n",
              "      <td>8GB</td>\n",
              "      <td>16MP</td>\n",
              "      <td>108MP + 2MP</td>\n",
              "      <td>Qualcomm Snapdragon 695</td>\n",
              "      <td>5,000mAh</td>\n",
              "      <td>6.72 inches</td>\n",
              "      <td>PKR 59,999</td>\n",
              "      <td>INR 18,000</td>\n",
              "      <td>CNY 1,499</td>\n",
              "      <td>USD 199</td>\n",
              "      <td>AED 1,000</td>\n",
              "      <td>2023</td>\n",
              "    </tr>\n",
              "    <tr>\n",
              "      <th>438</th>\n",
              "      <td>Oppo</td>\n",
              "      <td>K11x 256GB</td>\n",
              "      <td>195g</td>\n",
              "      <td>12GB</td>\n",
              "      <td>16MP</td>\n",
              "      <td>108MP + 2MP</td>\n",
              "      <td>Qualcomm Snapdragon 695</td>\n",
              "      <td>5,000mAh</td>\n",
              "      <td>6.72 inches</td>\n",
              "      <td>PKR 64,999</td>\n",
              "      <td>INR 20,000</td>\n",
              "      <td>CNY 1,699</td>\n",
              "      <td>USD 229</td>\n",
              "      <td>AED 1,200</td>\n",
              "      <td>2023</td>\n",
              "    </tr>\n",
              "    <tr>\n",
              "      <th>441</th>\n",
              "      <td>Oppo</td>\n",
              "      <td>K10x 128GB</td>\n",
              "      <td>195g</td>\n",
              "      <td>6GB</td>\n",
              "      <td>16MP</td>\n",
              "      <td>64MP + 2MP + 2MP</td>\n",
              "      <td>Qualcomm Snapdragon 695</td>\n",
              "      <td>5,000mAh</td>\n",
              "      <td>6.59 inches</td>\n",
              "      <td>PKR 54,999</td>\n",
              "      <td>INR 16,990</td>\n",
              "      <td>CNY 1,499</td>\n",
              "      <td>USD 199</td>\n",
              "      <td>AED 1,000</td>\n",
              "      <td>2022</td>\n",
              "    </tr>\n",
              "    <tr>\n",
              "      <th>442</th>\n",
              "      <td>Oppo</td>\n",
              "      <td>K10x 256GB</td>\n",
              "      <td>195g</td>\n",
              "      <td>8GB</td>\n",
              "      <td>16MP</td>\n",
              "      <td>64MP + 2MP + 2MP</td>\n",
              "      <td>Qualcomm Snapdragon 695</td>\n",
              "      <td>5,000mAh</td>\n",
              "      <td>6.59 inches</td>\n",
              "      <td>PKR 59,999</td>\n",
              "      <td>INR 18,990</td>\n",
              "      <td>CNY 1,699</td>\n",
              "      <td>USD 229</td>\n",
              "      <td>AED 1,200</td>\n",
              "      <td>2022</td>\n",
              "    </tr>\n",
              "    <tr>\n",
              "      <th>443</th>\n",
              "      <td>Oppo</td>\n",
              "      <td>K10 5G 128GB</td>\n",
              "      <td>205g</td>\n",
              "      <td>8GB</td>\n",
              "      <td>16MP</td>\n",
              "      <td>64MP + 8MP + 2MP</td>\n",
              "      <td>MediaTek Dimensity 8000-Max</td>\n",
              "      <td>5,000mAh</td>\n",
              "      <td>6.59 inches</td>\n",
              "      <td>PKR 64,999</td>\n",
              "      <td>INR 19,999</td>\n",
              "      <td>CNY 1,799</td>\n",
              "      <td>USD 249</td>\n",
              "      <td>AED 1,300</td>\n",
              "      <td>2022</td>\n",
              "    </tr>\n",
              "    <tr>\n",
              "      <th>445</th>\n",
              "      <td>Oppo</td>\n",
              "      <td>K9x 128GB</td>\n",
              "      <td>194g</td>\n",
              "      <td>6GB</td>\n",
              "      <td>16MP</td>\n",
              "      <td>64MP + 2MP + 2MP</td>\n",
              "      <td>MediaTek Dimensity 810</td>\n",
              "      <td>5,000mAh</td>\n",
              "      <td>6.5 inches</td>\n",
              "      <td>PKR 49,999</td>\n",
              "      <td>INR 15,999</td>\n",
              "      <td>CNY 1,499</td>\n",
              "      <td>USD 199</td>\n",
              "      <td>AED 1,000</td>\n",
              "      <td>2021</td>\n",
              "    </tr>\n",
              "    <tr>\n",
              "      <th>446</th>\n",
              "      <td>Oppo</td>\n",
              "      <td>K9x 256GB</td>\n",
              "      <td>194g</td>\n",
              "      <td>8GB</td>\n",
              "      <td>16MP</td>\n",
              "      <td>64MP + 2MP + 2MP</td>\n",
              "      <td>MediaTek Dimensity 810</td>\n",
              "      <td>5,000mAh</td>\n",
              "      <td>6.5 inches</td>\n",
              "      <td>PKR 54,999</td>\n",
              "      <td>INR 17,999</td>\n",
              "      <td>CNY 1,699</td>\n",
              "      <td>USD 229</td>\n",
              "      <td>AED 1,200</td>\n",
              "      <td>2021</td>\n",
              "    </tr>\n",
              "    <tr>\n",
              "      <th>447</th>\n",
              "      <td>Oppo</td>\n",
              "      <td>K9 Pro 5G 128GB</td>\n",
              "      <td>180g</td>\n",
              "      <td>8GB</td>\n",
              "      <td>16MP</td>\n",
              "      <td>64MP + 8MP + 2MP</td>\n",
              "      <td>MediaTek Dimensity 1200</td>\n",
              "      <td>4,500mAh</td>\n",
              "      <td>6.43 inches</td>\n",
              "      <td>PKR 69,999</td>\n",
              "      <td>INR 24,999</td>\n",
              "      <td>CNY 2,199</td>\n",
              "      <td>USD 299</td>\n",
              "      <td>AED 1,500</td>\n",
              "      <td>2021</td>\n",
              "    </tr>\n",
              "    <tr>\n",
              "      <th>448</th>\n",
              "      <td>Oppo</td>\n",
              "      <td>K9 Pro 5G 256GB</td>\n",
              "      <td>180g</td>\n",
              "      <td>12GB</td>\n",
              "      <td>16MP</td>\n",
              "      <td>64MP + 8MP + 2MP</td>\n",
              "      <td>MediaTek Dimensity 1200</td>\n",
              "      <td>4,500mAh</td>\n",
              "      <td>6.43 inches</td>\n",
              "      <td>PKR 74,999</td>\n",
              "      <td>INR 27,999</td>\n",
              "      <td>CNY 2,499</td>\n",
              "      <td>USD 329</td>\n",
              "      <td>AED 1,700</td>\n",
              "      <td>2021</td>\n",
              "    </tr>\n",
              "    <tr>\n",
              "      <th>449</th>\n",
              "      <td>Oppo</td>\n",
              "      <td>K9 5G 128GB</td>\n",
              "      <td>172g</td>\n",
              "      <td>8GB</td>\n",
              "      <td>32MP</td>\n",
              "      <td>64MP + 8MP + 2MP</td>\n",
              "      <td>Qualcomm Snapdragon 768G</td>\n",
              "      <td>4,300mAh</td>\n",
              "      <td>6.43 inches</td>\n",
              "      <td>PKR 59,999</td>\n",
              "      <td>INR 22,999</td>\n",
              "      <td>CNY 1,999</td>\n",
              "      <td>USD 279</td>\n",
              "      <td>AED 1,400</td>\n",
              "      <td>2021</td>\n",
              "    </tr>\n",
              "    <tr>\n",
              "      <th>450</th>\n",
              "      <td>Oppo</td>\n",
              "      <td>K9 5G 256GB</td>\n",
              "      <td>172g</td>\n",
              "      <td>8GB</td>\n",
              "      <td>32MP</td>\n",
              "      <td>64MP + 8MP + 2MP</td>\n",
              "      <td>Qualcomm Snapdragon 768G</td>\n",
              "      <td>4,300mAh</td>\n",
              "      <td>6.43 inches</td>\n",
              "      <td>PKR 64,999</td>\n",
              "      <td>INR 24,999</td>\n",
              "      <td>CNY 2,199</td>\n",
              "      <td>USD 299</td>\n",
              "      <td>AED 1,500</td>\n",
              "      <td>2021</td>\n",
              "    </tr>\n",
              "    <tr>\n",
              "      <th>451</th>\n",
              "      <td>Oppo</td>\n",
              "      <td>K7x 128GB</td>\n",
              "      <td>194g</td>\n",
              "      <td>6GB</td>\n",
              "      <td>16MP</td>\n",
              "      <td>48MP + 8MP + 2MP + 2MP</td>\n",
              "      <td>MediaTek Dimensity 720</td>\n",
              "      <td>5,000mAh</td>\n",
              "      <td>6.5 inches</td>\n",
              "      <td>PKR 44,999</td>\n",
              "      <td>INR 14,999</td>\n",
              "      <td>CNY 1,499</td>\n",
              "      <td>USD 199</td>\n",
              "      <td>AED 1,000</td>\n",
              "      <td>2020</td>\n",
              "    </tr>\n",
              "    <tr>\n",
              "      <th>452</th>\n",
              "      <td>Oppo</td>\n",
              "      <td>K7 5G 128GB</td>\n",
              "      <td>180g</td>\n",
              "      <td>8GB</td>\n",
              "      <td>32MP</td>\n",
              "      <td>48MP + 8MP + 2MP + 2MP</td>\n",
              "      <td>Qualcomm Snapdragon 765G</td>\n",
              "      <td>4,025mAh</td>\n",
              "      <td>6.4 inches</td>\n",
              "      <td>PKR 49,999</td>\n",
              "      <td>INR 19,999</td>\n",
              "      <td>CNY 1,999</td>\n",
              "      <td>USD 279</td>\n",
              "      <td>AED 1,400</td>\n",
              "      <td>2020</td>\n",
              "    </tr>\n",
              "    <tr>\n",
              "      <th>798</th>\n",
              "      <td>Infinix</td>\n",
              "      <td>Hot 10 Lite 64GB</td>\n",
              "      <td>195g</td>\n",
              "      <td>3GB</td>\n",
              "      <td>8MP</td>\n",
              "      <td>13MP</td>\n",
              "      <td>MediaTek Helio A25</td>\n",
              "      <td>5,000mAh</td>\n",
              "      <td>6.6 inches</td>\n",
              "      <td>PKR 19,999</td>\n",
              "      <td>INR 7,999</td>\n",
              "      <td>CNY 699</td>\n",
              "      <td>USD 109</td>\n",
              "      <td>AED 399</td>\n",
              "      <td>2020</td>\n",
              "    </tr>\n",
              "  </tbody>\n",
              "</table>\n",
              "</div>"
            ],
            "text/plain": [
              "    Company Name        Model Name Mobile Weight (gram) RAM (GB)  \\\n",
              "347         Oppo          A3 128GB                 186g      4GB   \n",
              "437         Oppo        K11x 128GB                 195g      8GB   \n",
              "438         Oppo        K11x 256GB                 195g     12GB   \n",
              "441         Oppo        K10x 128GB                 195g      6GB   \n",
              "442         Oppo        K10x 256GB                 195g      8GB   \n",
              "443         Oppo      K10 5G 128GB                 205g      8GB   \n",
              "445         Oppo         K9x 128GB                 194g      6GB   \n",
              "446         Oppo         K9x 256GB                 194g      8GB   \n",
              "447         Oppo   K9 Pro 5G 128GB                 180g      8GB   \n",
              "448         Oppo   K9 Pro 5G 256GB                 180g     12GB   \n",
              "449         Oppo       K9 5G 128GB                 172g      8GB   \n",
              "450         Oppo       K9 5G 256GB                 172g      8GB   \n",
              "451         Oppo         K7x 128GB                 194g      6GB   \n",
              "452         Oppo       K7 5G 128GB                 180g      8GB   \n",
              "798      Infinix  Hot 10 Lite 64GB                 195g      3GB   \n",
              "\n",
              "    Front Camera (MP)        Back Camera (MP)                    Processor  \\\n",
              "347               5MP                    50MP       Snapdragon 6s 4G Gen 1   \n",
              "437              16MP             108MP + 2MP      Qualcomm Snapdragon 695   \n",
              "438              16MP             108MP + 2MP      Qualcomm Snapdragon 695   \n",
              "441              16MP        64MP + 2MP + 2MP      Qualcomm Snapdragon 695   \n",
              "442              16MP        64MP + 2MP + 2MP      Qualcomm Snapdragon 695   \n",
              "443              16MP        64MP + 8MP + 2MP  MediaTek Dimensity 8000-Max   \n",
              "445              16MP        64MP + 2MP + 2MP       MediaTek Dimensity 810   \n",
              "446              16MP        64MP + 2MP + 2MP       MediaTek Dimensity 810   \n",
              "447              16MP        64MP + 8MP + 2MP      MediaTek Dimensity 1200   \n",
              "448              16MP        64MP + 8MP + 2MP      MediaTek Dimensity 1200   \n",
              "449              32MP        64MP + 8MP + 2MP     Qualcomm Snapdragon 768G   \n",
              "450              32MP        64MP + 8MP + 2MP     Qualcomm Snapdragon 768G   \n",
              "451              16MP  48MP + 8MP + 2MP + 2MP       MediaTek Dimensity 720   \n",
              "452              32MP  48MP + 8MP + 2MP + 2MP     Qualcomm Snapdragon 765G   \n",
              "798               8MP                    13MP           MediaTek Helio A25   \n",
              "\n",
              "    Battery Capacity (mAh) Screen Size (inch) Launched Price (Pakistan USD)  \\\n",
              "347                5000mAh         6.7 inches                    PKR 59,999   \n",
              "437               5,000mAh        6.72 inches                    PKR 59,999   \n",
              "438               5,000mAh        6.72 inches                    PKR 64,999   \n",
              "441               5,000mAh        6.59 inches                    PKR 54,999   \n",
              "442               5,000mAh        6.59 inches                    PKR 59,999   \n",
              "443               5,000mAh        6.59 inches                    PKR 64,999   \n",
              "445               5,000mAh         6.5 inches                    PKR 49,999   \n",
              "446               5,000mAh         6.5 inches                    PKR 54,999   \n",
              "447               4,500mAh        6.43 inches                    PKR 69,999   \n",
              "448               4,500mAh        6.43 inches                    PKR 74,999   \n",
              "449               4,300mAh        6.43 inches                    PKR 59,999   \n",
              "450               4,300mAh        6.43 inches                    PKR 64,999   \n",
              "451               5,000mAh         6.5 inches                    PKR 44,999   \n",
              "452               4,025mAh         6.4 inches                    PKR 49,999   \n",
              "798               5,000mAh         6.6 inches                    PKR 19,999   \n",
              "\n",
              "    Launched Price (India USD) Launched Price (China USD)  \\\n",
              "347                 INR 34,999                  CNY 2,999   \n",
              "437                 INR 18,000                  CNY 1,499   \n",
              "438                 INR 20,000                  CNY 1,699   \n",
              "441                 INR 16,990                  CNY 1,499   \n",
              "442                 INR 18,990                  CNY 1,699   \n",
              "443                 INR 19,999                  CNY 1,799   \n",
              "445                 INR 15,999                  CNY 1,499   \n",
              "446                 INR 17,999                  CNY 1,699   \n",
              "447                 INR 24,999                  CNY 2,199   \n",
              "448                 INR 27,999                  CNY 2,499   \n",
              "449                 INR 22,999                  CNY 1,999   \n",
              "450                 INR 24,999                  CNY 2,199   \n",
              "451                 INR 14,999                  CNY 1,499   \n",
              "452                 INR 19,999                  CNY 1,999   \n",
              "798                  INR 7,999                    CNY 699   \n",
              "\n",
              "    Launched Price (USA USD) Launched Price (Dubai USD)  Launched Year  \n",
              "347                  USD 399                  AED 1,499           2024  \n",
              "437                  USD 199                  AED 1,000           2023  \n",
              "438                  USD 229                  AED 1,200           2023  \n",
              "441                  USD 199                  AED 1,000           2022  \n",
              "442                  USD 229                  AED 1,200           2022  \n",
              "443                  USD 249                  AED 1,300           2022  \n",
              "445                  USD 199                  AED 1,000           2021  \n",
              "446                  USD 229                  AED 1,200           2021  \n",
              "447                  USD 299                  AED 1,500           2021  \n",
              "448                  USD 329                  AED 1,700           2021  \n",
              "449                  USD 279                  AED 1,400           2021  \n",
              "450                  USD 299                  AED 1,500           2021  \n",
              "451                  USD 199                  AED 1,000           2020  \n",
              "452                  USD 279                  AED 1,400           2020  \n",
              "798                  USD 109                    AED 399           2020  "
            ]
          },
          "execution_count": 8,
          "metadata": {},
          "output_type": "execute_result"
        }
      ],
      "source": [
        "df[df.duplicated()]"
      ]
    },
    {
      "cell_type": "code",
      "execution_count": 9,
      "metadata": {},
      "outputs": [
        {
          "data": {
            "application/vnd.microsoft.datawrangler.viewer.v0+json": {
              "columns": [
                {
                  "name": "index",
                  "rawType": "int64",
                  "type": "integer"
                },
                {
                  "name": "Company Name",
                  "rawType": "object",
                  "type": "string"
                },
                {
                  "name": "Model Name",
                  "rawType": "object",
                  "type": "string"
                },
                {
                  "name": "Mobile Weight (gram)",
                  "rawType": "object",
                  "type": "string"
                },
                {
                  "name": "RAM (GB)",
                  "rawType": "object",
                  "type": "string"
                },
                {
                  "name": "Front Camera (MP)",
                  "rawType": "object",
                  "type": "string"
                },
                {
                  "name": "Back Camera (MP)",
                  "rawType": "object",
                  "type": "string"
                },
                {
                  "name": "Processor",
                  "rawType": "object",
                  "type": "string"
                },
                {
                  "name": "Battery Capacity (mAh)",
                  "rawType": "object",
                  "type": "string"
                },
                {
                  "name": "Screen Size (inch)",
                  "rawType": "object",
                  "type": "string"
                },
                {
                  "name": "Launched Price (Pakistan USD)",
                  "rawType": "object",
                  "type": "string"
                },
                {
                  "name": "Launched Price (India USD)",
                  "rawType": "object",
                  "type": "string"
                },
                {
                  "name": "Launched Price (China USD)",
                  "rawType": "object",
                  "type": "string"
                },
                {
                  "name": "Launched Price (USA USD)",
                  "rawType": "object",
                  "type": "string"
                },
                {
                  "name": "Launched Price (Dubai USD)",
                  "rawType": "object",
                  "type": "string"
                },
                {
                  "name": "Launched Year",
                  "rawType": "int64",
                  "type": "integer"
                }
              ],
              "ref": "fa194cdf-7fc2-4f29-a361-147c9fd8a7ee",
              "rows": [
                [
                  "344",
                  "Oppo",
                  "A3 128GB",
                  "186g",
                  "4GB",
                  "5MP",
                  "50MP",
                  "Snapdragon 6s 4G Gen 1",
                  "5000mAh",
                  "6.7 inches",
                  "PKR 59,999",
                  "INR 34,999",
                  "CNY 2,999",
                  "USD 399",
                  "AED 1,499",
                  "2024"
                ],
                [
                  "347",
                  "Oppo",
                  "A3 128GB",
                  "186g",
                  "4GB",
                  "5MP",
                  "50MP",
                  "Snapdragon 6s 4G Gen 1",
                  "5000mAh",
                  "6.7 inches",
                  "PKR 59,999",
                  "INR 34,999",
                  "CNY 2,999",
                  "USD 399",
                  "AED 1,499",
                  "2024"
                ],
                [
                  "423",
                  "Oppo",
                  "K11x 128GB",
                  "195g",
                  "8GB",
                  "16MP",
                  "108MP + 2MP",
                  "Qualcomm Snapdragon 695",
                  "5,000mAh",
                  "6.72 inches",
                  "PKR 59,999",
                  "INR 18,000",
                  "CNY 1,499",
                  "USD 199",
                  "AED 1,000",
                  "2023"
                ],
                [
                  "424",
                  "Oppo",
                  "K11x 256GB",
                  "195g",
                  "12GB",
                  "16MP",
                  "108MP + 2MP",
                  "Qualcomm Snapdragon 695",
                  "5,000mAh",
                  "6.72 inches",
                  "PKR 64,999",
                  "INR 20,000",
                  "CNY 1,699",
                  "USD 229",
                  "AED 1,200",
                  "2023"
                ],
                [
                  "425",
                  "Oppo",
                  "K10x 128GB",
                  "195g",
                  "6GB",
                  "16MP",
                  "64MP + 2MP + 2MP",
                  "Qualcomm Snapdragon 695",
                  "5,000mAh",
                  "6.59 inches",
                  "PKR 54,999",
                  "INR 16,990",
                  "CNY 1,499",
                  "USD 199",
                  "AED 1,000",
                  "2022"
                ],
                [
                  "426",
                  "Oppo",
                  "K10x 256GB",
                  "195g",
                  "8GB",
                  "16MP",
                  "64MP + 2MP + 2MP",
                  "Qualcomm Snapdragon 695",
                  "5,000mAh",
                  "6.59 inches",
                  "PKR 59,999",
                  "INR 18,990",
                  "CNY 1,699",
                  "USD 229",
                  "AED 1,200",
                  "2022"
                ],
                [
                  "427",
                  "Oppo",
                  "K10 5G 128GB",
                  "205g",
                  "8GB",
                  "16MP",
                  "64MP + 8MP + 2MP",
                  "MediaTek Dimensity 8000-Max",
                  "5,000mAh",
                  "6.59 inches",
                  "PKR 64,999",
                  "INR 19,999",
                  "CNY 1,799",
                  "USD 249",
                  "AED 1,300",
                  "2022"
                ],
                [
                  "428",
                  "Oppo",
                  "K9x 128GB",
                  "194g",
                  "6GB",
                  "16MP",
                  "64MP + 2MP + 2MP",
                  "MediaTek Dimensity 810",
                  "5,000mAh",
                  "6.5 inches",
                  "PKR 49,999",
                  "INR 15,999",
                  "CNY 1,499",
                  "USD 199",
                  "AED 1,000",
                  "2021"
                ],
                [
                  "429",
                  "Oppo",
                  "K9x 256GB",
                  "194g",
                  "8GB",
                  "16MP",
                  "64MP + 2MP + 2MP",
                  "MediaTek Dimensity 810",
                  "5,000mAh",
                  "6.5 inches",
                  "PKR 54,999",
                  "INR 17,999",
                  "CNY 1,699",
                  "USD 229",
                  "AED 1,200",
                  "2021"
                ],
                [
                  "430",
                  "Oppo",
                  "K9 Pro 5G 128GB",
                  "180g",
                  "8GB",
                  "16MP",
                  "64MP + 8MP + 2MP",
                  "MediaTek Dimensity 1200",
                  "4,500mAh",
                  "6.43 inches",
                  "PKR 69,999",
                  "INR 24,999",
                  "CNY 2,199",
                  "USD 299",
                  "AED 1,500",
                  "2021"
                ],
                [
                  "431",
                  "Oppo",
                  "K9 Pro 5G 256GB",
                  "180g",
                  "12GB",
                  "16MP",
                  "64MP + 8MP + 2MP",
                  "MediaTek Dimensity 1200",
                  "4,500mAh",
                  "6.43 inches",
                  "PKR 74,999",
                  "INR 27,999",
                  "CNY 2,499",
                  "USD 329",
                  "AED 1,700",
                  "2021"
                ],
                [
                  "432",
                  "Oppo",
                  "K9 5G 128GB",
                  "172g",
                  "8GB",
                  "32MP",
                  "64MP + 8MP + 2MP",
                  "Qualcomm Snapdragon 768G",
                  "4,300mAh",
                  "6.43 inches",
                  "PKR 59,999",
                  "INR 22,999",
                  "CNY 1,999",
                  "USD 279",
                  "AED 1,400",
                  "2021"
                ],
                [
                  "433",
                  "Oppo",
                  "K9 5G 256GB",
                  "172g",
                  "8GB",
                  "32MP",
                  "64MP + 8MP + 2MP",
                  "Qualcomm Snapdragon 768G",
                  "4,300mAh",
                  "6.43 inches",
                  "PKR 64,999",
                  "INR 24,999",
                  "CNY 2,199",
                  "USD 299",
                  "AED 1,500",
                  "2021"
                ],
                [
                  "434",
                  "Oppo",
                  "K7x 128GB",
                  "194g",
                  "6GB",
                  "16MP",
                  "48MP + 8MP + 2MP + 2MP",
                  "MediaTek Dimensity 720",
                  "5,000mAh",
                  "6.5 inches",
                  "PKR 44,999",
                  "INR 14,999",
                  "CNY 1,499",
                  "USD 199",
                  "AED 1,000",
                  "2020"
                ],
                [
                  "435",
                  "Oppo",
                  "K7 5G 128GB",
                  "180g",
                  "8GB",
                  "32MP",
                  "48MP + 8MP + 2MP + 2MP",
                  "Qualcomm Snapdragon 765G",
                  "4,025mAh",
                  "6.4 inches",
                  "PKR 49,999",
                  "INR 19,999",
                  "CNY 1,999",
                  "USD 279",
                  "AED 1,400",
                  "2020"
                ],
                [
                  "437",
                  "Oppo",
                  "K11x 128GB",
                  "195g",
                  "8GB",
                  "16MP",
                  "108MP + 2MP",
                  "Qualcomm Snapdragon 695",
                  "5,000mAh",
                  "6.72 inches",
                  "PKR 59,999",
                  "INR 18,000",
                  "CNY 1,499",
                  "USD 199",
                  "AED 1,000",
                  "2023"
                ],
                [
                  "438",
                  "Oppo",
                  "K11x 256GB",
                  "195g",
                  "12GB",
                  "16MP",
                  "108MP + 2MP",
                  "Qualcomm Snapdragon 695",
                  "5,000mAh",
                  "6.72 inches",
                  "PKR 64,999",
                  "INR 20,000",
                  "CNY 1,699",
                  "USD 229",
                  "AED 1,200",
                  "2023"
                ],
                [
                  "441",
                  "Oppo",
                  "K10x 128GB",
                  "195g",
                  "6GB",
                  "16MP",
                  "64MP + 2MP + 2MP",
                  "Qualcomm Snapdragon 695",
                  "5,000mAh",
                  "6.59 inches",
                  "PKR 54,999",
                  "INR 16,990",
                  "CNY 1,499",
                  "USD 199",
                  "AED 1,000",
                  "2022"
                ],
                [
                  "442",
                  "Oppo",
                  "K10x 256GB",
                  "195g",
                  "8GB",
                  "16MP",
                  "64MP + 2MP + 2MP",
                  "Qualcomm Snapdragon 695",
                  "5,000mAh",
                  "6.59 inches",
                  "PKR 59,999",
                  "INR 18,990",
                  "CNY 1,699",
                  "USD 229",
                  "AED 1,200",
                  "2022"
                ],
                [
                  "443",
                  "Oppo",
                  "K10 5G 128GB",
                  "205g",
                  "8GB",
                  "16MP",
                  "64MP + 8MP + 2MP",
                  "MediaTek Dimensity 8000-Max",
                  "5,000mAh",
                  "6.59 inches",
                  "PKR 64,999",
                  "INR 19,999",
                  "CNY 1,799",
                  "USD 249",
                  "AED 1,300",
                  "2022"
                ],
                [
                  "445",
                  "Oppo",
                  "K9x 128GB",
                  "194g",
                  "6GB",
                  "16MP",
                  "64MP + 2MP + 2MP",
                  "MediaTek Dimensity 810",
                  "5,000mAh",
                  "6.5 inches",
                  "PKR 49,999",
                  "INR 15,999",
                  "CNY 1,499",
                  "USD 199",
                  "AED 1,000",
                  "2021"
                ],
                [
                  "446",
                  "Oppo",
                  "K9x 256GB",
                  "194g",
                  "8GB",
                  "16MP",
                  "64MP + 2MP + 2MP",
                  "MediaTek Dimensity 810",
                  "5,000mAh",
                  "6.5 inches",
                  "PKR 54,999",
                  "INR 17,999",
                  "CNY 1,699",
                  "USD 229",
                  "AED 1,200",
                  "2021"
                ],
                [
                  "447",
                  "Oppo",
                  "K9 Pro 5G 128GB",
                  "180g",
                  "8GB",
                  "16MP",
                  "64MP + 8MP + 2MP",
                  "MediaTek Dimensity 1200",
                  "4,500mAh",
                  "6.43 inches",
                  "PKR 69,999",
                  "INR 24,999",
                  "CNY 2,199",
                  "USD 299",
                  "AED 1,500",
                  "2021"
                ],
                [
                  "448",
                  "Oppo",
                  "K9 Pro 5G 256GB",
                  "180g",
                  "12GB",
                  "16MP",
                  "64MP + 8MP + 2MP",
                  "MediaTek Dimensity 1200",
                  "4,500mAh",
                  "6.43 inches",
                  "PKR 74,999",
                  "INR 27,999",
                  "CNY 2,499",
                  "USD 329",
                  "AED 1,700",
                  "2021"
                ],
                [
                  "449",
                  "Oppo",
                  "K9 5G 128GB",
                  "172g",
                  "8GB",
                  "32MP",
                  "64MP + 8MP + 2MP",
                  "Qualcomm Snapdragon 768G",
                  "4,300mAh",
                  "6.43 inches",
                  "PKR 59,999",
                  "INR 22,999",
                  "CNY 1,999",
                  "USD 279",
                  "AED 1,400",
                  "2021"
                ],
                [
                  "450",
                  "Oppo",
                  "K9 5G 256GB",
                  "172g",
                  "8GB",
                  "32MP",
                  "64MP + 8MP + 2MP",
                  "Qualcomm Snapdragon 768G",
                  "4,300mAh",
                  "6.43 inches",
                  "PKR 64,999",
                  "INR 24,999",
                  "CNY 2,199",
                  "USD 299",
                  "AED 1,500",
                  "2021"
                ],
                [
                  "451",
                  "Oppo",
                  "K7x 128GB",
                  "194g",
                  "6GB",
                  "16MP",
                  "48MP + 8MP + 2MP + 2MP",
                  "MediaTek Dimensity 720",
                  "5,000mAh",
                  "6.5 inches",
                  "PKR 44,999",
                  "INR 14,999",
                  "CNY 1,499",
                  "USD 199",
                  "AED 1,000",
                  "2020"
                ],
                [
                  "452",
                  "Oppo",
                  "K7 5G 128GB",
                  "180g",
                  "8GB",
                  "32MP",
                  "48MP + 8MP + 2MP + 2MP",
                  "Qualcomm Snapdragon 765G",
                  "4,025mAh",
                  "6.4 inches",
                  "PKR 49,999",
                  "INR 19,999",
                  "CNY 1,999",
                  "USD 279",
                  "AED 1,400",
                  "2020"
                ],
                [
                  "791",
                  "Infinix",
                  "Hot 10 Lite 64GB",
                  "195g",
                  "3GB",
                  "8MP",
                  "13MP",
                  "MediaTek Helio A25",
                  "5,000mAh",
                  "6.6 inches",
                  "PKR 19,999",
                  "INR 7,999",
                  "CNY 699",
                  "USD 109",
                  "AED 399",
                  "2020"
                ],
                [
                  "798",
                  "Infinix",
                  "Hot 10 Lite 64GB",
                  "195g",
                  "3GB",
                  "8MP",
                  "13MP",
                  "MediaTek Helio A25",
                  "5,000mAh",
                  "6.6 inches",
                  "PKR 19,999",
                  "INR 7,999",
                  "CNY 699",
                  "USD 109",
                  "AED 399",
                  "2020"
                ]
              ],
              "shape": {
                "columns": 15,
                "rows": 30
              }
            },
            "text/html": [
              "<div>\n",
              "<style scoped>\n",
              "    .dataframe tbody tr th:only-of-type {\n",
              "        vertical-align: middle;\n",
              "    }\n",
              "\n",
              "    .dataframe tbody tr th {\n",
              "        vertical-align: top;\n",
              "    }\n",
              "\n",
              "    .dataframe thead th {\n",
              "        text-align: right;\n",
              "    }\n",
              "</style>\n",
              "<table border=\"1\" class=\"dataframe\">\n",
              "  <thead>\n",
              "    <tr style=\"text-align: right;\">\n",
              "      <th></th>\n",
              "      <th>Company Name</th>\n",
              "      <th>Model Name</th>\n",
              "      <th>Mobile Weight (gram)</th>\n",
              "      <th>RAM (GB)</th>\n",
              "      <th>Front Camera (MP)</th>\n",
              "      <th>Back Camera (MP)</th>\n",
              "      <th>Processor</th>\n",
              "      <th>Battery Capacity (mAh)</th>\n",
              "      <th>Screen Size (inch)</th>\n",
              "      <th>Launched Price (Pakistan USD)</th>\n",
              "      <th>Launched Price (India USD)</th>\n",
              "      <th>Launched Price (China USD)</th>\n",
              "      <th>Launched Price (USA USD)</th>\n",
              "      <th>Launched Price (Dubai USD)</th>\n",
              "      <th>Launched Year</th>\n",
              "    </tr>\n",
              "  </thead>\n",
              "  <tbody>\n",
              "    <tr>\n",
              "      <th>344</th>\n",
              "      <td>Oppo</td>\n",
              "      <td>A3 128GB</td>\n",
              "      <td>186g</td>\n",
              "      <td>4GB</td>\n",
              "      <td>5MP</td>\n",
              "      <td>50MP</td>\n",
              "      <td>Snapdragon 6s 4G Gen 1</td>\n",
              "      <td>5000mAh</td>\n",
              "      <td>6.7 inches</td>\n",
              "      <td>PKR 59,999</td>\n",
              "      <td>INR 34,999</td>\n",
              "      <td>CNY 2,999</td>\n",
              "      <td>USD 399</td>\n",
              "      <td>AED 1,499</td>\n",
              "      <td>2024</td>\n",
              "    </tr>\n",
              "    <tr>\n",
              "      <th>347</th>\n",
              "      <td>Oppo</td>\n",
              "      <td>A3 128GB</td>\n",
              "      <td>186g</td>\n",
              "      <td>4GB</td>\n",
              "      <td>5MP</td>\n",
              "      <td>50MP</td>\n",
              "      <td>Snapdragon 6s 4G Gen 1</td>\n",
              "      <td>5000mAh</td>\n",
              "      <td>6.7 inches</td>\n",
              "      <td>PKR 59,999</td>\n",
              "      <td>INR 34,999</td>\n",
              "      <td>CNY 2,999</td>\n",
              "      <td>USD 399</td>\n",
              "      <td>AED 1,499</td>\n",
              "      <td>2024</td>\n",
              "    </tr>\n",
              "    <tr>\n",
              "      <th>423</th>\n",
              "      <td>Oppo</td>\n",
              "      <td>K11x 128GB</td>\n",
              "      <td>195g</td>\n",
              "      <td>8GB</td>\n",
              "      <td>16MP</td>\n",
              "      <td>108MP + 2MP</td>\n",
              "      <td>Qualcomm Snapdragon 695</td>\n",
              "      <td>5,000mAh</td>\n",
              "      <td>6.72 inches</td>\n",
              "      <td>PKR 59,999</td>\n",
              "      <td>INR 18,000</td>\n",
              "      <td>CNY 1,499</td>\n",
              "      <td>USD 199</td>\n",
              "      <td>AED 1,000</td>\n",
              "      <td>2023</td>\n",
              "    </tr>\n",
              "    <tr>\n",
              "      <th>424</th>\n",
              "      <td>Oppo</td>\n",
              "      <td>K11x 256GB</td>\n",
              "      <td>195g</td>\n",
              "      <td>12GB</td>\n",
              "      <td>16MP</td>\n",
              "      <td>108MP + 2MP</td>\n",
              "      <td>Qualcomm Snapdragon 695</td>\n",
              "      <td>5,000mAh</td>\n",
              "      <td>6.72 inches</td>\n",
              "      <td>PKR 64,999</td>\n",
              "      <td>INR 20,000</td>\n",
              "      <td>CNY 1,699</td>\n",
              "      <td>USD 229</td>\n",
              "      <td>AED 1,200</td>\n",
              "      <td>2023</td>\n",
              "    </tr>\n",
              "    <tr>\n",
              "      <th>425</th>\n",
              "      <td>Oppo</td>\n",
              "      <td>K10x 128GB</td>\n",
              "      <td>195g</td>\n",
              "      <td>6GB</td>\n",
              "      <td>16MP</td>\n",
              "      <td>64MP + 2MP + 2MP</td>\n",
              "      <td>Qualcomm Snapdragon 695</td>\n",
              "      <td>5,000mAh</td>\n",
              "      <td>6.59 inches</td>\n",
              "      <td>PKR 54,999</td>\n",
              "      <td>INR 16,990</td>\n",
              "      <td>CNY 1,499</td>\n",
              "      <td>USD 199</td>\n",
              "      <td>AED 1,000</td>\n",
              "      <td>2022</td>\n",
              "    </tr>\n",
              "    <tr>\n",
              "      <th>426</th>\n",
              "      <td>Oppo</td>\n",
              "      <td>K10x 256GB</td>\n",
              "      <td>195g</td>\n",
              "      <td>8GB</td>\n",
              "      <td>16MP</td>\n",
              "      <td>64MP + 2MP + 2MP</td>\n",
              "      <td>Qualcomm Snapdragon 695</td>\n",
              "      <td>5,000mAh</td>\n",
              "      <td>6.59 inches</td>\n",
              "      <td>PKR 59,999</td>\n",
              "      <td>INR 18,990</td>\n",
              "      <td>CNY 1,699</td>\n",
              "      <td>USD 229</td>\n",
              "      <td>AED 1,200</td>\n",
              "      <td>2022</td>\n",
              "    </tr>\n",
              "    <tr>\n",
              "      <th>427</th>\n",
              "      <td>Oppo</td>\n",
              "      <td>K10 5G 128GB</td>\n",
              "      <td>205g</td>\n",
              "      <td>8GB</td>\n",
              "      <td>16MP</td>\n",
              "      <td>64MP + 8MP + 2MP</td>\n",
              "      <td>MediaTek Dimensity 8000-Max</td>\n",
              "      <td>5,000mAh</td>\n",
              "      <td>6.59 inches</td>\n",
              "      <td>PKR 64,999</td>\n",
              "      <td>INR 19,999</td>\n",
              "      <td>CNY 1,799</td>\n",
              "      <td>USD 249</td>\n",
              "      <td>AED 1,300</td>\n",
              "      <td>2022</td>\n",
              "    </tr>\n",
              "    <tr>\n",
              "      <th>428</th>\n",
              "      <td>Oppo</td>\n",
              "      <td>K9x 128GB</td>\n",
              "      <td>194g</td>\n",
              "      <td>6GB</td>\n",
              "      <td>16MP</td>\n",
              "      <td>64MP + 2MP + 2MP</td>\n",
              "      <td>MediaTek Dimensity 810</td>\n",
              "      <td>5,000mAh</td>\n",
              "      <td>6.5 inches</td>\n",
              "      <td>PKR 49,999</td>\n",
              "      <td>INR 15,999</td>\n",
              "      <td>CNY 1,499</td>\n",
              "      <td>USD 199</td>\n",
              "      <td>AED 1,000</td>\n",
              "      <td>2021</td>\n",
              "    </tr>\n",
              "    <tr>\n",
              "      <th>429</th>\n",
              "      <td>Oppo</td>\n",
              "      <td>K9x 256GB</td>\n",
              "      <td>194g</td>\n",
              "      <td>8GB</td>\n",
              "      <td>16MP</td>\n",
              "      <td>64MP + 2MP + 2MP</td>\n",
              "      <td>MediaTek Dimensity 810</td>\n",
              "      <td>5,000mAh</td>\n",
              "      <td>6.5 inches</td>\n",
              "      <td>PKR 54,999</td>\n",
              "      <td>INR 17,999</td>\n",
              "      <td>CNY 1,699</td>\n",
              "      <td>USD 229</td>\n",
              "      <td>AED 1,200</td>\n",
              "      <td>2021</td>\n",
              "    </tr>\n",
              "    <tr>\n",
              "      <th>430</th>\n",
              "      <td>Oppo</td>\n",
              "      <td>K9 Pro 5G 128GB</td>\n",
              "      <td>180g</td>\n",
              "      <td>8GB</td>\n",
              "      <td>16MP</td>\n",
              "      <td>64MP + 8MP + 2MP</td>\n",
              "      <td>MediaTek Dimensity 1200</td>\n",
              "      <td>4,500mAh</td>\n",
              "      <td>6.43 inches</td>\n",
              "      <td>PKR 69,999</td>\n",
              "      <td>INR 24,999</td>\n",
              "      <td>CNY 2,199</td>\n",
              "      <td>USD 299</td>\n",
              "      <td>AED 1,500</td>\n",
              "      <td>2021</td>\n",
              "    </tr>\n",
              "    <tr>\n",
              "      <th>431</th>\n",
              "      <td>Oppo</td>\n",
              "      <td>K9 Pro 5G 256GB</td>\n",
              "      <td>180g</td>\n",
              "      <td>12GB</td>\n",
              "      <td>16MP</td>\n",
              "      <td>64MP + 8MP + 2MP</td>\n",
              "      <td>MediaTek Dimensity 1200</td>\n",
              "      <td>4,500mAh</td>\n",
              "      <td>6.43 inches</td>\n",
              "      <td>PKR 74,999</td>\n",
              "      <td>INR 27,999</td>\n",
              "      <td>CNY 2,499</td>\n",
              "      <td>USD 329</td>\n",
              "      <td>AED 1,700</td>\n",
              "      <td>2021</td>\n",
              "    </tr>\n",
              "    <tr>\n",
              "      <th>432</th>\n",
              "      <td>Oppo</td>\n",
              "      <td>K9 5G 128GB</td>\n",
              "      <td>172g</td>\n",
              "      <td>8GB</td>\n",
              "      <td>32MP</td>\n",
              "      <td>64MP + 8MP + 2MP</td>\n",
              "      <td>Qualcomm Snapdragon 768G</td>\n",
              "      <td>4,300mAh</td>\n",
              "      <td>6.43 inches</td>\n",
              "      <td>PKR 59,999</td>\n",
              "      <td>INR 22,999</td>\n",
              "      <td>CNY 1,999</td>\n",
              "      <td>USD 279</td>\n",
              "      <td>AED 1,400</td>\n",
              "      <td>2021</td>\n",
              "    </tr>\n",
              "    <tr>\n",
              "      <th>433</th>\n",
              "      <td>Oppo</td>\n",
              "      <td>K9 5G 256GB</td>\n",
              "      <td>172g</td>\n",
              "      <td>8GB</td>\n",
              "      <td>32MP</td>\n",
              "      <td>64MP + 8MP + 2MP</td>\n",
              "      <td>Qualcomm Snapdragon 768G</td>\n",
              "      <td>4,300mAh</td>\n",
              "      <td>6.43 inches</td>\n",
              "      <td>PKR 64,999</td>\n",
              "      <td>INR 24,999</td>\n",
              "      <td>CNY 2,199</td>\n",
              "      <td>USD 299</td>\n",
              "      <td>AED 1,500</td>\n",
              "      <td>2021</td>\n",
              "    </tr>\n",
              "    <tr>\n",
              "      <th>434</th>\n",
              "      <td>Oppo</td>\n",
              "      <td>K7x 128GB</td>\n",
              "      <td>194g</td>\n",
              "      <td>6GB</td>\n",
              "      <td>16MP</td>\n",
              "      <td>48MP + 8MP + 2MP + 2MP</td>\n",
              "      <td>MediaTek Dimensity 720</td>\n",
              "      <td>5,000mAh</td>\n",
              "      <td>6.5 inches</td>\n",
              "      <td>PKR 44,999</td>\n",
              "      <td>INR 14,999</td>\n",
              "      <td>CNY 1,499</td>\n",
              "      <td>USD 199</td>\n",
              "      <td>AED 1,000</td>\n",
              "      <td>2020</td>\n",
              "    </tr>\n",
              "    <tr>\n",
              "      <th>435</th>\n",
              "      <td>Oppo</td>\n",
              "      <td>K7 5G 128GB</td>\n",
              "      <td>180g</td>\n",
              "      <td>8GB</td>\n",
              "      <td>32MP</td>\n",
              "      <td>48MP + 8MP + 2MP + 2MP</td>\n",
              "      <td>Qualcomm Snapdragon 765G</td>\n",
              "      <td>4,025mAh</td>\n",
              "      <td>6.4 inches</td>\n",
              "      <td>PKR 49,999</td>\n",
              "      <td>INR 19,999</td>\n",
              "      <td>CNY 1,999</td>\n",
              "      <td>USD 279</td>\n",
              "      <td>AED 1,400</td>\n",
              "      <td>2020</td>\n",
              "    </tr>\n",
              "    <tr>\n",
              "      <th>437</th>\n",
              "      <td>Oppo</td>\n",
              "      <td>K11x 128GB</td>\n",
              "      <td>195g</td>\n",
              "      <td>8GB</td>\n",
              "      <td>16MP</td>\n",
              "      <td>108MP + 2MP</td>\n",
              "      <td>Qualcomm Snapdragon 695</td>\n",
              "      <td>5,000mAh</td>\n",
              "      <td>6.72 inches</td>\n",
              "      <td>PKR 59,999</td>\n",
              "      <td>INR 18,000</td>\n",
              "      <td>CNY 1,499</td>\n",
              "      <td>USD 199</td>\n",
              "      <td>AED 1,000</td>\n",
              "      <td>2023</td>\n",
              "    </tr>\n",
              "    <tr>\n",
              "      <th>438</th>\n",
              "      <td>Oppo</td>\n",
              "      <td>K11x 256GB</td>\n",
              "      <td>195g</td>\n",
              "      <td>12GB</td>\n",
              "      <td>16MP</td>\n",
              "      <td>108MP + 2MP</td>\n",
              "      <td>Qualcomm Snapdragon 695</td>\n",
              "      <td>5,000mAh</td>\n",
              "      <td>6.72 inches</td>\n",
              "      <td>PKR 64,999</td>\n",
              "      <td>INR 20,000</td>\n",
              "      <td>CNY 1,699</td>\n",
              "      <td>USD 229</td>\n",
              "      <td>AED 1,200</td>\n",
              "      <td>2023</td>\n",
              "    </tr>\n",
              "    <tr>\n",
              "      <th>441</th>\n",
              "      <td>Oppo</td>\n",
              "      <td>K10x 128GB</td>\n",
              "      <td>195g</td>\n",
              "      <td>6GB</td>\n",
              "      <td>16MP</td>\n",
              "      <td>64MP + 2MP + 2MP</td>\n",
              "      <td>Qualcomm Snapdragon 695</td>\n",
              "      <td>5,000mAh</td>\n",
              "      <td>6.59 inches</td>\n",
              "      <td>PKR 54,999</td>\n",
              "      <td>INR 16,990</td>\n",
              "      <td>CNY 1,499</td>\n",
              "      <td>USD 199</td>\n",
              "      <td>AED 1,000</td>\n",
              "      <td>2022</td>\n",
              "    </tr>\n",
              "    <tr>\n",
              "      <th>442</th>\n",
              "      <td>Oppo</td>\n",
              "      <td>K10x 256GB</td>\n",
              "      <td>195g</td>\n",
              "      <td>8GB</td>\n",
              "      <td>16MP</td>\n",
              "      <td>64MP + 2MP + 2MP</td>\n",
              "      <td>Qualcomm Snapdragon 695</td>\n",
              "      <td>5,000mAh</td>\n",
              "      <td>6.59 inches</td>\n",
              "      <td>PKR 59,999</td>\n",
              "      <td>INR 18,990</td>\n",
              "      <td>CNY 1,699</td>\n",
              "      <td>USD 229</td>\n",
              "      <td>AED 1,200</td>\n",
              "      <td>2022</td>\n",
              "    </tr>\n",
              "    <tr>\n",
              "      <th>443</th>\n",
              "      <td>Oppo</td>\n",
              "      <td>K10 5G 128GB</td>\n",
              "      <td>205g</td>\n",
              "      <td>8GB</td>\n",
              "      <td>16MP</td>\n",
              "      <td>64MP + 8MP + 2MP</td>\n",
              "      <td>MediaTek Dimensity 8000-Max</td>\n",
              "      <td>5,000mAh</td>\n",
              "      <td>6.59 inches</td>\n",
              "      <td>PKR 64,999</td>\n",
              "      <td>INR 19,999</td>\n",
              "      <td>CNY 1,799</td>\n",
              "      <td>USD 249</td>\n",
              "      <td>AED 1,300</td>\n",
              "      <td>2022</td>\n",
              "    </tr>\n",
              "    <tr>\n",
              "      <th>445</th>\n",
              "      <td>Oppo</td>\n",
              "      <td>K9x 128GB</td>\n",
              "      <td>194g</td>\n",
              "      <td>6GB</td>\n",
              "      <td>16MP</td>\n",
              "      <td>64MP + 2MP + 2MP</td>\n",
              "      <td>MediaTek Dimensity 810</td>\n",
              "      <td>5,000mAh</td>\n",
              "      <td>6.5 inches</td>\n",
              "      <td>PKR 49,999</td>\n",
              "      <td>INR 15,999</td>\n",
              "      <td>CNY 1,499</td>\n",
              "      <td>USD 199</td>\n",
              "      <td>AED 1,000</td>\n",
              "      <td>2021</td>\n",
              "    </tr>\n",
              "    <tr>\n",
              "      <th>446</th>\n",
              "      <td>Oppo</td>\n",
              "      <td>K9x 256GB</td>\n",
              "      <td>194g</td>\n",
              "      <td>8GB</td>\n",
              "      <td>16MP</td>\n",
              "      <td>64MP + 2MP + 2MP</td>\n",
              "      <td>MediaTek Dimensity 810</td>\n",
              "      <td>5,000mAh</td>\n",
              "      <td>6.5 inches</td>\n",
              "      <td>PKR 54,999</td>\n",
              "      <td>INR 17,999</td>\n",
              "      <td>CNY 1,699</td>\n",
              "      <td>USD 229</td>\n",
              "      <td>AED 1,200</td>\n",
              "      <td>2021</td>\n",
              "    </tr>\n",
              "    <tr>\n",
              "      <th>447</th>\n",
              "      <td>Oppo</td>\n",
              "      <td>K9 Pro 5G 128GB</td>\n",
              "      <td>180g</td>\n",
              "      <td>8GB</td>\n",
              "      <td>16MP</td>\n",
              "      <td>64MP + 8MP + 2MP</td>\n",
              "      <td>MediaTek Dimensity 1200</td>\n",
              "      <td>4,500mAh</td>\n",
              "      <td>6.43 inches</td>\n",
              "      <td>PKR 69,999</td>\n",
              "      <td>INR 24,999</td>\n",
              "      <td>CNY 2,199</td>\n",
              "      <td>USD 299</td>\n",
              "      <td>AED 1,500</td>\n",
              "      <td>2021</td>\n",
              "    </tr>\n",
              "    <tr>\n",
              "      <th>448</th>\n",
              "      <td>Oppo</td>\n",
              "      <td>K9 Pro 5G 256GB</td>\n",
              "      <td>180g</td>\n",
              "      <td>12GB</td>\n",
              "      <td>16MP</td>\n",
              "      <td>64MP + 8MP + 2MP</td>\n",
              "      <td>MediaTek Dimensity 1200</td>\n",
              "      <td>4,500mAh</td>\n",
              "      <td>6.43 inches</td>\n",
              "      <td>PKR 74,999</td>\n",
              "      <td>INR 27,999</td>\n",
              "      <td>CNY 2,499</td>\n",
              "      <td>USD 329</td>\n",
              "      <td>AED 1,700</td>\n",
              "      <td>2021</td>\n",
              "    </tr>\n",
              "    <tr>\n",
              "      <th>449</th>\n",
              "      <td>Oppo</td>\n",
              "      <td>K9 5G 128GB</td>\n",
              "      <td>172g</td>\n",
              "      <td>8GB</td>\n",
              "      <td>32MP</td>\n",
              "      <td>64MP + 8MP + 2MP</td>\n",
              "      <td>Qualcomm Snapdragon 768G</td>\n",
              "      <td>4,300mAh</td>\n",
              "      <td>6.43 inches</td>\n",
              "      <td>PKR 59,999</td>\n",
              "      <td>INR 22,999</td>\n",
              "      <td>CNY 1,999</td>\n",
              "      <td>USD 279</td>\n",
              "      <td>AED 1,400</td>\n",
              "      <td>2021</td>\n",
              "    </tr>\n",
              "    <tr>\n",
              "      <th>450</th>\n",
              "      <td>Oppo</td>\n",
              "      <td>K9 5G 256GB</td>\n",
              "      <td>172g</td>\n",
              "      <td>8GB</td>\n",
              "      <td>32MP</td>\n",
              "      <td>64MP + 8MP + 2MP</td>\n",
              "      <td>Qualcomm Snapdragon 768G</td>\n",
              "      <td>4,300mAh</td>\n",
              "      <td>6.43 inches</td>\n",
              "      <td>PKR 64,999</td>\n",
              "      <td>INR 24,999</td>\n",
              "      <td>CNY 2,199</td>\n",
              "      <td>USD 299</td>\n",
              "      <td>AED 1,500</td>\n",
              "      <td>2021</td>\n",
              "    </tr>\n",
              "    <tr>\n",
              "      <th>451</th>\n",
              "      <td>Oppo</td>\n",
              "      <td>K7x 128GB</td>\n",
              "      <td>194g</td>\n",
              "      <td>6GB</td>\n",
              "      <td>16MP</td>\n",
              "      <td>48MP + 8MP + 2MP + 2MP</td>\n",
              "      <td>MediaTek Dimensity 720</td>\n",
              "      <td>5,000mAh</td>\n",
              "      <td>6.5 inches</td>\n",
              "      <td>PKR 44,999</td>\n",
              "      <td>INR 14,999</td>\n",
              "      <td>CNY 1,499</td>\n",
              "      <td>USD 199</td>\n",
              "      <td>AED 1,000</td>\n",
              "      <td>2020</td>\n",
              "    </tr>\n",
              "    <tr>\n",
              "      <th>452</th>\n",
              "      <td>Oppo</td>\n",
              "      <td>K7 5G 128GB</td>\n",
              "      <td>180g</td>\n",
              "      <td>8GB</td>\n",
              "      <td>32MP</td>\n",
              "      <td>48MP + 8MP + 2MP + 2MP</td>\n",
              "      <td>Qualcomm Snapdragon 765G</td>\n",
              "      <td>4,025mAh</td>\n",
              "      <td>6.4 inches</td>\n",
              "      <td>PKR 49,999</td>\n",
              "      <td>INR 19,999</td>\n",
              "      <td>CNY 1,999</td>\n",
              "      <td>USD 279</td>\n",
              "      <td>AED 1,400</td>\n",
              "      <td>2020</td>\n",
              "    </tr>\n",
              "    <tr>\n",
              "      <th>791</th>\n",
              "      <td>Infinix</td>\n",
              "      <td>Hot 10 Lite 64GB</td>\n",
              "      <td>195g</td>\n",
              "      <td>3GB</td>\n",
              "      <td>8MP</td>\n",
              "      <td>13MP</td>\n",
              "      <td>MediaTek Helio A25</td>\n",
              "      <td>5,000mAh</td>\n",
              "      <td>6.6 inches</td>\n",
              "      <td>PKR 19,999</td>\n",
              "      <td>INR 7,999</td>\n",
              "      <td>CNY 699</td>\n",
              "      <td>USD 109</td>\n",
              "      <td>AED 399</td>\n",
              "      <td>2020</td>\n",
              "    </tr>\n",
              "    <tr>\n",
              "      <th>798</th>\n",
              "      <td>Infinix</td>\n",
              "      <td>Hot 10 Lite 64GB</td>\n",
              "      <td>195g</td>\n",
              "      <td>3GB</td>\n",
              "      <td>8MP</td>\n",
              "      <td>13MP</td>\n",
              "      <td>MediaTek Helio A25</td>\n",
              "      <td>5,000mAh</td>\n",
              "      <td>6.6 inches</td>\n",
              "      <td>PKR 19,999</td>\n",
              "      <td>INR 7,999</td>\n",
              "      <td>CNY 699</td>\n",
              "      <td>USD 109</td>\n",
              "      <td>AED 399</td>\n",
              "      <td>2020</td>\n",
              "    </tr>\n",
              "  </tbody>\n",
              "</table>\n",
              "</div>"
            ],
            "text/plain": [
              "    Company Name        Model Name Mobile Weight (gram) RAM (GB)  \\\n",
              "344         Oppo          A3 128GB                 186g      4GB   \n",
              "347         Oppo          A3 128GB                 186g      4GB   \n",
              "423         Oppo        K11x 128GB                 195g      8GB   \n",
              "424         Oppo        K11x 256GB                 195g     12GB   \n",
              "425         Oppo        K10x 128GB                 195g      6GB   \n",
              "426         Oppo        K10x 256GB                 195g      8GB   \n",
              "427         Oppo      K10 5G 128GB                 205g      8GB   \n",
              "428         Oppo         K9x 128GB                 194g      6GB   \n",
              "429         Oppo         K9x 256GB                 194g      8GB   \n",
              "430         Oppo   K9 Pro 5G 128GB                 180g      8GB   \n",
              "431         Oppo   K9 Pro 5G 256GB                 180g     12GB   \n",
              "432         Oppo       K9 5G 128GB                 172g      8GB   \n",
              "433         Oppo       K9 5G 256GB                 172g      8GB   \n",
              "434         Oppo         K7x 128GB                 194g      6GB   \n",
              "435         Oppo       K7 5G 128GB                 180g      8GB   \n",
              "437         Oppo        K11x 128GB                 195g      8GB   \n",
              "438         Oppo        K11x 256GB                 195g     12GB   \n",
              "441         Oppo        K10x 128GB                 195g      6GB   \n",
              "442         Oppo        K10x 256GB                 195g      8GB   \n",
              "443         Oppo      K10 5G 128GB                 205g      8GB   \n",
              "445         Oppo         K9x 128GB                 194g      6GB   \n",
              "446         Oppo         K9x 256GB                 194g      8GB   \n",
              "447         Oppo   K9 Pro 5G 128GB                 180g      8GB   \n",
              "448         Oppo   K9 Pro 5G 256GB                 180g     12GB   \n",
              "449         Oppo       K9 5G 128GB                 172g      8GB   \n",
              "450         Oppo       K9 5G 256GB                 172g      8GB   \n",
              "451         Oppo         K7x 128GB                 194g      6GB   \n",
              "452         Oppo       K7 5G 128GB                 180g      8GB   \n",
              "791      Infinix  Hot 10 Lite 64GB                 195g      3GB   \n",
              "798      Infinix  Hot 10 Lite 64GB                 195g      3GB   \n",
              "\n",
              "    Front Camera (MP)        Back Camera (MP)                    Processor  \\\n",
              "344               5MP                    50MP       Snapdragon 6s 4G Gen 1   \n",
              "347               5MP                    50MP       Snapdragon 6s 4G Gen 1   \n",
              "423              16MP             108MP + 2MP      Qualcomm Snapdragon 695   \n",
              "424              16MP             108MP + 2MP      Qualcomm Snapdragon 695   \n",
              "425              16MP        64MP + 2MP + 2MP      Qualcomm Snapdragon 695   \n",
              "426              16MP        64MP + 2MP + 2MP      Qualcomm Snapdragon 695   \n",
              "427              16MP        64MP + 8MP + 2MP  MediaTek Dimensity 8000-Max   \n",
              "428              16MP        64MP + 2MP + 2MP       MediaTek Dimensity 810   \n",
              "429              16MP        64MP + 2MP + 2MP       MediaTek Dimensity 810   \n",
              "430              16MP        64MP + 8MP + 2MP      MediaTek Dimensity 1200   \n",
              "431              16MP        64MP + 8MP + 2MP      MediaTek Dimensity 1200   \n",
              "432              32MP        64MP + 8MP + 2MP     Qualcomm Snapdragon 768G   \n",
              "433              32MP        64MP + 8MP + 2MP     Qualcomm Snapdragon 768G   \n",
              "434              16MP  48MP + 8MP + 2MP + 2MP       MediaTek Dimensity 720   \n",
              "435              32MP  48MP + 8MP + 2MP + 2MP     Qualcomm Snapdragon 765G   \n",
              "437              16MP             108MP + 2MP      Qualcomm Snapdragon 695   \n",
              "438              16MP             108MP + 2MP      Qualcomm Snapdragon 695   \n",
              "441              16MP        64MP + 2MP + 2MP      Qualcomm Snapdragon 695   \n",
              "442              16MP        64MP + 2MP + 2MP      Qualcomm Snapdragon 695   \n",
              "443              16MP        64MP + 8MP + 2MP  MediaTek Dimensity 8000-Max   \n",
              "445              16MP        64MP + 2MP + 2MP       MediaTek Dimensity 810   \n",
              "446              16MP        64MP + 2MP + 2MP       MediaTek Dimensity 810   \n",
              "447              16MP        64MP + 8MP + 2MP      MediaTek Dimensity 1200   \n",
              "448              16MP        64MP + 8MP + 2MP      MediaTek Dimensity 1200   \n",
              "449              32MP        64MP + 8MP + 2MP     Qualcomm Snapdragon 768G   \n",
              "450              32MP        64MP + 8MP + 2MP     Qualcomm Snapdragon 768G   \n",
              "451              16MP  48MP + 8MP + 2MP + 2MP       MediaTek Dimensity 720   \n",
              "452              32MP  48MP + 8MP + 2MP + 2MP     Qualcomm Snapdragon 765G   \n",
              "791               8MP                    13MP           MediaTek Helio A25   \n",
              "798               8MP                    13MP           MediaTek Helio A25   \n",
              "\n",
              "    Battery Capacity (mAh) Screen Size (inch) Launched Price (Pakistan USD)  \\\n",
              "344                5000mAh         6.7 inches                    PKR 59,999   \n",
              "347                5000mAh         6.7 inches                    PKR 59,999   \n",
              "423               5,000mAh        6.72 inches                    PKR 59,999   \n",
              "424               5,000mAh        6.72 inches                    PKR 64,999   \n",
              "425               5,000mAh        6.59 inches                    PKR 54,999   \n",
              "426               5,000mAh        6.59 inches                    PKR 59,999   \n",
              "427               5,000mAh        6.59 inches                    PKR 64,999   \n",
              "428               5,000mAh         6.5 inches                    PKR 49,999   \n",
              "429               5,000mAh         6.5 inches                    PKR 54,999   \n",
              "430               4,500mAh        6.43 inches                    PKR 69,999   \n",
              "431               4,500mAh        6.43 inches                    PKR 74,999   \n",
              "432               4,300mAh        6.43 inches                    PKR 59,999   \n",
              "433               4,300mAh        6.43 inches                    PKR 64,999   \n",
              "434               5,000mAh         6.5 inches                    PKR 44,999   \n",
              "435               4,025mAh         6.4 inches                    PKR 49,999   \n",
              "437               5,000mAh        6.72 inches                    PKR 59,999   \n",
              "438               5,000mAh        6.72 inches                    PKR 64,999   \n",
              "441               5,000mAh        6.59 inches                    PKR 54,999   \n",
              "442               5,000mAh        6.59 inches                    PKR 59,999   \n",
              "443               5,000mAh        6.59 inches                    PKR 64,999   \n",
              "445               5,000mAh         6.5 inches                    PKR 49,999   \n",
              "446               5,000mAh         6.5 inches                    PKR 54,999   \n",
              "447               4,500mAh        6.43 inches                    PKR 69,999   \n",
              "448               4,500mAh        6.43 inches                    PKR 74,999   \n",
              "449               4,300mAh        6.43 inches                    PKR 59,999   \n",
              "450               4,300mAh        6.43 inches                    PKR 64,999   \n",
              "451               5,000mAh         6.5 inches                    PKR 44,999   \n",
              "452               4,025mAh         6.4 inches                    PKR 49,999   \n",
              "791               5,000mAh         6.6 inches                    PKR 19,999   \n",
              "798               5,000mAh         6.6 inches                    PKR 19,999   \n",
              "\n",
              "    Launched Price (India USD) Launched Price (China USD)  \\\n",
              "344                 INR 34,999                  CNY 2,999   \n",
              "347                 INR 34,999                  CNY 2,999   \n",
              "423                 INR 18,000                  CNY 1,499   \n",
              "424                 INR 20,000                  CNY 1,699   \n",
              "425                 INR 16,990                  CNY 1,499   \n",
              "426                 INR 18,990                  CNY 1,699   \n",
              "427                 INR 19,999                  CNY 1,799   \n",
              "428                 INR 15,999                  CNY 1,499   \n",
              "429                 INR 17,999                  CNY 1,699   \n",
              "430                 INR 24,999                  CNY 2,199   \n",
              "431                 INR 27,999                  CNY 2,499   \n",
              "432                 INR 22,999                  CNY 1,999   \n",
              "433                 INR 24,999                  CNY 2,199   \n",
              "434                 INR 14,999                  CNY 1,499   \n",
              "435                 INR 19,999                  CNY 1,999   \n",
              "437                 INR 18,000                  CNY 1,499   \n",
              "438                 INR 20,000                  CNY 1,699   \n",
              "441                 INR 16,990                  CNY 1,499   \n",
              "442                 INR 18,990                  CNY 1,699   \n",
              "443                 INR 19,999                  CNY 1,799   \n",
              "445                 INR 15,999                  CNY 1,499   \n",
              "446                 INR 17,999                  CNY 1,699   \n",
              "447                 INR 24,999                  CNY 2,199   \n",
              "448                 INR 27,999                  CNY 2,499   \n",
              "449                 INR 22,999                  CNY 1,999   \n",
              "450                 INR 24,999                  CNY 2,199   \n",
              "451                 INR 14,999                  CNY 1,499   \n",
              "452                 INR 19,999                  CNY 1,999   \n",
              "791                  INR 7,999                    CNY 699   \n",
              "798                  INR 7,999                    CNY 699   \n",
              "\n",
              "    Launched Price (USA USD) Launched Price (Dubai USD)  Launched Year  \n",
              "344                  USD 399                  AED 1,499           2024  \n",
              "347                  USD 399                  AED 1,499           2024  \n",
              "423                  USD 199                  AED 1,000           2023  \n",
              "424                  USD 229                  AED 1,200           2023  \n",
              "425                  USD 199                  AED 1,000           2022  \n",
              "426                  USD 229                  AED 1,200           2022  \n",
              "427                  USD 249                  AED 1,300           2022  \n",
              "428                  USD 199                  AED 1,000           2021  \n",
              "429                  USD 229                  AED 1,200           2021  \n",
              "430                  USD 299                  AED 1,500           2021  \n",
              "431                  USD 329                  AED 1,700           2021  \n",
              "432                  USD 279                  AED 1,400           2021  \n",
              "433                  USD 299                  AED 1,500           2021  \n",
              "434                  USD 199                  AED 1,000           2020  \n",
              "435                  USD 279                  AED 1,400           2020  \n",
              "437                  USD 199                  AED 1,000           2023  \n",
              "438                  USD 229                  AED 1,200           2023  \n",
              "441                  USD 199                  AED 1,000           2022  \n",
              "442                  USD 229                  AED 1,200           2022  \n",
              "443                  USD 249                  AED 1,300           2022  \n",
              "445                  USD 199                  AED 1,000           2021  \n",
              "446                  USD 229                  AED 1,200           2021  \n",
              "447                  USD 299                  AED 1,500           2021  \n",
              "448                  USD 329                  AED 1,700           2021  \n",
              "449                  USD 279                  AED 1,400           2021  \n",
              "450                  USD 299                  AED 1,500           2021  \n",
              "451                  USD 199                  AED 1,000           2020  \n",
              "452                  USD 279                  AED 1,400           2020  \n",
              "791                  USD 109                    AED 399           2020  \n",
              "798                  USD 109                    AED 399           2020  "
            ]
          },
          "execution_count": 9,
          "metadata": {},
          "output_type": "execute_result"
        }
      ],
      "source": [
        "df[df.duplicated(keep=False)]"
      ]
    },
    {
      "cell_type": "code",
      "execution_count": 10,
      "metadata": {},
      "outputs": [],
      "source": [
        "df.drop_duplicates(keep=False,inplace=True)"
      ]
    },
    {
      "cell_type": "code",
      "execution_count": 11,
      "metadata": {
        "colab": {
          "base_uri": "https://localhost:8080/"
        },
        "id": "2mJ_0uxB0auH",
        "outputId": "5cfe12b7-005e-4ec1-ae4f-d86f1fb49b34"
      },
      "outputs": [
        {
          "data": {
            "text/plain": [
              "np.int64(0)"
            ]
          },
          "execution_count": 11,
          "metadata": {},
          "output_type": "execute_result"
        }
      ],
      "source": [
        "df.duplicated().sum()"
      ]
    },
    {
      "cell_type": "code",
      "execution_count": 12,
      "metadata": {
        "colab": {
          "base_uri": "https://localhost:8080/",
          "height": 310
        },
        "id": "EZa3MFdLyubS",
        "outputId": "09edfed5-74ae-4ce1-e777-11c82d5f2540"
      },
      "outputs": [
        {
          "data": {
            "application/vnd.microsoft.datawrangler.viewer.v0+json": {
              "columns": [
                {
                  "name": "index",
                  "rawType": "int64",
                  "type": "integer"
                },
                {
                  "name": "Company Name",
                  "rawType": "object",
                  "type": "string"
                },
                {
                  "name": "Model Name",
                  "rawType": "object",
                  "type": "string"
                },
                {
                  "name": "Mobile Weight (gram)",
                  "rawType": "object",
                  "type": "string"
                },
                {
                  "name": "RAM (GB)",
                  "rawType": "object",
                  "type": "string"
                },
                {
                  "name": "Front Camera (MP)",
                  "rawType": "object",
                  "type": "string"
                },
                {
                  "name": "Back Camera (MP)",
                  "rawType": "object",
                  "type": "string"
                },
                {
                  "name": "Processor",
                  "rawType": "object",
                  "type": "string"
                },
                {
                  "name": "Battery Capacity (mAh)",
                  "rawType": "object",
                  "type": "string"
                },
                {
                  "name": "Screen Size (inch)",
                  "rawType": "object",
                  "type": "string"
                },
                {
                  "name": "Launched Price (Pakistan USD)",
                  "rawType": "object",
                  "type": "string"
                },
                {
                  "name": "Launched Price (India USD)",
                  "rawType": "object",
                  "type": "string"
                },
                {
                  "name": "Launched Price (China USD)",
                  "rawType": "object",
                  "type": "string"
                },
                {
                  "name": "Launched Price (USA USD)",
                  "rawType": "object",
                  "type": "string"
                },
                {
                  "name": "Launched Price (Dubai USD)",
                  "rawType": "object",
                  "type": "string"
                },
                {
                  "name": "Launched Year",
                  "rawType": "int64",
                  "type": "integer"
                }
              ],
              "ref": "183f182f-baff-4af2-9ebf-c467f76dc836",
              "rows": [
                [
                  "0",
                  "Apple",
                  "iPhone 16 128GB",
                  "174g",
                  "6GB",
                  "12MP",
                  "48MP",
                  "A17 Bionic",
                  "3,600mAh",
                  "6.1 inches",
                  "PKR 224,999",
                  "INR 79,999",
                  "CNY 5,799",
                  "USD 799",
                  "AED 2,799",
                  "2024"
                ],
                [
                  "1",
                  "Apple",
                  "iPhone 16 256GB",
                  "174g",
                  "6GB",
                  "12MP",
                  "48MP",
                  "A17 Bionic",
                  "3,600mAh",
                  "6.1 inches",
                  "PKR 234,999",
                  "INR 84,999",
                  "CNY 6,099",
                  "USD 849",
                  "AED 2,999",
                  "2024"
                ],
                [
                  "2",
                  "Apple",
                  "iPhone 16 512GB",
                  "174g",
                  "6GB",
                  "12MP",
                  "48MP",
                  "A17 Bionic",
                  "3,600mAh",
                  "6.1 inches",
                  "PKR 244,999",
                  "INR 89,999",
                  "CNY 6,499",
                  "USD 899",
                  "AED 3,199",
                  "2024"
                ],
                [
                  "3",
                  "Apple",
                  "iPhone 16 Plus 128GB",
                  "203g",
                  "6GB",
                  "12MP",
                  "48MP",
                  "A17 Bionic",
                  "4,200mAh",
                  "6.7 inches",
                  "PKR 249,999",
                  "INR 89,999",
                  "CNY 6,199",
                  "USD 899",
                  "AED 3,199",
                  "2024"
                ],
                [
                  "4",
                  "Apple",
                  "iPhone 16 Plus 256GB",
                  "203g",
                  "6GB",
                  "12MP",
                  "48MP",
                  "A17 Bionic",
                  "4,200mAh",
                  "6.7 inches",
                  "PKR 259,999",
                  "INR 94,999",
                  "CNY 6,499",
                  "USD 949",
                  "AED 3,399",
                  "2024"
                ]
              ],
              "shape": {
                "columns": 15,
                "rows": 5
              }
            },
            "text/html": [
              "<div>\n",
              "<style scoped>\n",
              "    .dataframe tbody tr th:only-of-type {\n",
              "        vertical-align: middle;\n",
              "    }\n",
              "\n",
              "    .dataframe tbody tr th {\n",
              "        vertical-align: top;\n",
              "    }\n",
              "\n",
              "    .dataframe thead th {\n",
              "        text-align: right;\n",
              "    }\n",
              "</style>\n",
              "<table border=\"1\" class=\"dataframe\">\n",
              "  <thead>\n",
              "    <tr style=\"text-align: right;\">\n",
              "      <th></th>\n",
              "      <th>Company Name</th>\n",
              "      <th>Model Name</th>\n",
              "      <th>Mobile Weight (gram)</th>\n",
              "      <th>RAM (GB)</th>\n",
              "      <th>Front Camera (MP)</th>\n",
              "      <th>Back Camera (MP)</th>\n",
              "      <th>Processor</th>\n",
              "      <th>Battery Capacity (mAh)</th>\n",
              "      <th>Screen Size (inch)</th>\n",
              "      <th>Launched Price (Pakistan USD)</th>\n",
              "      <th>Launched Price (India USD)</th>\n",
              "      <th>Launched Price (China USD)</th>\n",
              "      <th>Launched Price (USA USD)</th>\n",
              "      <th>Launched Price (Dubai USD)</th>\n",
              "      <th>Launched Year</th>\n",
              "    </tr>\n",
              "  </thead>\n",
              "  <tbody>\n",
              "    <tr>\n",
              "      <th>0</th>\n",
              "      <td>Apple</td>\n",
              "      <td>iPhone 16 128GB</td>\n",
              "      <td>174g</td>\n",
              "      <td>6GB</td>\n",
              "      <td>12MP</td>\n",
              "      <td>48MP</td>\n",
              "      <td>A17 Bionic</td>\n",
              "      <td>3,600mAh</td>\n",
              "      <td>6.1 inches</td>\n",
              "      <td>PKR 224,999</td>\n",
              "      <td>INR 79,999</td>\n",
              "      <td>CNY 5,799</td>\n",
              "      <td>USD 799</td>\n",
              "      <td>AED 2,799</td>\n",
              "      <td>2024</td>\n",
              "    </tr>\n",
              "    <tr>\n",
              "      <th>1</th>\n",
              "      <td>Apple</td>\n",
              "      <td>iPhone 16 256GB</td>\n",
              "      <td>174g</td>\n",
              "      <td>6GB</td>\n",
              "      <td>12MP</td>\n",
              "      <td>48MP</td>\n",
              "      <td>A17 Bionic</td>\n",
              "      <td>3,600mAh</td>\n",
              "      <td>6.1 inches</td>\n",
              "      <td>PKR 234,999</td>\n",
              "      <td>INR 84,999</td>\n",
              "      <td>CNY 6,099</td>\n",
              "      <td>USD 849</td>\n",
              "      <td>AED 2,999</td>\n",
              "      <td>2024</td>\n",
              "    </tr>\n",
              "    <tr>\n",
              "      <th>2</th>\n",
              "      <td>Apple</td>\n",
              "      <td>iPhone 16 512GB</td>\n",
              "      <td>174g</td>\n",
              "      <td>6GB</td>\n",
              "      <td>12MP</td>\n",
              "      <td>48MP</td>\n",
              "      <td>A17 Bionic</td>\n",
              "      <td>3,600mAh</td>\n",
              "      <td>6.1 inches</td>\n",
              "      <td>PKR 244,999</td>\n",
              "      <td>INR 89,999</td>\n",
              "      <td>CNY 6,499</td>\n",
              "      <td>USD 899</td>\n",
              "      <td>AED 3,199</td>\n",
              "      <td>2024</td>\n",
              "    </tr>\n",
              "    <tr>\n",
              "      <th>3</th>\n",
              "      <td>Apple</td>\n",
              "      <td>iPhone 16 Plus 128GB</td>\n",
              "      <td>203g</td>\n",
              "      <td>6GB</td>\n",
              "      <td>12MP</td>\n",
              "      <td>48MP</td>\n",
              "      <td>A17 Bionic</td>\n",
              "      <td>4,200mAh</td>\n",
              "      <td>6.7 inches</td>\n",
              "      <td>PKR 249,999</td>\n",
              "      <td>INR 89,999</td>\n",
              "      <td>CNY 6,199</td>\n",
              "      <td>USD 899</td>\n",
              "      <td>AED 3,199</td>\n",
              "      <td>2024</td>\n",
              "    </tr>\n",
              "    <tr>\n",
              "      <th>4</th>\n",
              "      <td>Apple</td>\n",
              "      <td>iPhone 16 Plus 256GB</td>\n",
              "      <td>203g</td>\n",
              "      <td>6GB</td>\n",
              "      <td>12MP</td>\n",
              "      <td>48MP</td>\n",
              "      <td>A17 Bionic</td>\n",
              "      <td>4,200mAh</td>\n",
              "      <td>6.7 inches</td>\n",
              "      <td>PKR 259,999</td>\n",
              "      <td>INR 94,999</td>\n",
              "      <td>CNY 6,499</td>\n",
              "      <td>USD 949</td>\n",
              "      <td>AED 3,399</td>\n",
              "      <td>2024</td>\n",
              "    </tr>\n",
              "  </tbody>\n",
              "</table>\n",
              "</div>"
            ],
            "text/plain": [
              "  Company Name            Model Name Mobile Weight (gram) RAM (GB)  \\\n",
              "0        Apple       iPhone 16 128GB                 174g      6GB   \n",
              "1        Apple       iPhone 16 256GB                 174g      6GB   \n",
              "2        Apple       iPhone 16 512GB                 174g      6GB   \n",
              "3        Apple  iPhone 16 Plus 128GB                 203g      6GB   \n",
              "4        Apple  iPhone 16 Plus 256GB                 203g      6GB   \n",
              "\n",
              "  Front Camera (MP) Back Camera (MP)   Processor Battery Capacity (mAh)  \\\n",
              "0              12MP             48MP  A17 Bionic               3,600mAh   \n",
              "1              12MP             48MP  A17 Bionic               3,600mAh   \n",
              "2              12MP             48MP  A17 Bionic               3,600mAh   \n",
              "3              12MP             48MP  A17 Bionic               4,200mAh   \n",
              "4              12MP             48MP  A17 Bionic               4,200mAh   \n",
              "\n",
              "  Screen Size (inch) Launched Price (Pakistan USD) Launched Price (India USD)  \\\n",
              "0         6.1 inches                   PKR 224,999                 INR 79,999   \n",
              "1         6.1 inches                   PKR 234,999                 INR 84,999   \n",
              "2         6.1 inches                   PKR 244,999                 INR 89,999   \n",
              "3         6.7 inches                   PKR 249,999                 INR 89,999   \n",
              "4         6.7 inches                   PKR 259,999                 INR 94,999   \n",
              "\n",
              "  Launched Price (China USD) Launched Price (USA USD)  \\\n",
              "0                  CNY 5,799                  USD 799   \n",
              "1                  CNY 6,099                  USD 849   \n",
              "2                  CNY 6,499                  USD 899   \n",
              "3                  CNY 6,199                  USD 899   \n",
              "4                  CNY 6,499                  USD 949   \n",
              "\n",
              "  Launched Price (Dubai USD)  Launched Year  \n",
              "0                  AED 2,799           2024  \n",
              "1                  AED 2,999           2024  \n",
              "2                  AED 3,199           2024  \n",
              "3                  AED 3,199           2024  \n",
              "4                  AED 3,399           2024  "
            ]
          },
          "execution_count": 12,
          "metadata": {},
          "output_type": "execute_result"
        }
      ],
      "source": [
        "df.head()"
      ]
    },
    {
      "cell_type": "code",
      "execution_count": 13,
      "metadata": {},
      "outputs": [],
      "source": [
        "df['Mobile Weight (gram)'] = df['Mobile Weight (gram)'].apply(lambda x: x.replace('g',''))"
      ]
    },
    {
      "cell_type": "code",
      "execution_count": 14,
      "metadata": {},
      "outputs": [
        {
          "data": {
            "application/vnd.microsoft.datawrangler.viewer.v0+json": {
              "columns": [
                {
                  "name": "Mobile Weight (gram)",
                  "rawType": "object",
                  "type": "string"
                },
                {
                  "name": "count",
                  "rawType": "int64",
                  "type": "integer"
                }
              ],
              "ref": "4ec48c9f-df43-4513-ae4c-cae9675192b7",
              "rows": [
                [
                  "190",
                  "68"
                ],
                [
                  "195",
                  "54"
                ],
                [
                  "185",
                  "29"
                ],
                [
                  "192",
                  "26"
                ],
                [
                  "198",
                  "22"
                ],
                [
                  "206",
                  "21"
                ],
                [
                  "188",
                  "21"
                ],
                [
                  "191",
                  "20"
                ],
                [
                  "186",
                  "20"
                ],
                [
                  "205",
                  "20"
                ],
                [
                  "189",
                  "20"
                ],
                [
                  "180",
                  "19"
                ],
                [
                  "210",
                  "18"
                ],
                [
                  "199",
                  "18"
                ],
                [
                  "203",
                  "17"
                ],
                [
                  "196",
                  "16"
                ],
                [
                  "184",
                  "16"
                ],
                [
                  "168",
                  "15"
                ],
                [
                  "202",
                  "15"
                ],
                [
                  "179",
                  "14"
                ],
                [
                  "173",
                  "13"
                ],
                [
                  "221",
                  "13"
                ],
                [
                  "182",
                  "12"
                ],
                [
                  "175",
                  "12"
                ],
                [
                  "174",
                  "12"
                ],
                [
                  "209",
                  "12"
                ],
                [
                  "187",
                  "11"
                ],
                [
                  "200",
                  "11"
                ],
                [
                  "193",
                  "11"
                ],
                [
                  "172",
                  "11"
                ],
                [
                  "181",
                  "10"
                ],
                [
                  "228",
                  "9"
                ],
                [
                  "194",
                  "9"
                ],
                [
                  "183",
                  "8"
                ],
                [
                  "177",
                  "8"
                ],
                [
                  "204",
                  "8"
                ],
                [
                  "170",
                  "7"
                ],
                [
                  "171",
                  "6"
                ],
                [
                  "220",
                  "6"
                ],
                [
                  "460",
                  "6"
                ],
                [
                  "164",
                  "6"
                ],
                [
                  "234",
                  "5"
                ],
                [
                  "208",
                  "5"
                ],
                [
                  "207",
                  "5"
                ],
                [
                  "239",
                  "5"
                ],
                [
                  "708",
                  "5"
                ],
                [
                  "218",
                  "4"
                ],
                [
                  "223",
                  "4"
                ],
                [
                  "226",
                  "4"
                ],
                [
                  "238",
                  "4"
                ]
              ],
              "shape": {
                "columns": 1,
                "rows": 148
              }
            },
            "text/plain": [
              "Mobile Weight (gram)\n",
              "190      68\n",
              "195      54\n",
              "185      29\n",
              "192      26\n",
              "198      22\n",
              "         ..\n",
              "288       1\n",
              "495       1\n",
              "505       1\n",
              "475       1\n",
              "178.8     1\n",
              "Name: count, Length: 148, dtype: int64"
            ]
          },
          "execution_count": 14,
          "metadata": {},
          "output_type": "execute_result"
        }
      ],
      "source": [
        "df['Mobile Weight (gram)'].value_counts()"
      ]
    },
    {
      "cell_type": "code",
      "execution_count": 15,
      "metadata": {},
      "outputs": [],
      "source": [
        "df['Mobile Weight (gram)'] = pd.to_numeric(df['Mobile Weight (gram)'], errors='coerce')"
      ]
    },
    {
      "cell_type": "code",
      "execution_count": 16,
      "metadata": {},
      "outputs": [
        {
          "data": {
            "application/vnd.microsoft.datawrangler.viewer.v0+json": {
              "columns": [
                {
                  "name": "Mobile Weight (gram)",
                  "rawType": "float64",
                  "type": "float"
                },
                {
                  "name": "count",
                  "rawType": "int64",
                  "type": "integer"
                }
              ],
              "ref": "7aa84ebf-fda6-45df-b887-a3f965964416",
              "rows": [
                [
                  "190.0",
                  "68"
                ],
                [
                  "195.0",
                  "54"
                ],
                [
                  "185.0",
                  "29"
                ],
                [
                  "192.0",
                  "26"
                ],
                [
                  "198.0",
                  "22"
                ],
                [
                  "206.0",
                  "21"
                ],
                [
                  "188.0",
                  "21"
                ],
                [
                  "191.0",
                  "20"
                ],
                [
                  "186.0",
                  "20"
                ],
                [
                  "205.0",
                  "20"
                ],
                [
                  "189.0",
                  "20"
                ],
                [
                  "180.0",
                  "19"
                ],
                [
                  "210.0",
                  "18"
                ],
                [
                  "199.0",
                  "18"
                ],
                [
                  "203.0",
                  "17"
                ],
                [
                  "196.0",
                  "16"
                ],
                [
                  "184.0",
                  "16"
                ],
                [
                  "168.0",
                  "15"
                ],
                [
                  "202.0",
                  "15"
                ],
                [
                  "179.0",
                  "14"
                ],
                [
                  "173.0",
                  "13"
                ],
                [
                  "221.0",
                  "13"
                ],
                [
                  "182.0",
                  "12"
                ],
                [
                  "175.0",
                  "12"
                ],
                [
                  "174.0",
                  "12"
                ],
                [
                  "209.0",
                  "12"
                ],
                [
                  "187.0",
                  "11"
                ],
                [
                  "200.0",
                  "11"
                ],
                [
                  "193.0",
                  "11"
                ],
                [
                  "172.0",
                  "11"
                ],
                [
                  "181.0",
                  "10"
                ],
                [
                  "228.0",
                  "9"
                ],
                [
                  "194.0",
                  "9"
                ],
                [
                  "183.0",
                  "8"
                ],
                [
                  "177.0",
                  "8"
                ],
                [
                  "204.0",
                  "8"
                ],
                [
                  "170.0",
                  "7"
                ],
                [
                  "171.0",
                  "6"
                ],
                [
                  "220.0",
                  "6"
                ],
                [
                  "460.0",
                  "6"
                ],
                [
                  "164.0",
                  "6"
                ],
                [
                  "234.0",
                  "5"
                ],
                [
                  "208.0",
                  "5"
                ],
                [
                  "207.0",
                  "5"
                ],
                [
                  "239.0",
                  "5"
                ],
                [
                  "708.0",
                  "5"
                ],
                [
                  "218.0",
                  "4"
                ],
                [
                  "223.0",
                  "4"
                ],
                [
                  "226.0",
                  "4"
                ],
                [
                  "238.0",
                  "4"
                ]
              ],
              "shape": {
                "columns": 1,
                "rows": 148
              }
            },
            "text/plain": [
              "Mobile Weight (gram)\n",
              "190.0    68\n",
              "195.0    54\n",
              "185.0    29\n",
              "192.0    26\n",
              "198.0    22\n",
              "         ..\n",
              "288.0     1\n",
              "495.0     1\n",
              "505.0     1\n",
              "475.0     1\n",
              "178.8     1\n",
              "Name: count, Length: 148, dtype: int64"
            ]
          },
          "execution_count": 16,
          "metadata": {},
          "output_type": "execute_result"
        }
      ],
      "source": [
        "df['Mobile Weight (gram)'].value_counts()"
      ]
    },
    {
      "cell_type": "code",
      "execution_count": 17,
      "metadata": {},
      "outputs": [],
      "source": [
        "df['RAM (GB)'] = df['RAM (GB)'].apply(lambda x:x.replace('GB',''))"
      ]
    },
    {
      "cell_type": "code",
      "execution_count": 18,
      "metadata": {},
      "outputs": [],
      "source": [
        "df['RAM (GB)'] = pd.to_numeric(df['RAM (GB)'], errors='coerce')"
      ]
    },
    {
      "cell_type": "code",
      "execution_count": 19,
      "metadata": {},
      "outputs": [
        {
          "data": {
            "application/vnd.microsoft.datawrangler.viewer.v0+json": {
              "columns": [
                {
                  "name": "RAM (GB)",
                  "rawType": "float64",
                  "type": "float"
                },
                {
                  "name": "count",
                  "rawType": "int64",
                  "type": "integer"
                }
              ],
              "ref": "257f30c8-b879-4e35-90ca-9eb74acbb1c4",
              "rows": [
                [
                  "8.0",
                  "292"
                ],
                [
                  "6.0",
                  "200"
                ],
                [
                  "12.0",
                  "189"
                ],
                [
                  "4.0",
                  "144"
                ],
                [
                  "3.0",
                  "32"
                ],
                [
                  "16.0",
                  "31"
                ],
                [
                  "2.0",
                  "6"
                ],
                [
                  "1.5",
                  "2"
                ],
                [
                  "10.0",
                  "1"
                ],
                [
                  "1.0",
                  "1"
                ]
              ],
              "shape": {
                "columns": 1,
                "rows": 10
              }
            },
            "text/plain": [
              "RAM (GB)\n",
              "8.0     292\n",
              "6.0     200\n",
              "12.0    189\n",
              "4.0     144\n",
              "3.0      32\n",
              "16.0     31\n",
              "2.0       6\n",
              "1.5       2\n",
              "10.0      1\n",
              "1.0       1\n",
              "Name: count, dtype: int64"
            ]
          },
          "execution_count": 19,
          "metadata": {},
          "output_type": "execute_result"
        }
      ],
      "source": [
        "df['RAM (GB)'].value_counts()"
      ]
    },
    {
      "cell_type": "code",
      "execution_count": 20,
      "metadata": {},
      "outputs": [
        {
          "data": {
            "application/vnd.microsoft.datawrangler.viewer.v0+json": {
              "columns": [
                {
                  "name": "Battery Capacity (mAh)",
                  "rawType": "object",
                  "type": "string"
                },
                {
                  "name": "count",
                  "rawType": "int64",
                  "type": "integer"
                }
              ],
              "ref": "3e6c1721-ba02-4ab0-ad3a-e446d5cc07ba",
              "rows": [
                [
                  "5,000mAh",
                  "179"
                ],
                [
                  "5000mAh",
                  "94"
                ],
                [
                  "4,500mAh",
                  "42"
                ],
                [
                  "4500mAh",
                  "38"
                ],
                [
                  "5,200mAh",
                  "35"
                ],
                [
                  "4,000mAh",
                  "24"
                ],
                [
                  "6000mAh",
                  "20"
                ],
                [
                  "5,500mAh",
                  "19"
                ],
                [
                  "5,100mAh",
                  "19"
                ],
                [
                  "4,300mAh",
                  "16"
                ],
                [
                  "6,000mAh",
                  "15"
                ],
                [
                  "4,600mAh",
                  "14"
                ],
                [
                  "4000mAh",
                  "12"
                ],
                [
                  "4300mAh",
                  "10"
                ],
                [
                  "8040mAh",
                  "9"
                ],
                [
                  "4,800mAh",
                  "9"
                ],
                [
                  "4800mAh",
                  "8"
                ],
                [
                  "4,400mAh",
                  "8"
                ],
                [
                  "4,200mAh",
                  "8"
                ],
                [
                  "5,050mAh",
                  "8"
                ],
                [
                  "3700mAh",
                  "8"
                ],
                [
                  "5100mAh",
                  "7"
                ],
                [
                  "4700mAh",
                  "7"
                ],
                [
                  "4400mAh",
                  "7"
                ],
                [
                  "4,700mAh",
                  "7"
                ],
                [
                  "4200mAh",
                  "6"
                ],
                [
                  "4600mAh",
                  "6"
                ],
                [
                  "7,100mAh",
                  "6"
                ],
                [
                  "2,815mAh",
                  "6"
                ],
                [
                  "3,200mAh",
                  "6"
                ],
                [
                  "9510mAh",
                  "6"
                ],
                [
                  "10,307mAh",
                  "5"
                ],
                [
                  "7,250mAh",
                  "5"
                ],
                [
                  "3300mAh",
                  "5"
                ],
                [
                  "3000mAh",
                  "4"
                ],
                [
                  "4,025mAh",
                  "4"
                ],
                [
                  "5160mAh",
                  "4"
                ],
                [
                  "3,500mAh",
                  "4"
                ],
                [
                  "4,020mAh",
                  "4"
                ],
                [
                  "5,800mAh",
                  "4"
                ],
                [
                  "3,110mAh",
                  "3"
                ],
                [
                  "3,969mAh",
                  "3"
                ],
                [
                  "3,046mAh",
                  "3"
                ],
                [
                  "4,325mAh",
                  "3"
                ],
                [
                  "3,095mAh",
                  "3"
                ],
                [
                  "3,240mAh",
                  "3"
                ],
                [
                  "2,438mAh",
                  "3"
                ],
                [
                  "3,600mAh",
                  "3"
                ],
                [
                  "3,687mAh",
                  "3"
                ],
                [
                  "2,227mAh",
                  "3"
                ]
              ],
              "shape": {
                "columns": 1,
                "rows": 147
              }
            },
            "text/plain": [
              "Battery Capacity (mAh)\n",
              "5,000mAh    179\n",
              "5000mAh      94\n",
              "4,500mAh     42\n",
              "4500mAh      38\n",
              "5,200mAh     35\n",
              "           ... \n",
              "7,500mAh      1\n",
              "8,300mAh      1\n",
              "8,850mAh      1\n",
              "5065mAh       1\n",
              "5110mAh       1\n",
              "Name: count, Length: 147, dtype: int64"
            ]
          },
          "execution_count": 20,
          "metadata": {},
          "output_type": "execute_result"
        }
      ],
      "source": [
        "df['Battery Capacity (mAh)'].value_counts()"
      ]
    },
    {
      "cell_type": "code",
      "execution_count": 21,
      "metadata": {},
      "outputs": [],
      "source": [
        "df['Battery Capacity (mAh)'] = df['Battery Capacity (mAh)'].apply(lambda x:x.replace('mAh',''))"
      ]
    },
    {
      "cell_type": "code",
      "execution_count": 22,
      "metadata": {},
      "outputs": [
        {
          "data": {
            "text/plain": [
              "'10,000'"
            ]
          },
          "execution_count": 22,
          "metadata": {},
          "output_type": "execute_result"
        }
      ],
      "source": [
        "df.loc[925, 'Battery Capacity (mAh)']"
      ]
    },
    {
      "cell_type": "code",
      "execution_count": 23,
      "metadata": {},
      "outputs": [
        {
          "data": {
            "application/vnd.microsoft.datawrangler.viewer.v0+json": {
              "columns": [
                {
                  "name": "index",
                  "rawType": "int64",
                  "type": "integer"
                },
                {
                  "name": "Company Name",
                  "rawType": "object",
                  "type": "string"
                },
                {
                  "name": "Model Name",
                  "rawType": "object",
                  "type": "string"
                },
                {
                  "name": "Mobile Weight (gram)",
                  "rawType": "float64",
                  "type": "float"
                },
                {
                  "name": "RAM (GB)",
                  "rawType": "float64",
                  "type": "float"
                },
                {
                  "name": "Front Camera (MP)",
                  "rawType": "object",
                  "type": "string"
                },
                {
                  "name": "Back Camera (MP)",
                  "rawType": "object",
                  "type": "string"
                },
                {
                  "name": "Processor",
                  "rawType": "object",
                  "type": "string"
                },
                {
                  "name": "Battery Capacity (mAh)",
                  "rawType": "object",
                  "type": "string"
                },
                {
                  "name": "Screen Size (inch)",
                  "rawType": "object",
                  "type": "string"
                },
                {
                  "name": "Launched Price (Pakistan USD)",
                  "rawType": "object",
                  "type": "string"
                },
                {
                  "name": "Launched Price (India USD)",
                  "rawType": "object",
                  "type": "string"
                },
                {
                  "name": "Launched Price (China USD)",
                  "rawType": "object",
                  "type": "string"
                },
                {
                  "name": "Launched Price (USA USD)",
                  "rawType": "object",
                  "type": "string"
                },
                {
                  "name": "Launched Price (Dubai USD)",
                  "rawType": "object",
                  "type": "string"
                },
                {
                  "name": "Launched Year",
                  "rawType": "int64",
                  "type": "integer"
                }
              ],
              "ref": "f6a25420-1ef5-4308-8f95-ef2e519ace8d",
              "rows": [],
              "shape": {
                "columns": 15,
                "rows": 0
              }
            },
            "text/html": [
              "<div>\n",
              "<style scoped>\n",
              "    .dataframe tbody tr th:only-of-type {\n",
              "        vertical-align: middle;\n",
              "    }\n",
              "\n",
              "    .dataframe tbody tr th {\n",
              "        vertical-align: top;\n",
              "    }\n",
              "\n",
              "    .dataframe thead th {\n",
              "        text-align: right;\n",
              "    }\n",
              "</style>\n",
              "<table border=\"1\" class=\"dataframe\">\n",
              "  <thead>\n",
              "    <tr style=\"text-align: right;\">\n",
              "      <th></th>\n",
              "      <th>Company Name</th>\n",
              "      <th>Model Name</th>\n",
              "      <th>Mobile Weight (gram)</th>\n",
              "      <th>RAM (GB)</th>\n",
              "      <th>Front Camera (MP)</th>\n",
              "      <th>Back Camera (MP)</th>\n",
              "      <th>Processor</th>\n",
              "      <th>Battery Capacity (mAh)</th>\n",
              "      <th>Screen Size (inch)</th>\n",
              "      <th>Launched Price (Pakistan USD)</th>\n",
              "      <th>Launched Price (India USD)</th>\n",
              "      <th>Launched Price (China USD)</th>\n",
              "      <th>Launched Price (USA USD)</th>\n",
              "      <th>Launched Price (Dubai USD)</th>\n",
              "      <th>Launched Year</th>\n",
              "    </tr>\n",
              "  </thead>\n",
              "  <tbody>\n",
              "  </tbody>\n",
              "</table>\n",
              "</div>"
            ],
            "text/plain": [
              "Empty DataFrame\n",
              "Columns: [Company Name, Model Name, Mobile Weight (gram), RAM (GB), Front Camera (MP), Back Camera (MP), Processor, Battery Capacity (mAh), Screen Size (inch), Launched Price (Pakistan USD), Launched Price (India USD), Launched Price (China USD), Launched Price (USA USD), Launched Price (Dubai USD), Launched Year]\n",
              "Index: []"
            ]
          },
          "execution_count": 23,
          "metadata": {},
          "output_type": "execute_result"
        }
      ],
      "source": [
        "df[df['Battery Capacity (mAh)'].str.contains(' ')]"
      ]
    },
    {
      "cell_type": "code",
      "execution_count": 24,
      "metadata": {},
      "outputs": [],
      "source": [
        "df['Battery Capacity (mAh)'] = (\n",
        "    df['Battery Capacity (mAh)']\n",
        "    .astype(str)\n",
        "    .str.replace(',','' ,regex=False)\n",
        "    .str.strip()\n",
        ")\n",
        "df['Battery Capacity (mAh)'] = pd.to_numeric(df['Battery Capacity (mAh)'], errors='coerce')"
      ]
    },
    {
      "cell_type": "code",
      "execution_count": 25,
      "metadata": {},
      "outputs": [
        {
          "data": {
            "text/plain": [
              "np.int64(0)"
            ]
          },
          "execution_count": 25,
          "metadata": {},
          "output_type": "execute_result"
        }
      ],
      "source": [
        "df['Battery Capacity (mAh)'].isnull().sum()"
      ]
    },
    {
      "cell_type": "code",
      "execution_count": 26,
      "metadata": {},
      "outputs": [],
      "source": [
        "df['Screen Size (inch)'] = (\n",
        "    df['Screen Size (inch)']\n",
        "    .astype(str)\n",
        "    .str.replace(r'inches.*','',regex=True)\n",
        "    .str.strip()\n",
        ")\n",
        "df['Screen Size (inch)'] = pd.to_numeric(df['Screen Size (inch)'], errors='coerce')"
      ]
    },
    {
      "cell_type": "code",
      "execution_count": 27,
      "metadata": {},
      "outputs": [
        {
          "data": {
            "text/plain": [
              "np.int64(0)"
            ]
          },
          "execution_count": 27,
          "metadata": {},
          "output_type": "execute_result"
        }
      ],
      "source": [
        "df['Screen Size (inch)'].isnull().sum()"
      ]
    },
    {
      "cell_type": "code",
      "execution_count": 28,
      "metadata": {},
      "outputs": [],
      "source": [
        "df['Launched Price (Pakistan USD)'] =(\n",
        "    df['Launched Price (Pakistan USD)']\n",
        "    .astype(str)\n",
        "    .str.replace('PKR','',regex=False)\n",
        "    .str.replace(',','',regex=False)\n",
        "    .str.strip()\n",
        ")"
      ]
    },
    {
      "cell_type": "code",
      "execution_count": 29,
      "metadata": {},
      "outputs": [],
      "source": [
        "df['Launched Price (Pakistan USD)'] = pd.to_numeric(df['Launched Price (Pakistan USD)'],errors='coerce')"
      ]
    },
    {
      "cell_type": "code",
      "execution_count": 30,
      "metadata": {},
      "outputs": [
        {
          "data": {
            "text/plain": [
              "np.int64(1)"
            ]
          },
          "execution_count": 30,
          "metadata": {},
          "output_type": "execute_result"
        }
      ],
      "source": [
        "df['Launched Price (Pakistan USD)'].isnull().sum()"
      ]
    },
    {
      "cell_type": "code",
      "execution_count": 31,
      "metadata": {},
      "outputs": [],
      "source": [
        "df.dropna(subset=['Launched Price (Pakistan USD)'],inplace=True)"
      ]
    },
    {
      "cell_type": "code",
      "execution_count": 32,
      "metadata": {},
      "outputs": [
        {
          "data": {
            "text/plain": [
              "np.int64(0)"
            ]
          },
          "execution_count": 32,
          "metadata": {},
          "output_type": "execute_result"
        }
      ],
      "source": [
        "df['Launched Price (Pakistan USD)'].isnull().sum()"
      ]
    },
    {
      "cell_type": "code",
      "execution_count": 33,
      "metadata": {},
      "outputs": [
        {
          "data": {
            "text/plain": [
              "Index(['Company Name', 'Model Name', 'Mobile Weight (gram)', 'RAM (GB)',\n",
              "       'Front Camera (MP)', 'Back Camera (MP)', 'Processor',\n",
              "       'Battery Capacity (mAh)', 'Screen Size (inch)',\n",
              "       'Launched Price (Pakistan USD)', 'Launched Price (India USD)',\n",
              "       'Launched Price (China USD)', 'Launched Price (USA USD)',\n",
              "       'Launched Price (Dubai USD)', 'Launched Year'],\n",
              "      dtype='object')"
            ]
          },
          "execution_count": 33,
          "metadata": {},
          "output_type": "execute_result"
        }
      ],
      "source": [
        "df.columns"
      ]
    },
    {
      "cell_type": "code",
      "execution_count": 34,
      "metadata": {},
      "outputs": [],
      "source": [
        "df['Launched Price (India USD)'] = (\n",
        "    df['Launched Price (India USD)']\n",
        "    .astype(str)\n",
        "    .str.replace('INR','',regex=False)\n",
        "    .str.replace(',','',regex=False)\n",
        "    .str.strip()\n",
        ")\n",
        "df['Launched Price (India USD)'] = pd.to_numeric(df['Launched Price (India USD)'], errors='coerce')"
      ]
    },
    {
      "cell_type": "code",
      "execution_count": 35,
      "metadata": {},
      "outputs": [],
      "source": [
        "df['Launched Price (China USD)'] = (\n",
        "    df['Launched Price (China USD)']\n",
        "    .astype(str)\n",
        "    .str.replace('CNY','',regex=False)\n",
        "    .str.replace('¥','',regex=False)\n",
        "    .str.replace(',','',regex=False)\n",
        "    .str.strip()\n",
        ")\n",
        "df['Launched Price (China USD)'] = pd.to_numeric(df['Launched Price (China USD)'], errors='coerce')"
      ]
    },
    {
      "cell_type": "code",
      "execution_count": 36,
      "metadata": {},
      "outputs": [],
      "source": [
        "df['Launched Price (USA USD)'] = (\n",
        "    df['Launched Price (USA USD)']\n",
        "    .astype(str)\n",
        "    .str.replace('USD','',regex=False)\n",
        "    .str.replace(',','',regex=False)\n",
        "    .str.strip()\n",
        ")\n",
        "df['Launched Price (USA USD)'] = pd.to_numeric(df['Launched Price (USA USD)'], errors='coerce')"
      ]
    },
    {
      "cell_type": "code",
      "execution_count": 37,
      "metadata": {},
      "outputs": [],
      "source": [
        "df['Launched Price (Dubai USD)'] = (\n",
        "    df['Launched Price (Dubai USD)']\n",
        "    .astype(str)\n",
        "    .str.replace('AED','',regex=False)\n",
        "    .str.replace(',','',regex=False)\n",
        "    .str.strip()\n",
        ")\n",
        "df['Launched Price (Dubai USD)'] = pd.to_numeric(df['Launched Price (Dubai USD)'], errors='coerce')"
      ]
    },
    {
      "cell_type": "code",
      "execution_count": 38,
      "metadata": {},
      "outputs": [
        {
          "data": {
            "application/vnd.microsoft.datawrangler.viewer.v0+json": {
              "columns": [
                {
                  "name": "index",
                  "rawType": "object",
                  "type": "string"
                },
                {
                  "name": "0",
                  "rawType": "object",
                  "type": "unknown"
                }
              ],
              "ref": "6ba700a3-d136-41bc-a0c0-6828e44d3920",
              "rows": [
                [
                  "Company Name",
                  "object"
                ],
                [
                  "Model Name",
                  "object"
                ],
                [
                  "Mobile Weight (gram)",
                  "float64"
                ],
                [
                  "RAM (GB)",
                  "float64"
                ],
                [
                  "Front Camera (MP)",
                  "object"
                ],
                [
                  "Back Camera (MP)",
                  "object"
                ],
                [
                  "Processor",
                  "object"
                ],
                [
                  "Battery Capacity (mAh)",
                  "int64"
                ],
                [
                  "Screen Size (inch)",
                  "float64"
                ],
                [
                  "Launched Price (Pakistan USD)",
                  "float64"
                ],
                [
                  "Launched Price (India USD)",
                  "int64"
                ],
                [
                  "Launched Price (China USD)",
                  "int64"
                ],
                [
                  "Launched Price (USA USD)",
                  "float64"
                ],
                [
                  "Launched Price (Dubai USD)",
                  "int64"
                ],
                [
                  "Launched Year",
                  "int64"
                ]
              ],
              "shape": {
                "columns": 1,
                "rows": 15
              }
            },
            "text/plain": [
              "Company Name                      object\n",
              "Model Name                        object\n",
              "Mobile Weight (gram)             float64\n",
              "RAM (GB)                         float64\n",
              "Front Camera (MP)                 object\n",
              "Back Camera (MP)                  object\n",
              "Processor                         object\n",
              "Battery Capacity (mAh)             int64\n",
              "Screen Size (inch)               float64\n",
              "Launched Price (Pakistan USD)    float64\n",
              "Launched Price (India USD)         int64\n",
              "Launched Price (China USD)         int64\n",
              "Launched Price (USA USD)         float64\n",
              "Launched Price (Dubai USD)         int64\n",
              "Launched Year                      int64\n",
              "dtype: object"
            ]
          },
          "execution_count": 38,
          "metadata": {},
          "output_type": "execute_result"
        }
      ],
      "source": [
        "df.dtypes"
      ]
    },
    {
      "cell_type": "code",
      "execution_count": 39,
      "metadata": {},
      "outputs": [],
      "source": [
        "columns = {\n",
        "    'Launched Price (Pakistan USD)':281,\n",
        "    'Launched Price (India USD)':87.82,\n",
        "    'Launched Price (China USD)':7.12,\n",
        "    'Launched Price (Dubai USD)':3.67\n",
        "}\n",
        "\n",
        "for key, val in columns.items():\n",
        "    df[key] //= val"
      ]
    },
    {
      "cell_type": "code",
      "execution_count": 40,
      "metadata": {},
      "outputs": [
        {
          "name": "stdout",
          "output_type": "stream",
          "text": [
            "Company Name                     0\n",
            "Model Name                       0\n",
            "Mobile Weight (gram)             0\n",
            "RAM (GB)                         2\n",
            "Front Camera (MP)                0\n",
            "Back Camera (MP)                 0\n",
            "Processor                        0\n",
            "Battery Capacity (mAh)           0\n",
            "Screen Size (inch)               0\n",
            "Launched Price (Pakistan USD)    0\n",
            "Launched Price (India USD)       0\n",
            "Launched Price (China USD)       0\n",
            "Launched Price (USA USD)         0\n",
            "Launched Price (Dubai USD)       0\n",
            "Launched Year                    0\n",
            "dtype: int64\n"
          ]
        }
      ],
      "source": [
        "print(df.isnull().sum())"
      ]
    },
    {
      "cell_type": "code",
      "execution_count": 41,
      "metadata": {},
      "outputs": [],
      "source": [
        "df.dropna(inplace=True)"
      ]
    },
    {
      "cell_type": "code",
      "execution_count": 42,
      "metadata": {},
      "outputs": [
        {
          "data": {
            "application/vnd.microsoft.datawrangler.viewer.v0+json": {
              "columns": [
                {
                  "name": "index",
                  "rawType": "object",
                  "type": "string"
                },
                {
                  "name": "0",
                  "rawType": "int64",
                  "type": "integer"
                }
              ],
              "ref": "cb61ad1c-4d25-4ba1-bdf1-4af4a367a95e",
              "rows": [
                [
                  "Company Name",
                  "0"
                ],
                [
                  "Model Name",
                  "0"
                ],
                [
                  "Mobile Weight (gram)",
                  "0"
                ],
                [
                  "RAM (GB)",
                  "0"
                ],
                [
                  "Front Camera (MP)",
                  "0"
                ],
                [
                  "Back Camera (MP)",
                  "0"
                ],
                [
                  "Processor",
                  "0"
                ],
                [
                  "Battery Capacity (mAh)",
                  "0"
                ],
                [
                  "Screen Size (inch)",
                  "0"
                ],
                [
                  "Launched Price (Pakistan USD)",
                  "0"
                ],
                [
                  "Launched Price (India USD)",
                  "0"
                ],
                [
                  "Launched Price (China USD)",
                  "0"
                ],
                [
                  "Launched Price (USA USD)",
                  "0"
                ],
                [
                  "Launched Price (Dubai USD)",
                  "0"
                ],
                [
                  "Launched Year",
                  "0"
                ]
              ],
              "shape": {
                "columns": 1,
                "rows": 15
              }
            },
            "text/plain": [
              "Company Name                     0\n",
              "Model Name                       0\n",
              "Mobile Weight (gram)             0\n",
              "RAM (GB)                         0\n",
              "Front Camera (MP)                0\n",
              "Back Camera (MP)                 0\n",
              "Processor                        0\n",
              "Battery Capacity (mAh)           0\n",
              "Screen Size (inch)               0\n",
              "Launched Price (Pakistan USD)    0\n",
              "Launched Price (India USD)       0\n",
              "Launched Price (China USD)       0\n",
              "Launched Price (USA USD)         0\n",
              "Launched Price (Dubai USD)       0\n",
              "Launched Year                    0\n",
              "dtype: int64"
            ]
          },
          "execution_count": 42,
          "metadata": {},
          "output_type": "execute_result"
        }
      ],
      "source": [
        "df.isnull().sum()"
      ]
    },
    {
      "cell_type": "code",
      "execution_count": 43,
      "metadata": {},
      "outputs": [
        {
          "data": {
            "application/vnd.microsoft.datawrangler.viewer.v0+json": {
              "columns": [
                {
                  "name": "index",
                  "rawType": "object",
                  "type": "string"
                },
                {
                  "name": "0",
                  "rawType": "object",
                  "type": "unknown"
                }
              ],
              "ref": "dbe1a7c7-c170-45da-b588-68b78c8e69f2",
              "rows": [
                [
                  "Company Name",
                  "object"
                ],
                [
                  "Model Name",
                  "object"
                ],
                [
                  "Mobile Weight (gram)",
                  "float64"
                ],
                [
                  "RAM (GB)",
                  "float64"
                ],
                [
                  "Front Camera (MP)",
                  "object"
                ],
                [
                  "Back Camera (MP)",
                  "object"
                ],
                [
                  "Processor",
                  "object"
                ],
                [
                  "Battery Capacity (mAh)",
                  "int64"
                ],
                [
                  "Screen Size (inch)",
                  "float64"
                ],
                [
                  "Launched Price (Pakistan USD)",
                  "float64"
                ],
                [
                  "Launched Price (India USD)",
                  "float64"
                ],
                [
                  "Launched Price (China USD)",
                  "float64"
                ],
                [
                  "Launched Price (USA USD)",
                  "float64"
                ],
                [
                  "Launched Price (Dubai USD)",
                  "float64"
                ],
                [
                  "Launched Year",
                  "int64"
                ]
              ],
              "shape": {
                "columns": 1,
                "rows": 15
              }
            },
            "text/plain": [
              "Company Name                      object\n",
              "Model Name                        object\n",
              "Mobile Weight (gram)             float64\n",
              "RAM (GB)                         float64\n",
              "Front Camera (MP)                 object\n",
              "Back Camera (MP)                  object\n",
              "Processor                         object\n",
              "Battery Capacity (mAh)             int64\n",
              "Screen Size (inch)               float64\n",
              "Launched Price (Pakistan USD)    float64\n",
              "Launched Price (India USD)       float64\n",
              "Launched Price (China USD)       float64\n",
              "Launched Price (USA USD)         float64\n",
              "Launched Price (Dubai USD)       float64\n",
              "Launched Year                      int64\n",
              "dtype: object"
            ]
          },
          "execution_count": 43,
          "metadata": {},
          "output_type": "execute_result"
        }
      ],
      "source": [
        "df.dtypes"
      ]
    },
    {
      "cell_type": "code",
      "execution_count": 44,
      "metadata": {},
      "outputs": [],
      "source": [
        "df['Company Name'] = df['Company Name'].apply(lambda x:x.title())"
      ]
    },
    {
      "cell_type": "code",
      "execution_count": 45,
      "metadata": {},
      "outputs": [
        {
          "data": {
            "text/plain": [
              "array(['Apple', 'Samsung', 'Oneplus', 'Vivo', 'Iqoo', 'Oppo', 'Realme',\n",
              "       'Xiaomi', 'Lenovo', 'Motorola', 'Huawei', 'Nokia', 'Sony',\n",
              "       'Google', 'Tecno', 'Infinix', 'Honor', 'Poco'], dtype=object)"
            ]
          },
          "execution_count": 45,
          "metadata": {},
          "output_type": "execute_result"
        }
      ],
      "source": [
        "df['Company Name'].unique()"
      ]
    },
    {
      "cell_type": "code",
      "execution_count": 47,
      "metadata": {},
      "outputs": [
        {
          "data": {
            "text/plain": [
              "array(['A17 Bionic', 'A17 Pro', 'A16 Bionic', 'A15 Bionic', 'A14 Bionic',\n",
              "       'A13 Bionic', 'A11 Bionic', 'A12 Bionic', 'A12Z Bionic',\n",
              "       'Exynos 2400', 'Snapdragon 8 Gen 2', 'Exynos 2200',\n",
              "       'Snapdragon 8 Gen 1', 'Exynos 1380', 'MediaTek Dimensity 1080',\n",
              "       'MediaTek Helio G99', 'Exynos 850', 'Exynos 1280',\n",
              "       'MediaTek Helio P35', 'Exynos 990', 'Exynos 9825',\n",
              "       'Snapdragon 450', 'Exynos 7870', 'Snapdragon 425', 'Exynos 7570',\n",
              "       'Snapdragon 653', 'Snapdragon 625', 'Snapdragon 617',\n",
              "       'Snapdragon 888', 'Snapdragon 695', 'Unisoc T618',\n",
              "       'MediaTek Helio P22T', 'Snapdragon 778G', 'Exynos 9810',\n",
              "       'Spreadtrum SC8830', 'Qualcomm MSM8916', 'Snapdragon 8 Gen 3',\n",
              "       'MediaTek Dimensity 9000', 'Snapdragon 782G',\n",
              "       'MediaTek Dimensity 6020', 'Snapdragon 8+ Gen 1',\n",
              "       'MediaTek Dimensity 1300', 'MediaTek Dimensity 1200-AI',\n",
              "       'Snapdragon 480', 'Qualcomm Snapdragon 460', 'Snapdragon 865',\n",
              "       'Snapdragon 870', 'MediaTek Dimensity 900',\n",
              "       'MediaTek Dimensity 1200', 'Snapdragon 765G', 'Snapdragon 750G',\n",
              "       'Qualcomm Snapdragon 690', 'Snapdragon 855', 'Snapdragon 845',\n",
              "       'Snapdragon 835', 'MediaTek Dimensity 8100', 'Dimensity 9400',\n",
              "       'Dimensity 1200', 'Dimensity 900', 'Dimensity 1100',\n",
              "       'Snapdragon 710', 'Snapdragon 626', 'MediaTek Helio P22',\n",
              "       'Snapdragon 615', 'Snapdragon 439', 'Snapdragon 652',\n",
              "       'MediaTek MT6592', 'Snapdragon 430', 'Qualcomm Snapdragon 712',\n",
              "       'Qualcomm Snapdragon 675', 'MediaTek Helio P65',\n",
              "       'Qualcomm Snapdragon 439', 'MediaTek Helio P70',\n",
              "       'Qualcomm Snapdragon 710', 'Qualcomm Snapdragon 660',\n",
              "       'MediaTek Helio G96', 'MediaTek Helio G80',\n",
              "       'Qualcomm Snapdragon 870', 'Qualcomm Snapdragon 765G',\n",
              "       'MediaTek Dimensity 700', 'Qualcomm Snapdragon 695',\n",
              "       'Qualcomm Snapdragon 855', 'MediaTek Dimensity 8200',\n",
              "       'MediaTek Dimensity 9200', 'MediaTek Dimensity 920',\n",
              "       'MediaTek Helio G100', 'MediaTek Dimensity 8350', 'Snapdragon 685',\n",
              "       'MediaTek Dimensity 7050', 'Dimensity 7300', 'Dimensity 6300',\n",
              "       'Snapdragon 6s 4G Gen 1', 'Snapdragon 680 4G',\n",
              "       'Snapdragon 7 Gen 3', 'Dimensity 7050', 'Dimensity 8350',\n",
              "       'Dimensity 9300', 'Dimensity 9200', 'Dimensity 9000+',\n",
              "       'Dimensity 8100', 'Dimensity 1300', 'Dimensity 1000+',\n",
              "       'Dimensity 1000L', 'MediaTek Dimensity 810',\n",
              "       'Qualcomm Snapdragon 480', 'MediaTek Dimensity 720',\n",
              "       'Qualcomm Snapdragon 6s Gen 1', 'Qualcomm Snapdragon 782G',\n",
              "       'MediaTek Dimensity 8000-Max', 'Qualcomm Snapdragon 8 Elite',\n",
              "       'Qualcomm Snapdragon 8s Gen 3', 'Qualcomm Snapdragon 7 Plus Gen 3',\n",
              "       'Qualcomm Snapdragon 7s Gen 3', 'MediaTek Dimensity 7300 Energy',\n",
              "       'Qualcomm Snapdragon 7s Gen 2', 'MediaTek Dimensity 7200',\n",
              "       'MediaTek Dimensity 6100+', 'Qualcomm Snapdragon 7+ Gen 2',\n",
              "       'Qualcomm Snapdragon 7+ Gen 3', 'Qualcomm Snapdragon 7s Gen 1',\n",
              "       'MediaTek Helio G88', 'MediaTek Helio G85', 'Unisoc T612',\n",
              "       'Qualcomm Snapdragon 680', 'Qualcomm Snapdragon 8 Gen 2',\n",
              "       'Unisoc T616', 'Snapdragon 8 Elite', 'Dimensity 9300+',\n",
              "       'Dimensity 8300-Ultra', 'Snapdragon 7s Gen 3',\n",
              "       'MediaTek Dimensity 7300-Ultra', 'Qualcomm Snapdragon 732G',\n",
              "       'MediaTek Dimensity 7025-Ultra', 'Unisoc T700', 'Snapdragon 662',\n",
              "       'Unisoc SC9863A', 'Snapdragon 460', 'Snapdragon 632', 'Helio P22',\n",
              "       'Snapdragon 7 Gen 1', 'Exynos 9609', 'MediaTek Helio G25',\n",
              "       'Snapdragon 6 Gen 3', 'MediaTek Dimensity 7300',\n",
              "       'MediaTek Dimensity 7025', 'Unisoc T760', 'Snapdragon 6s Gen 3',\n",
              "       'Snapdragon 7s Gen 2', 'Unisoc T606', 'Snapdragon 6 Gen 1',\n",
              "       'Snapdragon 888+ 5G', 'Snapdragon 695 5G', 'Snapdragon 480+ 5G',\n",
              "       'MediaTek Helio G37', 'Snapdragon 888 4G', 'Kirin 990E 5G',\n",
              "       'Kirin 9000 5G', 'Snapdragon 778G 4G', 'Snapdragon 8+ Gen 1 4G',\n",
              "       'Kirin 9000S', 'Kirin 9010', 'Snapdragon 480+', 'MediaTek G35',\n",
              "       'Snapdragon 670', 'Snapdragon 730G', 'Google Tensor',\n",
              "       'Google Tensor G2', 'Google Tensor G3', 'Google Tensor G4',\n",
              "       'MediaTek Helio A22', 'MediaTek G99', 'Unisoc SC9832E',\n",
              "       'MediaTek Dimensity 9200+', 'MediaTek Dimensity 8050',\n",
              "       'Qualcomm Snapdragon 778G', 'MediaTek Dimensity 8020',\n",
              "       'Unisoc T610', 'MediaTek Helio G70', 'MediaTek Helio G35',\n",
              "       'MediaTek Helio A20', 'MediaTek Helio G90T', 'Kirin 710F',\n",
              "       'Kirin 985 5G', 'Kirin 990 5G', 'Kirin 820 5G',\n",
              "       'MediaTek Dimensity 800', 'Kirin 710A', 'MediaTek Dimensity 1000+',\n",
              "       'MediaTek Dimensity 800U', 'Qualcomm Snapdragon 888',\n",
              "       'Qualcomm Snapdragon 888+', 'Qualcomm Snapdragon 778G+',\n",
              "       'MediaTek MT6762G Helio G25', 'Qualcomm Snapdragon 8 Gen 1',\n",
              "       'MediaTek Dimensity 8000', 'Qualcomm Snapdragon 8+ Gen 1',\n",
              "       'Qualcomm Snapdragon 6 Gen 1', 'MediaTek Helio G36',\n",
              "       'Qualcomm Snapdragon 8 Gen 3', 'Qualcomm Snapdragon 7 Gen 1',\n",
              "       'Qualcomm Snapdragon 662', 'MediaTek MT8768T',\n",
              "       'MediaTek Dimensity 1300T', 'MediaTek MT8786',\n",
              "       'Qualcomm Snapdragon 685', 'Snapdragon 720G', 'Snapdragon 732G',\n",
              "       'Snapdragon 860', 'MediaTek Dimensity 1100', 'MediaTek Helio G95',\n",
              "       'Snapdragon 7+ Gen 2', 'Snapdragon 4 Gen 1',\n",
              "       'MediaTek Dimensity 8300', 'Snapdragon 8+ Gen 2',\n",
              "       'MediaTek Dimensity 8400'], dtype=object)"
            ]
          },
          "execution_count": 47,
          "metadata": {},
          "output_type": "execute_result"
        }
      ],
      "source": [
        "df['Processor'].unique()"
      ]
    },
    {
      "cell_type": "code",
      "execution_count": 48,
      "metadata": {},
      "outputs": [],
      "source": [
        "def processor_brand(processor):\n",
        "       name = processor.lower()\n",
        "       if 'bionic' in name or name.startswith('a1'):\n",
        "              return 'Apple'\n",
        "       \n",
        "       elif 'exynos' in name:\n",
        "              return 'Exynos'\n",
        "       \n",
        "       elif 'snapdragon' in name:\n",
        "              return 'Snapdragon'\n",
        "       \n",
        "       elif 'mediatek' in name or 'dimensity' in name or 'helio' in name or 'mt' in name:\n",
        "              return 'MediaTek'\n",
        "       \n",
        "       elif 'unisoc' in name:\n",
        "              return 'Unisoc'\n",
        "       \n",
        "       elif 'spreadtrum' in name:\n",
        "              return 'Spreadtrum'\n",
        "       \n",
        "       elif 'kirin' in name:\n",
        "              return 'Kirin'\n",
        "       \n",
        "       elif 'tensor' in name:\n",
        "              return 'Google Tensor'\n",
        "       \n",
        "       elif 'qualcomm' in name:\n",
        "              return 'Qualcomm Snapdragon'\n",
        "       \n",
        "       else:\n",
        "              return 'Other'\n",
        "\n",
        "df['Processor'] = df['Processor'].apply(processor_brand)\n"
      ]
    },
    {
      "cell_type": "code",
      "execution_count": 49,
      "metadata": {},
      "outputs": [
        {
          "data": {
            "text/plain": [
              "array(['Apple', 'Exynos', 'Snapdragon', 'MediaTek', 'Unisoc',\n",
              "       'Spreadtrum', 'Qualcomm Snapdragon', 'Kirin', 'Google Tensor'],\n",
              "      dtype=object)"
            ]
          },
          "execution_count": 49,
          "metadata": {},
          "output_type": "execute_result"
        }
      ],
      "source": [
        "df['Processor'].unique()"
      ]
    },
    {
      "cell_type": "code",
      "execution_count": 50,
      "metadata": {},
      "outputs": [
        {
          "data": {
            "text/plain": [
              "np.int64(0)"
            ]
          },
          "execution_count": 50,
          "metadata": {},
          "output_type": "execute_result"
        }
      ],
      "source": [
        "df['Processor'].isnull().sum()"
      ]
    },
    {
      "cell_type": "code",
      "execution_count": 58,
      "metadata": {},
      "outputs": [],
      "source": [
        "df.rename(columns={\n",
        "    'Back Camera (MP)':'Back Camera Main (MP)',\n",
        "    'Front Camera (MP)':'Front Camera Main (MP)',\n",
        "},inplace=True)"
      ]
    },
    {
      "cell_type": "code",
      "execution_count": 60,
      "metadata": {},
      "outputs": [],
      "source": [
        "df['Front Camera Main (MP)'] = (\n",
        "    df['Front Camera Main (MP)']\n",
        "    .astype(str)\n",
        "    .str.replace(r'M.*','',regex=True)\n",
        "    .str.strip()\n",
        ")"
      ]
    },
    {
      "cell_type": "code",
      "execution_count": 63,
      "metadata": {},
      "outputs": [
        {
          "data": {
            "application/vnd.microsoft.datawrangler.viewer.v0+json": {
              "columns": [
                {
                  "name": "index",
                  "rawType": "int64",
                  "type": "integer"
                },
                {
                  "name": "Front Camera Main (MP)",
                  "rawType": "object",
                  "type": "string"
                }
              ],
              "ref": "71a237ca-7c5f-46b2-a80b-b9ad9f0326bc",
              "rows": [
                [
                  "0",
                  "12"
                ],
                [
                  "1",
                  "12"
                ],
                [
                  "2",
                  "12"
                ],
                [
                  "3",
                  "12"
                ],
                [
                  "4",
                  "12"
                ],
                [
                  "5",
                  "12"
                ],
                [
                  "6",
                  "12"
                ],
                [
                  "7",
                  "12"
                ],
                [
                  "8",
                  "12"
                ],
                [
                  "9",
                  "12"
                ],
                [
                  "10",
                  "12"
                ],
                [
                  "11",
                  "12"
                ],
                [
                  "12",
                  "12"
                ],
                [
                  "13",
                  "12"
                ],
                [
                  "14",
                  "12"
                ],
                [
                  "15",
                  "12"
                ],
                [
                  "16",
                  "12"
                ],
                [
                  "17",
                  "12"
                ],
                [
                  "18",
                  "12"
                ],
                [
                  "19",
                  "12"
                ],
                [
                  "20",
                  "12"
                ],
                [
                  "21",
                  "12"
                ],
                [
                  "22",
                  "12"
                ],
                [
                  "23",
                  "12"
                ],
                [
                  "24",
                  "12"
                ],
                [
                  "25",
                  "12"
                ],
                [
                  "26",
                  "12"
                ],
                [
                  "27",
                  "12"
                ],
                [
                  "28",
                  "12"
                ],
                [
                  "29",
                  "12"
                ],
                [
                  "30",
                  "12"
                ],
                [
                  "31",
                  "12"
                ],
                [
                  "32",
                  "12"
                ],
                [
                  "33",
                  "12"
                ],
                [
                  "34",
                  "12"
                ],
                [
                  "35",
                  "12"
                ],
                [
                  "36",
                  "12"
                ],
                [
                  "37",
                  "12"
                ],
                [
                  "38",
                  "12"
                ],
                [
                  "39",
                  "12"
                ],
                [
                  "40",
                  "12"
                ],
                [
                  "41",
                  "12"
                ],
                [
                  "42",
                  "12"
                ],
                [
                  "43",
                  "12"
                ],
                [
                  "44",
                  "12"
                ],
                [
                  "45",
                  "12"
                ],
                [
                  "46",
                  "12"
                ],
                [
                  "47",
                  "12"
                ],
                [
                  "48",
                  "12"
                ],
                [
                  "49",
                  "12"
                ]
              ],
              "shape": {
                "columns": 1,
                "rows": 897
              }
            },
            "text/plain": [
              "0      12\n",
              "1      12\n",
              "2      12\n",
              "3      12\n",
              "4      12\n",
              "       ..\n",
              "924     8\n",
              "925     8\n",
              "926     8\n",
              "927    10\n",
              "928    10\n",
              "Name: Front Camera Main (MP), Length: 897, dtype: object"
            ]
          },
          "execution_count": 63,
          "metadata": {},
          "output_type": "execute_result"
        }
      ],
      "source": [
        "df['Front Camera Main (MP)']"
      ]
    },
    {
      "cell_type": "code",
      "execution_count": 64,
      "metadata": {},
      "outputs": [],
      "source": [
        "df['Front Camera Main (MP)'] = (\n",
        "    df['Front Camera Main (MP)']\n",
        "    .astype(str)\n",
        "    .str.replace(r'[^0-9.]','',regex=True)\n",
        "    .str.strip()\n",
        ")"
      ]
    },
    {
      "cell_type": "code",
      "execution_count": 65,
      "metadata": {},
      "outputs": [
        {
          "data": {
            "application/vnd.microsoft.datawrangler.viewer.v0+json": {
              "columns": [
                {
                  "name": "index",
                  "rawType": "int64",
                  "type": "integer"
                },
                {
                  "name": "Front Camera Main (MP)",
                  "rawType": "object",
                  "type": "string"
                }
              ],
              "ref": "c360c539-a84e-42a5-8943-d6565a5f2feb",
              "rows": [
                [
                  "0",
                  "12"
                ],
                [
                  "1",
                  "12"
                ],
                [
                  "2",
                  "12"
                ],
                [
                  "3",
                  "12"
                ],
                [
                  "4",
                  "12"
                ],
                [
                  "5",
                  "12"
                ],
                [
                  "6",
                  "12"
                ],
                [
                  "7",
                  "12"
                ],
                [
                  "8",
                  "12"
                ],
                [
                  "9",
                  "12"
                ],
                [
                  "10",
                  "12"
                ],
                [
                  "11",
                  "12"
                ],
                [
                  "12",
                  "12"
                ],
                [
                  "13",
                  "12"
                ],
                [
                  "14",
                  "12"
                ],
                [
                  "15",
                  "12"
                ],
                [
                  "16",
                  "12"
                ],
                [
                  "17",
                  "12"
                ],
                [
                  "18",
                  "12"
                ],
                [
                  "19",
                  "12"
                ],
                [
                  "20",
                  "12"
                ],
                [
                  "21",
                  "12"
                ],
                [
                  "22",
                  "12"
                ],
                [
                  "23",
                  "12"
                ],
                [
                  "24",
                  "12"
                ],
                [
                  "25",
                  "12"
                ],
                [
                  "26",
                  "12"
                ],
                [
                  "27",
                  "12"
                ],
                [
                  "28",
                  "12"
                ],
                [
                  "29",
                  "12"
                ],
                [
                  "30",
                  "12"
                ],
                [
                  "31",
                  "12"
                ],
                [
                  "32",
                  "12"
                ],
                [
                  "33",
                  "12"
                ],
                [
                  "34",
                  "12"
                ],
                [
                  "35",
                  "12"
                ],
                [
                  "36",
                  "12"
                ],
                [
                  "37",
                  "12"
                ],
                [
                  "38",
                  "12"
                ],
                [
                  "39",
                  "12"
                ],
                [
                  "40",
                  "12"
                ],
                [
                  "41",
                  "12"
                ],
                [
                  "42",
                  "12"
                ],
                [
                  "43",
                  "12"
                ],
                [
                  "44",
                  "12"
                ],
                [
                  "45",
                  "12"
                ],
                [
                  "46",
                  "12"
                ],
                [
                  "47",
                  "12"
                ],
                [
                  "48",
                  "12"
                ],
                [
                  "49",
                  "12"
                ]
              ],
              "shape": {
                "columns": 1,
                "rows": 897
              }
            },
            "text/plain": [
              "0      12\n",
              "1      12\n",
              "2      12\n",
              "3      12\n",
              "4      12\n",
              "       ..\n",
              "924     8\n",
              "925     8\n",
              "926     8\n",
              "927    10\n",
              "928    10\n",
              "Name: Front Camera Main (MP), Length: 897, dtype: object"
            ]
          },
          "execution_count": 65,
          "metadata": {},
          "output_type": "execute_result"
        }
      ],
      "source": [
        "df['Front Camera Main (MP)'] "
      ]
    },
    {
      "cell_type": "code",
      "execution_count": 66,
      "metadata": {},
      "outputs": [],
      "source": [
        "df['Front Camera Main (MP)'] = pd.to_numeric(df['Front Camera Main (MP)'], errors='coerce')"
      ]
    },
    {
      "cell_type": "code",
      "execution_count": 67,
      "metadata": {},
      "outputs": [
        {
          "data": {
            "application/vnd.microsoft.datawrangler.viewer.v0+json": {
              "columns": [
                {
                  "name": "index",
                  "rawType": "int64",
                  "type": "integer"
                },
                {
                  "name": "Back Camera Main (MP)",
                  "rawType": "object",
                  "type": "string"
                }
              ],
              "ref": "6505e6d3-e61f-47f6-9a9f-b9a77c8c3430",
              "rows": [
                [
                  "0",
                  "48MP"
                ],
                [
                  "1",
                  "48MP"
                ],
                [
                  "2",
                  "48MP"
                ],
                [
                  "3",
                  "48MP"
                ],
                [
                  "4",
                  "48MP"
                ],
                [
                  "5",
                  "48MP"
                ],
                [
                  "6",
                  "50MP + 12MP"
                ],
                [
                  "7",
                  "50MP + 12MP"
                ],
                [
                  "8",
                  "50MP + 12MP"
                ],
                [
                  "9",
                  "48MP + 12MP"
                ],
                [
                  "10",
                  "48MP + 12MP"
                ],
                [
                  "11",
                  "48MP + 12MP"
                ],
                [
                  "12",
                  "48MP"
                ],
                [
                  "13",
                  "48MP"
                ],
                [
                  "14",
                  "48MP"
                ],
                [
                  "15",
                  "48MP"
                ],
                [
                  "16",
                  "48MP"
                ],
                [
                  "17",
                  "48MP"
                ],
                [
                  "18",
                  "48MP + 12MP"
                ],
                [
                  "19",
                  "48MP + 12MP"
                ],
                [
                  "20",
                  "48MP + 12MP"
                ],
                [
                  "21",
                  "48MP + 12MP"
                ],
                [
                  "22",
                  "48MP + 12MP"
                ],
                [
                  "23",
                  "48MP + 12MP"
                ],
                [
                  "24",
                  "12MP + 12MP"
                ],
                [
                  "25",
                  "12MP + 12MP"
                ],
                [
                  "26",
                  "12MP + 12MP"
                ],
                [
                  "27",
                  "12MP + 12MP"
                ],
                [
                  "28",
                  "12MP + 12MP"
                ],
                [
                  "29",
                  "12MP + 12MP"
                ],
                [
                  "30",
                  "48MP + 12MP"
                ],
                [
                  "31",
                  "48MP + 12MP"
                ],
                [
                  "32",
                  "48MP + 12MP"
                ],
                [
                  "33",
                  "48MP + 12MP"
                ],
                [
                  "34",
                  "48MP + 12MP"
                ],
                [
                  "35",
                  "48MP + 12MP"
                ],
                [
                  "36",
                  "12MP"
                ],
                [
                  "37",
                  "12MP"
                ],
                [
                  "38",
                  "12MP"
                ],
                [
                  "39",
                  "12MP + 12MP"
                ],
                [
                  "40",
                  "12MP + 12MP"
                ],
                [
                  "41",
                  "12MP + 12MP"
                ],
                [
                  "42",
                  "12MP + 12MP + 12MP"
                ],
                [
                  "43",
                  "12MP + 12MP + 12MP"
                ],
                [
                  "44",
                  "12MP + 12MP + 12MP"
                ],
                [
                  "45",
                  "12MP + 12MP + 12MP"
                ],
                [
                  "46",
                  "12MP + 12MP + 12MP"
                ],
                [
                  "47",
                  "12MP + 12MP + 12MP"
                ],
                [
                  "48",
                  "12MP"
                ],
                [
                  "49",
                  "12MP"
                ]
              ],
              "shape": {
                "columns": 1,
                "rows": 897
              }
            },
            "text/plain": [
              "0      48MP\n",
              "1      48MP\n",
              "2      48MP\n",
              "3      48MP\n",
              "4      48MP\n",
              "       ... \n",
              "924    50MP\n",
              "925     8MP\n",
              "926     8MP\n",
              "927    50MP\n",
              "928    50MP\n",
              "Name: Back Camera Main (MP), Length: 897, dtype: object"
            ]
          },
          "execution_count": 67,
          "metadata": {},
          "output_type": "execute_result"
        }
      ],
      "source": [
        "df['Back Camera Main (MP)']"
      ]
    },
    {
      "cell_type": "code",
      "execution_count": 68,
      "metadata": {},
      "outputs": [],
      "source": [
        "df['Back Camera Main (MP)'] = (\n",
        "    df['Back Camera Main (MP)']\n",
        "    .astype(str)\n",
        "    .str.replace(r'M.*','',regex=True)\n",
        "    .str.strip()\n",
        ")"
      ]
    },
    {
      "cell_type": "code",
      "execution_count": 69,
      "metadata": {},
      "outputs": [
        {
          "data": {
            "application/vnd.microsoft.datawrangler.viewer.v0+json": {
              "columns": [
                {
                  "name": "index",
                  "rawType": "int64",
                  "type": "integer"
                },
                {
                  "name": "Back Camera Main (MP)",
                  "rawType": "object",
                  "type": "string"
                }
              ],
              "ref": "e6eb995a-ecdf-42af-ac26-1c596b94af5b",
              "rows": [
                [
                  "0",
                  "48"
                ],
                [
                  "1",
                  "48"
                ],
                [
                  "2",
                  "48"
                ],
                [
                  "3",
                  "48"
                ],
                [
                  "4",
                  "48"
                ],
                [
                  "5",
                  "48"
                ],
                [
                  "6",
                  "50"
                ],
                [
                  "7",
                  "50"
                ],
                [
                  "8",
                  "50"
                ],
                [
                  "9",
                  "48"
                ],
                [
                  "10",
                  "48"
                ],
                [
                  "11",
                  "48"
                ],
                [
                  "12",
                  "48"
                ],
                [
                  "13",
                  "48"
                ],
                [
                  "14",
                  "48"
                ],
                [
                  "15",
                  "48"
                ],
                [
                  "16",
                  "48"
                ],
                [
                  "17",
                  "48"
                ],
                [
                  "18",
                  "48"
                ],
                [
                  "19",
                  "48"
                ],
                [
                  "20",
                  "48"
                ],
                [
                  "21",
                  "48"
                ],
                [
                  "22",
                  "48"
                ],
                [
                  "23",
                  "48"
                ],
                [
                  "24",
                  "12"
                ],
                [
                  "25",
                  "12"
                ],
                [
                  "26",
                  "12"
                ],
                [
                  "27",
                  "12"
                ],
                [
                  "28",
                  "12"
                ],
                [
                  "29",
                  "12"
                ],
                [
                  "30",
                  "48"
                ],
                [
                  "31",
                  "48"
                ],
                [
                  "32",
                  "48"
                ],
                [
                  "33",
                  "48"
                ],
                [
                  "34",
                  "48"
                ],
                [
                  "35",
                  "48"
                ],
                [
                  "36",
                  "12"
                ],
                [
                  "37",
                  "12"
                ],
                [
                  "38",
                  "12"
                ],
                [
                  "39",
                  "12"
                ],
                [
                  "40",
                  "12"
                ],
                [
                  "41",
                  "12"
                ],
                [
                  "42",
                  "12"
                ],
                [
                  "43",
                  "12"
                ],
                [
                  "44",
                  "12"
                ],
                [
                  "45",
                  "12"
                ],
                [
                  "46",
                  "12"
                ],
                [
                  "47",
                  "12"
                ],
                [
                  "48",
                  "12"
                ],
                [
                  "49",
                  "12"
                ]
              ],
              "shape": {
                "columns": 1,
                "rows": 897
              }
            },
            "text/plain": [
              "0      48\n",
              "1      48\n",
              "2      48\n",
              "3      48\n",
              "4      48\n",
              "       ..\n",
              "924    50\n",
              "925     8\n",
              "926     8\n",
              "927    50\n",
              "928    50\n",
              "Name: Back Camera Main (MP), Length: 897, dtype: object"
            ]
          },
          "execution_count": 69,
          "metadata": {},
          "output_type": "execute_result"
        }
      ],
      "source": [
        "df['Back Camera Main (MP)']"
      ]
    },
    {
      "cell_type": "code",
      "execution_count": 70,
      "metadata": {},
      "outputs": [],
      "source": [
        "df['Back Camera Main (MP)'] = pd.to_numeric(df['Back Camera Main (MP)'], errors='coerce')"
      ]
    },
    {
      "cell_type": "code",
      "execution_count": 71,
      "metadata": {},
      "outputs": [
        {
          "data": {
            "application/vnd.microsoft.datawrangler.viewer.v0+json": {
              "columns": [
                {
                  "name": "index",
                  "rawType": "int64",
                  "type": "integer"
                },
                {
                  "name": "Back Camera Main (MP)",
                  "rawType": "float64",
                  "type": "float"
                }
              ],
              "ref": "db510122-cdce-4081-869f-6a778ee7081b",
              "rows": [
                [
                  "0",
                  "48.0"
                ],
                [
                  "1",
                  "48.0"
                ],
                [
                  "2",
                  "48.0"
                ],
                [
                  "3",
                  "48.0"
                ],
                [
                  "4",
                  "48.0"
                ],
                [
                  "5",
                  "48.0"
                ],
                [
                  "6",
                  "50.0"
                ],
                [
                  "7",
                  "50.0"
                ],
                [
                  "8",
                  "50.0"
                ],
                [
                  "9",
                  "48.0"
                ],
                [
                  "10",
                  "48.0"
                ],
                [
                  "11",
                  "48.0"
                ],
                [
                  "12",
                  "48.0"
                ],
                [
                  "13",
                  "48.0"
                ],
                [
                  "14",
                  "48.0"
                ],
                [
                  "15",
                  "48.0"
                ],
                [
                  "16",
                  "48.0"
                ],
                [
                  "17",
                  "48.0"
                ],
                [
                  "18",
                  "48.0"
                ],
                [
                  "19",
                  "48.0"
                ],
                [
                  "20",
                  "48.0"
                ],
                [
                  "21",
                  "48.0"
                ],
                [
                  "22",
                  "48.0"
                ],
                [
                  "23",
                  "48.0"
                ],
                [
                  "24",
                  "12.0"
                ],
                [
                  "25",
                  "12.0"
                ],
                [
                  "26",
                  "12.0"
                ],
                [
                  "27",
                  "12.0"
                ],
                [
                  "28",
                  "12.0"
                ],
                [
                  "29",
                  "12.0"
                ],
                [
                  "30",
                  "48.0"
                ],
                [
                  "31",
                  "48.0"
                ],
                [
                  "32",
                  "48.0"
                ],
                [
                  "33",
                  "48.0"
                ],
                [
                  "34",
                  "48.0"
                ],
                [
                  "35",
                  "48.0"
                ],
                [
                  "36",
                  "12.0"
                ],
                [
                  "37",
                  "12.0"
                ],
                [
                  "38",
                  "12.0"
                ],
                [
                  "39",
                  "12.0"
                ],
                [
                  "40",
                  "12.0"
                ],
                [
                  "41",
                  "12.0"
                ],
                [
                  "42",
                  "12.0"
                ],
                [
                  "43",
                  "12.0"
                ],
                [
                  "44",
                  "12.0"
                ],
                [
                  "45",
                  "12.0"
                ],
                [
                  "46",
                  "12.0"
                ],
                [
                  "47",
                  "12.0"
                ],
                [
                  "48",
                  "12.0"
                ],
                [
                  "49",
                  "12.0"
                ]
              ],
              "shape": {
                "columns": 1,
                "rows": 897
              }
            },
            "text/plain": [
              "0      48.0\n",
              "1      48.0\n",
              "2      48.0\n",
              "3      48.0\n",
              "4      48.0\n",
              "       ... \n",
              "924    50.0\n",
              "925     8.0\n",
              "926     8.0\n",
              "927    50.0\n",
              "928    50.0\n",
              "Name: Back Camera Main (MP), Length: 897, dtype: float64"
            ]
          },
          "execution_count": 71,
          "metadata": {},
          "output_type": "execute_result"
        }
      ],
      "source": [
        "df['Back Camera Main (MP)']"
      ]
    },
    {
      "cell_type": "code",
      "execution_count": 76,
      "metadata": {},
      "outputs": [
        {
          "data": {
            "application/vnd.microsoft.datawrangler.viewer.v0+json": {
              "columns": [
                {
                  "name": "index",
                  "rawType": "int64",
                  "type": "integer"
                },
                {
                  "name": "Company Name",
                  "rawType": "object",
                  "type": "string"
                },
                {
                  "name": "Model Name",
                  "rawType": "object",
                  "type": "string"
                },
                {
                  "name": "Mobile Weight (gram)",
                  "rawType": "float64",
                  "type": "float"
                },
                {
                  "name": "RAM (GB)",
                  "rawType": "float64",
                  "type": "float"
                },
                {
                  "name": "Front Camera Main (MP)",
                  "rawType": "float64",
                  "type": "float"
                },
                {
                  "name": "Back Camera Main (MP)",
                  "rawType": "float64",
                  "type": "float"
                },
                {
                  "name": "Processor",
                  "rawType": "object",
                  "type": "string"
                },
                {
                  "name": "Battery Capacity (mAh)",
                  "rawType": "int64",
                  "type": "integer"
                },
                {
                  "name": "Screen Size (inch)",
                  "rawType": "float64",
                  "type": "float"
                },
                {
                  "name": "Launched Price (Pakistan USD)",
                  "rawType": "float64",
                  "type": "float"
                },
                {
                  "name": "Launched Price (India USD)",
                  "rawType": "float64",
                  "type": "float"
                },
                {
                  "name": "Launched Price (China USD)",
                  "rawType": "float64",
                  "type": "float"
                },
                {
                  "name": "Launched Price (USA USD)",
                  "rawType": "float64",
                  "type": "float"
                },
                {
                  "name": "Launched Price (Dubai USD)",
                  "rawType": "float64",
                  "type": "float"
                },
                {
                  "name": "Launched Year",
                  "rawType": "int64",
                  "type": "integer"
                }
              ],
              "ref": "c28eab34-9613-4243-bf8c-69d148f06491",
              "rows": [
                [
                  "0",
                  "Apple",
                  "iPhone 16 128GB",
                  "174.0",
                  "6.0",
                  "12.0",
                  "48.0",
                  "Apple",
                  "3600",
                  "6.1",
                  "800.0",
                  "910.0",
                  "814.0",
                  "799.0",
                  "762.0",
                  "2024"
                ],
                [
                  "1",
                  "Apple",
                  "iPhone 16 256GB",
                  "174.0",
                  "6.0",
                  "12.0",
                  "48.0",
                  "Apple",
                  "3600",
                  "6.1",
                  "836.0",
                  "967.0",
                  "856.0",
                  "849.0",
                  "817.0",
                  "2024"
                ],
                [
                  "2",
                  "Apple",
                  "iPhone 16 512GB",
                  "174.0",
                  "6.0",
                  "12.0",
                  "48.0",
                  "Apple",
                  "3600",
                  "6.1",
                  "871.0",
                  "1024.0",
                  "912.0",
                  "899.0",
                  "871.0",
                  "2024"
                ],
                [
                  "3",
                  "Apple",
                  "iPhone 16 Plus 128GB",
                  "203.0",
                  "6.0",
                  "12.0",
                  "48.0",
                  "Apple",
                  "4200",
                  "6.7",
                  "889.0",
                  "1024.0",
                  "870.0",
                  "899.0",
                  "871.0",
                  "2024"
                ],
                [
                  "4",
                  "Apple",
                  "iPhone 16 Plus 256GB",
                  "203.0",
                  "6.0",
                  "12.0",
                  "48.0",
                  "Apple",
                  "4200",
                  "6.7",
                  "925.0",
                  "1081.0",
                  "912.0",
                  "949.0",
                  "926.0",
                  "2024"
                ],
                [
                  "5",
                  "Apple",
                  "iPhone 16 Plus 512GB",
                  "203.0",
                  "6.0",
                  "12.0",
                  "48.0",
                  "Apple",
                  "4200",
                  "6.7",
                  "978.0",
                  "1195.0",
                  "983.0",
                  "999.0",
                  "980.0",
                  "2024"
                ],
                [
                  "6",
                  "Apple",
                  "iPhone 16 Pro 128GB",
                  "206.0",
                  "6.0",
                  "12.0",
                  "50.0",
                  "Apple",
                  "4400",
                  "6.1",
                  "1014.0",
                  "1138.0",
                  "983.0",
                  "999.0",
                  "953.0",
                  "2024"
                ],
                [
                  "7",
                  "Apple",
                  "iPhone 16 Pro 256GB",
                  "206.0",
                  "8.0",
                  "12.0",
                  "50.0",
                  "Apple",
                  "4400",
                  "6.1",
                  "1049.0",
                  "1195.0",
                  "997.0",
                  "1049.0",
                  "1007.0",
                  "2024"
                ],
                [
                  "8",
                  "Apple",
                  "iPhone 16 Pro 512GB",
                  "206.0",
                  "8.0",
                  "12.0",
                  "50.0",
                  "Apple",
                  "4400",
                  "6.1",
                  "1120.0",
                  "1309.0",
                  "1053.0",
                  "1099.0",
                  "1062.0",
                  "2024"
                ],
                [
                  "9",
                  "Apple",
                  "iPhone 16 Pro Max 128GB",
                  "221.0",
                  "6.0",
                  "12.0",
                  "48.0",
                  "Apple",
                  "4500",
                  "6.7",
                  "1120.0",
                  "1252.0",
                  "1053.0",
                  "1099.0",
                  "1035.0",
                  "2024"
                ],
                [
                  "10",
                  "Apple",
                  "iPhone 16 Pro Max 256GB",
                  "221.0",
                  "8.0",
                  "12.0",
                  "48.0",
                  "Apple",
                  "4500",
                  "6.7",
                  "1156.0",
                  "1309.0",
                  "1095.0",
                  "1199.0",
                  "1089.0",
                  "2024"
                ],
                [
                  "11",
                  "Apple",
                  "iPhone 16 Pro Max 512GB",
                  "221.0",
                  "8.0",
                  "12.0",
                  "48.0",
                  "Apple",
                  "4500",
                  "6.7",
                  "1227.0",
                  "1423.0",
                  "1151.0",
                  "1299.0",
                  "1144.0",
                  "2024"
                ],
                [
                  "12",
                  "Apple",
                  "iPhone 15 128GB",
                  "171.0",
                  "6.0",
                  "12.0",
                  "48.0",
                  "Apple",
                  "3200",
                  "6.1",
                  "729.0",
                  "854.0",
                  "744.0",
                  "799.0",
                  "735.0",
                  "2023"
                ],
                [
                  "13",
                  "Apple",
                  "iPhone 15 256GB",
                  "171.0",
                  "6.0",
                  "12.0",
                  "48.0",
                  "Apple",
                  "3200",
                  "6.1",
                  "765.0",
                  "910.0",
                  "786.0",
                  "849.0",
                  "817.0",
                  "2023"
                ],
                [
                  "14",
                  "Apple",
                  "iPhone 15 512GB",
                  "171.0",
                  "6.0",
                  "12.0",
                  "48.0",
                  "Apple",
                  "3200",
                  "6.1",
                  "800.0",
                  "1024.0",
                  "842.0",
                  "949.0",
                  "871.0",
                  "2023"
                ],
                [
                  "15",
                  "Apple",
                  "iPhone 15 Plus 128GB",
                  "203.0",
                  "6.0",
                  "12.0",
                  "48.0",
                  "Apple",
                  "4300",
                  "6.7",
                  "836.0",
                  "967.0",
                  "800.0",
                  "899.0",
                  "871.0",
                  "2023"
                ],
                [
                  "16",
                  "Apple",
                  "iPhone 15 Plus 256GB",
                  "203.0",
                  "6.0",
                  "12.0",
                  "48.0",
                  "Apple",
                  "4300",
                  "6.7",
                  "871.0",
                  "1081.0",
                  "870.0",
                  "999.0",
                  "926.0",
                  "2023"
                ],
                [
                  "17",
                  "Apple",
                  "iPhone 15 Plus 512GB",
                  "203.0",
                  "6.0",
                  "12.0",
                  "48.0",
                  "Apple",
                  "4300",
                  "6.7",
                  "943.0",
                  "1195.0",
                  "954.0",
                  "1049.0",
                  "980.0",
                  "2023"
                ],
                [
                  "18",
                  "Apple",
                  "iPhone 15 Pro 128GB",
                  "206.0",
                  "6.0",
                  "12.0",
                  "48.0",
                  "Apple",
                  "4400",
                  "6.1",
                  "978.0",
                  "1138.0",
                  "983.0",
                  "1099.0",
                  "980.0",
                  "2023"
                ],
                [
                  "19",
                  "Apple",
                  "iPhone 15 Pro 256GB",
                  "206.0",
                  "8.0",
                  "12.0",
                  "48.0",
                  "Apple",
                  "4400",
                  "6.1",
                  "1014.0",
                  "1252.0",
                  "1025.0",
                  "1199.0",
                  "1035.0",
                  "2023"
                ],
                [
                  "20",
                  "Apple",
                  "iPhone 15 Pro 512GB",
                  "206.0",
                  "8.0",
                  "12.0",
                  "48.0",
                  "Apple",
                  "4400",
                  "6.1",
                  "1085.0",
                  "1366.0",
                  "1095.0",
                  "1299.0",
                  "1144.0",
                  "2023"
                ],
                [
                  "21",
                  "Apple",
                  "iPhone 15 Pro Max 128GB",
                  "221.0",
                  "6.0",
                  "12.0",
                  "48.0",
                  "Apple",
                  "4500",
                  "6.7",
                  "1120.0",
                  "1309.0",
                  "1123.0",
                  "1199.0",
                  "1062.0",
                  "2023"
                ],
                [
                  "22",
                  "Apple",
                  "iPhone 15 Pro Max 256GB",
                  "221.0",
                  "8.0",
                  "12.0",
                  "48.0",
                  "Apple",
                  "4500",
                  "6.7",
                  "1156.0",
                  "1423.0",
                  "1151.0",
                  "1299.0",
                  "1144.0",
                  "2023"
                ],
                [
                  "23",
                  "Apple",
                  "iPhone 15 Pro Max 512GB",
                  "221.0",
                  "8.0",
                  "12.0",
                  "48.0",
                  "Apple",
                  "4500",
                  "6.7",
                  "1227.0",
                  "1537.0",
                  "1221.0",
                  "1399.0",
                  "1198.0",
                  "2023"
                ],
                [
                  "24",
                  "Apple",
                  "iPhone 14 128GB",
                  "172.0",
                  "6.0",
                  "12.0",
                  "12.0",
                  "Apple",
                  "3200",
                  "6.1",
                  "658.0",
                  "797.0",
                  "730.0",
                  "799.0",
                  "735.0",
                  "2022"
                ],
                [
                  "25",
                  "Apple",
                  "iPhone 14 256GB",
                  "172.0",
                  "6.0",
                  "12.0",
                  "12.0",
                  "Apple",
                  "3200",
                  "6.1",
                  "693.0",
                  "854.0",
                  "786.0",
                  "849.0",
                  "817.0",
                  "2022"
                ],
                [
                  "26",
                  "Apple",
                  "iPhone 14 512GB",
                  "172.0",
                  "6.0",
                  "12.0",
                  "12.0",
                  "Apple",
                  "3200",
                  "6.1",
                  "729.0",
                  "967.0",
                  "842.0",
                  "949.0",
                  "871.0",
                  "2022"
                ],
                [
                  "27",
                  "Apple",
                  "iPhone 14 Plus 128GB",
                  "203.0",
                  "6.0",
                  "12.0",
                  "12.0",
                  "Apple",
                  "4325",
                  "6.7",
                  "729.0",
                  "910.0",
                  "772.0",
                  "899.0",
                  "871.0",
                  "2022"
                ],
                [
                  "28",
                  "Apple",
                  "iPhone 14 Plus 256GB",
                  "203.0",
                  "6.0",
                  "12.0",
                  "12.0",
                  "Apple",
                  "4325",
                  "6.7",
                  "765.0",
                  "967.0",
                  "828.0",
                  "999.0",
                  "926.0",
                  "2022"
                ],
                [
                  "29",
                  "Apple",
                  "iPhone 14 Plus 512GB",
                  "203.0",
                  "6.0",
                  "12.0",
                  "12.0",
                  "Apple",
                  "4325",
                  "6.7",
                  "800.0",
                  "1081.0",
                  "884.0",
                  "1049.0",
                  "980.0",
                  "2022"
                ],
                [
                  "30",
                  "Apple",
                  "iPhone 14 Pro 128GB",
                  "206.0",
                  "6.0",
                  "12.0",
                  "48.0",
                  "Apple",
                  "4200",
                  "6.1",
                  "1049.0",
                  "1252.0",
                  "1011.0",
                  "1099.0",
                  "1007.0",
                  "2022"
                ],
                [
                  "31",
                  "Apple",
                  "iPhone 14 Pro 256GB",
                  "206.0",
                  "8.0",
                  "12.0",
                  "48.0",
                  "Apple",
                  "4200",
                  "6.1",
                  "1085.0",
                  "1366.0",
                  "1053.0",
                  "1199.0",
                  "1062.0",
                  "2022"
                ],
                [
                  "32",
                  "Apple",
                  "iPhone 14 Pro 512GB",
                  "206.0",
                  "8.0",
                  "12.0",
                  "48.0",
                  "Apple",
                  "4200",
                  "6.1",
                  "1156.0",
                  "1537.0",
                  "1123.0",
                  "1299.0",
                  "1144.0",
                  "2022"
                ],
                [
                  "33",
                  "Apple",
                  "iPhone 14 Pro Max 128GB",
                  "221.0",
                  "6.0",
                  "12.0",
                  "48.0",
                  "Apple",
                  "4500",
                  "6.7",
                  "1156.0",
                  "1423.0",
                  "1137.0",
                  "1199.0",
                  "1089.0",
                  "2022"
                ],
                [
                  "34",
                  "Apple",
                  "iPhone 14 Pro Max 256GB",
                  "221.0",
                  "8.0",
                  "12.0",
                  "48.0",
                  "Apple",
                  "4500",
                  "6.7",
                  "1227.0",
                  "1537.0",
                  "1193.0",
                  "1299.0",
                  "1144.0",
                  "2022"
                ],
                [
                  "35",
                  "Apple",
                  "iPhone 14 Pro Max 512GB",
                  "221.0",
                  "8.0",
                  "12.0",
                  "48.0",
                  "Apple",
                  "4500",
                  "6.7",
                  "1298.0",
                  "1651.0",
                  "1263.0",
                  "1399.0",
                  "1225.0",
                  "2022"
                ],
                [
                  "36",
                  "Apple",
                  "iPhone 13 mini 128GB",
                  "140.0",
                  "4.0",
                  "12.0",
                  "12.0",
                  "Apple",
                  "2438",
                  "5.4",
                  "622.0",
                  "795.0",
                  "730.0",
                  "699.0",
                  "708.0",
                  "2021"
                ],
                [
                  "37",
                  "Apple",
                  "iPhone 13 mini 256GB",
                  "140.0",
                  "4.0",
                  "12.0",
                  "12.0",
                  "Apple",
                  "2438",
                  "5.4",
                  "658.0",
                  "852.0",
                  "786.0",
                  "799.0",
                  "817.0",
                  "2021"
                ],
                [
                  "38",
                  "Apple",
                  "iPhone 13 mini 512GB",
                  "140.0",
                  "4.0",
                  "12.0",
                  "12.0",
                  "Apple",
                  "2438",
                  "5.4",
                  "693.0",
                  "966.0",
                  "842.0",
                  "899.0",
                  "898.0",
                  "2021"
                ],
                [
                  "39",
                  "Apple",
                  "iPhone 13 128GB",
                  "174.0",
                  "4.0",
                  "12.0",
                  "12.0",
                  "Apple",
                  "3240",
                  "6.1",
                  "693.0",
                  "852.0",
                  "772.0",
                  "799.0",
                  "817.0",
                  "2021"
                ],
                [
                  "40",
                  "Apple",
                  "iPhone 13 256GB",
                  "174.0",
                  "4.0",
                  "12.0",
                  "12.0",
                  "Apple",
                  "3240",
                  "6.1",
                  "729.0",
                  "966.0",
                  "828.0",
                  "899.0",
                  "871.0",
                  "2021"
                ],
                [
                  "41",
                  "Apple",
                  "iPhone 13 512GB",
                  "174.0",
                  "4.0",
                  "12.0",
                  "12.0",
                  "Apple",
                  "3240",
                  "6.1",
                  "800.0",
                  "1080.0",
                  "884.0",
                  "999.0",
                  "980.0",
                  "2021"
                ],
                [
                  "42",
                  "Apple",
                  "iPhone 13 Pro 128GB",
                  "204.0",
                  "6.0",
                  "12.0",
                  "12.0",
                  "Apple",
                  "3095",
                  "6.1",
                  "1049.0",
                  "1365.0",
                  "1025.0",
                  "999.0",
                  "1089.0",
                  "2021"
                ],
                [
                  "43",
                  "Apple",
                  "iPhone 13 Pro 256GB",
                  "204.0",
                  "6.0",
                  "12.0",
                  "12.0",
                  "Apple",
                  "3095",
                  "6.1",
                  "1120.0",
                  "1479.0",
                  "1081.0",
                  "1099.0",
                  "1144.0",
                  "2021"
                ],
                [
                  "44",
                  "Apple",
                  "iPhone 13 Pro 512GB",
                  "204.0",
                  "6.0",
                  "12.0",
                  "12.0",
                  "Apple",
                  "3095",
                  "6.1",
                  "1227.0",
                  "1593.0",
                  "1151.0",
                  "1199.0",
                  "1198.0",
                  "2021"
                ],
                [
                  "45",
                  "Apple",
                  "iPhone 13 Pro Max 128GB",
                  "238.0",
                  "6.0",
                  "12.0",
                  "12.0",
                  "Apple",
                  "4352",
                  "6.7",
                  "1156.0",
                  "1479.0",
                  "1165.0",
                  "1099.0",
                  "1144.0",
                  "2021"
                ],
                [
                  "46",
                  "Apple",
                  "iPhone 13 Pro Max 256GB",
                  "238.0",
                  "6.0",
                  "12.0",
                  "12.0",
                  "Apple",
                  "4352",
                  "6.7",
                  "1263.0",
                  "1593.0",
                  "1235.0",
                  "1199.0",
                  "1198.0",
                  "2021"
                ],
                [
                  "47",
                  "Apple",
                  "iPhone 13 Pro Max 512GB",
                  "238.0",
                  "6.0",
                  "12.0",
                  "12.0",
                  "Apple",
                  "4352",
                  "6.7",
                  "1370.0",
                  "1706.0",
                  "1291.0",
                  "1399.0",
                  "1253.0",
                  "2021"
                ],
                [
                  "48",
                  "Apple",
                  "iPhone 12 mini 64GB",
                  "135.0",
                  "4.0",
                  "12.0",
                  "12.0",
                  "Apple",
                  "2227",
                  "5.4",
                  "622.0",
                  "795.0",
                  "730.0",
                  "699.0",
                  "708.0",
                  "2020"
                ],
                [
                  "49",
                  "Apple",
                  "iPhone 12 mini 128GB",
                  "135.0",
                  "4.0",
                  "12.0",
                  "12.0",
                  "Apple",
                  "2227",
                  "5.4",
                  "658.0",
                  "852.0",
                  "786.0",
                  "799.0",
                  "817.0",
                  "2020"
                ]
              ],
              "shape": {
                "columns": 15,
                "rows": 897
              }
            },
            "text/html": [
              "<div>\n",
              "<style scoped>\n",
              "    .dataframe tbody tr th:only-of-type {\n",
              "        vertical-align: middle;\n",
              "    }\n",
              "\n",
              "    .dataframe tbody tr th {\n",
              "        vertical-align: top;\n",
              "    }\n",
              "\n",
              "    .dataframe thead th {\n",
              "        text-align: right;\n",
              "    }\n",
              "</style>\n",
              "<table border=\"1\" class=\"dataframe\">\n",
              "  <thead>\n",
              "    <tr style=\"text-align: right;\">\n",
              "      <th></th>\n",
              "      <th>Company Name</th>\n",
              "      <th>Model Name</th>\n",
              "      <th>Mobile Weight (gram)</th>\n",
              "      <th>RAM (GB)</th>\n",
              "      <th>Front Camera Main (MP)</th>\n",
              "      <th>Back Camera Main (MP)</th>\n",
              "      <th>Processor</th>\n",
              "      <th>Battery Capacity (mAh)</th>\n",
              "      <th>Screen Size (inch)</th>\n",
              "      <th>Launched Price (Pakistan USD)</th>\n",
              "      <th>Launched Price (India USD)</th>\n",
              "      <th>Launched Price (China USD)</th>\n",
              "      <th>Launched Price (USA USD)</th>\n",
              "      <th>Launched Price (Dubai USD)</th>\n",
              "      <th>Launched Year</th>\n",
              "    </tr>\n",
              "  </thead>\n",
              "  <tbody>\n",
              "    <tr>\n",
              "      <th>0</th>\n",
              "      <td>Apple</td>\n",
              "      <td>iPhone 16 128GB</td>\n",
              "      <td>174.0</td>\n",
              "      <td>6.0</td>\n",
              "      <td>12.0</td>\n",
              "      <td>48.0</td>\n",
              "      <td>Apple</td>\n",
              "      <td>3600</td>\n",
              "      <td>6.10</td>\n",
              "      <td>800.0</td>\n",
              "      <td>910.0</td>\n",
              "      <td>814.0</td>\n",
              "      <td>799.0</td>\n",
              "      <td>762.0</td>\n",
              "      <td>2024</td>\n",
              "    </tr>\n",
              "    <tr>\n",
              "      <th>1</th>\n",
              "      <td>Apple</td>\n",
              "      <td>iPhone 16 256GB</td>\n",
              "      <td>174.0</td>\n",
              "      <td>6.0</td>\n",
              "      <td>12.0</td>\n",
              "      <td>48.0</td>\n",
              "      <td>Apple</td>\n",
              "      <td>3600</td>\n",
              "      <td>6.10</td>\n",
              "      <td>836.0</td>\n",
              "      <td>967.0</td>\n",
              "      <td>856.0</td>\n",
              "      <td>849.0</td>\n",
              "      <td>817.0</td>\n",
              "      <td>2024</td>\n",
              "    </tr>\n",
              "    <tr>\n",
              "      <th>2</th>\n",
              "      <td>Apple</td>\n",
              "      <td>iPhone 16 512GB</td>\n",
              "      <td>174.0</td>\n",
              "      <td>6.0</td>\n",
              "      <td>12.0</td>\n",
              "      <td>48.0</td>\n",
              "      <td>Apple</td>\n",
              "      <td>3600</td>\n",
              "      <td>6.10</td>\n",
              "      <td>871.0</td>\n",
              "      <td>1024.0</td>\n",
              "      <td>912.0</td>\n",
              "      <td>899.0</td>\n",
              "      <td>871.0</td>\n",
              "      <td>2024</td>\n",
              "    </tr>\n",
              "    <tr>\n",
              "      <th>3</th>\n",
              "      <td>Apple</td>\n",
              "      <td>iPhone 16 Plus 128GB</td>\n",
              "      <td>203.0</td>\n",
              "      <td>6.0</td>\n",
              "      <td>12.0</td>\n",
              "      <td>48.0</td>\n",
              "      <td>Apple</td>\n",
              "      <td>4200</td>\n",
              "      <td>6.70</td>\n",
              "      <td>889.0</td>\n",
              "      <td>1024.0</td>\n",
              "      <td>870.0</td>\n",
              "      <td>899.0</td>\n",
              "      <td>871.0</td>\n",
              "      <td>2024</td>\n",
              "    </tr>\n",
              "    <tr>\n",
              "      <th>4</th>\n",
              "      <td>Apple</td>\n",
              "      <td>iPhone 16 Plus 256GB</td>\n",
              "      <td>203.0</td>\n",
              "      <td>6.0</td>\n",
              "      <td>12.0</td>\n",
              "      <td>48.0</td>\n",
              "      <td>Apple</td>\n",
              "      <td>4200</td>\n",
              "      <td>6.70</td>\n",
              "      <td>925.0</td>\n",
              "      <td>1081.0</td>\n",
              "      <td>912.0</td>\n",
              "      <td>949.0</td>\n",
              "      <td>926.0</td>\n",
              "      <td>2024</td>\n",
              "    </tr>\n",
              "    <tr>\n",
              "      <th>...</th>\n",
              "      <td>...</td>\n",
              "      <td>...</td>\n",
              "      <td>...</td>\n",
              "      <td>...</td>\n",
              "      <td>...</td>\n",
              "      <td>...</td>\n",
              "      <td>...</td>\n",
              "      <td>...</td>\n",
              "      <td>...</td>\n",
              "      <td>...</td>\n",
              "      <td>...</td>\n",
              "      <td>...</td>\n",
              "      <td>...</td>\n",
              "      <td>...</td>\n",
              "      <td>...</td>\n",
              "    </tr>\n",
              "    <tr>\n",
              "      <th>924</th>\n",
              "      <td>Poco</td>\n",
              "      <td>M7 5G 128GB</td>\n",
              "      <td>198.0</td>\n",
              "      <td>6.0</td>\n",
              "      <td>8.0</td>\n",
              "      <td>50.0</td>\n",
              "      <td>MediaTek</td>\n",
              "      <td>5110</td>\n",
              "      <td>6.67</td>\n",
              "      <td>142.0</td>\n",
              "      <td>182.0</td>\n",
              "      <td>224.0</td>\n",
              "      <td>229.0</td>\n",
              "      <td>244.0</td>\n",
              "      <td>2024</td>\n",
              "    </tr>\n",
              "    <tr>\n",
              "      <th>925</th>\n",
              "      <td>Poco</td>\n",
              "      <td>Pad 5G 128GB</td>\n",
              "      <td>571.0</td>\n",
              "      <td>8.0</td>\n",
              "      <td>8.0</td>\n",
              "      <td>8.0</td>\n",
              "      <td>Snapdragon</td>\n",
              "      <td>10000</td>\n",
              "      <td>12.10</td>\n",
              "      <td>235.0</td>\n",
              "      <td>273.0</td>\n",
              "      <td>294.0</td>\n",
              "      <td>280.0</td>\n",
              "      <td>280.0</td>\n",
              "      <td>2024</td>\n",
              "    </tr>\n",
              "    <tr>\n",
              "      <th>926</th>\n",
              "      <td>Poco</td>\n",
              "      <td>Pad 5G 256GB</td>\n",
              "      <td>571.0</td>\n",
              "      <td>8.0</td>\n",
              "      <td>8.0</td>\n",
              "      <td>8.0</td>\n",
              "      <td>Snapdragon</td>\n",
              "      <td>10000</td>\n",
              "      <td>12.10</td>\n",
              "      <td>253.0</td>\n",
              "      <td>296.0</td>\n",
              "      <td>322.0</td>\n",
              "      <td>300.0</td>\n",
              "      <td>299.0</td>\n",
              "      <td>2024</td>\n",
              "    </tr>\n",
              "    <tr>\n",
              "      <th>927</th>\n",
              "      <td>Samsung</td>\n",
              "      <td>Galaxy Z Fold6 256GB</td>\n",
              "      <td>239.0</td>\n",
              "      <td>12.0</td>\n",
              "      <td>10.0</td>\n",
              "      <td>50.0</td>\n",
              "      <td>Snapdragon</td>\n",
              "      <td>4400</td>\n",
              "      <td>7.60</td>\n",
              "      <td>2153.0</td>\n",
              "      <td>1878.0</td>\n",
              "      <td>1966.0</td>\n",
              "      <td>1899.0</td>\n",
              "      <td>1961.0</td>\n",
              "      <td>2024</td>\n",
              "    </tr>\n",
              "    <tr>\n",
              "      <th>928</th>\n",
              "      <td>Samsung</td>\n",
              "      <td>Galaxy Z Fold6 512GB</td>\n",
              "      <td>239.0</td>\n",
              "      <td>12.0</td>\n",
              "      <td>10.0</td>\n",
              "      <td>50.0</td>\n",
              "      <td>Snapdragon</td>\n",
              "      <td>4400</td>\n",
              "      <td>7.60</td>\n",
              "      <td>1939.0</td>\n",
              "      <td>2015.0</td>\n",
              "      <td>2247.0</td>\n",
              "      <td>1719.0</td>\n",
              "      <td>2097.0</td>\n",
              "      <td>2024</td>\n",
              "    </tr>\n",
              "  </tbody>\n",
              "</table>\n",
              "<p>897 rows × 15 columns</p>\n",
              "</div>"
            ],
            "text/plain": [
              "    Company Name            Model Name  Mobile Weight (gram)  RAM (GB)  \\\n",
              "0          Apple       iPhone 16 128GB                 174.0       6.0   \n",
              "1          Apple       iPhone 16 256GB                 174.0       6.0   \n",
              "2          Apple       iPhone 16 512GB                 174.0       6.0   \n",
              "3          Apple  iPhone 16 Plus 128GB                 203.0       6.0   \n",
              "4          Apple  iPhone 16 Plus 256GB                 203.0       6.0   \n",
              "..           ...                   ...                   ...       ...   \n",
              "924         Poco           M7 5G 128GB                 198.0       6.0   \n",
              "925         Poco          Pad 5G 128GB                 571.0       8.0   \n",
              "926         Poco          Pad 5G 256GB                 571.0       8.0   \n",
              "927      Samsung  Galaxy Z Fold6 256GB                 239.0      12.0   \n",
              "928      Samsung  Galaxy Z Fold6 512GB                 239.0      12.0   \n",
              "\n",
              "     Front Camera Main (MP)  Back Camera Main (MP)   Processor  \\\n",
              "0                      12.0                   48.0       Apple   \n",
              "1                      12.0                   48.0       Apple   \n",
              "2                      12.0                   48.0       Apple   \n",
              "3                      12.0                   48.0       Apple   \n",
              "4                      12.0                   48.0       Apple   \n",
              "..                      ...                    ...         ...   \n",
              "924                     8.0                   50.0    MediaTek   \n",
              "925                     8.0                    8.0  Snapdragon   \n",
              "926                     8.0                    8.0  Snapdragon   \n",
              "927                    10.0                   50.0  Snapdragon   \n",
              "928                    10.0                   50.0  Snapdragon   \n",
              "\n",
              "     Battery Capacity (mAh)  Screen Size (inch)  \\\n",
              "0                      3600                6.10   \n",
              "1                      3600                6.10   \n",
              "2                      3600                6.10   \n",
              "3                      4200                6.70   \n",
              "4                      4200                6.70   \n",
              "..                      ...                 ...   \n",
              "924                    5110                6.67   \n",
              "925                   10000               12.10   \n",
              "926                   10000               12.10   \n",
              "927                    4400                7.60   \n",
              "928                    4400                7.60   \n",
              "\n",
              "     Launched Price (Pakistan USD)  Launched Price (India USD)  \\\n",
              "0                            800.0                       910.0   \n",
              "1                            836.0                       967.0   \n",
              "2                            871.0                      1024.0   \n",
              "3                            889.0                      1024.0   \n",
              "4                            925.0                      1081.0   \n",
              "..                             ...                         ...   \n",
              "924                          142.0                       182.0   \n",
              "925                          235.0                       273.0   \n",
              "926                          253.0                       296.0   \n",
              "927                         2153.0                      1878.0   \n",
              "928                         1939.0                      2015.0   \n",
              "\n",
              "     Launched Price (China USD)  Launched Price (USA USD)  \\\n",
              "0                         814.0                     799.0   \n",
              "1                         856.0                     849.0   \n",
              "2                         912.0                     899.0   \n",
              "3                         870.0                     899.0   \n",
              "4                         912.0                     949.0   \n",
              "..                          ...                       ...   \n",
              "924                       224.0                     229.0   \n",
              "925                       294.0                     280.0   \n",
              "926                       322.0                     300.0   \n",
              "927                      1966.0                    1899.0   \n",
              "928                      2247.0                    1719.0   \n",
              "\n",
              "     Launched Price (Dubai USD)  Launched Year  \n",
              "0                         762.0           2024  \n",
              "1                         817.0           2024  \n",
              "2                         871.0           2024  \n",
              "3                         871.0           2024  \n",
              "4                         926.0           2024  \n",
              "..                          ...            ...  \n",
              "924                       244.0           2024  \n",
              "925                       280.0           2024  \n",
              "926                       299.0           2024  \n",
              "927                      1961.0           2024  \n",
              "928                      2097.0           2024  \n",
              "\n",
              "[897 rows x 15 columns]"
            ]
          },
          "execution_count": 76,
          "metadata": {},
          "output_type": "execute_result"
        }
      ],
      "source": [
        "df"
      ]
    }
  ],
  "metadata": {
    "colab": {
      "provenance": []
    },
    "kernelspec": {
      "display_name": "mobile-dataset-analysis",
      "language": "python",
      "name": "python3"
    },
    "language_info": {
      "codemirror_mode": {
        "name": "ipython",
        "version": 3
      },
      "file_extension": ".py",
      "mimetype": "text/x-python",
      "name": "python",
      "nbconvert_exporter": "python",
      "pygments_lexer": "ipython3",
      "version": "3.14.0"
    }
  },
  "nbformat": 4,
  "nbformat_minor": 0
}
